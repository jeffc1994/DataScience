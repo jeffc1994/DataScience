{
 "cells": [
  {
   "cell_type": "code",
   "execution_count": null,
   "id": "fb489951",
   "metadata": {},
   "outputs": [],
   "source": [
    "import numpy as np\n",
    "import pandas as pd\n",
    "import seaborn as sns\n",
    "import matplotlib.pyplot as plt\n",
    "sns.set_style(\"whitegrid\")\n"
   ]
  },
  {
   "cell_type": "markdown",
   "id": "91ec7495",
   "metadata": {},
   "source": [
    "# Load Data"
   ]
  },
  {
   "cell_type": "code",
   "execution_count": null,
   "id": "5ed6eb7b",
   "metadata": {},
   "outputs": [],
   "source": [
    "df = pd.read_csv('train.csv')\n",
    "df_test = pd.read_csv('test.csv')\n",
    "df_final = pd.read_csv('sample_submission.csv')\n"
   ]
  },
  {
   "cell_type": "markdown",
   "id": "7a9e011c",
   "metadata": {},
   "source": [
    "# EDA\n",
    "1. Dataset overview\n",
    "\n",
    "2. Univariate analysis - Numeric Features\n",
    "\n",
    "3. Univariate analysis - Categorical Features\n",
    "\n",
    "4. Bivariate/Multivariate analysis\n",
    "\n",
    "5. Data quality checks\n",
    "\n"
   ]
  },
  {
   "cell_type": "markdown",
   "id": "eaecd48c",
   "metadata": {},
   "source": [
    "# Dataset Overview\n",
    "    - shape\n",
    "    - info\n",
    "    - missing values\n",
    "    - duplicated values\n",
    "    - head, tail, sample"
   ]
  },
  {
   "cell_type": "code",
   "execution_count": null,
   "id": "e86d6425",
   "metadata": {},
   "outputs": [],
   "source": [
    "def dataset_overview(df):\n",
    "\n",
    "    print(\"================== Dataset Overview ==================\")\n",
    "    print(f\"Rows: {df.shape[0]}\")\n",
    "    print(f\"Columns: {df.shape[1]}\")\n",
    "\n",
    "    display(df.info())\n",
    "    display(df.isnull().sum())\n",
    "\n",
    "    print(\"============ Duplicates Values ============\") \n",
    "    print(f\"Duplicated values : {df.duplicated(keep=False).sum()}\")\n",
    "    if df.duplicated().sum()>0:\n",
    "        display(df[df.duplicated(keep=False)].reset_index())\n",
    "    \n",
    "    print(\"============ Data Preview ============\")\n",
    "    print(\"Head:\")\n",
    "    display(df.head(3))\n",
    "    print(\"Tail:\")\n",
    "    display(df.tail(3))\n",
    "    print(\"Sample:\")\n",
    "    display(df.sample(3))\n",
    "\n",
    "    print(\"============ Numerical and Categorical Values ============\")\n",
    "    num_cols = df.select_dtypes(include=['int64','float64']).columns\n",
    "    cat_cols = df.select_dtypes(include=['object']).columns\n",
    "    print(f\"Numerical Datatypes: {num_cols}\")\n",
    "    print(f\"Number of numeric features: {len(num_cols)}\")\n",
    "    print(f\"Categorical Datatypes: {cat_cols}\")\n",
    "    print(f\"Number of categorical features: {len(cat_cols)}\")\n"
   ]
  },
  {
   "cell_type": "code",
   "execution_count": null,
   "id": "1420b7a7",
   "metadata": {},
   "outputs": [],
   "source": [
    "print(f\"Rows: {df.shape[0]}\")\n",
    "print(f\"Columns: {df.shape[1]}\")"
   ]
  },
  {
   "cell_type": "code",
   "execution_count": null,
   "id": "851217a9",
   "metadata": {},
   "outputs": [],
   "source": [
    "df.info()"
   ]
  },
  {
   "cell_type": "code",
   "execution_count": null,
   "id": "7f454b1c",
   "metadata": {},
   "outputs": [],
   "source": [
    "df.isnull().sum()"
   ]
  },
  {
   "cell_type": "code",
   "execution_count": null,
   "id": "08437f6a",
   "metadata": {},
   "outputs": [],
   "source": [
    "print(f\"Duplicated values : {df.duplicated(keep=False).sum()}\")\n",
    "if df.duplicated().sum()>0:\n",
    "    display(df[df.duplicated(keep=False)].reset_index())"
   ]
  },
  {
   "cell_type": "code",
   "execution_count": null,
   "id": "e423f98d",
   "metadata": {},
   "outputs": [],
   "source": [
    "print(\"Head:\")\n",
    "display(df.head(3))\n",
    "print(\"Tail:\")\n",
    "display(df.tail(3))\n",
    "print(\"Sample:\")\n",
    "display(df.sample(3))"
   ]
  },
  {
   "cell_type": "code",
   "execution_count": null,
   "id": "01c85339",
   "metadata": {},
   "outputs": [],
   "source": [
    "num_cols = df.select_dtypes(include=['int64','float64']).columns\n",
    "cat_cols = df.select_dtypes(include=['object']).columns\n",
    "print(f\"Numerical Datatypes: {num_cols}\")\n",
    "print(f\"Number of numeric features: {len(num_cols)}\")\n",
    "print(f\"Categorical Datatypes: {cat_cols}\")\n",
    "print(f\"Number of categorical features: {len(cat_cols)}\")\n"
   ]
  },
  {
   "cell_type": "code",
   "execution_count": null,
   "id": "ed6598df",
   "metadata": {},
   "outputs": [],
   "source": [
    "df['NObeyesdad'].value_counts()"
   ]
  },
  {
   "cell_type": "markdown",
   "id": "ff498d04",
   "metadata": {},
   "source": [
    "# Observations\n",
    "1. There are 20758 rows of data and 18 columns\n",
    "2. There is one id column, 8 numerical columns, 9 categorical columns\n",
    "3. The target column (NObeyesdad) is categorical with 7 unique values \n"
   ]
  },
  {
   "cell_type": "markdown",
   "id": "98391ab6",
   "metadata": {},
   "source": [
    "# Univariate analysis - Numeric Features\n",
    "    - Distribution plots (hist and box)\n",
    "    - Describe\n",
    "    - Outliers "
   ]
  },
  {
   "cell_type": "code",
   "execution_count": null,
   "id": "a97819f8",
   "metadata": {},
   "outputs": [],
   "source": [
    "sns.set_palette(\"pastel\")    \n",
    "sns.set_theme(style=\"darkgrid\")   "
   ]
  },
  {
   "cell_type": "code",
   "execution_count": null,
   "id": "551e7e09",
   "metadata": {},
   "outputs": [],
   "source": [
    "def num_analysis(df,col):\n",
    "    print(f\"****************************** {col} analysis ******************************\")\n",
    "    # Plot box and hist plots\n",
    "    fig,axs = plt.subplots(1,2,figsize=(10,5))\n",
    "    axs[0].set_title(f\"{col} boxplot\")\n",
    "    axs[0].tick_params(axis='x', rotation=45)\n",
    "    sns.boxplot(data=df,x=col,ax=axs[0])\n",
    "    axs[1].set_title(f\"{col} histplot\")\n",
    "    axs[1].tick_params(axis='x', rotation=45)\n",
    "\n",
    "    sns.histplot(data=df,x=col,ax=axs[1],kde=True)\n",
    "    plt.tight_layout()\n",
    "    plt.show()\n",
    "\n",
    "    # Get describe()\n",
    "    print(f\"********************  {col} values description  ********************\")\n",
    "    display(df[col].describe().to_frame().style.background_gradient(cmap='cool'))\n",
    "\n",
    "    print(f\"********************  {col} outliers  ********************\")\n",
    "    # Find upper and lower outliers if any\n",
    "    Q3 = df[col].quantile(0.75)\n",
    "    Q1 = df[col].quantile(0.25)\n",
    "\n",
    "    print(f\"IQR : {Q3 - Q1}\")\n",
    "\n",
    "    upper_outliers = df[df[col] > Q3]\n",
    "    lower_outliers = df[df[col] < Q1]\n",
    "\n",
    "    if len(upper_outliers)>0:\n",
    "        print(f\"****** Upper Outliers ******\")\n",
    "        print(f\"Upper outlier count: {len(upper_outliers)}\")\n",
    "        display(upper_outliers.head(3))\n",
    "    \n",
    "    if len(lower_outliers)>0:\n",
    "        print(f\"****** Lower Outliers ******\")\n",
    "        print(f\"Lower outlier count: {len(lower_outliers)}\")\n",
    "        display(lower_outliers.head(3))\n",
    "\n",
    "    \n",
    "    print(\"\")\n",
    "    print(\"\")\n",
    "    print(\"\")\n",
    "    print(\"\")\n",
    "\n"
   ]
  },
  {
   "cell_type": "code",
   "execution_count": null,
   "id": "8fcd82bc",
   "metadata": {},
   "outputs": [],
   "source": [
    "num_cols_for_analysis = num_cols.drop('id')"
   ]
  },
  {
   "cell_type": "code",
   "execution_count": null,
   "id": "80bba6b7",
   "metadata": {},
   "outputs": [],
   "source": [
    "for col in num_cols_for_analysis:\n",
    "    num_analysis(df,col)"
   ]
  },
  {
   "cell_type": "markdown",
   "id": "c7e073bc",
   "metadata": {},
   "source": [
    "# Univariate analysis - Categorical Features\n",
    "    - Value counts\n",
    "    - Unique values\n",
    "    - Bar chart"
   ]
  },
  {
   "cell_type": "code",
   "execution_count": null,
   "id": "0cf3469a",
   "metadata": {},
   "outputs": [],
   "source": [
    "def categorical_analysis(df,col):\n",
    "    print(f\"****************************** {col} analysis ******************************\")\n",
    "    \n",
    "    print(f\"Number of Unique Values: {df[col].nunique()}\")\n",
    "    if df[col].nunique() < 10:\n",
    "        fig, ax = plt.subplots(figsize=(8, 4))\n",
    "        sns.histplot(data=df, x=col, ax=ax, hue=col,legend=False)\n",
    "        ax.set_title(\"Value Distribution\")\n",
    "        for tick in ax.get_xticklabels():\n",
    "            tick.set_rotation(45)\n",
    "        \n",
    "        # Add count/percentage labels\n",
    "        total = df[col].notna().sum()\n",
    "        for container in ax.containers:\n",
    "            for bar in container:\n",
    "                height = bar.get_height()\n",
    "                if height == 0:\n",
    "                    continue  # Skip empty bars\n",
    "                count = int(height)\n",
    "                percentage = f'{100 * height / total:.1f}%'\n",
    "                ax.annotate(f'{count}\\n({percentage})',\n",
    "                            xy=(bar.get_x() + bar.get_width()/2, height),\n",
    "                            xytext=(0, 3),\n",
    "                            textcoords=\"offset points\",\n",
    "                            ha='center', va='bottom',\n",
    "                            fontsize=9)\n",
    "        \n",
    "        plt.tight_layout()\n",
    "        plt.show()\n",
    "    else:\n",
    "        print(f\"Top values for {col}\")\n",
    "        display(df[col].value_counts().reset_index().head(5))\n",
    "\n",
    "    print(\"\")\n",
    "    print(\"\")"
   ]
  },
  {
   "cell_type": "code",
   "execution_count": null,
   "id": "46905344",
   "metadata": {},
   "outputs": [],
   "source": [
    "for col in cat_cols:\n",
    "    categorical_analysis(df,col)"
   ]
  },
  {
   "cell_type": "markdown",
   "id": "e674080c",
   "metadata": {},
   "source": [
    "# Observations \n",
    "    - As all categorical values have <15 unique values, can safely one hot encode each of them\n",
    "    - Classes are quite imbalanced, models to be used should be sensitive to this fact"
   ]
  },
  {
   "cell_type": "code",
   "execution_count": null,
   "id": "e87f32aa",
   "metadata": {},
   "outputs": [],
   "source": [
    "df.columns"
   ]
  },
  {
   "cell_type": "markdown",
   "id": "8e72d122",
   "metadata": {},
   "source": [
    "# Multivariate Analysis:\n",
    " \n"
   ]
  },
  {
   "cell_type": "code",
   "execution_count": null,
   "id": "2b8e1964",
   "metadata": {},
   "outputs": [],
   "source": [
    "# What is the relationship between gender and weight diagnosis?\n",
    "ct = pd.crosstab(df['NObeyesdad'], df['Gender'])\n",
    "sns.heatmap(ct, annot=True, fmt='d', cmap='Blues')\n",
    "plt.title('Gender / Nobeyesdad Crosstab heatmap')\n",
    "plt.show()"
   ]
  },
  {
   "cell_type": "code",
   "execution_count": null,
   "id": "01dac271",
   "metadata": {},
   "outputs": [],
   "source": [
    "df.columns"
   ]
  },
  {
   "cell_type": "code",
   "execution_count": null,
   "id": "e081d730",
   "metadata": {},
   "outputs": [],
   "source": [
    "# Is there a relationship between weight and cups of water (CH20)?\n",
    "\n",
    "df_corr = df[['CH2O','Weight']].corr()\n",
    "sns.heatmap(df_corr,annot=True)\n",
    "\n"
   ]
  },
  {
   "cell_type": "code",
   "execution_count": null,
   "id": "698c24d1",
   "metadata": {},
   "outputs": [],
   "source": [
    "# What is the relationship between the number of servings of vegetables and obesity diagnosis?\n",
    "plt.figure(figsize=(15,5))\n",
    "plt.title(\"FCVC vs Diagnosis\")\n",
    "sns.violinplot(data=df, x='FCVC', hue='NObeyesdad')\n",
    "plt.legend(bbox_to_anchor=(1.05, 1), loc='upper left')  # Move legend outside right\n",
    "plt.tight_layout()\n",
    "plt.show()\n"
   ]
  },
  {
   "cell_type": "markdown",
   "id": "8cdcc053",
   "metadata": {},
   "source": [
    "# Preprocessing\n",
    "1. Drop ID"
   ]
  },
  {
   "cell_type": "code",
   "execution_count": null,
   "id": "2020b579",
   "metadata": {},
   "outputs": [],
   "source": [
    "from sklearn.model_selection import train_test_split\n",
    "from sklearn.pipeline import Pipeline\n",
    "from sklearn.preprocessing import StandardScaler, OneHotEncoder, FunctionTransformer, LabelEncoder\n",
    "from sklearn.compose import ColumnTransformer\n",
    "from sklearn.metrics import accuracy_score\n",
    "from sklearn.impute import SimpleImputer\n",
    "import xgboost as xgb\n",
    "from catboost import CatBoostClassifier\n",
    "from lightgbm import LGBMClassifier\n",
    "import optuna\n",
    "from sklearn.model_selection import cross_val_score\n",
    "from sklearn.metrics import roc_auc_score"
   ]
  },
  {
   "cell_type": "code",
   "execution_count": null,
   "id": "e6f22180",
   "metadata": {},
   "outputs": [],
   "source": [
    "df_t = df.drop(columns=['id'])\n",
    "X = df_t.drop(columns=['NObeyesdad'])\n",
    "y = df_t['NObeyesdad']"
   ]
  },
  {
   "cell_type": "code",
   "execution_count": null,
   "id": "a73cd609",
   "metadata": {},
   "outputs": [],
   "source": [
    "X_train,X_test,y_train,y_test = train_test_split(X,y,test_size=0.3,random_state=43)"
   ]
  },
  {
   "cell_type": "code",
   "execution_count": null,
   "id": "05ed5c9d",
   "metadata": {},
   "outputs": [],
   "source": [
    "df['NObeyesdad'].value_counts()"
   ]
  },
  {
   "cell_type": "code",
   "execution_count": null,
   "id": "290070c2",
   "metadata": {},
   "outputs": [],
   "source": [
    "BMI_mapping = {\n",
    "    'Insufficient_Weight':0,\n",
    "    'Normal_Weight':1,\n",
    "    'Overweight_Level_I':2,\n",
    "    'Overweight_Level_II':3,\n",
    "    'Obesity_Type_I':4,\n",
    "    'Obesity_Type_II':5,\n",
    "    'Obesity_Type_III':6\n",
    "}"
   ]
  },
  {
   "cell_type": "code",
   "execution_count": null,
   "id": "ddc3bdb4",
   "metadata": {},
   "outputs": [],
   "source": [
    "y_encoded = y.map(BMI_mapping)\n",
    "\n",
    "\n"
   ]
  },
  {
   "cell_type": "code",
   "execution_count": null,
   "id": "7409d231",
   "metadata": {},
   "outputs": [],
   "source": [
    "model_cat = CatBoostClassifier()"
   ]
  },
  {
   "cell_type": "code",
   "execution_count": null,
   "id": "5754e7e4",
   "metadata": {},
   "outputs": [],
   "source": [
    "X_train.columns"
   ]
  },
  {
   "cell_type": "code",
   "execution_count": null,
   "id": "12d5066e",
   "metadata": {},
   "outputs": [],
   "source": [
    "cat_cols = cat_cols.drop('NObeyesdad')"
   ]
  },
  {
   "cell_type": "code",
   "execution_count": null,
   "id": "a2eafe66",
   "metadata": {},
   "outputs": [],
   "source": [
    "def pipeline_stack(model):\n",
    "\n",
    "    preprocessor = ColumnTransformer(transformers=[\n",
    "        ('cat',OneHotEncoder(handle_unknown='ignore'),cat_cols),\n",
    "        ],\n",
    "        remainder ='passthrough'\n",
    "    )\n",
    "\n",
    "    pipeline = Pipeline(steps=[\n",
    "        ('preprocecssor',preprocessor),\n",
    "        ('model',model)\n",
    "    ])\n",
    "\n",
    "    return pipeline\n",
    "\n",
    "pipeline = pipeline_stack(model_cat)\n"
   ]
  },
  {
   "cell_type": "code",
   "execution_count": null,
   "id": "26e88f4d",
   "metadata": {},
   "outputs": [],
   "source": [
    "def objective(trial):\n",
    "    params = {\n",
    "            'iterations': trial.suggest_int('iterations',650,1000),\n",
    "            'learning_rate': trial.suggest_float('learning_rate', 0.1, 0.2),\n",
    "            'depth': trial.suggest_int('depth', 3, 10),\n",
    "            'l2_leaf_reg': 7.3,        \n",
    "            'verbose': 0,\n",
    "            'random_seed': 42,\n",
    "            'loss_function': 'MultiClass',\n",
    "            'task_type': 'GPU',\n",
    "            'early_stopping_rounds':20,\n",
    "            'eval_metric':'Accuracy',\n",
    "            'classes_count':7\n",
    "            \n",
    "        }\n",
    "    \n",
    "    model = CatBoostClassifier(**params)\n",
    "\n",
    "    pipeline = pipeline_stack(model)\n",
    "\n",
    "\n",
    "    scores = cross_val_score(pipeline, X, y_encoded, cv=3, scoring='accuracy', n_jobs=1)\n",
    "    return scores.mean()\n",
    "\n",
    "study = optuna.create_study(direction='maximize', sampler=optuna.samplers.TPESampler(seed=42)  \n",
    ")\n",
    "study.optimize(objective,n_trials = 50)"
   ]
  },
  {
   "cell_type": "code",
   "execution_count": null,
   "id": "19bfa946",
   "metadata": {},
   "outputs": [],
   "source": [
    "optuna.visualization.plot_param_importances(study)"
   ]
  },
  {
   "cell_type": "code",
   "execution_count": null,
   "id": "0191e7ba",
   "metadata": {},
   "outputs": [],
   "source": [
    "params = study.best_params"
   ]
  },
  {
   "cell_type": "code",
   "execution_count": null,
   "id": "b5022b6c",
   "metadata": {},
   "outputs": [],
   "source": [
    "print(params)"
   ]
  },
  {
   "cell_type": "code",
   "execution_count": null,
   "id": "4363bb86",
   "metadata": {},
   "outputs": [],
   "source": [
    "model_cat = CatBoostClassifier(**params)\n",
    "\n",
    "pipeline_final = pipeline_stack(model_cat)"
   ]
  },
  {
   "cell_type": "code",
   "execution_count": null,
   "id": "3a0ca7df",
   "metadata": {},
   "outputs": [],
   "source": [
    "pipeline_final.fit(X_train,y_train)"
   ]
  },
  {
   "cell_type": "code",
   "execution_count": null,
   "id": "9551dd83",
   "metadata": {},
   "outputs": [],
   "source": [
    "from sklearn.metrics import accuracy_score "
   ]
  },
  {
   "cell_type": "code",
   "execution_count": null,
   "id": "0d0db0cc",
   "metadata": {},
   "outputs": [],
   "source": [
    "y_test"
   ]
  },
  {
   "cell_type": "code",
   "execution_count": null,
   "id": "321b28de",
   "metadata": {},
   "outputs": [],
   "source": [
    "# Encode labels\n",
    "y_train_enc = y_train.map(BMI_mapping)\n",
    "y_test_enc = y_test.map(BMI_mapping)\n",
    "\n",
    "# Fit pipeline\n",
    "pipeline_final.fit(X_train, y_train_enc)\n",
    "\n",
    "# Predict\n",
    "y_preds = pipeline_final.predict(X_test)\n",
    "\n",
    "# Evaluate\n",
    "accuracy = accuracy_score(y_test_enc, y_preds)\n",
    "print(accuracy)"
   ]
  },
  {
   "cell_type": "code",
   "execution_count": null,
   "id": "ec42586e",
   "metadata": {},
   "outputs": [],
   "source": [
    "df_to_predict = df_test.drop(columns=['id'])\n",
    "\n"
   ]
  },
  {
   "cell_type": "code",
   "execution_count": null,
   "id": "98183380",
   "metadata": {},
   "outputs": [],
   "source": [
    "df_to_predict.head(3)"
   ]
  },
  {
   "cell_type": "code",
   "execution_count": null,
   "id": "5b35cd4a",
   "metadata": {},
   "outputs": [],
   "source": [
    "y_pred_final = pipeline_final.predict(df_to_predict)"
   ]
  },
  {
   "cell_type": "code",
   "execution_count": null,
   "id": "f28238fc",
   "metadata": {},
   "outputs": [],
   "source": [
    "df_final.head(3)"
   ]
  },
  {
   "cell_type": "code",
   "execution_count": null,
   "id": "5b79e7ee",
   "metadata": {},
   "outputs": [],
   "source": [
    "y_pred_final"
   ]
  },
  {
   "cell_type": "code",
   "execution_count": null,
   "id": "f86f96fa",
   "metadata": {},
   "outputs": [],
   "source": [
    "index_to_category = {v: k for k, v in BMI_mapping.items()}\n",
    "\n",
    "def get_bmi_category(index):\n",
    "    return index_to_category[index]\n",
    "\n",
    "y_pred_final = np.vectorize(get_bmi_category)(y_pred_final)"
   ]
  },
  {
   "cell_type": "code",
   "execution_count": null,
   "id": "d8d7d362",
   "metadata": {},
   "outputs": [],
   "source": [
    "df_final['NObeyesdad'] = y_pred_final"
   ]
  },
  {
   "cell_type": "code",
   "execution_count": null,
   "id": "83c5bf64",
   "metadata": {},
   "outputs": [],
   "source": [
    "df_final.head(3)"
   ]
  },
  {
   "cell_type": "code",
   "execution_count": null,
   "id": "2b5b7d03",
   "metadata": {},
   "outputs": [],
   "source": [
    "df_final.to_csv(\"submission.csv\",index=False)"
   ]
  }
 ],
 "metadata": {
  "kernelspec": {
   "display_name": "Python 3",
   "language": "python",
   "name": "python3"
  },
  "language_info": {
   "codemirror_mode": {
    "name": "ipython",
    "version": 3
   },
   "file_extension": ".py",
   "mimetype": "text/x-python",
   "name": "python",
   "nbconvert_exporter": "python",
   "pygments_lexer": "ipython3",
   "version": "3.11.4"
  }
 },
 "nbformat": 4,
 "nbformat_minor": 5
}
