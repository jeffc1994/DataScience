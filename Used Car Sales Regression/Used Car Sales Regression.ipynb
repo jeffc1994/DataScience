{
   "cells": [
      {
         "cell_type": "code",
         "execution_count": null,
         "id": "be296c3a",
         "metadata": {},
         "outputs": [],
         "source": [
            "import numpy as np\n",
            "import pandas as pd\n",
            "import seaborn as sns\n",
            "import matplotlib.pyplot as plt\n",
            "sns.set_style(\"whitegrid\")\n"
         ]
      },
      {
         "cell_type": "markdown",
         "id": "0814eea1",
         "metadata": {},
         "source": [
            "# Load Data"
         ]
      },
      {
         "cell_type": "code",
         "execution_count": null,
         "id": "d35e2a29",
         "metadata": {},
         "outputs": [],
         "source": [
            "df = pd.read_csv('train.csv')\n",
            "df_test = pd.read_csv('test.csv')\n",
            "df_final = pd.read_csv('sample_submission.csv')\n"
         ]
      },
      {
         "cell_type": "markdown",
         "id": "2c607ac9",
         "metadata": {},
         "source": [
            "# EDA\n",
            "1. Dataset overview\n",
            "\n",
            "2. Univariate analysis - Numeric Features\n",
            "    - Distribution plots (hist and box)\n",
            "    - Describe\n",
            "    - Outliers \n",
            "\n",
            "3. Univariate analysis - Categorical Features\n",
            "    - Most common values with percentages\n",
            "    - Countplot with labels\n",
            "    - Unique values \n",
            "\n",
            "4. Bivariate/Multivariate analysis\n",
            "    - Numeric-numeric : Correlation matrix, scatterplots (for high correlation), pairplots for smaller features\n",
            "    - Categorical-categorical : \n",
            "    - Numerical-categorical: Boxplot/violin plots\n",
            "\n",
            "5. Data quality checks\n",
            "    - Missing values\n",
            "    - Duplicated values\n",
            "    - Inconsistencies\n",
            "    - Feature engineering recommendations\n"
         ]
      },
      {
         "cell_type": "markdown",
         "id": "b8e21358",
         "metadata": {},
         "source": [
            "# Dataset Overview\n",
            "    - shape\n",
            "    - info\n",
            "    - missing values\n",
            "    - duplicated values\n",
            "    - head, tail, sample"
         ]
      },
      {
         "cell_type": "code",
         "execution_count": null,
         "id": "2a33334f",
         "metadata": {},
         "outputs": [],
         "source": [
            "print(f\"Rows: {df.shape[0]}\")\n",
            "print(f\"Columns: {df.shape[1]}\")"
         ]
      },
      {
         "cell_type": "code",
         "execution_count": null,
         "id": "f30af843",
         "metadata": {},
         "outputs": [],
         "source": [
            "df.info()"
         ]
      },
      {
         "cell_type": "code",
         "execution_count": null,
         "id": "21cb158b",
         "metadata": {},
         "outputs": [],
         "source": [
            "df.isnull().sum()"
         ]
      },
      {
         "cell_type": "code",
         "execution_count": null,
         "id": "8ef4ea7b",
         "metadata": {},
         "outputs": [],
         "source": [
            "print(f\"Duplicated values : {df.duplicated(keep=False).sum()}\")\n",
            "if df.duplicated().sum()>0:\n",
            "    display(df[df.duplicated(keep=False)].reset_index())"
         ]
      },
      {
         "cell_type": "code",
         "execution_count": null,
         "id": "81b2b47d",
         "metadata": {},
         "outputs": [],
         "source": [
            "print(\"Head:\")\n",
            "display(df.head(3))\n",
            "print(\"Tail:\")\n",
            "display(df.tail(3))\n",
            "print(\"Sample:\")\n",
            "display(df.sample(3))"
         ]
      },
      {
         "cell_type": "code",
         "execution_count": null,
         "id": "35d2cc8a",
         "metadata": {},
         "outputs": [],
         "source": [
            "num_cols = df.select_dtypes(include=['int64']).columns\n",
            "cat_cols = df.select_dtypes(include=['object']).columns\n",
            "print(f\"Numerical Datatypes: {num_cols}\")\n",
            "print(f\"Categorical Datatypes: {cat_cols}\")"
         ]
      },
      {
         "cell_type": "markdown",
         "id": "c3a60c7e",
         "metadata": {},
         "source": [
            "# Observations\n",
            "1. There are 188533 rows of data and 13 columns\n",
            "2. There is one id column, and 2 numerical columns\n",
            "3. The target column is numeric\n"
         ]
      },
      {
         "cell_type": "markdown",
         "id": "092d5709",
         "metadata": {},
         "source": [
            "# Univariate analysis - Numeric Features\n",
            "    - Distribution plots (hist and box)\n",
            "    - Describe\n",
            "    - Outliers "
         ]
      },
      {
         "cell_type": "code",
         "execution_count": null,
         "id": "22e5fafb",
         "metadata": {},
         "outputs": [],
         "source": [
            "sns.set_palette(\"pastel\")    \n",
            "sns.set_theme(style=\"darkgrid\")   "
         ]
      },
      {
         "cell_type": "code",
         "execution_count": null,
         "id": "f890d72c",
         "metadata": {},
         "outputs": [],
         "source": [
            "def num_analysis(df,col):\n",
            "    print(f\"****************************** {col} analysis ******************************\")\n",
            "\n",
            "    fig,axs = plt.subplots(1,2,figsize=(10,5))\n",
            "    axs[0].set_title(f\"{col} boxplot\")\n",
            "    axs[0].tick_params(axis='x', rotation=45)\n",
            "    sns.boxplot(data=df,x=col,ax=axs[0])\n",
            "    axs[1].set_title(f\"{col} histplot\")\n",
            "    axs[1].tick_params(axis='x', rotation=45)\n",
            "\n",
            "    sns.histplot(data=df,x=col,ax=axs[1],kde=True)\n",
            "    plt.tight_layout()\n",
            "    plt.show()\n",
            "\n",
            "    print(f\"********************  {col} values description  ********************\")\n",
            "    display(df[col].describe().to_frame().style.background_gradient(cmap='cool'))\n",
            "\n",
            "    print(f\"********************  {col} outliers  ********************\")\n",
            "\n",
            "    Q3 = df[col].quantile(0.75)\n",
            "    Q1 = df[col].quantile(0.25)\n",
            "\n",
            "    print(f\"IQR : {Q3 - Q1}\")\n",
            "\n",
            "    upper_outliers = df[df[col] > Q3]\n",
            "    lower_outliers = df[df[col] < Q1]\n",
            "\n",
            "    if len(upper_outliers)>0:\n",
            "        print(f\"****** Upper Outliers ******\")\n",
            "        print(f\"Upper outlier count: {len(upper_outliers)}\")\n",
            "        display(upper_outliers.head(3))\n",
            "    \n",
            "    if len(lower_outliers)>0:\n",
            "        print(f\"****** Lower Outliers ******\")\n",
            "        print(f\"Lower outlier count: {len(lower_outliers)}\")\n",
            "        display(lower_outliers.head(3))\n",
            "\n",
            "    \n",
            "    print(\"\")\n",
            "    print(\"\")\n",
            "    print(\"\")\n",
            "    print(\"\")\n",
            "\n"
         ]
      },
      {
         "cell_type": "code",
         "execution_count": null,
         "id": "b658a7d2",
         "metadata": {},
         "outputs": [],
         "source": [
            "num_cols_for_analysis = num_cols.drop('id')"
         ]
      },
      {
         "cell_type": "code",
         "execution_count": null,
         "id": "db4a7f74",
         "metadata": {},
         "outputs": [],
         "source": [
            "for col in num_cols_for_analysis:\n",
            "    num_analysis(df,col)"
         ]
      },
      {
         "cell_type": "markdown",
         "id": "96b99782",
         "metadata": {},
         "source": [
            "# Univariate analysis - Categorical Features\n",
            "- Value counts\n",
            "- Unique values\n",
            "- Bar chart"
         ]
      },
      {
         "cell_type": "code",
         "execution_count": null,
         "id": "48eaef69",
         "metadata": {},
         "outputs": [],
         "source": [
            "def categorical_analysis(df,col):\n",
            "    print(f\"****************************** {col} analysis ******************************\")\n",
            "    \n",
            "    print(f\"Number of Unique Values: {df[col].nunique()}\")\n",
            "    if df[col].nunique() < 10:\n",
            "        fig = plt.Figure(figsize=(10,5))\n",
            "        plt.xticks(rotation=45)\n",
            "        plt.title(\"Value Distribution\")\n",
            "        sns.histplot(data=df,x=col)\n",
            "        plt.tight_layout()\n",
            "        plt.show()\n",
            "    else:\n",
            "        print(f\"Top values for {col}\")\n",
            "        display(df[col].value_counts().reset_index().head(5))\n",
            "\n",
            "    print(\"\")\n",
            "    print(\"\")"
         ]
      },
      {
         "cell_type": "code",
         "execution_count": null,
         "id": "bc49d0c5",
         "metadata": {},
         "outputs": [],
         "source": [
            "for col in cat_cols:\n",
            "    categorical_analysis(df,col)"
         ]
      },
      {
         "cell_type": "markdown",
         "id": "c8e59f16",
         "metadata": {},
         "source": [
            "# Observations \n",
            "- Clean_title can be removed as there is only one value \n",
            "- There are many unique values for engine, transmission, interior/exterior colours, model and brand"
         ]
      },
      {
         "cell_type": "code",
         "execution_count": null,
         "id": "4488af38",
         "metadata": {},
         "outputs": [],
         "source": [
            "df.columns"
         ]
      },
      {
         "cell_type": "markdown",
         "id": "040f3aba",
         "metadata": {},
         "source": [
            "Multivariate Analysis:\n",
            "1. Which brands make the most money? \n",
            "2. Do interior and exterior colour affect the price? \n",
            "3. How does fuel type correlate with price?\n",
            "4. How does a vehicle in an accident affect the price?\n",
            "5. Does the milage affect the price?\n",
            "6. Do specific brands tend to create cars of a particular fuel type?\n",
            "7. How does the age of the car affect the price?\n"
         ]
      },
      {
         "cell_type": "code",
         "execution_count": null,
         "id": "8a98f413",
         "metadata": {},
         "outputs": [],
         "source": [
            "# Which brands make the most money?\n",
            "\n",
            "df_brands = df.groupby(by='brand')['price'].mean().head(10).sort_values().reset_index()\n",
            "plt.Figure(figsize=(10,10))\n",
            "plt.title(\"Most Expensive Brands\")\n",
            "plt.xticks(rotation = 45)\n",
            "sns.barplot(data=df_brands,x='brand',y='price')"
         ]
      },
      {
         "cell_type": "code",
         "execution_count": null,
         "id": "f47192ee",
         "metadata": {},
         "outputs": [],
         "source": [
            "# Do interior or exterior colours affect the price?\n",
            "\n",
            "top_int_colors = df['int_col'].value_counts().nlargest(10).index\n",
            "int_col_filtered = df[df['int_col'].isin(top_int_colors)]\n",
            "\n",
            "plt.Figure(figsize=(12,6))\n",
            "sns.boxplot(data=int_col_filtered,y='int_col',x='price')\n",
            "plt.title('Interior Colour vs Price')\n",
            "plt.tight_layout()\n",
            "plt.show()"
         ]
      },
      {
         "cell_type": "code",
         "execution_count": null,
         "id": "3fbdadab",
         "metadata": {},
         "outputs": [],
         "source": [
            "top_ext_colors = df['ext_col'].value_counts().nlargest(10).index\n",
            "ext_col_filtered = df[df['ext_col'].isin(top_int_colors)]\n",
            "\n",
            "plt.Figure(figsize=(12,6))\n",
            "sns.boxplot(data=ext_col_filtered,y='ext_col',x='price')\n",
            "plt.title('Exterior Colour vs Price')\n",
            "plt.tight_layout()\n",
            "plt.show()"
         ]
      },
      {
         "cell_type": "code",
         "execution_count": null,
         "id": "95510ec4",
         "metadata": {},
         "outputs": [],
         "source": [
            "# Most popular interior colours \n",
            "display(df.groupby('int_col')['price'].agg(['mean','count']).sort_values(by='mean',ascending=False).head(10).reset_index())"
         ]
      },
      {
         "cell_type": "code",
         "execution_count": null,
         "id": "b6395b1b",
         "metadata": {},
         "outputs": [],
         "source": [
            "# Most popular exterior colours\n",
            "display(df.groupby('ext_col')['price'].agg(['mean','count']).sort_values(by='mean',ascending=False).head(10).reset_index())"
         ]
      },
      {
         "cell_type": "code",
         "execution_count": null,
         "id": "7f085659",
         "metadata": {},
         "outputs": [],
         "source": [
            "# How does fuel type correlate with price?\n",
            "\n",
            "df_fuel = df.groupby('fuel_type')['price'].mean().sort_values(ascending=False).reset_index()\n",
            "\n",
            "fig = plt.figure(figsize=(5,5))\n",
            "plt.title(\"Average Price of Car by fuel-type\")\n",
            "plt.xticks(rotation=45)\n",
            "sns.barplot(data=df_fuel,x='fuel_type',y='price',hue='fuel_type')\n",
            "plt.tight_layout()\n",
            "plt.show()"
         ]
      },
      {
         "cell_type": "code",
         "execution_count": null,
         "id": "8611834c",
         "metadata": {},
         "outputs": [],
         "source": [
            "fig = plt.figure(figsize=(15,5))\n",
            "sns.boxplot(data=df,x='price',y='fuel_type')\n",
            "plt.tight_layout()\n",
            "plt.show()"
         ]
      },
      {
         "cell_type": "code",
         "execution_count": null,
         "id": "2a5d28a2",
         "metadata": {},
         "outputs": [],
         "source": [
            "# How does a vehicle in an accident affect the price?\n",
            "\n",
            "fig = plt.figure(figsize=(15,3))\n",
            "plt.title(\"Price of fuel by accident history\")\n",
            "sns.boxplot(data=df,x='price',hue='accident')\n",
            "plt.tight_layout()\n",
            "plt.show()\n",
            "\n"
         ]
      },
      {
         "cell_type": "code",
         "execution_count": null,
         "id": "0503ee8c",
         "metadata": {},
         "outputs": [],
         "source": [
            "df_accident = df.groupby('accident')['price'].mean().reset_index()\n",
            "display(df_accident)"
         ]
      },
      {
         "cell_type": "code",
         "execution_count": null,
         "id": "ddfc3355",
         "metadata": {},
         "outputs": [],
         "source": [
            "# Does the mileage affect the price?\n",
            "\n",
            "df_corr = df[['price','milage']].corr()\n",
            "\n",
            "sns.heatmap(df_corr,annot=True)"
         ]
      },
      {
         "cell_type": "code",
         "execution_count": null,
         "id": "1b10974d",
         "metadata": {},
         "outputs": [],
         "source": [
            "# How does the age of the car affect the price?\n",
            "\n",
            "df['age'] = 2025 - df['model_year'] "
         ]
      },
      {
         "cell_type": "code",
         "execution_count": null,
         "id": "0ca341ea",
         "metadata": {},
         "outputs": [],
         "source": [
            "df_corr_n = df[['age','price']].corr()\n",
            "sns.heatmap(df_corr_n,annot=True)"
         ]
      },
      {
         "cell_type": "code",
         "execution_count": null,
         "id": "879171ae",
         "metadata": {},
         "outputs": [],
         "source": [
            "sns.scatterplot(data=df,x='age',y='price')"
         ]
      },
      {
         "cell_type": "code",
         "execution_count": null,
         "id": "54393751",
         "metadata": {},
         "outputs": [],
         "source": [
            "df.columns"
         ]
      },
      {
         "cell_type": "markdown",
         "id": "4e42732d",
         "metadata": {},
         "source": [
            "# Preprocessor"
         ]
      },
      {
         "cell_type": "markdown",
         "id": "e7376c35",
         "metadata": {},
         "source": [
            "- remove clean_title\n",
            "- create 'age' feature\n",
            "- one hot encoding for fuel type, accident\n",
            "- target encoding for ext_col, int_col, transmission, brand, model, engine\n",
            "- drop id and price"
         ]
      },
      {
         "cell_type": "code",
         "execution_count": null,
         "id": "d4ba526c",
         "metadata": {},
         "outputs": [],
         "source": [
            "import category_encoders as ce \n",
            "from sklearn.model_selection import train_test_split"
         ]
      },
      {
         "cell_type": "code",
         "execution_count": null,
         "id": "d3414f2b",
         "metadata": {},
         "outputs": [],
         "source": [
            "cols_for_encoding = ['ext_col','int_col','transmission','brand','model','engine']"
         ]
      },
      {
         "cell_type": "code",
         "execution_count": null,
         "id": "ffcd3e1c",
         "metadata": {},
         "outputs": [],
         "source": [
            "def preprocessor(df):\n",
            "    X = df.drop(columns='price')\n",
            "    y = df['price']\n",
            "    X['age'] = 2025 - df['model_year']\n",
            "    X = pd.get_dummies(X,columns=['fuel_type','accident'])\n",
            "    X = X.drop(columns=['id','clean_title'])\n",
            "\n",
            "    return X,y\n"
         ]
      },
      {
         "cell_type": "code",
         "execution_count": null,
         "id": "ccd48810",
         "metadata": {},
         "outputs": [],
         "source": [
            "X,y = preprocessor(df)\n",
            "\n",
            "X_train, X_test, y_train, y_test = train_test_split(X,y,test_size=0.3,random_state=43)\n",
            "\n",
            "encoder = ce.TargetEncoder(cols=cols_for_encoding)\n",
            "X_train[cols_for_encoding] = encoder.fit_transform(X_train[cols_for_encoding], y_train)\n",
            "X_test[cols_for_encoding] = encoder.transform(X_test[cols_for_encoding])"
         ]
      },
      {
         "cell_type": "code",
         "execution_count": null,
         "id": "f0953e5b",
         "metadata": {},
         "outputs": [],
         "source": [
            "X.head(3)"
         ]
      },
      {
         "cell_type": "code",
         "execution_count": null,
         "id": "b58be886",
         "metadata": {},
         "outputs": [],
         "source": [
            "from catboost import CatBoostRegressor\n",
            "import optuna as optuna\n",
            "from sklearn.model_selection import cross_val_score\n"
         ]
      },
      {
         "cell_type": "code",
         "execution_count": null,
         "id": "269bdb7f",
         "metadata": {},
         "outputs": [],
         "source": [
            "def objective(trial):\n",
            "    params = {\n",
            "        'loss_function': 'RMSE',  \n",
            "        'iterations': trial.suggest_int('iterations',300,600),\n",
            "        'learning_rate': trial.suggest_float('learning_rate', 0.01, 0.1, log=True),\n",
            "        'l2_leaf_reg': trial.suggest_float('l2_leaf_reg',3,15),\n",
            "        'depth': trial.suggest_int('depth',3,10),\n",
            "        'verbose': 0,\n",
            "        'early_stopping_rounds':50,\n",
            "        'eval_metric': 'RMSE',\n",
            "        'task_type':'GPU'\n",
            "    }\n",
            "\n",
            "    model = CatBoostRegressor(**params)\n",
            "    \n",
            "    score = cross_val_score(model, X_train, y_train, cv=4, scoring='neg_mean_squared_error').mean()\n",
            "\n",
            "    return -score\n",
            "\n",
            "\n",
            "\n",
            "study = optuna.create_study(direction='minimize',sampler = optuna.samplers.RandomSampler(seed=42))\n",
            "\n",
            "study.optimize(objective,n_trials=200)"
         ]
      },
      {
         "cell_type": "code",
         "execution_count": null,
         "id": "5be85902",
         "metadata": {},
         "outputs": [],
         "source": [
            "optuna.visualization.plot_optimization_history(study)"
         ]
      },
      {
         "cell_type": "code",
         "execution_count": null,
         "id": "224bd946",
         "metadata": {},
         "outputs": [],
         "source": [
            "optuna.visualization.plot_param_importances(study)"
         ]
      },
      {
         "cell_type": "code",
         "execution_count": null,
         "id": "bb0e7e57",
         "metadata": {},
         "outputs": [],
         "source": [
            "optuna.visualization.plot_parallel_coordinate(study)"
         ]
      },
      {
         "cell_type": "code",
         "execution_count": null,
         "id": "b39b32aa",
         "metadata": {},
         "outputs": [],
         "source": [
            "params = {'iterations': 580, 'learning_rate': 0.03673949509651876, 'l2_leaf_reg': 11.359809886522708, 'depth': 10}"
         ]
      },
      {
         "cell_type": "code",
         "execution_count": null,
         "id": "b0d198b3",
         "metadata": {},
         "outputs": [],
         "source": [
            "print(params)"
         ]
      },
      {
         "cell_type": "code",
         "execution_count": null,
         "id": "ea8a40fa",
         "metadata": {},
         "outputs": [],
         "source": [
            "model_cat = CatBoostRegressor(**params)\n",
            "model_cat.fit(X_train,y_train)"
         ]
      },
      {
         "cell_type": "code",
         "execution_count": null,
         "id": "02a930c9",
         "metadata": {},
         "outputs": [],
         "source": [
            "y_preds = model_cat.predict(X_test)\n",
            "\n"
         ]
      },
      {
         "cell_type": "code",
         "execution_count": null,
         "id": "45d2364f",
         "metadata": {},
         "outputs": [],
         "source": [
            "from sklearn.metrics import root_mean_squared_error"
         ]
      },
      {
         "cell_type": "code",
         "execution_count": null,
         "id": "b9bf9d24",
         "metadata": {},
         "outputs": [],
         "source": [
            "def rmse(y_test,y_preds):\n",
            "    rmse = root_mean_squared_error(y_test,y_preds)\n",
            "    return rmse"
         ]
      },
      {
         "cell_type": "code",
         "execution_count": null,
         "id": "da23d2dc",
         "metadata": {},
         "outputs": [],
         "source": [
            "rmse(y_test,y_preds)"
         ]
      },
      {
         "cell_type": "code",
         "execution_count": null,
         "id": "ae1d7289",
         "metadata": {},
         "outputs": [],
         "source": [
            "df_test['age'] = 2025 - df['model_year']\n",
            "df_test = pd.get_dummies(df_test,columns=['fuel_type','accident'])\n",
            "df_test = df_test.drop(columns=['id','clean_title'])\n",
            "df_test[cols_for_encoding] = encoder.transform(df_test[cols_for_encoding])\n",
            "\n",
            "y_final_preds = model_cat.predict(df_test)\n"
         ]
      },
      {
         "cell_type": "code",
         "execution_count": null,
         "id": "cce0a9c9",
         "metadata": {},
         "outputs": [],
         "source": [
            "df_final['price'] = y_final_preds"
         ]
      },
      {
         "cell_type": "code",
         "execution_count": null,
         "id": "4c9d6a22",
         "metadata": {},
         "outputs": [],
         "source": [
            "df_final.to_csv('submission.csv',index=False)"
         ]
      }
   ],
   "metadata": {
      "kernelspec": {
         "display_name": "Python 3",
         "language": "python",
         "name": "python3"
      },
      "language_info": {
         "codemirror_mode": {
            "name": "ipython",
            "version": 3
         },
         "file_extension": ".py",
         "mimetype": "text/x-python",
         "name": "python",
         "nbconvert_exporter": "python",
         "pygments_lexer": "ipython3",
         "version": "3.11.4"
      }
   },
   "nbformat": 4,
   "nbformat_minor": 5
}
