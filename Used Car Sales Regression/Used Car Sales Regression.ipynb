{
 "cells": [
  {
   "cell_type": "code",
   "execution_count": 29,
   "id": "be296c3a",
   "metadata": {},
   "outputs": [],
   "source": [
    "import numpy as np\n",
    "import pandas as pd\n",
    "import seaborn as sns\n",
    "import matplotlib.pyplot as plt\n",
    "sns.set_style(\"whitegrid\")\n"
   ]
  },
  {
   "cell_type": "markdown",
   "id": "0814eea1",
   "metadata": {},
   "source": [
    "# Load Data"
   ]
  },
  {
   "cell_type": "code",
   "execution_count": 30,
   "id": "d35e2a29",
   "metadata": {},
   "outputs": [],
   "source": [
    "df = pd.read_csv('train.csv')\n",
    "df_test = pd.read_csv('test.csv')\n",
    "df_final = pd.read_csv('sample_submission.csv')\n"
   ]
  },
  {
   "cell_type": "markdown",
   "id": "2c607ac9",
   "metadata": {},
   "source": [
    "# EDA\n",
    "1. Dataset overview\n",
    "\n",
    "2. Univariate analysis - Numeric Features\n",
    "    - Distribution plots (hist and box)\n",
    "    - Describe\n",
    "    - Outliers \n",
    "\n",
    "3. Univariate analysis - Categorical Features\n",
    "    - Most common values with percentages\n",
    "    - Countplot with labels\n",
    "    - Unique values \n",
    "\n",
    "4. Bivariate/Multivariate analysis\n",
    "    - Numeric-numeric : Correlation matrix, scatterplots (for high correlation), pairplots for smaller features\n",
    "    - Categorical-categorical : \n",
    "    - Numerical-categorical: Boxplot/violin plots\n",
    "\n",
    "5. Data quality checks\n",
    "    - Missing values\n",
    "    - Duplicated values\n",
    "    - Inconsistencies\n",
    "    - Feature engineering recommendations\n"
   ]
  },
  {
   "cell_type": "markdown",
   "id": "b8e21358",
   "metadata": {},
   "source": [
    "# Dataset Overview\n",
    "    - shape\n",
    "    - info\n",
    "    - missing values\n",
    "    - duplicated values\n",
    "    - head, tail, sample"
   ]
  },
  {
   "cell_type": "code",
   "execution_count": 31,
   "id": "2a33334f",
   "metadata": {},
   "outputs": [
    {
     "name": "stdout",
     "output_type": "stream",
     "text": [
      "Rows: 188533\n",
      "Columns: 13\n"
     ]
    }
   ],
   "source": [
    "print(f\"Rows: {df.shape[0]}\")\n",
    "print(f\"Columns: {df.shape[1]}\")"
   ]
  },
  {
   "cell_type": "code",
   "execution_count": 32,
   "id": "f30af843",
   "metadata": {},
   "outputs": [
    {
     "name": "stdout",
     "output_type": "stream",
     "text": [
      "<class 'pandas.core.frame.DataFrame'>\n",
      "RangeIndex: 188533 entries, 0 to 188532\n",
      "Data columns (total 13 columns):\n",
      " #   Column        Non-Null Count   Dtype \n",
      "---  ------        --------------   ----- \n",
      " 0   id            188533 non-null  int64 \n",
      " 1   brand         188533 non-null  object\n",
      " 2   model         188533 non-null  object\n",
      " 3   model_year    188533 non-null  int64 \n",
      " 4   milage        188533 non-null  int64 \n",
      " 5   fuel_type     183450 non-null  object\n",
      " 6   engine        188533 non-null  object\n",
      " 7   transmission  188533 non-null  object\n",
      " 8   ext_col       188533 non-null  object\n",
      " 9   int_col       188533 non-null  object\n",
      " 10  accident      186081 non-null  object\n",
      " 11  clean_title   167114 non-null  object\n",
      " 12  price         188533 non-null  int64 \n",
      "dtypes: int64(4), object(9)\n",
      "memory usage: 18.7+ MB\n"
     ]
    }
   ],
   "source": [
    "df.info()"
   ]
  },
  {
   "cell_type": "code",
   "execution_count": 33,
   "id": "21cb158b",
   "metadata": {},
   "outputs": [
    {
     "data": {
      "text/plain": [
       "id                  0\n",
       "brand               0\n",
       "model               0\n",
       "model_year          0\n",
       "milage              0\n",
       "fuel_type        5083\n",
       "engine              0\n",
       "transmission        0\n",
       "ext_col             0\n",
       "int_col             0\n",
       "accident         2452\n",
       "clean_title     21419\n",
       "price               0\n",
       "dtype: int64"
      ]
     },
     "execution_count": 33,
     "metadata": {},
     "output_type": "execute_result"
    }
   ],
   "source": [
    "df.isnull().sum()"
   ]
  },
  {
   "cell_type": "code",
   "execution_count": 34,
   "id": "8ef4ea7b",
   "metadata": {},
   "outputs": [
    {
     "name": "stdout",
     "output_type": "stream",
     "text": [
      "Duplicated values : 0\n"
     ]
    }
   ],
   "source": [
    "print(f\"Duplicated values : {df.duplicated(keep=False).sum()}\")\n",
    "if df.duplicated().sum()>0:\n",
    "    display(df[df.duplicated(keep=False)].reset_index())"
   ]
  },
  {
   "cell_type": "code",
   "execution_count": 35,
   "id": "81b2b47d",
   "metadata": {},
   "outputs": [
    {
     "name": "stdout",
     "output_type": "stream",
     "text": [
      "Head:\n"
     ]
    },
    {
     "data": {
      "text/html": [
       "<div>\n",
       "<style scoped>\n",
       "    .dataframe tbody tr th:only-of-type {\n",
       "        vertical-align: middle;\n",
       "    }\n",
       "\n",
       "    .dataframe tbody tr th {\n",
       "        vertical-align: top;\n",
       "    }\n",
       "\n",
       "    .dataframe thead th {\n",
       "        text-align: right;\n",
       "    }\n",
       "</style>\n",
       "<table border=\"1\" class=\"dataframe\">\n",
       "  <thead>\n",
       "    <tr style=\"text-align: right;\">\n",
       "      <th></th>\n",
       "      <th>id</th>\n",
       "      <th>brand</th>\n",
       "      <th>model</th>\n",
       "      <th>model_year</th>\n",
       "      <th>milage</th>\n",
       "      <th>fuel_type</th>\n",
       "      <th>engine</th>\n",
       "      <th>transmission</th>\n",
       "      <th>ext_col</th>\n",
       "      <th>int_col</th>\n",
       "      <th>accident</th>\n",
       "      <th>clean_title</th>\n",
       "      <th>price</th>\n",
       "    </tr>\n",
       "  </thead>\n",
       "  <tbody>\n",
       "    <tr>\n",
       "      <th>0</th>\n",
       "      <td>0</td>\n",
       "      <td>MINI</td>\n",
       "      <td>Cooper S Base</td>\n",
       "      <td>2007</td>\n",
       "      <td>213000</td>\n",
       "      <td>Gasoline</td>\n",
       "      <td>172.0HP 1.6L 4 Cylinder Engine Gasoline Fuel</td>\n",
       "      <td>A/T</td>\n",
       "      <td>Yellow</td>\n",
       "      <td>Gray</td>\n",
       "      <td>None reported</td>\n",
       "      <td>Yes</td>\n",
       "      <td>4200</td>\n",
       "    </tr>\n",
       "    <tr>\n",
       "      <th>1</th>\n",
       "      <td>1</td>\n",
       "      <td>Lincoln</td>\n",
       "      <td>LS V8</td>\n",
       "      <td>2002</td>\n",
       "      <td>143250</td>\n",
       "      <td>Gasoline</td>\n",
       "      <td>252.0HP 3.9L 8 Cylinder Engine Gasoline Fuel</td>\n",
       "      <td>A/T</td>\n",
       "      <td>Silver</td>\n",
       "      <td>Beige</td>\n",
       "      <td>At least 1 accident or damage reported</td>\n",
       "      <td>Yes</td>\n",
       "      <td>4999</td>\n",
       "    </tr>\n",
       "    <tr>\n",
       "      <th>2</th>\n",
       "      <td>2</td>\n",
       "      <td>Chevrolet</td>\n",
       "      <td>Silverado 2500 LT</td>\n",
       "      <td>2002</td>\n",
       "      <td>136731</td>\n",
       "      <td>E85 Flex Fuel</td>\n",
       "      <td>320.0HP 5.3L 8 Cylinder Engine Flex Fuel Capab...</td>\n",
       "      <td>A/T</td>\n",
       "      <td>Blue</td>\n",
       "      <td>Gray</td>\n",
       "      <td>None reported</td>\n",
       "      <td>Yes</td>\n",
       "      <td>13900</td>\n",
       "    </tr>\n",
       "  </tbody>\n",
       "</table>\n",
       "</div>"
      ],
      "text/plain": [
       "   id      brand              model  model_year  milage      fuel_type  \\\n",
       "0   0       MINI      Cooper S Base        2007  213000       Gasoline   \n",
       "1   1    Lincoln              LS V8        2002  143250       Gasoline   \n",
       "2   2  Chevrolet  Silverado 2500 LT        2002  136731  E85 Flex Fuel   \n",
       "\n",
       "                                              engine transmission ext_col  \\\n",
       "0       172.0HP 1.6L 4 Cylinder Engine Gasoline Fuel          A/T  Yellow   \n",
       "1       252.0HP 3.9L 8 Cylinder Engine Gasoline Fuel          A/T  Silver   \n",
       "2  320.0HP 5.3L 8 Cylinder Engine Flex Fuel Capab...          A/T    Blue   \n",
       "\n",
       "  int_col                                accident clean_title  price  \n",
       "0    Gray                           None reported         Yes   4200  \n",
       "1   Beige  At least 1 accident or damage reported         Yes   4999  \n",
       "2    Gray                           None reported         Yes  13900  "
      ]
     },
     "metadata": {},
     "output_type": "display_data"
    },
    {
     "name": "stdout",
     "output_type": "stream",
     "text": [
      "Tail:\n"
     ]
    },
    {
     "data": {
      "text/html": [
       "<div>\n",
       "<style scoped>\n",
       "    .dataframe tbody tr th:only-of-type {\n",
       "        vertical-align: middle;\n",
       "    }\n",
       "\n",
       "    .dataframe tbody tr th {\n",
       "        vertical-align: top;\n",
       "    }\n",
       "\n",
       "    .dataframe thead th {\n",
       "        text-align: right;\n",
       "    }\n",
       "</style>\n",
       "<table border=\"1\" class=\"dataframe\">\n",
       "  <thead>\n",
       "    <tr style=\"text-align: right;\">\n",
       "      <th></th>\n",
       "      <th>id</th>\n",
       "      <th>brand</th>\n",
       "      <th>model</th>\n",
       "      <th>model_year</th>\n",
       "      <th>milage</th>\n",
       "      <th>fuel_type</th>\n",
       "      <th>engine</th>\n",
       "      <th>transmission</th>\n",
       "      <th>ext_col</th>\n",
       "      <th>int_col</th>\n",
       "      <th>accident</th>\n",
       "      <th>clean_title</th>\n",
       "      <th>price</th>\n",
       "    </tr>\n",
       "  </thead>\n",
       "  <tbody>\n",
       "    <tr>\n",
       "      <th>188530</th>\n",
       "      <td>188530</td>\n",
       "      <td>Mercedes-Benz</td>\n",
       "      <td>AMG GLC 63 Base 4MATIC</td>\n",
       "      <td>2021</td>\n",
       "      <td>13650</td>\n",
       "      <td>Gasoline</td>\n",
       "      <td>469.0HP 4.0L 8 Cylinder Engine Gasoline Fuel</td>\n",
       "      <td>7-Speed A/T</td>\n",
       "      <td>White</td>\n",
       "      <td>Black</td>\n",
       "      <td>None reported</td>\n",
       "      <td>Yes</td>\n",
       "      <td>86900</td>\n",
       "    </tr>\n",
       "    <tr>\n",
       "      <th>188531</th>\n",
       "      <td>188531</td>\n",
       "      <td>Audi</td>\n",
       "      <td>S5 3.0T Prestige</td>\n",
       "      <td>2022</td>\n",
       "      <td>13895</td>\n",
       "      <td>Gasoline</td>\n",
       "      <td>3.0L</td>\n",
       "      <td>1-Speed Automatic</td>\n",
       "      <td>Daytona Gray Pearl Effect</td>\n",
       "      <td>Black</td>\n",
       "      <td>None reported</td>\n",
       "      <td>NaN</td>\n",
       "      <td>84900</td>\n",
       "    </tr>\n",
       "    <tr>\n",
       "      <th>188532</th>\n",
       "      <td>188532</td>\n",
       "      <td>Porsche</td>\n",
       "      <td>Macan Base</td>\n",
       "      <td>2016</td>\n",
       "      <td>59500</td>\n",
       "      <td>Gasoline</td>\n",
       "      <td>252.0HP 2.0L 4 Cylinder Engine Gasoline Fuel</td>\n",
       "      <td>Transmission w/Dual Shift Mode</td>\n",
       "      <td>White</td>\n",
       "      <td>Black</td>\n",
       "      <td>None reported</td>\n",
       "      <td>Yes</td>\n",
       "      <td>28995</td>\n",
       "    </tr>\n",
       "  </tbody>\n",
       "</table>\n",
       "</div>"
      ],
      "text/plain": [
       "            id          brand                   model  model_year  milage  \\\n",
       "188530  188530  Mercedes-Benz  AMG GLC 63 Base 4MATIC        2021   13650   \n",
       "188531  188531           Audi        S5 3.0T Prestige        2022   13895   \n",
       "188532  188532        Porsche              Macan Base        2016   59500   \n",
       "\n",
       "       fuel_type                                        engine  \\\n",
       "188530  Gasoline  469.0HP 4.0L 8 Cylinder Engine Gasoline Fuel   \n",
       "188531  Gasoline                                          3.0L   \n",
       "188532  Gasoline  252.0HP 2.0L 4 Cylinder Engine Gasoline Fuel   \n",
       "\n",
       "                          transmission                    ext_col int_col  \\\n",
       "188530                     7-Speed A/T                      White   Black   \n",
       "188531               1-Speed Automatic  Daytona Gray Pearl Effect   Black   \n",
       "188532  Transmission w/Dual Shift Mode                      White   Black   \n",
       "\n",
       "             accident clean_title  price  \n",
       "188530  None reported         Yes  86900  \n",
       "188531  None reported         NaN  84900  \n",
       "188532  None reported         Yes  28995  "
      ]
     },
     "metadata": {},
     "output_type": "display_data"
    },
    {
     "name": "stdout",
     "output_type": "stream",
     "text": [
      "Sample:\n"
     ]
    },
    {
     "data": {
      "text/html": [
       "<div>\n",
       "<style scoped>\n",
       "    .dataframe tbody tr th:only-of-type {\n",
       "        vertical-align: middle;\n",
       "    }\n",
       "\n",
       "    .dataframe tbody tr th {\n",
       "        vertical-align: top;\n",
       "    }\n",
       "\n",
       "    .dataframe thead th {\n",
       "        text-align: right;\n",
       "    }\n",
       "</style>\n",
       "<table border=\"1\" class=\"dataframe\">\n",
       "  <thead>\n",
       "    <tr style=\"text-align: right;\">\n",
       "      <th></th>\n",
       "      <th>id</th>\n",
       "      <th>brand</th>\n",
       "      <th>model</th>\n",
       "      <th>model_year</th>\n",
       "      <th>milage</th>\n",
       "      <th>fuel_type</th>\n",
       "      <th>engine</th>\n",
       "      <th>transmission</th>\n",
       "      <th>ext_col</th>\n",
       "      <th>int_col</th>\n",
       "      <th>accident</th>\n",
       "      <th>clean_title</th>\n",
       "      <th>price</th>\n",
       "    </tr>\n",
       "  </thead>\n",
       "  <tbody>\n",
       "    <tr>\n",
       "      <th>107297</th>\n",
       "      <td>107297</td>\n",
       "      <td>Mercedes-Benz</td>\n",
       "      <td>AMG GLS 63 4MATIC</td>\n",
       "      <td>2023</td>\n",
       "      <td>7800</td>\n",
       "      <td>Hybrid</td>\n",
       "      <td>603.0HP 4.0L 8 Cylinder Engine Gasoline/Mild E...</td>\n",
       "      <td>A/T</td>\n",
       "      <td>Black</td>\n",
       "      <td>Black</td>\n",
       "      <td>None reported</td>\n",
       "      <td>Yes</td>\n",
       "      <td>124990</td>\n",
       "    </tr>\n",
       "    <tr>\n",
       "      <th>137884</th>\n",
       "      <td>137884</td>\n",
       "      <td>Audi</td>\n",
       "      <td>S4 3.0T Premium Plus</td>\n",
       "      <td>2021</td>\n",
       "      <td>45867</td>\n",
       "      <td>Gasoline</td>\n",
       "      <td>3.0L V6 24V GDI DOHC Turbo</td>\n",
       "      <td>8-Speed Automatic</td>\n",
       "      <td>Tango Red Metallic</td>\n",
       "      <td>Black</td>\n",
       "      <td>None reported</td>\n",
       "      <td>Yes</td>\n",
       "      <td>33591</td>\n",
       "    </tr>\n",
       "    <tr>\n",
       "      <th>180183</th>\n",
       "      <td>180183</td>\n",
       "      <td>Acura</td>\n",
       "      <td>RL Technology</td>\n",
       "      <td>2010</td>\n",
       "      <td>74864</td>\n",
       "      <td>Gasoline</td>\n",
       "      <td>300.0HP 3.7L V6 Cylinder Engine Gasoline Fuel</td>\n",
       "      <td>A/T</td>\n",
       "      <td>Silver</td>\n",
       "      <td>Black</td>\n",
       "      <td>None reported</td>\n",
       "      <td>Yes</td>\n",
       "      <td>13900</td>\n",
       "    </tr>\n",
       "  </tbody>\n",
       "</table>\n",
       "</div>"
      ],
      "text/plain": [
       "            id          brand                 model  model_year  milage  \\\n",
       "107297  107297  Mercedes-Benz     AMG GLS 63 4MATIC        2023    7800   \n",
       "137884  137884           Audi  S4 3.0T Premium Plus        2021   45867   \n",
       "180183  180183          Acura         RL Technology        2010   74864   \n",
       "\n",
       "       fuel_type                                             engine  \\\n",
       "107297    Hybrid  603.0HP 4.0L 8 Cylinder Engine Gasoline/Mild E...   \n",
       "137884  Gasoline                         3.0L V6 24V GDI DOHC Turbo   \n",
       "180183  Gasoline      300.0HP 3.7L V6 Cylinder Engine Gasoline Fuel   \n",
       "\n",
       "             transmission             ext_col int_col       accident  \\\n",
       "107297                A/T               Black   Black  None reported   \n",
       "137884  8-Speed Automatic  Tango Red Metallic   Black  None reported   \n",
       "180183                A/T              Silver   Black  None reported   \n",
       "\n",
       "       clean_title   price  \n",
       "107297         Yes  124990  \n",
       "137884         Yes   33591  \n",
       "180183         Yes   13900  "
      ]
     },
     "metadata": {},
     "output_type": "display_data"
    }
   ],
   "source": [
    "print(\"Head:\")\n",
    "display(df.head(3))\n",
    "print(\"Tail:\")\n",
    "display(df.tail(3))\n",
    "print(\"Sample:\")\n",
    "display(df.sample(3))"
   ]
  },
  {
   "cell_type": "code",
   "execution_count": 36,
   "id": "35d2cc8a",
   "metadata": {},
   "outputs": [
    {
     "name": "stdout",
     "output_type": "stream",
     "text": [
      "Numerical Datatypes: Index(['id', 'model_year', 'milage', 'price'], dtype='object')\n",
      "Categorical Datatypes: Index(['brand', 'model', 'fuel_type', 'engine', 'transmission', 'ext_col',\n",
      "       'int_col', 'accident', 'clean_title'],\n",
      "      dtype='object')\n"
     ]
    }
   ],
   "source": [
    "num_cols = df.select_dtypes(include=['int64']).columns\n",
    "cat_cols = df.select_dtypes(include=['object']).columns\n",
    "print(f\"Numerical Datatypes: {num_cols}\")\n",
    "print(f\"Categorical Datatypes: {cat_cols}\")"
   ]
  },
  {
   "cell_type": "markdown",
   "id": "c3a60c7e",
   "metadata": {},
   "source": [
    "# Observations\n",
    "1. There are 188533 rows of data and 13 columns\n",
    "2. There is one id column, and 2 numerical columns\n",
    "3. The target column is numeric\n"
   ]
  },
  {
   "cell_type": "markdown",
   "id": "092d5709",
   "metadata": {},
   "source": [
    "# Univariate analysis - Numeric Features\n",
    "    - Distribution plots (hist and box)\n",
    "    - Describe\n",
    "    - Outliers "
   ]
  },
  {
   "cell_type": "code",
   "execution_count": 37,
   "id": "22e5fafb",
   "metadata": {},
   "outputs": [],
   "source": [
    "sns.set_palette(\"pastel\")    \n",
    "sns.set_theme(style=\"darkgrid\")   "
   ]
  },
  {
   "cell_type": "code",
   "execution_count": 38,
   "id": "f890d72c",
   "metadata": {},
   "outputs": [],
   "source": [
    "def num_analysis(df,col):\n",
    "    print(f\"****************************** {col} analysis ******************************\")\n",
    "\n",
    "    fig,axs = plt.subplots(1,2,figsize=(10,5))\n",
    "    axs[0].set_title(f\"{col} boxplot\")\n",
    "    axs[0].tick_params(axis='x', rotation=45)\n",
    "    sns.boxplot(data=df,x=col,ax=axs[0])\n",
    "    axs[1].set_title(f\"{col} histplot\")\n",
    "    axs[1].tick_params(axis='x', rotation=45)\n",
    "\n",
    "    sns.histplot(data=df,x=col,ax=axs[1],kde=True)\n",
    "    plt.tight_layout()\n",
    "    plt.show()\n",
    "\n",
    "    print(f\"********************  {col} values description  ********************\")\n",
    "    display(df[col].describe().to_frame().style.background_gradient(cmap='cool'))\n",
    "\n",
    "    print(f\"********************  {col} outliers  ********************\")\n",
    "\n",
    "    Q3 = df[col].quantile(0.75)\n",
    "    Q1 = df[col].quantile(0.25)\n",
    "\n",
    "    print(f\"IQR : {Q3 - Q1}\")\n",
    "\n",
    "    upper_outliers = df[df[col] > Q3]\n",
    "    lower_outliers = df[df[col] < Q1]\n",
    "\n",
    "    if len(upper_outliers)>0:\n",
    "        print(f\"****** Upper Outliers ******\")\n",
    "        print(f\"Upper outlier count: {len(upper_outliers)}\")\n",
    "        display(upper_outliers.head(3))\n",
    "    \n",
    "    if len(lower_outliers)>0:\n",
    "        print(f\"****** Lower Outliers ******\")\n",
    "        print(f\"Lower outlier count: {len(lower_outliers)}\")\n",
    "        display(lower_outliers.head(3))\n",
    "\n",
    "    \n",
    "    print(\"\")\n",
    "    print(\"\")\n",
    "    print(\"\")\n",
    "    print(\"\")\n",
    "\n"
   ]
  },
  {
   "cell_type": "code",
   "execution_count": 39,
   "id": "b658a7d2",
   "metadata": {},
   "outputs": [],
   "source": [
    "num_cols_for_analysis = num_cols.drop('id')"
   ]
  },
  {
   "cell_type": "code",
   "execution_count": 40,
   "id": "db4a7f74",
   "metadata": {},
   "outputs": [
    {
     "name": "stdout",
     "output_type": "stream",
     "text": [
      "****************************** model_year analysis ******************************\n"
     ]
    },
    {
     "data": {
      "image/png": "[encoded data removed]",
      "text/plain": [
       "<Figure size 1000x500 with 2 Axes>"
      ]
     },
     "metadata": {},
     "output_type": "display_data"
    },
    {
     "name": "stdout",
     "output_type": "stream",
     "text": [
      "********************  model_year values description  ********************\n"
     ]
    },
    {
     "data": {
      "text/html": [
       "<style type=\"text/css\">\n",
       "#T_5bab1_row0_col0 {\n",
       "  background-color: #ff00ff;\n",
       "  color: #f1f1f1;\n",
       "}\n",
       "#T_5bab1_row1_col0, #T_5bab1_row3_col0, #T_5bab1_row4_col0, #T_5bab1_row5_col0, #T_5bab1_row6_col0, #T_5bab1_row7_col0 {\n",
       "  background-color: #02fdff;\n",
       "  color: #000000;\n",
       "}\n",
       "#T_5bab1_row2_col0 {\n",
       "  background-color: #00ffff;\n",
       "  color: #000000;\n",
       "}\n",
       "</style>\n",
       "<table id=\"T_5bab1\">\n",
       "  <thead>\n",
       "    <tr>\n",
       "      <th class=\"blank level0\" >&nbsp;</th>\n",
       "      <th id=\"T_5bab1_level0_col0\" class=\"col_heading level0 col0\" >model_year</th>\n",
       "    </tr>\n",
       "  </thead>\n",
       "  <tbody>\n",
       "    <tr>\n",
       "      <th id=\"T_5bab1_level0_row0\" class=\"row_heading level0 row0\" >count</th>\n",
       "      <td id=\"T_5bab1_row0_col0\" class=\"data row0 col0\" >188533.000000</td>\n",
       "    </tr>\n",
       "    <tr>\n",
       "      <th id=\"T_5bab1_level0_row1\" class=\"row_heading level0 row1\" >mean</th>\n",
       "      <td id=\"T_5bab1_row1_col0\" class=\"data row1 col0\" >2015.829998</td>\n",
       "    </tr>\n",
       "    <tr>\n",
       "      <th id=\"T_5bab1_level0_row2\" class=\"row_heading level0 row2\" >std</th>\n",
       "      <td id=\"T_5bab1_row2_col0\" class=\"data row2 col0\" >5.660967</td>\n",
       "    </tr>\n",
       "    <tr>\n",
       "      <th id=\"T_5bab1_level0_row3\" class=\"row_heading level0 row3\" >min</th>\n",
       "      <td id=\"T_5bab1_row3_col0\" class=\"data row3 col0\" >1974.000000</td>\n",
       "    </tr>\n",
       "    <tr>\n",
       "      <th id=\"T_5bab1_level0_row4\" class=\"row_heading level0 row4\" >25%</th>\n",
       "      <td id=\"T_5bab1_row4_col0\" class=\"data row4 col0\" >2013.000000</td>\n",
       "    </tr>\n",
       "    <tr>\n",
       "      <th id=\"T_5bab1_level0_row5\" class=\"row_heading level0 row5\" >50%</th>\n",
       "      <td id=\"T_5bab1_row5_col0\" class=\"data row5 col0\" >2017.000000</td>\n",
       "    </tr>\n",
       "    <tr>\n",
       "      <th id=\"T_5bab1_level0_row6\" class=\"row_heading level0 row6\" >75%</th>\n",
       "      <td id=\"T_5bab1_row6_col0\" class=\"data row6 col0\" >2020.000000</td>\n",
       "    </tr>\n",
       "    <tr>\n",
       "      <th id=\"T_5bab1_level0_row7\" class=\"row_heading level0 row7\" >max</th>\n",
       "      <td id=\"T_5bab1_row7_col0\" class=\"data row7 col0\" >2024.000000</td>\n",
       "    </tr>\n",
       "  </tbody>\n",
       "</table>\n"
      ],
      "text/plain": [
       "<pandas.io.formats.style.Styler at 0x2c2b8a40d50>"
      ]
     },
     "metadata": {},
     "output_type": "display_data"
    },
    {
     "name": "stdout",
     "output_type": "stream",
     "text": [
      "********************  model_year outliers  ********************\n",
      "IQR : 7.0\n",
      "****** Upper Outliers ******\n",
      "Upper outlier count: 42878\n"
     ]
    },
    {
     "data": {
      "text/html": [
       "<div>\n",
       "<style scoped>\n",
       "    .dataframe tbody tr th:only-of-type {\n",
       "        vertical-align: middle;\n",
       "    }\n",
       "\n",
       "    .dataframe tbody tr th {\n",
       "        vertical-align: top;\n",
       "    }\n",
       "\n",
       "    .dataframe thead th {\n",
       "        text-align: right;\n",
       "    }\n",
       "</style>\n",
       "<table border=\"1\" class=\"dataframe\">\n",
       "  <thead>\n",
       "    <tr style=\"text-align: right;\">\n",
       "      <th></th>\n",
       "      <th>id</th>\n",
       "      <th>brand</th>\n",
       "      <th>model</th>\n",
       "      <th>model_year</th>\n",
       "      <th>milage</th>\n",
       "      <th>fuel_type</th>\n",
       "      <th>engine</th>\n",
       "      <th>transmission</th>\n",
       "      <th>ext_col</th>\n",
       "      <th>int_col</th>\n",
       "      <th>accident</th>\n",
       "      <th>clean_title</th>\n",
       "      <th>price</th>\n",
       "    </tr>\n",
       "  </thead>\n",
       "  <tbody>\n",
       "    <tr>\n",
       "      <th>4</th>\n",
       "      <td>4</td>\n",
       "      <td>Mercedes-Benz</td>\n",
       "      <td>Metris Base</td>\n",
       "      <td>2021</td>\n",
       "      <td>7388</td>\n",
       "      <td>Gasoline</td>\n",
       "      <td>208.0HP 2.0L 4 Cylinder Engine Gasoline Fuel</td>\n",
       "      <td>7-Speed A/T</td>\n",
       "      <td>Black</td>\n",
       "      <td>Beige</td>\n",
       "      <td>None reported</td>\n",
       "      <td>Yes</td>\n",
       "      <td>97500</td>\n",
       "    </tr>\n",
       "    <tr>\n",
       "      <th>14</th>\n",
       "      <td>14</td>\n",
       "      <td>Land</td>\n",
       "      <td>Rover Range Rover P530 SE SWB</td>\n",
       "      <td>2023</td>\n",
       "      <td>20000</td>\n",
       "      <td>Gasoline</td>\n",
       "      <td>523.0HP 4.4L 8 Cylinder Engine Gasoline Fuel</td>\n",
       "      <td>A/T</td>\n",
       "      <td>Black</td>\n",
       "      <td>Black</td>\n",
       "      <td>None reported</td>\n",
       "      <td>Yes</td>\n",
       "      <td>56900</td>\n",
       "    </tr>\n",
       "    <tr>\n",
       "      <th>16</th>\n",
       "      <td>16</td>\n",
       "      <td>GMC</td>\n",
       "      <td>Yukon Denali</td>\n",
       "      <td>2021</td>\n",
       "      <td>15000</td>\n",
       "      <td>Gasoline</td>\n",
       "      <td>420.0HP 6.2L 8 Cylinder Engine Gasoline Fuel</td>\n",
       "      <td>10-Speed A/T</td>\n",
       "      <td>Green</td>\n",
       "      <td>Beige</td>\n",
       "      <td>None reported</td>\n",
       "      <td>Yes</td>\n",
       "      <td>68500</td>\n",
       "    </tr>\n",
       "  </tbody>\n",
       "</table>\n",
       "</div>"
      ],
      "text/plain": [
       "    id          brand                          model  model_year  milage  \\\n",
       "4    4  Mercedes-Benz                    Metris Base        2021    7388   \n",
       "14  14           Land  Rover Range Rover P530 SE SWB        2023   20000   \n",
       "16  16            GMC                   Yukon Denali        2021   15000   \n",
       "\n",
       "   fuel_type                                        engine  transmission  \\\n",
       "4   Gasoline  208.0HP 2.0L 4 Cylinder Engine Gasoline Fuel   7-Speed A/T   \n",
       "14  Gasoline  523.0HP 4.4L 8 Cylinder Engine Gasoline Fuel           A/T   \n",
       "16  Gasoline  420.0HP 6.2L 8 Cylinder Engine Gasoline Fuel  10-Speed A/T   \n",
       "\n",
       "   ext_col int_col       accident clean_title  price  \n",
       "4    Black   Beige  None reported         Yes  97500  \n",
       "14   Black   Black  None reported         Yes  56900  \n",
       "16   Green   Beige  None reported         Yes  68500  "
      ]
     },
     "metadata": {},
     "output_type": "display_data"
    },
    {
     "name": "stdout",
     "output_type": "stream",
     "text": [
      "****** Lower Outliers ******\n",
      "Lower outlier count: 44894\n"
     ]
    },
    {
     "data": {
      "text/html": [
       "<div>\n",
       "<style scoped>\n",
       "    .dataframe tbody tr th:only-of-type {\n",
       "        vertical-align: middle;\n",
       "    }\n",
       "\n",
       "    .dataframe tbody tr th {\n",
       "        vertical-align: top;\n",
       "    }\n",
       "\n",
       "    .dataframe thead th {\n",
       "        text-align: right;\n",
       "    }\n",
       "</style>\n",
       "<table border=\"1\" class=\"dataframe\">\n",
       "  <thead>\n",
       "    <tr style=\"text-align: right;\">\n",
       "      <th></th>\n",
       "      <th>id</th>\n",
       "      <th>brand</th>\n",
       "      <th>model</th>\n",
       "      <th>model_year</th>\n",
       "      <th>milage</th>\n",
       "      <th>fuel_type</th>\n",
       "      <th>engine</th>\n",
       "      <th>transmission</th>\n",
       "      <th>ext_col</th>\n",
       "      <th>int_col</th>\n",
       "      <th>accident</th>\n",
       "      <th>clean_title</th>\n",
       "      <th>price</th>\n",
       "    </tr>\n",
       "  </thead>\n",
       "  <tbody>\n",
       "    <tr>\n",
       "      <th>0</th>\n",
       "      <td>0</td>\n",
       "      <td>MINI</td>\n",
       "      <td>Cooper S Base</td>\n",
       "      <td>2007</td>\n",
       "      <td>213000</td>\n",
       "      <td>Gasoline</td>\n",
       "      <td>172.0HP 1.6L 4 Cylinder Engine Gasoline Fuel</td>\n",
       "      <td>A/T</td>\n",
       "      <td>Yellow</td>\n",
       "      <td>Gray</td>\n",
       "      <td>None reported</td>\n",
       "      <td>Yes</td>\n",
       "      <td>4200</td>\n",
       "    </tr>\n",
       "    <tr>\n",
       "      <th>1</th>\n",
       "      <td>1</td>\n",
       "      <td>Lincoln</td>\n",
       "      <td>LS V8</td>\n",
       "      <td>2002</td>\n",
       "      <td>143250</td>\n",
       "      <td>Gasoline</td>\n",
       "      <td>252.0HP 3.9L 8 Cylinder Engine Gasoline Fuel</td>\n",
       "      <td>A/T</td>\n",
       "      <td>Silver</td>\n",
       "      <td>Beige</td>\n",
       "      <td>At least 1 accident or damage reported</td>\n",
       "      <td>Yes</td>\n",
       "      <td>4999</td>\n",
       "    </tr>\n",
       "    <tr>\n",
       "      <th>2</th>\n",
       "      <td>2</td>\n",
       "      <td>Chevrolet</td>\n",
       "      <td>Silverado 2500 LT</td>\n",
       "      <td>2002</td>\n",
       "      <td>136731</td>\n",
       "      <td>E85 Flex Fuel</td>\n",
       "      <td>320.0HP 5.3L 8 Cylinder Engine Flex Fuel Capab...</td>\n",
       "      <td>A/T</td>\n",
       "      <td>Blue</td>\n",
       "      <td>Gray</td>\n",
       "      <td>None reported</td>\n",
       "      <td>Yes</td>\n",
       "      <td>13900</td>\n",
       "    </tr>\n",
       "  </tbody>\n",
       "</table>\n",
       "</div>"
      ],
      "text/plain": [
       "   id      brand              model  model_year  milage      fuel_type  \\\n",
       "0   0       MINI      Cooper S Base        2007  213000       Gasoline   \n",
       "1   1    Lincoln              LS V8        2002  143250       Gasoline   \n",
       "2   2  Chevrolet  Silverado 2500 LT        2002  136731  E85 Flex Fuel   \n",
       "\n",
       "                                              engine transmission ext_col  \\\n",
       "0       172.0HP 1.6L 4 Cylinder Engine Gasoline Fuel          A/T  Yellow   \n",
       "1       252.0HP 3.9L 8 Cylinder Engine Gasoline Fuel          A/T  Silver   \n",
       "2  320.0HP 5.3L 8 Cylinder Engine Flex Fuel Capab...          A/T    Blue   \n",
       "\n",
       "  int_col                                accident clean_title  price  \n",
       "0    Gray                           None reported         Yes   4200  \n",
       "1   Beige  At least 1 accident or damage reported         Yes   4999  \n",
       "2    Gray                           None reported         Yes  13900  "
      ]
     },
     "metadata": {},
     "output_type": "display_data"
    },
    {
     "name": "stdout",
     "output_type": "stream",
     "text": [
      "\n",
      "\n",
      "\n",
      "\n",
      "****************************** milage analysis ******************************\n"
     ]
    },
    {
     "data": {
      "image/png": "[encoded data removed]",
      "text/plain": [
       "<Figure size 1000x500 with 2 Axes>"
      ]
     },
     "metadata": {},
     "output_type": "display_data"
    },
    {
     "name": "stdout",
     "output_type": "stream",
     "text": [
      "********************  milage values description  ********************\n"
     ]
    },
    {
     "data": {
      "text/html": [
       "<style type=\"text/css\">\n",
       "#T_46dbe_row0_col0 {\n",
       "  background-color: #7788ff;\n",
       "  color: #f1f1f1;\n",
       "}\n",
       "#T_46dbe_row1_col0 {\n",
       "  background-color: #29d6ff;\n",
       "  color: #000000;\n",
       "}\n",
       "#T_46dbe_row2_col0 {\n",
       "  background-color: #1fe0ff;\n",
       "  color: #000000;\n",
       "}\n",
       "#T_46dbe_row3_col0 {\n",
       "  background-color: #00ffff;\n",
       "  color: #000000;\n",
       "}\n",
       "#T_46dbe_row4_col0 {\n",
       "  background-color: #0ff0ff;\n",
       "  color: #000000;\n",
       "}\n",
       "#T_46dbe_row5_col0 {\n",
       "  background-color: #24dbff;\n",
       "  color: #000000;\n",
       "}\n",
       "#T_46dbe_row6_col0 {\n",
       "  background-color: #3cc3ff;\n",
       "  color: #000000;\n",
       "}\n",
       "#T_46dbe_row7_col0 {\n",
       "  background-color: #ff00ff;\n",
       "  color: #f1f1f1;\n",
       "}\n",
       "</style>\n",
       "<table id=\"T_46dbe\">\n",
       "  <thead>\n",
       "    <tr>\n",
       "      <th class=\"blank level0\" >&nbsp;</th>\n",
       "      <th id=\"T_46dbe_level0_col0\" class=\"col_heading level0 col0\" >milage</th>\n",
       "    </tr>\n",
       "  </thead>\n",
       "  <tbody>\n",
       "    <tr>\n",
       "      <th id=\"T_46dbe_level0_row0\" class=\"row_heading level0 row0\" >count</th>\n",
       "      <td id=\"T_46dbe_row0_col0\" class=\"data row0 col0\" >188533.000000</td>\n",
       "    </tr>\n",
       "    <tr>\n",
       "      <th id=\"T_46dbe_level0_row1\" class=\"row_heading level0 row1\" >mean</th>\n",
       "      <td id=\"T_46dbe_row1_col0\" class=\"data row1 col0\" >65705.295174</td>\n",
       "    </tr>\n",
       "    <tr>\n",
       "      <th id=\"T_46dbe_level0_row2\" class=\"row_heading level0 row2\" >std</th>\n",
       "      <td id=\"T_46dbe_row2_col0\" class=\"data row2 col0\" >49798.158076</td>\n",
       "    </tr>\n",
       "    <tr>\n",
       "      <th id=\"T_46dbe_level0_row3\" class=\"row_heading level0 row3\" >min</th>\n",
       "      <td id=\"T_46dbe_row3_col0\" class=\"data row3 col0\" >100.000000</td>\n",
       "    </tr>\n",
       "    <tr>\n",
       "      <th id=\"T_46dbe_level0_row4\" class=\"row_heading level0 row4\" >25%</th>\n",
       "      <td id=\"T_46dbe_row4_col0\" class=\"data row4 col0\" >24115.000000</td>\n",
       "    </tr>\n",
       "    <tr>\n",
       "      <th id=\"T_46dbe_level0_row5\" class=\"row_heading level0 row5\" >50%</th>\n",
       "      <td id=\"T_46dbe_row5_col0\" class=\"data row5 col0\" >57785.000000</td>\n",
       "    </tr>\n",
       "    <tr>\n",
       "      <th id=\"T_46dbe_level0_row6\" class=\"row_heading level0 row6\" >75%</th>\n",
       "      <td id=\"T_46dbe_row6_col0\" class=\"data row6 col0\" >95400.000000</td>\n",
       "    </tr>\n",
       "    <tr>\n",
       "      <th id=\"T_46dbe_level0_row7\" class=\"row_heading level0 row7\" >max</th>\n",
       "      <td id=\"T_46dbe_row7_col0\" class=\"data row7 col0\" >405000.000000</td>\n",
       "    </tr>\n",
       "  </tbody>\n",
       "</table>\n"
      ],
      "text/plain": [
       "<pandas.io.formats.style.Styler at 0x2c2ba0b0a50>"
      ]
     },
     "metadata": {},
     "output_type": "display_data"
    },
    {
     "name": "stdout",
     "output_type": "stream",
     "text": [
      "********************  milage outliers  ********************\n",
      "IQR : 71285.0\n",
      "****** Upper Outliers ******\n",
      "Upper outlier count: 47113\n"
     ]
    },
    {
     "data": {
      "text/html": [
       "<div>\n",
       "<style scoped>\n",
       "    .dataframe tbody tr th:only-of-type {\n",
       "        vertical-align: middle;\n",
       "    }\n",
       "\n",
       "    .dataframe tbody tr th {\n",
       "        vertical-align: top;\n",
       "    }\n",
       "\n",
       "    .dataframe thead th {\n",
       "        text-align: right;\n",
       "    }\n",
       "</style>\n",
       "<table border=\"1\" class=\"dataframe\">\n",
       "  <thead>\n",
       "    <tr style=\"text-align: right;\">\n",
       "      <th></th>\n",
       "      <th>id</th>\n",
       "      <th>brand</th>\n",
       "      <th>model</th>\n",
       "      <th>model_year</th>\n",
       "      <th>milage</th>\n",
       "      <th>fuel_type</th>\n",
       "      <th>engine</th>\n",
       "      <th>transmission</th>\n",
       "      <th>ext_col</th>\n",
       "      <th>int_col</th>\n",
       "      <th>accident</th>\n",
       "      <th>clean_title</th>\n",
       "      <th>price</th>\n",
       "    </tr>\n",
       "  </thead>\n",
       "  <tbody>\n",
       "    <tr>\n",
       "      <th>0</th>\n",
       "      <td>0</td>\n",
       "      <td>MINI</td>\n",
       "      <td>Cooper S Base</td>\n",
       "      <td>2007</td>\n",
       "      <td>213000</td>\n",
       "      <td>Gasoline</td>\n",
       "      <td>172.0HP 1.6L 4 Cylinder Engine Gasoline Fuel</td>\n",
       "      <td>A/T</td>\n",
       "      <td>Yellow</td>\n",
       "      <td>Gray</td>\n",
       "      <td>None reported</td>\n",
       "      <td>Yes</td>\n",
       "      <td>4200</td>\n",
       "    </tr>\n",
       "    <tr>\n",
       "      <th>1</th>\n",
       "      <td>1</td>\n",
       "      <td>Lincoln</td>\n",
       "      <td>LS V8</td>\n",
       "      <td>2002</td>\n",
       "      <td>143250</td>\n",
       "      <td>Gasoline</td>\n",
       "      <td>252.0HP 3.9L 8 Cylinder Engine Gasoline Fuel</td>\n",
       "      <td>A/T</td>\n",
       "      <td>Silver</td>\n",
       "      <td>Beige</td>\n",
       "      <td>At least 1 accident or damage reported</td>\n",
       "      <td>Yes</td>\n",
       "      <td>4999</td>\n",
       "    </tr>\n",
       "    <tr>\n",
       "      <th>2</th>\n",
       "      <td>2</td>\n",
       "      <td>Chevrolet</td>\n",
       "      <td>Silverado 2500 LT</td>\n",
       "      <td>2002</td>\n",
       "      <td>136731</td>\n",
       "      <td>E85 Flex Fuel</td>\n",
       "      <td>320.0HP 5.3L 8 Cylinder Engine Flex Fuel Capab...</td>\n",
       "      <td>A/T</td>\n",
       "      <td>Blue</td>\n",
       "      <td>Gray</td>\n",
       "      <td>None reported</td>\n",
       "      <td>Yes</td>\n",
       "      <td>13900</td>\n",
       "    </tr>\n",
       "  </tbody>\n",
       "</table>\n",
       "</div>"
      ],
      "text/plain": [
       "   id      brand              model  model_year  milage      fuel_type  \\\n",
       "0   0       MINI      Cooper S Base        2007  213000       Gasoline   \n",
       "1   1    Lincoln              LS V8        2002  143250       Gasoline   \n",
       "2   2  Chevrolet  Silverado 2500 LT        2002  136731  E85 Flex Fuel   \n",
       "\n",
       "                                              engine transmission ext_col  \\\n",
       "0       172.0HP 1.6L 4 Cylinder Engine Gasoline Fuel          A/T  Yellow   \n",
       "1       252.0HP 3.9L 8 Cylinder Engine Gasoline Fuel          A/T  Silver   \n",
       "2  320.0HP 5.3L 8 Cylinder Engine Flex Fuel Capab...          A/T    Blue   \n",
       "\n",
       "  int_col                                accident clean_title  price  \n",
       "0    Gray                           None reported         Yes   4200  \n",
       "1   Beige  At least 1 accident or damage reported         Yes   4999  \n",
       "2    Gray                           None reported         Yes  13900  "
      ]
     },
     "metadata": {},
     "output_type": "display_data"
    },
    {
     "name": "stdout",
     "output_type": "stream",
     "text": [
      "****** Lower Outliers ******\n",
      "Lower outlier count: 47072\n"
     ]
    },
    {
     "data": {
      "text/html": [
       "<div>\n",
       "<style scoped>\n",
       "    .dataframe tbody tr th:only-of-type {\n",
       "        vertical-align: middle;\n",
       "    }\n",
       "\n",
       "    .dataframe tbody tr th {\n",
       "        vertical-align: top;\n",
       "    }\n",
       "\n",
       "    .dataframe thead th {\n",
       "        text-align: right;\n",
       "    }\n",
       "</style>\n",
       "<table border=\"1\" class=\"dataframe\">\n",
       "  <thead>\n",
       "    <tr style=\"text-align: right;\">\n",
       "      <th></th>\n",
       "      <th>id</th>\n",
       "      <th>brand</th>\n",
       "      <th>model</th>\n",
       "      <th>model_year</th>\n",
       "      <th>milage</th>\n",
       "      <th>fuel_type</th>\n",
       "      <th>engine</th>\n",
       "      <th>transmission</th>\n",
       "      <th>ext_col</th>\n",
       "      <th>int_col</th>\n",
       "      <th>accident</th>\n",
       "      <th>clean_title</th>\n",
       "      <th>price</th>\n",
       "    </tr>\n",
       "  </thead>\n",
       "  <tbody>\n",
       "    <tr>\n",
       "      <th>3</th>\n",
       "      <td>3</td>\n",
       "      <td>Genesis</td>\n",
       "      <td>G90 5.0 Ultimate</td>\n",
       "      <td>2017</td>\n",
       "      <td>19500</td>\n",
       "      <td>Gasoline</td>\n",
       "      <td>420.0HP 5.0L 8 Cylinder Engine Gasoline Fuel</td>\n",
       "      <td>Transmission w/Dual Shift Mode</td>\n",
       "      <td>Black</td>\n",
       "      <td>Black</td>\n",
       "      <td>None reported</td>\n",
       "      <td>Yes</td>\n",
       "      <td>45000</td>\n",
       "    </tr>\n",
       "    <tr>\n",
       "      <th>4</th>\n",
       "      <td>4</td>\n",
       "      <td>Mercedes-Benz</td>\n",
       "      <td>Metris Base</td>\n",
       "      <td>2021</td>\n",
       "      <td>7388</td>\n",
       "      <td>Gasoline</td>\n",
       "      <td>208.0HP 2.0L 4 Cylinder Engine Gasoline Fuel</td>\n",
       "      <td>7-Speed A/T</td>\n",
       "      <td>Black</td>\n",
       "      <td>Beige</td>\n",
       "      <td>None reported</td>\n",
       "      <td>Yes</td>\n",
       "      <td>97500</td>\n",
       "    </tr>\n",
       "    <tr>\n",
       "      <th>14</th>\n",
       "      <td>14</td>\n",
       "      <td>Land</td>\n",
       "      <td>Rover Range Rover P530 SE SWB</td>\n",
       "      <td>2023</td>\n",
       "      <td>20000</td>\n",
       "      <td>Gasoline</td>\n",
       "      <td>523.0HP 4.4L 8 Cylinder Engine Gasoline Fuel</td>\n",
       "      <td>A/T</td>\n",
       "      <td>Black</td>\n",
       "      <td>Black</td>\n",
       "      <td>None reported</td>\n",
       "      <td>Yes</td>\n",
       "      <td>56900</td>\n",
       "    </tr>\n",
       "  </tbody>\n",
       "</table>\n",
       "</div>"
      ],
      "text/plain": [
       "    id          brand                          model  model_year  milage  \\\n",
       "3    3        Genesis               G90 5.0 Ultimate        2017   19500   \n",
       "4    4  Mercedes-Benz                    Metris Base        2021    7388   \n",
       "14  14           Land  Rover Range Rover P530 SE SWB        2023   20000   \n",
       "\n",
       "   fuel_type                                        engine  \\\n",
       "3   Gasoline  420.0HP 5.0L 8 Cylinder Engine Gasoline Fuel   \n",
       "4   Gasoline  208.0HP 2.0L 4 Cylinder Engine Gasoline Fuel   \n",
       "14  Gasoline  523.0HP 4.4L 8 Cylinder Engine Gasoline Fuel   \n",
       "\n",
       "                      transmission ext_col int_col       accident clean_title  \\\n",
       "3   Transmission w/Dual Shift Mode   Black   Black  None reported         Yes   \n",
       "4                      7-Speed A/T   Black   Beige  None reported         Yes   \n",
       "14                             A/T   Black   Black  None reported         Yes   \n",
       "\n",
       "    price  \n",
       "3   45000  \n",
       "4   97500  \n",
       "14  56900  "
      ]
     },
     "metadata": {},
     "output_type": "display_data"
    },
    {
     "name": "stdout",
     "output_type": "stream",
     "text": [
      "\n",
      "\n",
      "\n",
      "\n",
      "****************************** price analysis ******************************\n"
     ]
    },
    {
     "data": {
      "image/png": "[encoded data removed]",
      "text/plain": [
       "<Figure size 1000x500 with 2 Axes>"
      ]
     },
     "metadata": {},
     "output_type": "display_data"
    },
    {
     "name": "stdout",
     "output_type": "stream",
     "text": [
      "********************  price values description  ********************\n"
     ]
    },
    {
     "data": {
      "text/html": [
       "<style type=\"text/css\">\n",
       "#T_d2c44_row0_col0 {\n",
       "  background-color: #10efff;\n",
       "  color: #000000;\n",
       "}\n",
       "#T_d2c44_row1_col0 {\n",
       "  background-color: #03fcff;\n",
       "  color: #000000;\n",
       "}\n",
       "#T_d2c44_row2_col0 {\n",
       "  background-color: #06f9ff;\n",
       "  color: #000000;\n",
       "}\n",
       "#T_d2c44_row3_col0 {\n",
       "  background-color: #00ffff;\n",
       "  color: #000000;\n",
       "}\n",
       "#T_d2c44_row4_col0 {\n",
       "  background-color: #01feff;\n",
       "  color: #000000;\n",
       "}\n",
       "#T_d2c44_row5_col0 {\n",
       "  background-color: #02fdff;\n",
       "  color: #000000;\n",
       "}\n",
       "#T_d2c44_row6_col0 {\n",
       "  background-color: #04fbff;\n",
       "  color: #000000;\n",
       "}\n",
       "#T_d2c44_row7_col0 {\n",
       "  background-color: #ff00ff;\n",
       "  color: #f1f1f1;\n",
       "}\n",
       "</style>\n",
       "<table id=\"T_d2c44\">\n",
       "  <thead>\n",
       "    <tr>\n",
       "      <th class=\"blank level0\" >&nbsp;</th>\n",
       "      <th id=\"T_d2c44_level0_col0\" class=\"col_heading level0 col0\" >price</th>\n",
       "    </tr>\n",
       "  </thead>\n",
       "  <tbody>\n",
       "    <tr>\n",
       "      <th id=\"T_d2c44_level0_row0\" class=\"row_heading level0 row0\" >count</th>\n",
       "      <td id=\"T_d2c44_row0_col0\" class=\"data row0 col0\" >188533.000000</td>\n",
       "    </tr>\n",
       "    <tr>\n",
       "      <th id=\"T_d2c44_level0_row1\" class=\"row_heading level0 row1\" >mean</th>\n",
       "      <td id=\"T_d2c44_row1_col0\" class=\"data row1 col0\" >43878.016178</td>\n",
       "    </tr>\n",
       "    <tr>\n",
       "      <th id=\"T_d2c44_level0_row2\" class=\"row_heading level0 row2\" >std</th>\n",
       "      <td id=\"T_d2c44_row2_col0\" class=\"data row2 col0\" >78819.522254</td>\n",
       "    </tr>\n",
       "    <tr>\n",
       "      <th id=\"T_d2c44_level0_row3\" class=\"row_heading level0 row3\" >min</th>\n",
       "      <td id=\"T_d2c44_row3_col0\" class=\"data row3 col0\" >2000.000000</td>\n",
       "    </tr>\n",
       "    <tr>\n",
       "      <th id=\"T_d2c44_level0_row4\" class=\"row_heading level0 row4\" >25%</th>\n",
       "      <td id=\"T_d2c44_row4_col0\" class=\"data row4 col0\" >17000.000000</td>\n",
       "    </tr>\n",
       "    <tr>\n",
       "      <th id=\"T_d2c44_level0_row5\" class=\"row_heading level0 row5\" >50%</th>\n",
       "      <td id=\"T_d2c44_row5_col0\" class=\"data row5 col0\" >30825.000000</td>\n",
       "    </tr>\n",
       "    <tr>\n",
       "      <th id=\"T_d2c44_level0_row6\" class=\"row_heading level0 row6\" >75%</th>\n",
       "      <td id=\"T_d2c44_row6_col0\" class=\"data row6 col0\" >49900.000000</td>\n",
       "    </tr>\n",
       "    <tr>\n",
       "      <th id=\"T_d2c44_level0_row7\" class=\"row_heading level0 row7\" >max</th>\n",
       "      <td id=\"T_d2c44_row7_col0\" class=\"data row7 col0\" >2954083.000000</td>\n",
       "    </tr>\n",
       "  </tbody>\n",
       "</table>\n"
      ],
      "text/plain": [
       "<pandas.io.formats.style.Styler at 0x2c2afe14ed0>"
      ]
     },
     "metadata": {},
     "output_type": "display_data"
    },
    {
     "name": "stdout",
     "output_type": "stream",
     "text": [
      "********************  price outliers  ********************\n",
      "IQR : 32900.0\n",
      "****** Upper Outliers ******\n",
      "Upper outlier count: 46858\n"
     ]
    },
    {
     "data": {
      "text/html": [
       "<div>\n",
       "<style scoped>\n",
       "    .dataframe tbody tr th:only-of-type {\n",
       "        vertical-align: middle;\n",
       "    }\n",
       "\n",
       "    .dataframe tbody tr th {\n",
       "        vertical-align: top;\n",
       "    }\n",
       "\n",
       "    .dataframe thead th {\n",
       "        text-align: right;\n",
       "    }\n",
       "</style>\n",
       "<table border=\"1\" class=\"dataframe\">\n",
       "  <thead>\n",
       "    <tr style=\"text-align: right;\">\n",
       "      <th></th>\n",
       "      <th>id</th>\n",
       "      <th>brand</th>\n",
       "      <th>model</th>\n",
       "      <th>model_year</th>\n",
       "      <th>milage</th>\n",
       "      <th>fuel_type</th>\n",
       "      <th>engine</th>\n",
       "      <th>transmission</th>\n",
       "      <th>ext_col</th>\n",
       "      <th>int_col</th>\n",
       "      <th>accident</th>\n",
       "      <th>clean_title</th>\n",
       "      <th>price</th>\n",
       "    </tr>\n",
       "  </thead>\n",
       "  <tbody>\n",
       "    <tr>\n",
       "      <th>4</th>\n",
       "      <td>4</td>\n",
       "      <td>Mercedes-Benz</td>\n",
       "      <td>Metris Base</td>\n",
       "      <td>2021</td>\n",
       "      <td>7388</td>\n",
       "      <td>Gasoline</td>\n",
       "      <td>208.0HP 2.0L 4 Cylinder Engine Gasoline Fuel</td>\n",
       "      <td>7-Speed A/T</td>\n",
       "      <td>Black</td>\n",
       "      <td>Beige</td>\n",
       "      <td>None reported</td>\n",
       "      <td>Yes</td>\n",
       "      <td>97500</td>\n",
       "    </tr>\n",
       "    <tr>\n",
       "      <th>8</th>\n",
       "      <td>8</td>\n",
       "      <td>Ford</td>\n",
       "      <td>F-150 XLT</td>\n",
       "      <td>2020</td>\n",
       "      <td>38352</td>\n",
       "      <td>Gasoline</td>\n",
       "      <td>2.7L V6 24V PDI DOHC Twin Turbo</td>\n",
       "      <td>10-Speed Automatic</td>\n",
       "      <td>Snowflake White Pearl Metallic</td>\n",
       "      <td>Black</td>\n",
       "      <td>None reported</td>\n",
       "      <td>Yes</td>\n",
       "      <td>62890</td>\n",
       "    </tr>\n",
       "    <tr>\n",
       "      <th>12</th>\n",
       "      <td>12</td>\n",
       "      <td>Cadillac</td>\n",
       "      <td>Escalade ESV Platinum</td>\n",
       "      <td>2017</td>\n",
       "      <td>93971</td>\n",
       "      <td>Gasoline</td>\n",
       "      <td>420.0HP 6.2L 8 Cylinder Engine Gasoline Fuel</td>\n",
       "      <td>6-Speed A/T</td>\n",
       "      <td>White</td>\n",
       "      <td>Black</td>\n",
       "      <td>None reported</td>\n",
       "      <td>Yes</td>\n",
       "      <td>51500</td>\n",
       "    </tr>\n",
       "  </tbody>\n",
       "</table>\n",
       "</div>"
      ],
      "text/plain": [
       "    id          brand                  model  model_year  milage fuel_type  \\\n",
       "4    4  Mercedes-Benz            Metris Base        2021    7388  Gasoline   \n",
       "8    8           Ford              F-150 XLT        2020   38352  Gasoline   \n",
       "12  12       Cadillac  Escalade ESV Platinum        2017   93971  Gasoline   \n",
       "\n",
       "                                          engine        transmission  \\\n",
       "4   208.0HP 2.0L 4 Cylinder Engine Gasoline Fuel         7-Speed A/T   \n",
       "8                2.7L V6 24V PDI DOHC Twin Turbo  10-Speed Automatic   \n",
       "12  420.0HP 6.2L 8 Cylinder Engine Gasoline Fuel         6-Speed A/T   \n",
       "\n",
       "                           ext_col int_col       accident clean_title  price  \n",
       "4                            Black   Beige  None reported         Yes  97500  \n",
       "8   Snowflake White Pearl Metallic   Black  None reported         Yes  62890  \n",
       "12                           White   Black  None reported         Yes  51500  "
      ]
     },
     "metadata": {},
     "output_type": "display_data"
    },
    {
     "name": "stdout",
     "output_type": "stream",
     "text": [
      "****** Lower Outliers ******\n",
      "Lower outlier count: 46816\n"
     ]
    },
    {
     "data": {
      "text/html": [
       "<div>\n",
       "<style scoped>\n",
       "    .dataframe tbody tr th:only-of-type {\n",
       "        vertical-align: middle;\n",
       "    }\n",
       "\n",
       "    .dataframe tbody tr th {\n",
       "        vertical-align: top;\n",
       "    }\n",
       "\n",
       "    .dataframe thead th {\n",
       "        text-align: right;\n",
       "    }\n",
       "</style>\n",
       "<table border=\"1\" class=\"dataframe\">\n",
       "  <thead>\n",
       "    <tr style=\"text-align: right;\">\n",
       "      <th></th>\n",
       "      <th>id</th>\n",
       "      <th>brand</th>\n",
       "      <th>model</th>\n",
       "      <th>model_year</th>\n",
       "      <th>milage</th>\n",
       "      <th>fuel_type</th>\n",
       "      <th>engine</th>\n",
       "      <th>transmission</th>\n",
       "      <th>ext_col</th>\n",
       "      <th>int_col</th>\n",
       "      <th>accident</th>\n",
       "      <th>clean_title</th>\n",
       "      <th>price</th>\n",
       "    </tr>\n",
       "  </thead>\n",
       "  <tbody>\n",
       "    <tr>\n",
       "      <th>0</th>\n",
       "      <td>0</td>\n",
       "      <td>MINI</td>\n",
       "      <td>Cooper S Base</td>\n",
       "      <td>2007</td>\n",
       "      <td>213000</td>\n",
       "      <td>Gasoline</td>\n",
       "      <td>172.0HP 1.6L 4 Cylinder Engine Gasoline Fuel</td>\n",
       "      <td>A/T</td>\n",
       "      <td>Yellow</td>\n",
       "      <td>Gray</td>\n",
       "      <td>None reported</td>\n",
       "      <td>Yes</td>\n",
       "      <td>4200</td>\n",
       "    </tr>\n",
       "    <tr>\n",
       "      <th>1</th>\n",
       "      <td>1</td>\n",
       "      <td>Lincoln</td>\n",
       "      <td>LS V8</td>\n",
       "      <td>2002</td>\n",
       "      <td>143250</td>\n",
       "      <td>Gasoline</td>\n",
       "      <td>252.0HP 3.9L 8 Cylinder Engine Gasoline Fuel</td>\n",
       "      <td>A/T</td>\n",
       "      <td>Silver</td>\n",
       "      <td>Beige</td>\n",
       "      <td>At least 1 accident or damage reported</td>\n",
       "      <td>Yes</td>\n",
       "      <td>4999</td>\n",
       "    </tr>\n",
       "    <tr>\n",
       "      <th>2</th>\n",
       "      <td>2</td>\n",
       "      <td>Chevrolet</td>\n",
       "      <td>Silverado 2500 LT</td>\n",
       "      <td>2002</td>\n",
       "      <td>136731</td>\n",
       "      <td>E85 Flex Fuel</td>\n",
       "      <td>320.0HP 5.3L 8 Cylinder Engine Flex Fuel Capab...</td>\n",
       "      <td>A/T</td>\n",
       "      <td>Blue</td>\n",
       "      <td>Gray</td>\n",
       "      <td>None reported</td>\n",
       "      <td>Yes</td>\n",
       "      <td>13900</td>\n",
       "    </tr>\n",
       "  </tbody>\n",
       "</table>\n",
       "</div>"
      ],
      "text/plain": [
       "   id      brand              model  model_year  milage      fuel_type  \\\n",
       "0   0       MINI      Cooper S Base        2007  213000       Gasoline   \n",
       "1   1    Lincoln              LS V8        2002  143250       Gasoline   \n",
       "2   2  Chevrolet  Silverado 2500 LT        2002  136731  E85 Flex Fuel   \n",
       "\n",
       "                                              engine transmission ext_col  \\\n",
       "0       172.0HP 1.6L 4 Cylinder Engine Gasoline Fuel          A/T  Yellow   \n",
       "1       252.0HP 3.9L 8 Cylinder Engine Gasoline Fuel          A/T  Silver   \n",
       "2  320.0HP 5.3L 8 Cylinder Engine Flex Fuel Capab...          A/T    Blue   \n",
       "\n",
       "  int_col                                accident clean_title  price  \n",
       "0    Gray                           None reported         Yes   4200  \n",
       "1   Beige  At least 1 accident or damage reported         Yes   4999  \n",
       "2    Gray                           None reported         Yes  13900  "
      ]
     },
     "metadata": {},
     "output_type": "display_data"
    },
    {
     "name": "stdout",
     "output_type": "stream",
     "text": [
      "\n",
      "\n",
      "\n",
      "\n"
     ]
    }
   ],
   "source": [
    "for col in num_cols_for_analysis:\n",
    "    num_analysis(df,col)"
   ]
  },
  {
   "cell_type": "markdown",
   "id": "96b99782",
   "metadata": {},
   "source": [
    "# Univariate analysis - Categorical Features\n",
    "- Value counts\n",
    "- Unique values\n",
    "- Bar chart"
   ]
  },
  {
   "cell_type": "code",
   "execution_count": 41,
   "id": "48eaef69",
   "metadata": {},
   "outputs": [],
   "source": [
    "def categorical_analysis(df,col):\n",
    "    print(f\"****************************** {col} analysis ******************************\")\n",
    "    \n",
    "    print(f\"Number of Unique Values: {df[col].nunique()}\")\n",
    "    if df[col].nunique() < 10:\n",
    "        fig = plt.Figure(figsize=(10,5))\n",
    "        plt.xticks(rotation=45)\n",
    "        plt.title(\"Value Distribution\")\n",
    "        sns.histplot(data=df,x=col)\n",
    "        plt.tight_layout()\n",
    "        plt.show()\n",
    "    else:\n",
    "        print(f\"Top values for {col}\")\n",
    "        display(df[col].value_counts().reset_index().head(5))\n",
    "\n",
    "    print(\"\")\n",
    "    print(\"\")"
   ]
  },
  {
   "cell_type": "code",
   "execution_count": 42,
   "id": "bc49d0c5",
   "metadata": {},
   "outputs": [
    {
     "name": "stdout",
     "output_type": "stream",
     "text": [
      "****************************** brand analysis ******************************\n",
      "Number of Unique Values: 57\n",
      "Top values for brand\n"
     ]
    },
    {
     "data": {
      "text/html": [
       "<div>\n",
       "<style scoped>\n",
       "    .dataframe tbody tr th:only-of-type {\n",
       "        vertical-align: middle;\n",
       "    }\n",
       "\n",
       "    .dataframe tbody tr th {\n",
       "        vertical-align: top;\n",
       "    }\n",
       "\n",
       "    .dataframe thead th {\n",
       "        text-align: right;\n",
       "    }\n",
       "</style>\n",
       "<table border=\"1\" class=\"dataframe\">\n",
       "  <thead>\n",
       "    <tr style=\"text-align: right;\">\n",
       "      <th></th>\n",
       "      <th>brand</th>\n",
       "      <th>count</th>\n",
       "    </tr>\n",
       "  </thead>\n",
       "  <tbody>\n",
       "    <tr>\n",
       "      <th>0</th>\n",
       "      <td>Ford</td>\n",
       "      <td>23088</td>\n",
       "    </tr>\n",
       "    <tr>\n",
       "      <th>1</th>\n",
       "      <td>Mercedes-Benz</td>\n",
       "      <td>19172</td>\n",
       "    </tr>\n",
       "    <tr>\n",
       "      <th>2</th>\n",
       "      <td>BMW</td>\n",
       "      <td>17028</td>\n",
       "    </tr>\n",
       "    <tr>\n",
       "      <th>3</th>\n",
       "      <td>Chevrolet</td>\n",
       "      <td>16335</td>\n",
       "    </tr>\n",
       "    <tr>\n",
       "      <th>4</th>\n",
       "      <td>Audi</td>\n",
       "      <td>10887</td>\n",
       "    </tr>\n",
       "  </tbody>\n",
       "</table>\n",
       "</div>"
      ],
      "text/plain": [
       "           brand  count\n",
       "0           Ford  23088\n",
       "1  Mercedes-Benz  19172\n",
       "2            BMW  17028\n",
       "3      Chevrolet  16335\n",
       "4           Audi  10887"
      ]
     },
     "metadata": {},
     "output_type": "display_data"
    },
    {
     "name": "stdout",
     "output_type": "stream",
     "text": [
      "\n",
      "\n",
      "****************************** model analysis ******************************\n",
      "Number of Unique Values: 1897\n",
      "Top values for model\n"
     ]
    },
    {
     "data": {
      "text/html": [
       "<div>\n",
       "<style scoped>\n",
       "    .dataframe tbody tr th:only-of-type {\n",
       "        vertical-align: middle;\n",
       "    }\n",
       "\n",
       "    .dataframe tbody tr th {\n",
       "        vertical-align: top;\n",
       "    }\n",
       "\n",
       "    .dataframe thead th {\n",
       "        text-align: right;\n",
       "    }\n",
       "</style>\n",
       "<table border=\"1\" class=\"dataframe\">\n",
       "  <thead>\n",
       "    <tr style=\"text-align: right;\">\n",
       "      <th></th>\n",
       "      <th>model</th>\n",
       "      <th>count</th>\n",
       "    </tr>\n",
       "  </thead>\n",
       "  <tbody>\n",
       "    <tr>\n",
       "      <th>0</th>\n",
       "      <td>F-150 XLT</td>\n",
       "      <td>2945</td>\n",
       "    </tr>\n",
       "    <tr>\n",
       "      <th>1</th>\n",
       "      <td>M3 Base</td>\n",
       "      <td>2229</td>\n",
       "    </tr>\n",
       "    <tr>\n",
       "      <th>2</th>\n",
       "      <td>Camaro 2SS</td>\n",
       "      <td>1709</td>\n",
       "    </tr>\n",
       "    <tr>\n",
       "      <th>3</th>\n",
       "      <td>M4 Base</td>\n",
       "      <td>1622</td>\n",
       "    </tr>\n",
       "    <tr>\n",
       "      <th>4</th>\n",
       "      <td>Mustang GT Premium</td>\n",
       "      <td>1526</td>\n",
       "    </tr>\n",
       "  </tbody>\n",
       "</table>\n",
       "</div>"
      ],
      "text/plain": [
       "                model  count\n",
       "0           F-150 XLT   2945\n",
       "1             M3 Base   2229\n",
       "2          Camaro 2SS   1709\n",
       "3             M4 Base   1622\n",
       "4  Mustang GT Premium   1526"
      ]
     },
     "metadata": {},
     "output_type": "display_data"
    },
    {
     "name": "stdout",
     "output_type": "stream",
     "text": [
      "\n",
      "\n",
      "****************************** fuel_type analysis ******************************\n",
      "Number of Unique Values: 7\n"
     ]
    },
    {
     "data": {
      "image/png": "[encoded data removed]",
      "text/plain": [
       "<Figure size 640x480 with 1 Axes>"
      ]
     },
     "metadata": {},
     "output_type": "display_data"
    },
    {
     "name": "stdout",
     "output_type": "stream",
     "text": [
      "\n",
      "\n",
      "****************************** engine analysis ******************************\n",
      "Number of Unique Values: 1117\n",
      "Top values for engine\n"
     ]
    },
    {
     "data": {
      "text/html": [
       "<div>\n",
       "<style scoped>\n",
       "    .dataframe tbody tr th:only-of-type {\n",
       "        vertical-align: middle;\n",
       "    }\n",
       "\n",
       "    .dataframe tbody tr th {\n",
       "        vertical-align: top;\n",
       "    }\n",
       "\n",
       "    .dataframe thead th {\n",
       "        text-align: right;\n",
       "    }\n",
       "</style>\n",
       "<table border=\"1\" class=\"dataframe\">\n",
       "  <thead>\n",
       "    <tr style=\"text-align: right;\">\n",
       "      <th></th>\n",
       "      <th>engine</th>\n",
       "      <th>count</th>\n",
       "    </tr>\n",
       "  </thead>\n",
       "  <tbody>\n",
       "    <tr>\n",
       "      <th>0</th>\n",
       "      <td>355.0HP 5.3L 8 Cylinder Engine Gasoline Fuel</td>\n",
       "      <td>3462</td>\n",
       "    </tr>\n",
       "    <tr>\n",
       "      <th>1</th>\n",
       "      <td>240.0HP 2.0L 4 Cylinder Engine Gasoline Fuel</td>\n",
       "      <td>2902</td>\n",
       "    </tr>\n",
       "    <tr>\n",
       "      <th>2</th>\n",
       "      <td>420.0HP 6.2L 8 Cylinder Engine Gasoline Fuel</td>\n",
       "      <td>2841</td>\n",
       "    </tr>\n",
       "    <tr>\n",
       "      <th>3</th>\n",
       "      <td>2.0L I4 16V GDI DOHC Turbo</td>\n",
       "      <td>2680</td>\n",
       "    </tr>\n",
       "    <tr>\n",
       "      <th>4</th>\n",
       "      <td>375.0HP 3.5L V6 Cylinder Engine Gasoline Fuel</td>\n",
       "      <td>2451</td>\n",
       "    </tr>\n",
       "  </tbody>\n",
       "</table>\n",
       "</div>"
      ],
      "text/plain": [
       "                                          engine  count\n",
       "0   355.0HP 5.3L 8 Cylinder Engine Gasoline Fuel   3462\n",
       "1   240.0HP 2.0L 4 Cylinder Engine Gasoline Fuel   2902\n",
       "2   420.0HP 6.2L 8 Cylinder Engine Gasoline Fuel   2841\n",
       "3                     2.0L I4 16V GDI DOHC Turbo   2680\n",
       "4  375.0HP 3.5L V6 Cylinder Engine Gasoline Fuel   2451"
      ]
     },
     "metadata": {},
     "output_type": "display_data"
    },
    {
     "name": "stdout",
     "output_type": "stream",
     "text": [
      "\n",
      "\n",
      "****************************** transmission analysis ******************************\n",
      "Number of Unique Values: 52\n",
      "Top values for transmission\n"
     ]
    },
    {
     "data": {
      "text/html": [
       "<div>\n",
       "<style scoped>\n",
       "    .dataframe tbody tr th:only-of-type {\n",
       "        vertical-align: middle;\n",
       "    }\n",
       "\n",
       "    .dataframe tbody tr th {\n",
       "        vertical-align: top;\n",
       "    }\n",
       "\n",
       "    .dataframe thead th {\n",
       "        text-align: right;\n",
       "    }\n",
       "</style>\n",
       "<table border=\"1\" class=\"dataframe\">\n",
       "  <thead>\n",
       "    <tr style=\"text-align: right;\">\n",
       "      <th></th>\n",
       "      <th>transmission</th>\n",
       "      <th>count</th>\n",
       "    </tr>\n",
       "  </thead>\n",
       "  <tbody>\n",
       "    <tr>\n",
       "      <th>0</th>\n",
       "      <td>A/T</td>\n",
       "      <td>49904</td>\n",
       "    </tr>\n",
       "    <tr>\n",
       "      <th>1</th>\n",
       "      <td>8-Speed A/T</td>\n",
       "      <td>20645</td>\n",
       "    </tr>\n",
       "    <tr>\n",
       "      <th>2</th>\n",
       "      <td>Transmission w/Dual Shift Mode</td>\n",
       "      <td>19255</td>\n",
       "    </tr>\n",
       "    <tr>\n",
       "      <th>3</th>\n",
       "      <td>6-Speed A/T</td>\n",
       "      <td>18044</td>\n",
       "    </tr>\n",
       "    <tr>\n",
       "      <th>4</th>\n",
       "      <td>6-Speed M/T</td>\n",
       "      <td>11998</td>\n",
       "    </tr>\n",
       "  </tbody>\n",
       "</table>\n",
       "</div>"
      ],
      "text/plain": [
       "                     transmission  count\n",
       "0                             A/T  49904\n",
       "1                     8-Speed A/T  20645\n",
       "2  Transmission w/Dual Shift Mode  19255\n",
       "3                     6-Speed A/T  18044\n",
       "4                     6-Speed M/T  11998"
      ]
     },
     "metadata": {},
     "output_type": "display_data"
    },
    {
     "name": "stdout",
     "output_type": "stream",
     "text": [
      "\n",
      "\n",
      "****************************** ext_col analysis ******************************\n",
      "Number of Unique Values: 319\n",
      "Top values for ext_col\n"
     ]
    },
    {
     "data": {
      "text/html": [
       "<div>\n",
       "<style scoped>\n",
       "    .dataframe tbody tr th:only-of-type {\n",
       "        vertical-align: middle;\n",
       "    }\n",
       "\n",
       "    .dataframe tbody tr th {\n",
       "        vertical-align: top;\n",
       "    }\n",
       "\n",
       "    .dataframe thead th {\n",
       "        text-align: right;\n",
       "    }\n",
       "</style>\n",
       "<table border=\"1\" class=\"dataframe\">\n",
       "  <thead>\n",
       "    <tr style=\"text-align: right;\">\n",
       "      <th></th>\n",
       "      <th>ext_col</th>\n",
       "      <th>count</th>\n",
       "    </tr>\n",
       "  </thead>\n",
       "  <tbody>\n",
       "    <tr>\n",
       "      <th>0</th>\n",
       "      <td>Black</td>\n",
       "      <td>48658</td>\n",
       "    </tr>\n",
       "    <tr>\n",
       "      <th>1</th>\n",
       "      <td>White</td>\n",
       "      <td>43815</td>\n",
       "    </tr>\n",
       "    <tr>\n",
       "      <th>2</th>\n",
       "      <td>Gray</td>\n",
       "      <td>25293</td>\n",
       "    </tr>\n",
       "    <tr>\n",
       "      <th>3</th>\n",
       "      <td>Silver</td>\n",
       "      <td>16995</td>\n",
       "    </tr>\n",
       "    <tr>\n",
       "      <th>4</th>\n",
       "      <td>Blue</td>\n",
       "      <td>14555</td>\n",
       "    </tr>\n",
       "  </tbody>\n",
       "</table>\n",
       "</div>"
      ],
      "text/plain": [
       "  ext_col  count\n",
       "0   Black  48658\n",
       "1   White  43815\n",
       "2    Gray  25293\n",
       "3  Silver  16995\n",
       "4    Blue  14555"
      ]
     },
     "metadata": {},
     "output_type": "display_data"
    },
    {
     "name": "stdout",
     "output_type": "stream",
     "text": [
      "\n",
      "\n",
      "****************************** int_col analysis ******************************\n",
      "Number of Unique Values: 156\n",
      "Top values for int_col\n"
     ]
    },
    {
     "data": {
      "text/html": [
       "<div>\n",
       "<style scoped>\n",
       "    .dataframe tbody tr th:only-of-type {\n",
       "        vertical-align: middle;\n",
       "    }\n",
       "\n",
       "    .dataframe tbody tr th {\n",
       "        vertical-align: top;\n",
       "    }\n",
       "\n",
       "    .dataframe thead th {\n",
       "        text-align: right;\n",
       "    }\n",
       "</style>\n",
       "<table border=\"1\" class=\"dataframe\">\n",
       "  <thead>\n",
       "    <tr style=\"text-align: right;\">\n",
       "      <th></th>\n",
       "      <th>int_col</th>\n",
       "      <th>count</th>\n",
       "    </tr>\n",
       "  </thead>\n",
       "  <tbody>\n",
       "    <tr>\n",
       "      <th>0</th>\n",
       "      <td>Black</td>\n",
       "      <td>107674</td>\n",
       "    </tr>\n",
       "    <tr>\n",
       "      <th>1</th>\n",
       "      <td>Beige</td>\n",
       "      <td>24495</td>\n",
       "    </tr>\n",
       "    <tr>\n",
       "      <th>2</th>\n",
       "      <td>Gray</td>\n",
       "      <td>21204</td>\n",
       "    </tr>\n",
       "    <tr>\n",
       "      <th>3</th>\n",
       "      <td>Brown</td>\n",
       "      <td>5810</td>\n",
       "    </tr>\n",
       "    <tr>\n",
       "      <th>4</th>\n",
       "      <td>Red</td>\n",
       "      <td>5145</td>\n",
       "    </tr>\n",
       "  </tbody>\n",
       "</table>\n",
       "</div>"
      ],
      "text/plain": [
       "  int_col   count\n",
       "0   Black  107674\n",
       "1   Beige   24495\n",
       "2    Gray   21204\n",
       "3   Brown    5810\n",
       "4     Red    5145"
      ]
     },
     "metadata": {},
     "output_type": "display_data"
    },
    {
     "name": "stdout",
     "output_type": "stream",
     "text": [
      "\n",
      "\n",
      "****************************** accident analysis ******************************\n",
      "Number of Unique Values: 2\n"
     ]
    },
    {
     "data": {
      "image/png": "[encoded data removed]",
      "text/plain": [
       "<Figure size 640x480 with 1 Axes>"
      ]
     },
     "metadata": {},
     "output_type": "display_data"
    },
    {
     "name": "stdout",
     "output_type": "stream",
     "text": [
      "\n",
      "\n",
      "****************************** clean_title analysis ******************************\n",
      "Number of Unique Values: 1\n"
     ]
    },
    {
     "data": {
      "image/png": "[encoded data removed]",
      "text/plain": [
       "<Figure size 640x480 with 1 Axes>"
      ]
     },
     "metadata": {},
     "output_type": "display_data"
    },
    {
     "name": "stdout",
     "output_type": "stream",
     "text": [
      "\n",
      "\n"
     ]
    }
   ],
   "source": [
    "for col in cat_cols:\n",
    "    categorical_analysis(df,col)"
   ]
  },
  {
   "cell_type": "markdown",
   "id": "c8e59f16",
   "metadata": {},
   "source": [
    "# Observations \n",
    "- Clean_title can be removed as there is only one value \n",
    "- There are many unique values for engine, transmission, interior/exterior colours, model and brand"
   ]
  },
  {
   "cell_type": "code",
   "execution_count": 43,
   "id": "4488af38",
   "metadata": {},
   "outputs": [
    {
     "data": {
      "text/plain": [
       "Index(['id', 'brand', 'model', 'model_year', 'milage', 'fuel_type', 'engine',\n",
       "       'transmission', 'ext_col', 'int_col', 'accident', 'clean_title',\n",
       "       'price'],\n",
       "      dtype='object')"
      ]
     },
     "execution_count": 43,
     "metadata": {},
     "output_type": "execute_result"
    }
   ],
   "source": [
    "df.columns"
   ]
  },
  {
   "cell_type": "markdown",
   "id": "040f3aba",
   "metadata": {},
   "source": [
    "Multivariate Analysis:\n",
    "1. Which brands make the most money? \n",
    "2. Do interior and exterior colour affect the price? \n",
    "3. How does fuel type correlate with price?\n",
    "4. How does a vehicle in an accident affect the price?\n",
    "5. Does the milage affect the price?\n",
    "6. Do specific brands tend to create cars of a particular fuel type?\n",
    "7. How does the age of the car affect the price?\n"
   ]
  },
  {
   "cell_type": "code",
   "execution_count": 44,
   "id": "8a98f413",
   "metadata": {},
   "outputs": [
    {
     "data": {
      "text/plain": [
       "<Axes: title={'center': 'Most Expensive Brands'}, xlabel='brand', ylabel='price'>"
      ]
     },
     "execution_count": 44,
     "metadata": {},
     "output_type": "execute_result"
    },
    {
     "data": {
      "image/png": "[encoded data removed]",
      "text/plain": [
       "<Figure size 640x480 with 1 Axes>"
      ]
     },
     "metadata": {},
     "output_type": "display_data"
    }
   ],
   "source": [
    "# Which brands make the most money?\n",
    "\n",
    "df_brands = df.groupby(by='brand')['price'].mean().head(10).sort_values().reset_index()\n",
    "plt.Figure(figsize=(10,10))\n",
    "plt.title(\"Most Expensive Brands\")\n",
    "plt.xticks(rotation = 45)\n",
    "sns.barplot(data=df_brands,x='brand',y='price')"
   ]
  },
  {
   "cell_type": "code",
   "execution_count": 45,
   "id": "f47192ee",
   "metadata": {},
   "outputs": [
    {
     "data": {
      "image/png": "[encoded data removed]",
      "text/plain": [
       "<Figure size 640x480 with 1 Axes>"
      ]
     },
     "metadata": {},
     "output_type": "display_data"
    }
   ],
   "source": [
    "# Do interior or exterior colours affect the price?\n",
    "\n",
    "top_int_colors = df['int_col'].value_counts().nlargest(10).index\n",
    "int_col_filtered = df[df['int_col'].isin(top_int_colors)]\n",
    "\n",
    "plt.Figure(figsize=(12,6))\n",
    "sns.boxplot(data=int_col_filtered,y='int_col',x='price')\n",
    "plt.title('Interior Colour vs Price')\n",
    "plt.tight_layout()\n",
    "plt.show()"
   ]
  },
  {
   "cell_type": "code",
   "execution_count": 46,
   "id": "3fbdadab",
   "metadata": {},
   "outputs": [
    {
     "data": {
      "image/png": "[encoded data removed]",
      "text/plain": [
       "<Figure size 640x480 with 1 Axes>"
      ]
     },
     "metadata": {},
     "output_type": "display_data"
    }
   ],
   "source": [
    "top_ext_colors = df['ext_col'].value_counts().nlargest(10).index\n",
    "ext_col_filtered = df[df['ext_col'].isin(top_int_colors)]\n",
    "\n",
    "plt.Figure(figsize=(12,6))\n",
    "sns.boxplot(data=ext_col_filtered,y='ext_col',x='price')\n",
    "plt.title('Exterior Colour vs Price')\n",
    "plt.tight_layout()\n",
    "plt.show()"
   ]
  },
  {
   "cell_type": "code",
   "execution_count": 47,
   "id": "95510ec4",
   "metadata": {},
   "outputs": [
    {
     "data": {
      "text/html": [
       "<div>\n",
       "<style scoped>\n",
       "    .dataframe tbody tr th:only-of-type {\n",
       "        vertical-align: middle;\n",
       "    }\n",
       "\n",
       "    .dataframe tbody tr th {\n",
       "        vertical-align: top;\n",
       "    }\n",
       "\n",
       "    .dataframe thead th {\n",
       "        text-align: right;\n",
       "    }\n",
       "</style>\n",
       "<table border=\"1\" class=\"dataframe\">\n",
       "  <thead>\n",
       "    <tr style=\"text-align: right;\">\n",
       "      <th></th>\n",
       "      <th>int_col</th>\n",
       "      <th>mean</th>\n",
       "      <th>count</th>\n",
       "    </tr>\n",
       "  </thead>\n",
       "  <tbody>\n",
       "    <tr>\n",
       "      <th>0</th>\n",
       "      <td>Dark Auburn</td>\n",
       "      <td>268591.333333</td>\n",
       "      <td>15</td>\n",
       "    </tr>\n",
       "    <tr>\n",
       "      <th>1</th>\n",
       "      <td>Hotspur</td>\n",
       "      <td>257780.844444</td>\n",
       "      <td>45</td>\n",
       "    </tr>\n",
       "    <tr>\n",
       "      <th>2</th>\n",
       "      <td>Cobalt Blue</td>\n",
       "      <td>249600.666667</td>\n",
       "      <td>6</td>\n",
       "    </tr>\n",
       "    <tr>\n",
       "      <th>3</th>\n",
       "      <td>Beluga Hide</td>\n",
       "      <td>233563.625000</td>\n",
       "      <td>48</td>\n",
       "    </tr>\n",
       "    <tr>\n",
       "      <th>4</th>\n",
       "      <td>Linen</td>\n",
       "      <td>224166.555556</td>\n",
       "      <td>27</td>\n",
       "    </tr>\n",
       "    <tr>\n",
       "      <th>5</th>\n",
       "      <td>Beluga</td>\n",
       "      <td>205607.200000</td>\n",
       "      <td>10</td>\n",
       "    </tr>\n",
       "    <tr>\n",
       "      <th>6</th>\n",
       "      <td>Black / Brown</td>\n",
       "      <td>203085.638889</td>\n",
       "      <td>36</td>\n",
       "    </tr>\n",
       "    <tr>\n",
       "      <th>7</th>\n",
       "      <td>Nero Ade</td>\n",
       "      <td>186171.642674</td>\n",
       "      <td>389</td>\n",
       "    </tr>\n",
       "    <tr>\n",
       "      <th>8</th>\n",
       "      <td>Sahara Tan</td>\n",
       "      <td>182831.516129</td>\n",
       "      <td>31</td>\n",
       "    </tr>\n",
       "    <tr>\n",
       "      <th>9</th>\n",
       "      <td>Portland</td>\n",
       "      <td>174865.392157</td>\n",
       "      <td>51</td>\n",
       "    </tr>\n",
       "  </tbody>\n",
       "</table>\n",
       "</div>"
      ],
      "text/plain": [
       "         int_col           mean  count\n",
       "0    Dark Auburn  268591.333333     15\n",
       "1        Hotspur  257780.844444     45\n",
       "2    Cobalt Blue  249600.666667      6\n",
       "3    Beluga Hide  233563.625000     48\n",
       "4          Linen  224166.555556     27\n",
       "5         Beluga  205607.200000     10\n",
       "6  Black / Brown  203085.638889     36\n",
       "7       Nero Ade  186171.642674    389\n",
       "8     Sahara Tan  182831.516129     31\n",
       "9       Portland  174865.392157     51"
      ]
     },
     "metadata": {},
     "output_type": "display_data"
    }
   ],
   "source": [
    "# Most popular interior colours \n",
    "display(df.groupby('int_col')['price'].agg(['mean','count']).sort_values(by='mean',ascending=False).head(10).reset_index())"
   ]
  },
  {
   "cell_type": "code",
   "execution_count": 48,
   "id": "b6395b1b",
   "metadata": {},
   "outputs": [
    {
     "data": {
      "text/html": [
       "<div>\n",
       "<style scoped>\n",
       "    .dataframe tbody tr th:only-of-type {\n",
       "        vertical-align: middle;\n",
       "    }\n",
       "\n",
       "    .dataframe tbody tr th {\n",
       "        vertical-align: top;\n",
       "    }\n",
       "\n",
       "    .dataframe thead th {\n",
       "        text-align: right;\n",
       "    }\n",
       "</style>\n",
       "<table border=\"1\" class=\"dataframe\">\n",
       "  <thead>\n",
       "    <tr style=\"text-align: right;\">\n",
       "      <th></th>\n",
       "      <th>ext_col</th>\n",
       "      <th>mean</th>\n",
       "      <th>count</th>\n",
       "    </tr>\n",
       "  </thead>\n",
       "  <tbody>\n",
       "    <tr>\n",
       "      <th>0</th>\n",
       "      <td>Blue Caelum</td>\n",
       "      <td>396263.600000</td>\n",
       "      <td>5</td>\n",
       "    </tr>\n",
       "    <tr>\n",
       "      <th>1</th>\n",
       "      <td>Dark Sapphire</td>\n",
       "      <td>355541.454545</td>\n",
       "      <td>11</td>\n",
       "    </tr>\n",
       "    <tr>\n",
       "      <th>2</th>\n",
       "      <td>Bianco Monocerus</td>\n",
       "      <td>300063.076923</td>\n",
       "      <td>13</td>\n",
       "    </tr>\n",
       "    <tr>\n",
       "      <th>3</th>\n",
       "      <td>C / C</td>\n",
       "      <td>292528.088235</td>\n",
       "      <td>34</td>\n",
       "    </tr>\n",
       "    <tr>\n",
       "      <th>4</th>\n",
       "      <td>Ice</td>\n",
       "      <td>288203.272727</td>\n",
       "      <td>33</td>\n",
       "    </tr>\n",
       "    <tr>\n",
       "      <th>5</th>\n",
       "      <td>Tempest</td>\n",
       "      <td>261495.750000</td>\n",
       "      <td>8</td>\n",
       "    </tr>\n",
       "    <tr>\n",
       "      <th>6</th>\n",
       "      <td>Beluga Black</td>\n",
       "      <td>222964.363636</td>\n",
       "      <td>77</td>\n",
       "    </tr>\n",
       "    <tr>\n",
       "      <th>7</th>\n",
       "      <td>Bianco Icarus Metallic</td>\n",
       "      <td>221547.277778</td>\n",
       "      <td>72</td>\n",
       "    </tr>\n",
       "    <tr>\n",
       "      <th>8</th>\n",
       "      <td>GT SILVER</td>\n",
       "      <td>214287.200000</td>\n",
       "      <td>5</td>\n",
       "    </tr>\n",
       "    <tr>\n",
       "      <th>9</th>\n",
       "      <td>BLU ELEOS</td>\n",
       "      <td>206435.000000</td>\n",
       "      <td>8</td>\n",
       "    </tr>\n",
       "  </tbody>\n",
       "</table>\n",
       "</div>"
      ],
      "text/plain": [
       "                  ext_col           mean  count\n",
       "0             Blue Caelum  396263.600000      5\n",
       "1           Dark Sapphire  355541.454545     11\n",
       "2        Bianco Monocerus  300063.076923     13\n",
       "3                   C / C  292528.088235     34\n",
       "4                     Ice  288203.272727     33\n",
       "5                 Tempest  261495.750000      8\n",
       "6            Beluga Black  222964.363636     77\n",
       "7  Bianco Icarus Metallic  221547.277778     72\n",
       "8               GT SILVER  214287.200000      5\n",
       "9               BLU ELEOS  206435.000000      8"
      ]
     },
     "metadata": {},
     "output_type": "display_data"
    }
   ],
   "source": [
    "# Most popular exterior colours\n",
    "display(df.groupby('ext_col')['price'].agg(['mean','count']).sort_values(by='mean',ascending=False).head(10).reset_index())"
   ]
  },
  {
   "cell_type": "code",
   "execution_count": 49,
   "id": "54393751",
   "metadata": {},
   "outputs": [
    {
     "data": {
      "text/plain": [
       "Index(['id', 'brand', 'model', 'model_year', 'milage', 'fuel_type', 'engine',\n",
       "       'transmission', 'ext_col', 'int_col', 'accident', 'clean_title',\n",
       "       'price'],\n",
       "      dtype='object')"
      ]
     },
     "execution_count": 49,
     "metadata": {},
     "output_type": "execute_result"
    }
   ],
   "source": [
    "df.columns"
   ]
  },
  {
   "cell_type": "markdown",
   "id": "4e42732d",
   "metadata": {},
   "source": [
    "# Preprocessor"
   ]
  },
  {
   "cell_type": "markdown",
   "id": "e7376c35",
   "metadata": {},
   "source": [
    "- remove clean_title\n",
    "- create 'age' feature\n",
    "- one hot encoding for fuel type, accident\n",
    "- target encoding for ext_col, int_col, transmission, brand, model, engine\n",
    "- drop id and price"
   ]
  },
  {
   "cell_type": "code",
   "execution_count": 50,
   "id": "d4ba526c",
   "metadata": {},
   "outputs": [],
   "source": [
    "import category_encoders as ce \n",
    "from sklearn.model_selection import train_test_split"
   ]
  },
  {
   "cell_type": "code",
   "execution_count": 51,
   "id": "d3414f2b",
   "metadata": {},
   "outputs": [],
   "source": [
    "cols_for_encoding = ['ext_col','int_col','transmission','brand','model','engine']"
   ]
  },
  {
   "cell_type": "code",
   "execution_count": 52,
   "id": "ffcd3e1c",
   "metadata": {},
   "outputs": [],
   "source": [
    "def preprocessor(df):\n",
    "    X = df.drop(columns='price')\n",
    "    y = df['price']\n",
    "    X['age'] = 2025 - df['model_year']\n",
    "    X = pd.get_dummies(X,columns=['fuel_type','accident'])\n",
    "    X = X.drop(columns=['id','clean_title'])\n",
    "\n",
    "    return X,y\n"
   ]
  },
  {
   "cell_type": "code",
   "execution_count": 53,
   "id": "ccd48810",
   "metadata": {},
   "outputs": [],
   "source": [
    "X,y = preprocessor(df)\n",
    "\n",
    "X_train, X_test, y_train, y_test = train_test_split(X,y,test_size=0.3,random_state=43)\n",
    "\n",
    "encoder = ce.TargetEncoder(cols=cols_for_encoding)\n",
    "X_train[cols_for_encoding] = encoder.fit_transform(X_train[cols_for_encoding], y_train)\n",
    "X_test[cols_for_encoding] = encoder.transform(X_test[cols_for_encoding])"
   ]
  },
  {
   "cell_type": "code",
   "execution_count": 54,
   "id": "f0953e5b",
   "metadata": {},
   "outputs": [
    {
     "data": {
      "text/html": [
       "<div>\n",
       "<style scoped>\n",
       "    .dataframe tbody tr th:only-of-type {\n",
       "        vertical-align: middle;\n",
       "    }\n",
       "\n",
       "    .dataframe tbody tr th {\n",
       "        vertical-align: top;\n",
       "    }\n",
       "\n",
       "    .dataframe thead th {\n",
       "        text-align: right;\n",
       "    }\n",
       "</style>\n",
       "<table border=\"1\" class=\"dataframe\">\n",
       "  <thead>\n",
       "    <tr style=\"text-align: right;\">\n",
       "      <th></th>\n",
       "      <th>brand</th>\n",
       "      <th>model</th>\n",
       "      <th>model_year</th>\n",
       "      <th>milage</th>\n",
       "      <th>engine</th>\n",
       "      <th>transmission</th>\n",
       "      <th>ext_col</th>\n",
       "      <th>int_col</th>\n",
       "      <th>age</th>\n",
       "      <th>fuel_type_Diesel</th>\n",
       "      <th>fuel_type_E85 Flex Fuel</th>\n",
       "      <th>fuel_type_Gasoline</th>\n",
       "      <th>fuel_type_Hybrid</th>\n",
       "      <th>fuel_type_Plug-In Hybrid</th>\n",
       "      <th>fuel_type_not supported</th>\n",
       "      <th>fuel_type_–</th>\n",
       "      <th>accident_At least 1 accident or damage reported</th>\n",
       "      <th>accident_None reported</th>\n",
       "    </tr>\n",
       "  </thead>\n",
       "  <tbody>\n",
       "    <tr>\n",
       "      <th>0</th>\n",
       "      <td>MINI</td>\n",
       "      <td>Cooper S Base</td>\n",
       "      <td>2007</td>\n",
       "      <td>213000</td>\n",
       "      <td>172.0HP 1.6L 4 Cylinder Engine Gasoline Fuel</td>\n",
       "      <td>A/T</td>\n",
       "      <td>Yellow</td>\n",
       "      <td>Gray</td>\n",
       "      <td>18</td>\n",
       "      <td>False</td>\n",
       "      <td>False</td>\n",
       "      <td>True</td>\n",
       "      <td>False</td>\n",
       "      <td>False</td>\n",
       "      <td>False</td>\n",
       "      <td>False</td>\n",
       "      <td>False</td>\n",
       "      <td>True</td>\n",
       "    </tr>\n",
       "    <tr>\n",
       "      <th>1</th>\n",
       "      <td>Lincoln</td>\n",
       "      <td>LS V8</td>\n",
       "      <td>2002</td>\n",
       "      <td>143250</td>\n",
       "      <td>252.0HP 3.9L 8 Cylinder Engine Gasoline Fuel</td>\n",
       "      <td>A/T</td>\n",
       "      <td>Silver</td>\n",
       "      <td>Beige</td>\n",
       "      <td>23</td>\n",
       "      <td>False</td>\n",
       "      <td>False</td>\n",
       "      <td>True</td>\n",
       "      <td>False</td>\n",
       "      <td>False</td>\n",
       "      <td>False</td>\n",
       "      <td>False</td>\n",
       "      <td>True</td>\n",
       "      <td>False</td>\n",
       "    </tr>\n",
       "    <tr>\n",
       "      <th>2</th>\n",
       "      <td>Chevrolet</td>\n",
       "      <td>Silverado 2500 LT</td>\n",
       "      <td>2002</td>\n",
       "      <td>136731</td>\n",
       "      <td>320.0HP 5.3L 8 Cylinder Engine Flex Fuel Capab...</td>\n",
       "      <td>A/T</td>\n",
       "      <td>Blue</td>\n",
       "      <td>Gray</td>\n",
       "      <td>23</td>\n",
       "      <td>False</td>\n",
       "      <td>True</td>\n",
       "      <td>False</td>\n",
       "      <td>False</td>\n",
       "      <td>False</td>\n",
       "      <td>False</td>\n",
       "      <td>False</td>\n",
       "      <td>False</td>\n",
       "      <td>True</td>\n",
       "    </tr>\n",
       "  </tbody>\n",
       "</table>\n",
       "</div>"
      ],
      "text/plain": [
       "       brand              model  model_year  milage  \\\n",
       "0       MINI      Cooper S Base        2007  213000   \n",
       "1    Lincoln              LS V8        2002  143250   \n",
       "2  Chevrolet  Silverado 2500 LT        2002  136731   \n",
       "\n",
       "                                              engine transmission ext_col  \\\n",
       "0       172.0HP 1.6L 4 Cylinder Engine Gasoline Fuel          A/T  Yellow   \n",
       "1       252.0HP 3.9L 8 Cylinder Engine Gasoline Fuel          A/T  Silver   \n",
       "2  320.0HP 5.3L 8 Cylinder Engine Flex Fuel Capab...          A/T    Blue   \n",
       "\n",
       "  int_col  age  fuel_type_Diesel  fuel_type_E85 Flex Fuel  fuel_type_Gasoline  \\\n",
       "0    Gray   18             False                    False                True   \n",
       "1   Beige   23             False                    False                True   \n",
       "2    Gray   23             False                     True               False   \n",
       "\n",
       "   fuel_type_Hybrid  fuel_type_Plug-In Hybrid  fuel_type_not supported  \\\n",
       "0             False                     False                    False   \n",
       "1             False                     False                    False   \n",
       "2             False                     False                    False   \n",
       "\n",
       "   fuel_type_–  accident_At least 1 accident or damage reported  \\\n",
       "0        False                                            False   \n",
       "1        False                                             True   \n",
       "2        False                                            False   \n",
       "\n",
       "   accident_None reported  \n",
       "0                    True  \n",
       "1                   False  \n",
       "2                    True  "
      ]
     },
     "execution_count": 54,
     "metadata": {},
     "output_type": "execute_result"
    }
   ],
   "source": [
    "X.head(3)"
   ]
  },
  {
   "cell_type": "code",
   "execution_count": 55,
   "id": "b58be886",
   "metadata": {},
   "outputs": [],
   "source": [
    "from catboost import CatBoostRegressor\n",
    "import optuna as optuna\n",
    "from sklearn.model_selection import cross_val_score\n"
   ]
  },
  {
   "cell_type": "code",
   "execution_count": 87,
   "id": "269bdb7f",
   "metadata": {},
   "outputs": [
    {
     "name": "stderr",
     "output_type": "stream",
     "text": [
      "[I 2025-05-29 14:56:12,946] A new study created in memory with name: no-name-f2f30fba-5dd2-4d4d-8ed9-8354badb96db\n",
      "[I 2025-05-29 14:56:35,998] Trial 0 finished with value: 4952942007.844633 and parameters: {'learning_rate': 0.09781801964118501, 'l2_leaf_reg': 14.408571676918994, 'depth': 8}. Best is trial 0 with value: 4952942007.844633.\n",
      "[I 2025-05-29 14:56:50,329] Trial 1 finished with value: 5061630672.523476 and parameters: {'learning_rate': 0.14615606853189012, 'l2_leaf_reg': 4.872223685309239, 'depth': 4}. Best is trial 0 with value: 4952942007.844633.\n",
      "[I 2025-05-29 14:57:03,281] Trial 2 finished with value: 4912384788.868899 and parameters: {'learning_rate': 0.0554840098004973, 'l2_leaf_reg': 13.394113749299223, 'depth': 7}. Best is trial 2 with value: 4912384788.868899.\n",
      "[I 2025-05-29 14:57:46,517] Trial 3 finished with value: 5381568918.049734 and parameters: {'learning_rate': 0.17781056670396786, 'l2_leaf_reg': 3.2470139315496294, 'depth': 10}. Best is trial 2 with value: 4912384788.868899.\n",
      "[I 2025-05-29 14:58:00,359] Trial 4 finished with value: 5178398640.508563 and parameters: {'learning_rate': 0.22219602542548864, 'l2_leaf_reg': 5.548069328139314, 'depth': 4}. Best is trial 2 with value: 4912384788.868899.\n",
      "[I 2025-05-29 14:58:16,944] Trial 5 finished with value: 4979384030.296883 and parameters: {'learning_rate': 0.06945227129221505, 'l2_leaf_reg': 6.650906915514453, 'depth': 7}. Best is trial 2 with value: 4912384788.868899.\n",
      "[I 2025-05-29 14:58:40,259] Trial 6 finished with value: 5053713086.489043 and parameters: {'learning_rate': 0.10841479693345976, 'l2_leaf_reg': 6.4947496823765025, 'depth': 7}. Best is trial 2 with value: 4912384788.868899.\n",
      "[I 2025-05-29 14:58:51,684] Trial 7 finished with value: 4956220335.789406 and parameters: {'learning_rate': 0.0641973832905204, 'l2_leaf_reg': 6.505735782422618, 'depth': 5}. Best is trial 2 with value: 4912384788.868899.\n",
      "[I 2025-05-29 14:59:02,340] Trial 8 finished with value: 4976637911.591371 and parameters: {'learning_rate': 0.11320391141177716, 'l2_leaf_reg': 12.422111536716162, 'depth': 4}. Best is trial 2 with value: 4912384788.868899.\n",
      "[I 2025-05-29 14:59:11,258] Trial 9 finished with value: 5010821426.706243 and parameters: {'learning_rate': 0.12563833593289828, 'l2_leaf_reg': 10.10897482634451, 'depth': 3}. Best is trial 2 with value: 4912384788.868899.\n",
      "[I 2025-05-29 14:59:20,153] Trial 10 finished with value: 5063168962.357718 and parameters: {'learning_rate': 0.14850182486245414, 'l2_leaf_reg': 5.046289484247499, 'depth': 3}. Best is trial 2 with value: 4912384788.868899.\n",
      "[I 2025-05-29 14:59:41,010] Trial 11 finished with value: 5189462140.305858 and parameters: {'learning_rate': 0.2737451740722102, 'l2_leaf_reg': 14.587584396894712, 'depth': 9}. Best is trial 2 with value: 4912384788.868899.\n",
      "[I 2025-05-29 14:59:58,101] Trial 12 finished with value: 5018281411.754591 and parameters: {'learning_rate': 0.08629896550328053, 'l2_leaf_reg': 4.172065368076606, 'depth': 8}. Best is trial 2 with value: 4912384788.868899.\n",
      "[I 2025-05-29 15:00:11,282] Trial 13 finished with value: 5052155907.658446 and parameters: {'learning_rate': 0.11002090618820454, 'l2_leaf_reg': 4.464458818137346, 'depth': 6}. Best is trial 2 with value: 4912384788.868899.\n",
      "[I 2025-05-29 15:00:31,438] Trial 14 finished with value: 4918831436.6319475 and parameters: {'learning_rate': 0.053177690865739126, 'l2_leaf_reg': 13.911844824945385, 'depth': 5}. Best is trial 2 with value: 4912384788.868899.\n",
      "[I 2025-05-29 15:00:49,765] Trial 15 finished with value: 5232370038.051222 and parameters: {'learning_rate': 0.16387494099028344, 'l2_leaf_reg': 6.740532913072931, 'depth': 7}. Best is trial 2 with value: 4912384788.868899.\n",
      "[I 2025-05-29 15:01:49,454] Trial 16 finished with value: 5165373240.478161 and parameters: {'learning_rate': 0.13316598070397054, 'l2_leaf_reg': 5.218253466306324, 'depth': 10}. Best is trial 2 with value: 4912384788.868899.\n",
      "[I 2025-05-29 15:02:29,538] Trial 17 finished with value: 5097839499.274939 and parameters: {'learning_rate': 0.20051209750202623, 'l2_leaf_reg': 14.273987298770269, 'depth': 10}. Best is trial 2 with value: 4912384788.868899.\n",
      "[I 2025-05-29 15:02:40,352] Trial 18 finished with value: 5006185150.025358 and parameters: {'learning_rate': 0.14595756869825136, 'l2_leaf_reg': 14.062490820277402, 'depth': 3}. Best is trial 2 with value: 4912384788.868899.\n",
      "[I 2025-05-29 15:02:51,361] Trial 19 finished with value: 5008155939.643143 and parameters: {'learning_rate': 0.07103531551331047, 'l2_leaf_reg': 3.542727466926457, 'depth': 5}. Best is trial 2 with value: 4912384788.868899.\n",
      "[I 2025-05-29 15:03:14,935] Trial 20 finished with value: 5039984568.050694 and parameters: {'learning_rate': 0.10032743828330223, 'l2_leaf_reg': 6.256188381286751, 'depth': 9}. Best is trial 2 with value: 4912384788.868899.\n",
      "[I 2025-05-29 15:03:31,887] Trial 21 finished with value: 5011760600.528744 and parameters: {'learning_rate': 0.09474974538316382, 'l2_leaf_reg': 6.371214116248569, 'depth': 7}. Best is trial 2 with value: 4912384788.868899.\n",
      "[I 2025-05-29 15:03:42,367] Trial 22 finished with value: 4929000472.192215 and parameters: {'learning_rate': 0.06436212377641608, 'l2_leaf_reg': 12.626363769048476, 'depth': 3}. Best is trial 2 with value: 4912384788.868899.\n",
      "[I 2025-05-29 15:03:54,742] Trial 23 finished with value: 5100111026.509933 and parameters: {'learning_rate': 0.29303352408360983, 'l2_leaf_reg': 12.26693723155989, 'depth': 4}. Best is trial 2 with value: 4912384788.868899.\n",
      "[I 2025-05-29 15:04:11,179] Trial 24 finished with value: 4926870690.650183 and parameters: {'learning_rate': 0.050497170806312094, 'l2_leaf_reg': 12.78553714145801, 'depth': 8}. Best is trial 2 with value: 4912384788.868899.\n",
      "[I 2025-05-29 15:04:20,356] Trial 25 finished with value: 5040508660.031231 and parameters: {'learning_rate': 0.18460686352457156, 'l2_leaf_reg': 12.25524416023135, 'depth': 3}. Best is trial 2 with value: 4912384788.868899.\n",
      "[I 2025-05-29 15:04:42,872] Trial 26 finished with value: 5080097253.888129 and parameters: {'learning_rate': 0.09504090415087463, 'l2_leaf_reg': 4.390428714301557, 'depth': 9}. Best is trial 2 with value: 4912384788.868899.\n",
      "[I 2025-05-29 15:04:51,291] Trial 27 finished with value: 5041750306.543138 and parameters: {'learning_rate': 0.15275316627633723, 'l2_leaf_reg': 6.97077629823179, 'depth': 3}. Best is trial 2 with value: 4912384788.868899.\n",
      "[I 2025-05-29 15:05:09,308] Trial 28 finished with value: 4984669550.388662 and parameters: {'learning_rate': 0.08728935548596713, 'l2_leaf_reg': 6.9021998643209646, 'depth': 8}. Best is trial 2 with value: 4912384788.868899.\n",
      "[I 2025-05-29 15:05:25,466] Trial 29 finished with value: 5031123625.998055 and parameters: {'learning_rate': 0.15670618860384092, 'l2_leaf_reg': 13.646552910915918, 'depth': 6}. Best is trial 2 with value: 4912384788.868899.\n",
      "[I 2025-05-29 15:05:51,581] Trial 30 finished with value: 4933502516.886396 and parameters: {'learning_rate': 0.0619487312756373, 'l2_leaf_reg': 11.558937446675941, 'depth': 9}. Best is trial 2 with value: 4912384788.868899.\n",
      "[I 2025-05-29 15:06:05,794] Trial 31 finished with value: 5011251236.697113 and parameters: {'learning_rate': 0.13668742353677285, 'l2_leaf_reg': 12.251606159454731, 'depth': 6}. Best is trial 2 with value: 4912384788.868899.\n",
      "[I 2025-05-29 15:06:16,382] Trial 32 finished with value: 5024039644.192707 and parameters: {'learning_rate': 0.12756607968099165, 'l2_leaf_reg': 8.130492220302596, 'depth': 3}. Best is trial 2 with value: 4912384788.868899.\n",
      "[I 2025-05-29 15:06:36,471] Trial 33 finished with value: 5044015856.992638 and parameters: {'learning_rate': 0.060663275069124556, 'l2_leaf_reg': 3.377150228240811, 'depth': 8}. Best is trial 2 with value: 4912384788.868899.\n",
      "[I 2025-05-29 15:07:19,000] Trial 34 finished with value: 4991930954.55844 and parameters: {'learning_rate': 0.08781859893937596, 'l2_leaf_reg': 9.102848293976432, 'depth': 10}. Best is trial 2 with value: 4912384788.868899.\n",
      "[I 2025-05-29 15:07:43,290] Trial 35 finished with value: 4986351304.964795 and parameters: {'learning_rate': 0.07815505340045194, 'l2_leaf_reg': 7.924595076427557, 'depth': 9}. Best is trial 2 with value: 4912384788.868899.\n",
      "[I 2025-05-29 15:07:55,824] Trial 36 finished with value: 5002067770.510738 and parameters: {'learning_rate': 0.07533721870390656, 'l2_leaf_reg': 3.923758917945516, 'depth': 5}. Best is trial 2 with value: 4912384788.868899.\n",
      "[I 2025-05-29 15:08:18,033] Trial 37 finished with value: 4935831506.215891 and parameters: {'learning_rate': 0.0667458934144322, 'l2_leaf_reg': 14.156371828110878, 'depth': 9}. Best is trial 2 with value: 4912384788.868899.\n",
      "[I 2025-05-29 15:08:42,400] Trial 38 finished with value: 5043176687.3347 and parameters: {'learning_rate': 0.1555442386368446, 'l2_leaf_reg': 13.457527082252613, 'depth': 9}. Best is trial 2 with value: 4912384788.868899.\n",
      "[I 2025-05-29 15:08:58,092] Trial 39 finished with value: 4943668520.898429 and parameters: {'learning_rate': 0.06984731707172206, 'l2_leaf_reg': 13.710707981879732, 'depth': 7}. Best is trial 2 with value: 4912384788.868899.\n",
      "[I 2025-05-29 15:09:09,468] Trial 40 finished with value: 5050687435.908735 and parameters: {'learning_rate': 0.21246166015330134, 'l2_leaf_reg': 13.753095599081918, 'depth': 5}. Best is trial 2 with value: 4912384788.868899.\n",
      "[I 2025-05-29 15:09:21,850] Trial 41 finished with value: 4985568839.137529 and parameters: {'learning_rate': 0.060898563300171175, 'l2_leaf_reg': 5.7352219505033, 'depth': 6}. Best is trial 2 with value: 4912384788.868899.\n",
      "[I 2025-05-29 15:09:31,488] Trial 42 finished with value: 5037262987.061667 and parameters: {'learning_rate': 0.21652558332369043, 'l2_leaf_reg': 13.328766999076121, 'depth': 3}. Best is trial 2 with value: 4912384788.868899.\n",
      "[I 2025-05-29 15:09:42,798] Trial 43 finished with value: 5001144201.259031 and parameters: {'learning_rate': 0.12485578124797653, 'l2_leaf_reg': 8.008932037785348, 'depth': 4}. Best is trial 2 with value: 4912384788.868899.\n",
      "[I 2025-05-29 15:10:23,131] Trial 44 finished with value: 4960358641.529064 and parameters: {'learning_rate': 0.061978832309111755, 'l2_leaf_reg': 7.0513820568435355, 'depth': 10}. Best is trial 2 with value: 4912384788.868899.\n",
      "[I 2025-05-29 15:10:41,129] Trial 45 finished with value: 4977178097.939916 and parameters: {'learning_rate': 0.08922175672862484, 'l2_leaf_reg': 9.225487460920393, 'depth': 8}. Best is trial 2 with value: 4912384788.868899.\n",
      "[I 2025-05-29 15:11:18,508] Trial 46 finished with value: 4974210624.704424 and parameters: {'learning_rate': 0.09592434317018683, 'l2_leaf_reg': 14.661384992651527, 'depth': 10}. Best is trial 2 with value: 4912384788.868899.\n",
      "[I 2025-05-29 15:11:31,907] Trial 47 finished with value: 4967612971.544931 and parameters: {'learning_rate': 0.07850452906010254, 'l2_leaf_reg': 8.966982070708625, 'depth': 5}. Best is trial 2 with value: 4912384788.868899.\n",
      "[I 2025-05-29 15:11:46,434] Trial 48 finished with value: 5058932830.160268 and parameters: {'learning_rate': 0.08329501125206361, 'l2_leaf_reg': 3.4426433682543935, 'depth': 7}. Best is trial 2 with value: 4912384788.868899.\n",
      "[I 2025-05-29 15:11:58,046] Trial 49 finished with value: 5142963296.406211 and parameters: {'learning_rate': 0.12306379817856739, 'l2_leaf_reg': 3.617745014999872, 'depth': 5}. Best is trial 2 with value: 4912384788.868899.\n",
      "[I 2025-05-29 15:12:08,388] Trial 50 finished with value: 5184835435.613998 and parameters: {'learning_rate': 0.2545295672865606, 'l2_leaf_reg': 5.8747426880036695, 'depth': 4}. Best is trial 2 with value: 4912384788.868899.\n",
      "[I 2025-05-29 15:12:18,332] Trial 51 finished with value: 4965494948.721116 and parameters: {'learning_rate': 0.12018168307133302, 'l2_leaf_reg': 14.827805449327208, 'depth': 4}. Best is trial 2 with value: 4912384788.868899.\n",
      "[I 2025-05-29 15:12:28,248] Trial 52 finished with value: 5036762173.670462 and parameters: {'learning_rate': 0.1667220804339036, 'l2_leaf_reg': 12.139435383944612, 'depth': 4}. Best is trial 2 with value: 4912384788.868899.\n",
      "[I 2025-05-29 15:12:45,085] Trial 53 finished with value: 5135952065.6429205 and parameters: {'learning_rate': 0.18434546855202544, 'l2_leaf_reg': 7.413397592631039, 'depth': 8}. Best is trial 2 with value: 4912384788.868899.\n",
      "[I 2025-05-29 15:12:53,453] Trial 54 finished with value: 5038411726.412259 and parameters: {'learning_rate': 0.15557934577855487, 'l2_leaf_reg': 9.429296208897101, 'depth': 3}. Best is trial 2 with value: 4912384788.868899.\n",
      "[I 2025-05-29 15:13:03,561] Trial 55 finished with value: 5133763908.991459 and parameters: {'learning_rate': 0.2233375181597299, 'l2_leaf_reg': 6.84936077966083, 'depth': 4}. Best is trial 2 with value: 4912384788.868899.\n",
      "[W 2025-05-29 16:20:58,102] Trial 56 failed with parameters: {'learning_rate': 0.053789713576158985, 'l2_leaf_reg': 10.090715318258901, 'depth': 8} because of the following error: KeyboardInterrupt().\n",
      "Traceback (most recent call last):\n",
      "  File \"c:\\Users\\chowj1\\AppData\\Local\\anaconda3\\Lib\\site-packages\\optuna\\study\\_optimize.py\", line 197, in _run_trial\n",
      "    value_or_values = func(trial)\n",
      "                      ^^^^^^^^^^^\n",
      "  File \"C:\\Users\\chowj1\\AppData\\Local\\Temp\\ipykernel_22200\\3348874649.py\", line 16, in objective\n",
      "    score = cross_val_score(model, X_train, y_train, n_jobs=-1, cv=4, scoring='neg_mean_squared_error').mean()\n",
      "            ^^^^^^^^^^^^^^^^^^^^^^^^^^^^^^^^^^^^^^^^^^^^^^^^^^^^^^^^^^^^^^^^^^^^^^^^^^^^^^^^^^^^^^^^^^^\n",
      "  File \"c:\\Users\\chowj1\\AppData\\Local\\anaconda3\\Lib\\site-packages\\sklearn\\utils\\_param_validation.py\", line 216, in wrapper\n",
      "    return func(*args, **kwargs)\n",
      "           ^^^^^^^^^^^^^^^^^^^^^\n",
      "  File \"c:\\Users\\chowj1\\AppData\\Local\\anaconda3\\Lib\\site-packages\\sklearn\\model_selection\\_validation.py\", line 684, in cross_val_score\n",
      "    cv_results = cross_validate(\n",
      "                 ^^^^^^^^^^^^^^^\n",
      "  File \"c:\\Users\\chowj1\\AppData\\Local\\anaconda3\\Lib\\site-packages\\sklearn\\utils\\_param_validation.py\", line 216, in wrapper\n",
      "    return func(*args, **kwargs)\n",
      "           ^^^^^^^^^^^^^^^^^^^^^\n",
      "  File \"c:\\Users\\chowj1\\AppData\\Local\\anaconda3\\Lib\\site-packages\\sklearn\\model_selection\\_validation.py\", line 411, in cross_validate\n",
      "    results = parallel(\n",
      "              ^^^^^^^^^\n",
      "  File \"c:\\Users\\chowj1\\AppData\\Local\\anaconda3\\Lib\\site-packages\\sklearn\\utils\\parallel.py\", line 77, in __call__\n",
      "    return super().__call__(iterable_with_config)\n",
      "           ^^^^^^^^^^^^^^^^^^^^^^^^^^^^^^^^^^^^^^\n",
      "  File \"c:\\Users\\chowj1\\AppData\\Local\\anaconda3\\Lib\\site-packages\\joblib\\parallel.py\", line 1098, in __call__\n",
      "    self.retrieve()\n",
      "  File \"c:\\Users\\chowj1\\AppData\\Local\\anaconda3\\Lib\\site-packages\\joblib\\parallel.py\", line 975, in retrieve\n",
      "    self._output.extend(job.get(timeout=self.timeout))\n",
      "                        ^^^^^^^^^^^^^^^^^^^^^^^^^^^^^\n",
      "  File \"c:\\Users\\chowj1\\AppData\\Local\\anaconda3\\Lib\\site-packages\\joblib\\_parallel_backends.py\", line 567, in wrap_future_result\n",
      "    return future.result(timeout=timeout)\n",
      "           ^^^^^^^^^^^^^^^^^^^^^^^^^^^^^^\n",
      "  File \"c:\\Users\\chowj1\\AppData\\Local\\anaconda3\\Lib\\concurrent\\futures\\_base.py\", line 451, in result\n",
      "    self._condition.wait(timeout)\n",
      "  File \"c:\\Users\\chowj1\\AppData\\Local\\anaconda3\\Lib\\threading.py\", line 320, in wait\n",
      "    waiter.acquire()\n",
      "KeyboardInterrupt\n",
      "[W 2025-05-29 16:20:58,127] Trial 56 failed with value None.\n"
     ]
    },
    {
     "ename": "KeyboardInterrupt",
     "evalue": "",
     "output_type": "error",
     "traceback": [
      "\u001b[1;31m---------------------------------------------------------------------------\u001b[0m",
      "\u001b[1;31mKeyboardInterrupt\u001b[0m                         Traceback (most recent call last)",
      "Cell \u001b[1;32mIn[87], line 24\u001b[0m\n\u001b[0;32m     18\u001b[0m     \u001b[38;5;28;01mreturn\u001b[39;00m \u001b[38;5;241m-\u001b[39mscore\n\u001b[0;32m     22\u001b[0m study \u001b[38;5;241m=\u001b[39m optuna\u001b[38;5;241m.\u001b[39mcreate_study(direction\u001b[38;5;241m=\u001b[39m\u001b[38;5;124m'\u001b[39m\u001b[38;5;124mminimize\u001b[39m\u001b[38;5;124m'\u001b[39m,sampler \u001b[38;5;241m=\u001b[39m optuna\u001b[38;5;241m.\u001b[39msamplers\u001b[38;5;241m.\u001b[39mRandomSampler(seed\u001b[38;5;241m=\u001b[39m\u001b[38;5;241m42\u001b[39m))\n\u001b[1;32m---> 24\u001b[0m study\u001b[38;5;241m.\u001b[39moptimize(objective,n_trials\u001b[38;5;241m=\u001b[39m\u001b[38;5;241m200\u001b[39m)\n",
      "File \u001b[1;32mc:\\Users\\chowj1\\AppData\\Local\\anaconda3\\Lib\\site-packages\\optuna\\study\\study.py:475\u001b[0m, in \u001b[0;36mStudy.optimize\u001b[1;34m(self, func, n_trials, timeout, n_jobs, catch, callbacks, gc_after_trial, show_progress_bar)\u001b[0m\n\u001b[0;32m    373\u001b[0m \u001b[38;5;28;01mdef\u001b[39;00m \u001b[38;5;21moptimize\u001b[39m(\n\u001b[0;32m    374\u001b[0m     \u001b[38;5;28mself\u001b[39m,\n\u001b[0;32m    375\u001b[0m     func: ObjectiveFuncType,\n\u001b[1;32m   (...)\u001b[0m\n\u001b[0;32m    382\u001b[0m     show_progress_bar: \u001b[38;5;28mbool\u001b[39m \u001b[38;5;241m=\u001b[39m \u001b[38;5;28;01mFalse\u001b[39;00m,\n\u001b[0;32m    383\u001b[0m ) \u001b[38;5;241m-\u001b[39m\u001b[38;5;241m>\u001b[39m \u001b[38;5;28;01mNone\u001b[39;00m:\n\u001b[0;32m    384\u001b[0m \u001b[38;5;250m    \u001b[39m\u001b[38;5;124;03m\"\"\"Optimize an objective function.\u001b[39;00m\n\u001b[0;32m    385\u001b[0m \n\u001b[0;32m    386\u001b[0m \u001b[38;5;124;03m    Optimization is done by choosing a suitable set of hyperparameter values from a given\u001b[39;00m\n\u001b[1;32m   (...)\u001b[0m\n\u001b[0;32m    473\u001b[0m \u001b[38;5;124;03m            If nested invocation of this method occurs.\u001b[39;00m\n\u001b[0;32m    474\u001b[0m \u001b[38;5;124;03m    \"\"\"\u001b[39;00m\n\u001b[1;32m--> 475\u001b[0m     _optimize(\n\u001b[0;32m    476\u001b[0m         study\u001b[38;5;241m=\u001b[39m\u001b[38;5;28mself\u001b[39m,\n\u001b[0;32m    477\u001b[0m         func\u001b[38;5;241m=\u001b[39mfunc,\n\u001b[0;32m    478\u001b[0m         n_trials\u001b[38;5;241m=\u001b[39mn_trials,\n\u001b[0;32m    479\u001b[0m         timeout\u001b[38;5;241m=\u001b[39mtimeout,\n\u001b[0;32m    480\u001b[0m         n_jobs\u001b[38;5;241m=\u001b[39mn_jobs,\n\u001b[0;32m    481\u001b[0m         catch\u001b[38;5;241m=\u001b[39m\u001b[38;5;28mtuple\u001b[39m(catch) \u001b[38;5;28;01mif\u001b[39;00m \u001b[38;5;28misinstance\u001b[39m(catch, Iterable) \u001b[38;5;28;01melse\u001b[39;00m (catch,),\n\u001b[0;32m    482\u001b[0m         callbacks\u001b[38;5;241m=\u001b[39mcallbacks,\n\u001b[0;32m    483\u001b[0m         gc_after_trial\u001b[38;5;241m=\u001b[39mgc_after_trial,\n\u001b[0;32m    484\u001b[0m         show_progress_bar\u001b[38;5;241m=\u001b[39mshow_progress_bar,\n\u001b[0;32m    485\u001b[0m     )\n",
      "File \u001b[1;32mc:\\Users\\chowj1\\AppData\\Local\\anaconda3\\Lib\\site-packages\\optuna\\study\\_optimize.py:63\u001b[0m, in \u001b[0;36m_optimize\u001b[1;34m(study, func, n_trials, timeout, n_jobs, catch, callbacks, gc_after_trial, show_progress_bar)\u001b[0m\n\u001b[0;32m     61\u001b[0m \u001b[38;5;28;01mtry\u001b[39;00m:\n\u001b[0;32m     62\u001b[0m     \u001b[38;5;28;01mif\u001b[39;00m n_jobs \u001b[38;5;241m==\u001b[39m \u001b[38;5;241m1\u001b[39m:\n\u001b[1;32m---> 63\u001b[0m         _optimize_sequential(\n\u001b[0;32m     64\u001b[0m             study,\n\u001b[0;32m     65\u001b[0m             func,\n\u001b[0;32m     66\u001b[0m             n_trials,\n\u001b[0;32m     67\u001b[0m             timeout,\n\u001b[0;32m     68\u001b[0m             catch,\n\u001b[0;32m     69\u001b[0m             callbacks,\n\u001b[0;32m     70\u001b[0m             gc_after_trial,\n\u001b[0;32m     71\u001b[0m             reseed_sampler_rng\u001b[38;5;241m=\u001b[39m\u001b[38;5;28;01mFalse\u001b[39;00m,\n\u001b[0;32m     72\u001b[0m             time_start\u001b[38;5;241m=\u001b[39m\u001b[38;5;28;01mNone\u001b[39;00m,\n\u001b[0;32m     73\u001b[0m             progress_bar\u001b[38;5;241m=\u001b[39mprogress_bar,\n\u001b[0;32m     74\u001b[0m         )\n\u001b[0;32m     75\u001b[0m     \u001b[38;5;28;01melse\u001b[39;00m:\n\u001b[0;32m     76\u001b[0m         \u001b[38;5;28;01mif\u001b[39;00m n_jobs \u001b[38;5;241m==\u001b[39m \u001b[38;5;241m-\u001b[39m\u001b[38;5;241m1\u001b[39m:\n",
      "File \u001b[1;32mc:\\Users\\chowj1\\AppData\\Local\\anaconda3\\Lib\\site-packages\\optuna\\study\\_optimize.py:160\u001b[0m, in \u001b[0;36m_optimize_sequential\u001b[1;34m(study, func, n_trials, timeout, catch, callbacks, gc_after_trial, reseed_sampler_rng, time_start, progress_bar)\u001b[0m\n\u001b[0;32m    157\u001b[0m         \u001b[38;5;28;01mbreak\u001b[39;00m\n\u001b[0;32m    159\u001b[0m \u001b[38;5;28;01mtry\u001b[39;00m:\n\u001b[1;32m--> 160\u001b[0m     frozen_trial \u001b[38;5;241m=\u001b[39m _run_trial(study, func, catch)\n\u001b[0;32m    161\u001b[0m \u001b[38;5;28;01mfinally\u001b[39;00m:\n\u001b[0;32m    162\u001b[0m     \u001b[38;5;66;03m# The following line mitigates memory problems that can be occurred in some\u001b[39;00m\n\u001b[0;32m    163\u001b[0m     \u001b[38;5;66;03m# environments (e.g., services that use computing containers such as GitHub Actions).\u001b[39;00m\n\u001b[0;32m    164\u001b[0m     \u001b[38;5;66;03m# Please refer to the following PR for further details:\u001b[39;00m\n\u001b[0;32m    165\u001b[0m     \u001b[38;5;66;03m# https://github.com/optuna/optuna/pull/325.\u001b[39;00m\n\u001b[0;32m    166\u001b[0m     \u001b[38;5;28;01mif\u001b[39;00m gc_after_trial:\n",
      "File \u001b[1;32mc:\\Users\\chowj1\\AppData\\Local\\anaconda3\\Lib\\site-packages\\optuna\\study\\_optimize.py:248\u001b[0m, in \u001b[0;36m_run_trial\u001b[1;34m(study, func, catch)\u001b[0m\n\u001b[0;32m    241\u001b[0m         \u001b[38;5;28;01massert\u001b[39;00m \u001b[38;5;28;01mFalse\u001b[39;00m, \u001b[38;5;124m\"\u001b[39m\u001b[38;5;124mShould not reach.\u001b[39m\u001b[38;5;124m\"\u001b[39m\n\u001b[0;32m    243\u001b[0m \u001b[38;5;28;01mif\u001b[39;00m (\n\u001b[0;32m    244\u001b[0m     frozen_trial\u001b[38;5;241m.\u001b[39mstate \u001b[38;5;241m==\u001b[39m TrialState\u001b[38;5;241m.\u001b[39mFAIL\n\u001b[0;32m    245\u001b[0m     \u001b[38;5;129;01mand\u001b[39;00m func_err \u001b[38;5;129;01mis\u001b[39;00m \u001b[38;5;129;01mnot\u001b[39;00m \u001b[38;5;28;01mNone\u001b[39;00m\n\u001b[0;32m    246\u001b[0m     \u001b[38;5;129;01mand\u001b[39;00m \u001b[38;5;129;01mnot\u001b[39;00m \u001b[38;5;28misinstance\u001b[39m(func_err, catch)\n\u001b[0;32m    247\u001b[0m ):\n\u001b[1;32m--> 248\u001b[0m     \u001b[38;5;28;01mraise\u001b[39;00m func_err\n\u001b[0;32m    249\u001b[0m \u001b[38;5;28;01mreturn\u001b[39;00m frozen_trial\n",
      "File \u001b[1;32mc:\\Users\\chowj1\\AppData\\Local\\anaconda3\\Lib\\site-packages\\optuna\\study\\_optimize.py:197\u001b[0m, in \u001b[0;36m_run_trial\u001b[1;34m(study, func, catch)\u001b[0m\n\u001b[0;32m    195\u001b[0m \u001b[38;5;28;01mwith\u001b[39;00m get_heartbeat_thread(trial\u001b[38;5;241m.\u001b[39m_trial_id, study\u001b[38;5;241m.\u001b[39m_storage):\n\u001b[0;32m    196\u001b[0m     \u001b[38;5;28;01mtry\u001b[39;00m:\n\u001b[1;32m--> 197\u001b[0m         value_or_values \u001b[38;5;241m=\u001b[39m func(trial)\n\u001b[0;32m    198\u001b[0m     \u001b[38;5;28;01mexcept\u001b[39;00m exceptions\u001b[38;5;241m.\u001b[39mTrialPruned \u001b[38;5;28;01mas\u001b[39;00m e:\n\u001b[0;32m    199\u001b[0m         \u001b[38;5;66;03m# TODO(mamu): Handle multi-objective cases.\u001b[39;00m\n\u001b[0;32m    200\u001b[0m         state \u001b[38;5;241m=\u001b[39m TrialState\u001b[38;5;241m.\u001b[39mPRUNED\n",
      "Cell \u001b[1;32mIn[87], line 16\u001b[0m, in \u001b[0;36mobjective\u001b[1;34m(trial)\u001b[0m\n\u001b[0;32m      2\u001b[0m params \u001b[38;5;241m=\u001b[39m {\n\u001b[0;32m      3\u001b[0m     \u001b[38;5;124m'\u001b[39m\u001b[38;5;124mloss_function\u001b[39m\u001b[38;5;124m'\u001b[39m: \u001b[38;5;124m'\u001b[39m\u001b[38;5;124mRMSE\u001b[39m\u001b[38;5;124m'\u001b[39m,  \n\u001b[0;32m      4\u001b[0m     \u001b[38;5;124m'\u001b[39m\u001b[38;5;124miterations\u001b[39m\u001b[38;5;124m'\u001b[39m: \u001b[38;5;241m428\u001b[39m,\n\u001b[1;32m   (...)\u001b[0m\n\u001b[0;32m     11\u001b[0m     \u001b[38;5;124m'\u001b[39m\u001b[38;5;124mthread_count\u001b[39m\u001b[38;5;124m'\u001b[39m: \u001b[38;5;241m-\u001b[39m\u001b[38;5;241m1\u001b[39m\n\u001b[0;32m     12\u001b[0m }\n\u001b[0;32m     14\u001b[0m model \u001b[38;5;241m=\u001b[39m CatBoostRegressor(\u001b[38;5;241m*\u001b[39m\u001b[38;5;241m*\u001b[39mparams)\n\u001b[1;32m---> 16\u001b[0m score \u001b[38;5;241m=\u001b[39m cross_val_score(model, X_train, y_train, n_jobs\u001b[38;5;241m=\u001b[39m\u001b[38;5;241m-\u001b[39m\u001b[38;5;241m1\u001b[39m, cv\u001b[38;5;241m=\u001b[39m\u001b[38;5;241m4\u001b[39m, scoring\u001b[38;5;241m=\u001b[39m\u001b[38;5;124m'\u001b[39m\u001b[38;5;124mneg_mean_squared_error\u001b[39m\u001b[38;5;124m'\u001b[39m)\u001b[38;5;241m.\u001b[39mmean()\n\u001b[0;32m     18\u001b[0m \u001b[38;5;28;01mreturn\u001b[39;00m \u001b[38;5;241m-\u001b[39mscore\n",
      "File \u001b[1;32mc:\\Users\\chowj1\\AppData\\Local\\anaconda3\\Lib\\site-packages\\sklearn\\utils\\_param_validation.py:216\u001b[0m, in \u001b[0;36mvalidate_params.<locals>.decorator.<locals>.wrapper\u001b[1;34m(*args, **kwargs)\u001b[0m\n\u001b[0;32m    210\u001b[0m \u001b[38;5;28;01mtry\u001b[39;00m:\n\u001b[0;32m    211\u001b[0m     \u001b[38;5;28;01mwith\u001b[39;00m config_context(\n\u001b[0;32m    212\u001b[0m         skip_parameter_validation\u001b[38;5;241m=\u001b[39m(\n\u001b[0;32m    213\u001b[0m             prefer_skip_nested_validation \u001b[38;5;129;01mor\u001b[39;00m global_skip_validation\n\u001b[0;32m    214\u001b[0m         )\n\u001b[0;32m    215\u001b[0m     ):\n\u001b[1;32m--> 216\u001b[0m         \u001b[38;5;28;01mreturn\u001b[39;00m func(\u001b[38;5;241m*\u001b[39margs, \u001b[38;5;241m*\u001b[39m\u001b[38;5;241m*\u001b[39mkwargs)\n\u001b[0;32m    217\u001b[0m \u001b[38;5;28;01mexcept\u001b[39;00m InvalidParameterError \u001b[38;5;28;01mas\u001b[39;00m e:\n\u001b[0;32m    218\u001b[0m     \u001b[38;5;66;03m# When the function is just a wrapper around an estimator, we allow\u001b[39;00m\n\u001b[0;32m    219\u001b[0m     \u001b[38;5;66;03m# the function to delegate validation to the estimator, but we replace\u001b[39;00m\n\u001b[0;32m    220\u001b[0m     \u001b[38;5;66;03m# the name of the estimator by the name of the function in the error\u001b[39;00m\n\u001b[0;32m    221\u001b[0m     \u001b[38;5;66;03m# message to avoid confusion.\u001b[39;00m\n\u001b[0;32m    222\u001b[0m     msg \u001b[38;5;241m=\u001b[39m re\u001b[38;5;241m.\u001b[39msub(\n\u001b[0;32m    223\u001b[0m         \u001b[38;5;124mr\u001b[39m\u001b[38;5;124m\"\u001b[39m\u001b[38;5;124mparameter of \u001b[39m\u001b[38;5;124m\\\u001b[39m\u001b[38;5;124mw+ must be\u001b[39m\u001b[38;5;124m\"\u001b[39m,\n\u001b[0;32m    224\u001b[0m         \u001b[38;5;124mf\u001b[39m\u001b[38;5;124m\"\u001b[39m\u001b[38;5;124mparameter of \u001b[39m\u001b[38;5;132;01m{\u001b[39;00mfunc\u001b[38;5;241m.\u001b[39m\u001b[38;5;18m__qualname__\u001b[39m\u001b[38;5;132;01m}\u001b[39;00m\u001b[38;5;124m must be\u001b[39m\u001b[38;5;124m\"\u001b[39m,\n\u001b[0;32m    225\u001b[0m         \u001b[38;5;28mstr\u001b[39m(e),\n\u001b[0;32m    226\u001b[0m     )\n",
      "File \u001b[1;32mc:\\Users\\chowj1\\AppData\\Local\\anaconda3\\Lib\\site-packages\\sklearn\\model_selection\\_validation.py:684\u001b[0m, in \u001b[0;36mcross_val_score\u001b[1;34m(estimator, X, y, groups, scoring, cv, n_jobs, verbose, params, pre_dispatch, error_score)\u001b[0m\n\u001b[0;32m    681\u001b[0m \u001b[38;5;66;03m# To ensure multimetric format is not supported\u001b[39;00m\n\u001b[0;32m    682\u001b[0m scorer \u001b[38;5;241m=\u001b[39m check_scoring(estimator, scoring\u001b[38;5;241m=\u001b[39mscoring)\n\u001b[1;32m--> 684\u001b[0m cv_results \u001b[38;5;241m=\u001b[39m cross_validate(\n\u001b[0;32m    685\u001b[0m     estimator\u001b[38;5;241m=\u001b[39mestimator,\n\u001b[0;32m    686\u001b[0m     X\u001b[38;5;241m=\u001b[39mX,\n\u001b[0;32m    687\u001b[0m     y\u001b[38;5;241m=\u001b[39my,\n\u001b[0;32m    688\u001b[0m     groups\u001b[38;5;241m=\u001b[39mgroups,\n\u001b[0;32m    689\u001b[0m     scoring\u001b[38;5;241m=\u001b[39m{\u001b[38;5;124m\"\u001b[39m\u001b[38;5;124mscore\u001b[39m\u001b[38;5;124m\"\u001b[39m: scorer},\n\u001b[0;32m    690\u001b[0m     cv\u001b[38;5;241m=\u001b[39mcv,\n\u001b[0;32m    691\u001b[0m     n_jobs\u001b[38;5;241m=\u001b[39mn_jobs,\n\u001b[0;32m    692\u001b[0m     verbose\u001b[38;5;241m=\u001b[39mverbose,\n\u001b[0;32m    693\u001b[0m     params\u001b[38;5;241m=\u001b[39mparams,\n\u001b[0;32m    694\u001b[0m     pre_dispatch\u001b[38;5;241m=\u001b[39mpre_dispatch,\n\u001b[0;32m    695\u001b[0m     error_score\u001b[38;5;241m=\u001b[39merror_score,\n\u001b[0;32m    696\u001b[0m )\n\u001b[0;32m    697\u001b[0m \u001b[38;5;28;01mreturn\u001b[39;00m cv_results[\u001b[38;5;124m\"\u001b[39m\u001b[38;5;124mtest_score\u001b[39m\u001b[38;5;124m\"\u001b[39m]\n",
      "File \u001b[1;32mc:\\Users\\chowj1\\AppData\\Local\\anaconda3\\Lib\\site-packages\\sklearn\\utils\\_param_validation.py:216\u001b[0m, in \u001b[0;36mvalidate_params.<locals>.decorator.<locals>.wrapper\u001b[1;34m(*args, **kwargs)\u001b[0m\n\u001b[0;32m    210\u001b[0m \u001b[38;5;28;01mtry\u001b[39;00m:\n\u001b[0;32m    211\u001b[0m     \u001b[38;5;28;01mwith\u001b[39;00m config_context(\n\u001b[0;32m    212\u001b[0m         skip_parameter_validation\u001b[38;5;241m=\u001b[39m(\n\u001b[0;32m    213\u001b[0m             prefer_skip_nested_validation \u001b[38;5;129;01mor\u001b[39;00m global_skip_validation\n\u001b[0;32m    214\u001b[0m         )\n\u001b[0;32m    215\u001b[0m     ):\n\u001b[1;32m--> 216\u001b[0m         \u001b[38;5;28;01mreturn\u001b[39;00m func(\u001b[38;5;241m*\u001b[39margs, \u001b[38;5;241m*\u001b[39m\u001b[38;5;241m*\u001b[39mkwargs)\n\u001b[0;32m    217\u001b[0m \u001b[38;5;28;01mexcept\u001b[39;00m InvalidParameterError \u001b[38;5;28;01mas\u001b[39;00m e:\n\u001b[0;32m    218\u001b[0m     \u001b[38;5;66;03m# When the function is just a wrapper around an estimator, we allow\u001b[39;00m\n\u001b[0;32m    219\u001b[0m     \u001b[38;5;66;03m# the function to delegate validation to the estimator, but we replace\u001b[39;00m\n\u001b[0;32m    220\u001b[0m     \u001b[38;5;66;03m# the name of the estimator by the name of the function in the error\u001b[39;00m\n\u001b[0;32m    221\u001b[0m     \u001b[38;5;66;03m# message to avoid confusion.\u001b[39;00m\n\u001b[0;32m    222\u001b[0m     msg \u001b[38;5;241m=\u001b[39m re\u001b[38;5;241m.\u001b[39msub(\n\u001b[0;32m    223\u001b[0m         \u001b[38;5;124mr\u001b[39m\u001b[38;5;124m\"\u001b[39m\u001b[38;5;124mparameter of \u001b[39m\u001b[38;5;124m\\\u001b[39m\u001b[38;5;124mw+ must be\u001b[39m\u001b[38;5;124m\"\u001b[39m,\n\u001b[0;32m    224\u001b[0m         \u001b[38;5;124mf\u001b[39m\u001b[38;5;124m\"\u001b[39m\u001b[38;5;124mparameter of \u001b[39m\u001b[38;5;132;01m{\u001b[39;00mfunc\u001b[38;5;241m.\u001b[39m\u001b[38;5;18m__qualname__\u001b[39m\u001b[38;5;132;01m}\u001b[39;00m\u001b[38;5;124m must be\u001b[39m\u001b[38;5;124m\"\u001b[39m,\n\u001b[0;32m    225\u001b[0m         \u001b[38;5;28mstr\u001b[39m(e),\n\u001b[0;32m    226\u001b[0m     )\n",
      "File \u001b[1;32mc:\\Users\\chowj1\\AppData\\Local\\anaconda3\\Lib\\site-packages\\sklearn\\model_selection\\_validation.py:411\u001b[0m, in \u001b[0;36mcross_validate\u001b[1;34m(estimator, X, y, groups, scoring, cv, n_jobs, verbose, params, pre_dispatch, return_train_score, return_estimator, return_indices, error_score)\u001b[0m\n\u001b[0;32m    408\u001b[0m \u001b[38;5;66;03m# We clone the estimator to make sure that all the folds are\u001b[39;00m\n\u001b[0;32m    409\u001b[0m \u001b[38;5;66;03m# independent, and that it is pickle-able.\u001b[39;00m\n\u001b[0;32m    410\u001b[0m parallel \u001b[38;5;241m=\u001b[39m Parallel(n_jobs\u001b[38;5;241m=\u001b[39mn_jobs, verbose\u001b[38;5;241m=\u001b[39mverbose, pre_dispatch\u001b[38;5;241m=\u001b[39mpre_dispatch)\n\u001b[1;32m--> 411\u001b[0m results \u001b[38;5;241m=\u001b[39m parallel(\n\u001b[0;32m    412\u001b[0m     delayed(_fit_and_score)(\n\u001b[0;32m    413\u001b[0m         clone(estimator),\n\u001b[0;32m    414\u001b[0m         X,\n\u001b[0;32m    415\u001b[0m         y,\n\u001b[0;32m    416\u001b[0m         scorer\u001b[38;5;241m=\u001b[39mscorers,\n\u001b[0;32m    417\u001b[0m         train\u001b[38;5;241m=\u001b[39mtrain,\n\u001b[0;32m    418\u001b[0m         test\u001b[38;5;241m=\u001b[39mtest,\n\u001b[0;32m    419\u001b[0m         verbose\u001b[38;5;241m=\u001b[39mverbose,\n\u001b[0;32m    420\u001b[0m         parameters\u001b[38;5;241m=\u001b[39m\u001b[38;5;28;01mNone\u001b[39;00m,\n\u001b[0;32m    421\u001b[0m         fit_params\u001b[38;5;241m=\u001b[39mrouted_params\u001b[38;5;241m.\u001b[39mestimator\u001b[38;5;241m.\u001b[39mfit,\n\u001b[0;32m    422\u001b[0m         score_params\u001b[38;5;241m=\u001b[39mrouted_params\u001b[38;5;241m.\u001b[39mscorer\u001b[38;5;241m.\u001b[39mscore,\n\u001b[0;32m    423\u001b[0m         return_train_score\u001b[38;5;241m=\u001b[39mreturn_train_score,\n\u001b[0;32m    424\u001b[0m         return_times\u001b[38;5;241m=\u001b[39m\u001b[38;5;28;01mTrue\u001b[39;00m,\n\u001b[0;32m    425\u001b[0m         return_estimator\u001b[38;5;241m=\u001b[39mreturn_estimator,\n\u001b[0;32m    426\u001b[0m         error_score\u001b[38;5;241m=\u001b[39merror_score,\n\u001b[0;32m    427\u001b[0m     )\n\u001b[0;32m    428\u001b[0m     \u001b[38;5;28;01mfor\u001b[39;00m train, test \u001b[38;5;129;01min\u001b[39;00m indices\n\u001b[0;32m    429\u001b[0m )\n\u001b[0;32m    431\u001b[0m _warn_or_raise_about_fit_failures(results, error_score)\n\u001b[0;32m    433\u001b[0m \u001b[38;5;66;03m# For callable scoring, the return type is only know after calling. If the\u001b[39;00m\n\u001b[0;32m    434\u001b[0m \u001b[38;5;66;03m# return type is a dictionary, the error scores can now be inserted with\u001b[39;00m\n\u001b[0;32m    435\u001b[0m \u001b[38;5;66;03m# the correct key.\u001b[39;00m\n",
      "File \u001b[1;32mc:\\Users\\chowj1\\AppData\\Local\\anaconda3\\Lib\\site-packages\\sklearn\\utils\\parallel.py:77\u001b[0m, in \u001b[0;36mParallel.__call__\u001b[1;34m(self, iterable)\u001b[0m\n\u001b[0;32m     72\u001b[0m config \u001b[38;5;241m=\u001b[39m get_config()\n\u001b[0;32m     73\u001b[0m iterable_with_config \u001b[38;5;241m=\u001b[39m (\n\u001b[0;32m     74\u001b[0m     (_with_config(delayed_func, config), args, kwargs)\n\u001b[0;32m     75\u001b[0m     \u001b[38;5;28;01mfor\u001b[39;00m delayed_func, args, kwargs \u001b[38;5;129;01min\u001b[39;00m iterable\n\u001b[0;32m     76\u001b[0m )\n\u001b[1;32m---> 77\u001b[0m \u001b[38;5;28;01mreturn\u001b[39;00m \u001b[38;5;28msuper\u001b[39m()\u001b[38;5;241m.\u001b[39m\u001b[38;5;21m__call__\u001b[39m(iterable_with_config)\n",
      "File \u001b[1;32mc:\\Users\\chowj1\\AppData\\Local\\anaconda3\\Lib\\site-packages\\joblib\\parallel.py:1098\u001b[0m, in \u001b[0;36mParallel.__call__\u001b[1;34m(self, iterable)\u001b[0m\n\u001b[0;32m   1095\u001b[0m     \u001b[38;5;28mself\u001b[39m\u001b[38;5;241m.\u001b[39m_iterating \u001b[38;5;241m=\u001b[39m \u001b[38;5;28;01mFalse\u001b[39;00m\n\u001b[0;32m   1097\u001b[0m \u001b[38;5;28;01mwith\u001b[39;00m \u001b[38;5;28mself\u001b[39m\u001b[38;5;241m.\u001b[39m_backend\u001b[38;5;241m.\u001b[39mretrieval_context():\n\u001b[1;32m-> 1098\u001b[0m     \u001b[38;5;28mself\u001b[39m\u001b[38;5;241m.\u001b[39mretrieve()\n\u001b[0;32m   1099\u001b[0m \u001b[38;5;66;03m# Make sure that we get a last message telling us we are done\u001b[39;00m\n\u001b[0;32m   1100\u001b[0m elapsed_time \u001b[38;5;241m=\u001b[39m time\u001b[38;5;241m.\u001b[39mtime() \u001b[38;5;241m-\u001b[39m \u001b[38;5;28mself\u001b[39m\u001b[38;5;241m.\u001b[39m_start_time\n",
      "File \u001b[1;32mc:\\Users\\chowj1\\AppData\\Local\\anaconda3\\Lib\\site-packages\\joblib\\parallel.py:975\u001b[0m, in \u001b[0;36mParallel.retrieve\u001b[1;34m(self)\u001b[0m\n\u001b[0;32m    973\u001b[0m \u001b[38;5;28;01mtry\u001b[39;00m:\n\u001b[0;32m    974\u001b[0m     \u001b[38;5;28;01mif\u001b[39;00m \u001b[38;5;28mgetattr\u001b[39m(\u001b[38;5;28mself\u001b[39m\u001b[38;5;241m.\u001b[39m_backend, \u001b[38;5;124m'\u001b[39m\u001b[38;5;124msupports_timeout\u001b[39m\u001b[38;5;124m'\u001b[39m, \u001b[38;5;28;01mFalse\u001b[39;00m):\n\u001b[1;32m--> 975\u001b[0m         \u001b[38;5;28mself\u001b[39m\u001b[38;5;241m.\u001b[39m_output\u001b[38;5;241m.\u001b[39mextend(job\u001b[38;5;241m.\u001b[39mget(timeout\u001b[38;5;241m=\u001b[39m\u001b[38;5;28mself\u001b[39m\u001b[38;5;241m.\u001b[39mtimeout))\n\u001b[0;32m    976\u001b[0m     \u001b[38;5;28;01melse\u001b[39;00m:\n\u001b[0;32m    977\u001b[0m         \u001b[38;5;28mself\u001b[39m\u001b[38;5;241m.\u001b[39m_output\u001b[38;5;241m.\u001b[39mextend(job\u001b[38;5;241m.\u001b[39mget())\n",
      "File \u001b[1;32mc:\\Users\\chowj1\\AppData\\Local\\anaconda3\\Lib\\site-packages\\joblib\\_parallel_backends.py:567\u001b[0m, in \u001b[0;36mLokyBackend.wrap_future_result\u001b[1;34m(future, timeout)\u001b[0m\n\u001b[0;32m    564\u001b[0m \u001b[38;5;250m\u001b[39m\u001b[38;5;124;03m\"\"\"Wrapper for Future.result to implement the same behaviour as\u001b[39;00m\n\u001b[0;32m    565\u001b[0m \u001b[38;5;124;03mAsyncResults.get from multiprocessing.\"\"\"\u001b[39;00m\n\u001b[0;32m    566\u001b[0m \u001b[38;5;28;01mtry\u001b[39;00m:\n\u001b[1;32m--> 567\u001b[0m     \u001b[38;5;28;01mreturn\u001b[39;00m future\u001b[38;5;241m.\u001b[39mresult(timeout\u001b[38;5;241m=\u001b[39mtimeout)\n\u001b[0;32m    568\u001b[0m \u001b[38;5;28;01mexcept\u001b[39;00m CfTimeoutError \u001b[38;5;28;01mas\u001b[39;00m e:\n\u001b[0;32m    569\u001b[0m     \u001b[38;5;28;01mraise\u001b[39;00m \u001b[38;5;167;01mTimeoutError\u001b[39;00m \u001b[38;5;28;01mfrom\u001b[39;00m \u001b[38;5;21;01me\u001b[39;00m\n",
      "File \u001b[1;32mc:\\Users\\chowj1\\AppData\\Local\\anaconda3\\Lib\\concurrent\\futures\\_base.py:451\u001b[0m, in \u001b[0;36mFuture.result\u001b[1;34m(self, timeout)\u001b[0m\n\u001b[0;32m    448\u001b[0m \u001b[38;5;28;01melif\u001b[39;00m \u001b[38;5;28mself\u001b[39m\u001b[38;5;241m.\u001b[39m_state \u001b[38;5;241m==\u001b[39m FINISHED:\n\u001b[0;32m    449\u001b[0m     \u001b[38;5;28;01mreturn\u001b[39;00m \u001b[38;5;28mself\u001b[39m\u001b[38;5;241m.\u001b[39m__get_result()\n\u001b[1;32m--> 451\u001b[0m \u001b[38;5;28mself\u001b[39m\u001b[38;5;241m.\u001b[39m_condition\u001b[38;5;241m.\u001b[39mwait(timeout)\n\u001b[0;32m    453\u001b[0m \u001b[38;5;28;01mif\u001b[39;00m \u001b[38;5;28mself\u001b[39m\u001b[38;5;241m.\u001b[39m_state \u001b[38;5;129;01min\u001b[39;00m [CANCELLED, CANCELLED_AND_NOTIFIED]:\n\u001b[0;32m    454\u001b[0m     \u001b[38;5;28;01mraise\u001b[39;00m CancelledError()\n",
      "File \u001b[1;32mc:\\Users\\chowj1\\AppData\\Local\\anaconda3\\Lib\\threading.py:320\u001b[0m, in \u001b[0;36mCondition.wait\u001b[1;34m(self, timeout)\u001b[0m\n\u001b[0;32m    318\u001b[0m \u001b[38;5;28;01mtry\u001b[39;00m:    \u001b[38;5;66;03m# restore state no matter what (e.g., KeyboardInterrupt)\u001b[39;00m\n\u001b[0;32m    319\u001b[0m     \u001b[38;5;28;01mif\u001b[39;00m timeout \u001b[38;5;129;01mis\u001b[39;00m \u001b[38;5;28;01mNone\u001b[39;00m:\n\u001b[1;32m--> 320\u001b[0m         waiter\u001b[38;5;241m.\u001b[39macquire()\n\u001b[0;32m    321\u001b[0m         gotit \u001b[38;5;241m=\u001b[39m \u001b[38;5;28;01mTrue\u001b[39;00m\n\u001b[0;32m    322\u001b[0m     \u001b[38;5;28;01melse\u001b[39;00m:\n",
      "\u001b[1;31mKeyboardInterrupt\u001b[0m: "
     ]
    }
   ],
   "source": [
    "def objective(trial):\n",
    "    params = {\n",
    "        'loss_function': 'RMSE',  \n",
    "        'iterations': 428,\n",
    "        'learning_rate': trial.suggest_float('learning_rate', 0.05, 0.3, log=True),\n",
    "        'l2_leaf_reg': trial.suggest_float('l2_leaf_reg',3,15),\n",
    "        'depth': trial.suggest_int('depth',3,10),\n",
    "        'verbose': 0,\n",
    "        'early_stopping_rounds':50,\n",
    "        'eval_metric': 'RMSE',\n",
    "        'thread_count': -1\n",
    "    }\n",
    "\n",
    "    model = CatBoostRegressor(**params)\n",
    "    \n",
    "    score = cross_val_score(model, X_train, y_train, n_jobs=-1, cv=4, scoring='neg_mean_squared_error').mean()\n",
    "\n",
    "    return -score\n",
    "\n",
    "\n",
    "\n",
    "study = optuna.create_study(direction='minimize',sampler = optuna.samplers.RandomSampler(seed=42))\n",
    "\n",
    "study.optimize(objective,n_trials=200)"
   ]
  },
  {
   "cell_type": "code",
   "execution_count": 84,
   "id": "5be85902",
   "metadata": {},
   "outputs": [
    {
     "data": {
      "application/vnd.plotly.v1+json": {
       "config": {
        "plotlyServerURL": "https://plot.ly"
       },
       "data": [
        {
         "mode": "markers",
         "name": "Objective Value",
         "type": "scatter",
         "x": [
          0,
          1,
          2,
          3,
          4,
          5,
          6,
          7,
          8,
          9,
          10,
          11,
          12,
          13,
          14,
          15,
          16,
          17,
          18,
          19,
          20,
          21,
          22,
          23,
          24,
          25,
          26,
          27,
          28,
          29,
          30,
          31,
          32,
          33,
          34,
          35,
          36,
          37,
          38,
          39,
          40,
          41,
          42,
          43,
          44,
          45,
          46,
          47,
          48,
          49,
          50,
          51,
          52,
          53,
          54,
          55,
          56,
          57,
          58,
          59,
          60,
          61,
          62,
          63,
          64,
          65,
          66,
          67,
          68,
          69,
          70,
          71,
          72,
          73,
          74,
          75,
          76,
          77,
          78,
          79,
          80,
          81,
          82,
          83,
          84,
          85,
          86,
          87,
          88,
          89,
          90,
          91,
          92,
          93,
          94,
          95,
          96,
          97,
          98,
          99,
          100,
          101,
          102,
          103,
          104,
          105,
          106,
          107,
          108,
          109,
          110,
          111,
          112,
          113,
          114,
          115,
          116,
          117,
          118,
          119,
          120,
          121,
          122,
          123,
          124,
          125,
          126,
          127,
          128,
          129,
          130,
          131,
          132,
          133,
          134,
          135,
          136,
          137,
          138,
          139,
          140,
          141,
          142,
          143,
          144,
          145,
          146,
          147,
          148,
          149,
          150,
          151,
          152,
          153,
          154,
          155,
          156,
          157,
          158,
          159,
          160,
          161,
          162,
          163,
          164,
          165,
          166,
          167,
          168,
          169,
          170,
          171,
          172,
          173,
          174,
          175,
          176,
          177,
          178,
          179,
          180,
          181,
          182,
          183,
          184,
          185,
          186,
          187,
          188,
          189,
          190,
          191,
          192,
          193,
          194,
          195,
          196,
          197,
          198,
          199
         ],
         "y": [
          5190502461.131141,
          5169031527.659563,
          5329734940.741661,
          5044323472.132696,
          5076830097.778909,
          5058714020.45299,
          5205832899.966038,
          4993450756.191715,
          5108698452.868717,
          5036537802.980981,
          5298901361.287548,
          5171011575.182801,
          5012677462.845175,
          5239333963.038484,
          5098018818.75742,
          5056123709.357752,
          5183240011.820087,
          5097882406.301724,
          5112400910.384344,
          5029060137.115413,
          5088270849.123248,
          5034622650.535189,
          5191175034.233426,
          5106178693.74006,
          5102712740.06005,
          5116130964.3553095,
          5106636458.978268,
          5012060889.461058,
          5207778757.628836,
          5055791997.225701,
          5112779394.083664,
          5031586994.1178255,
          5049072822.574772,
          4998248207.528591,
          5213077852.400195,
          5042717817.390156,
          5051076558.637082,
          4980036208.717368,
          5028242589.555121,
          5219637054.093142,
          5141449839.996699,
          5115842437.118473,
          5041608368.493521,
          5000921060.79044,
          5010245515.41063,
          5023281839.425891,
          5116219798.525827,
          5200421448.128732,
          5138746795.669018,
          5170352017.408148,
          5149187553.922049,
          5111324827.690023,
          5028324846.292194,
          4979483946.215235,
          5100774024.574243,
          5161074221.211291,
          4995510029.0476055,
          5125783519.920343,
          5147017522.063709,
          4974841457.356689,
          5129368882.53047,
          5201139225.789272,
          5179604120.635075,
          5153508599.938144,
          5074973420.769464,
          5277177782.070222,
          5194799790.250722,
          5025081253.318294,
          5228855526.583219,
          5131098817.901018,
          5053551044.898275,
          5039642720.249273,
          5114551515.573527,
          5179848012.701824,
          5045033961.333494,
          5081134884.0137005,
          5154822091.277802,
          5044134751.319234,
          5114997659.769074,
          5069427160.437455,
          5056732509.291642,
          5185231894.760446,
          5106166201.956149,
          5043963335.2299185,
          5098304642.725663,
          5135408758.275848,
          5057339604.86697,
          5139322737.15737,
          5119963068.462477,
          5056093304.508837,
          5100613935.73905,
          5085561553.0576105,
          5035849978.256704,
          5148856624.619575,
          5011717905.355186,
          5142774279.014043,
          5108396056.61458,
          5111889322.592773,
          5275664765.3656,
          5091305497.839287,
          5181645265.882977,
          5089733759.382265,
          5128640928.732718,
          5106890057.76137,
          5082900927.43224,
          5244309656.947861,
          5137959575.496333,
          5131633691.655727,
          5149139319.429035,
          5062372263.64511,
          5182335677.271381,
          5137391192.91483,
          4986749338.792765,
          5284639974.946919,
          5082475984.577137,
          5073122650.768469,
          5162832019.25346,
          5416455234.196204,
          5165587957.560136,
          5065662397.571377,
          5166442510.65282,
          5299693017.677003,
          5240324973.006624,
          5008059334.434724,
          5024683264.845938,
          5170345860.006612,
          5023971457.642058,
          5078131922.869972,
          5161664627.976206,
          5049688709.402706,
          5073777849.474034,
          5123030259.958995,
          5150457794.9100685,
          5141165332.899942,
          5012101992.1602745,
          5167856904.223443,
          5180005753.847417,
          5122623559.102716,
          5070045670.219825,
          4989960791.528481,
          5054881705.324656,
          5123541163.796296,
          5097372011.287966,
          5098736841.114615,
          5149839464.920155,
          5152665409.891762,
          5075105103.978807,
          5062875041.191257,
          5025918046.160961,
          5050161037.014538,
          5041181256.534682,
          5084764291.637581,
          5306499982.438719,
          5012583924.276039,
          5044091088.867846,
          5082604303.869837,
          5079385211.58547,
          5042922671.732297,
          5169865588.388388,
          5098319473.331889,
          5062928908.499817,
          5154243476.90674,
          5223965056.35941,
          5069752887.478573,
          5062965639.9728985,
          5087238996.746593,
          4988456551.028011,
          5202645348.656928,
          5165988614.043475,
          5047823255.130717,
          5137519716.497459,
          5053933700.160649,
          5081216045.105461,
          5125156610.963558,
          5131251019.292358,
          5001007430.976919,
          5198651154.85292,
          5055979242.595496,
          5154422059.306925,
          5314642381.919304,
          5195511453.444321,
          5257837856.066213,
          5131960818.414254,
          5221232038.481989,
          5121043021.107114,
          5048549841.927292,
          5187114313.45099,
          5330012835.656689,
          5204828837.844406,
          5054827073.377106,
          5131562806.893348,
          5107471038.132549,
          5306111856.590455,
          4995903790.425053,
          5086515769.685639,
          5123340583.971665,
          5172972168.513897,
          5274862779.297176,
          5286666200.989281,
          5144457016.077637
         ]
        },
        {
         "mode": "lines",
         "name": "Best Value",
         "type": "scatter",
         "x": [
          0,
          1,
          2,
          3,
          4,
          5,
          6,
          7,
          8,
          9,
          10,
          11,
          12,
          13,
          14,
          15,
          16,
          17,
          18,
          19,
          20,
          21,
          22,
          23,
          24,
          25,
          26,
          27,
          28,
          29,
          30,
          31,
          32,
          33,
          34,
          35,
          36,
          37,
          38,
          39,
          40,
          41,
          42,
          43,
          44,
          45,
          46,
          47,
          48,
          49,
          50,
          51,
          52,
          53,
          54,
          55,
          56,
          57,
          58,
          59,
          60,
          61,
          62,
          63,
          64,
          65,
          66,
          67,
          68,
          69,
          70,
          71,
          72,
          73,
          74,
          75,
          76,
          77,
          78,
          79,
          80,
          81,
          82,
          83,
          84,
          85,
          86,
          87,
          88,
          89,
          90,
          91,
          92,
          93,
          94,
          95,
          96,
          97,
          98,
          99,
          100,
          101,
          102,
          103,
          104,
          105,
          106,
          107,
          108,
          109,
          110,
          111,
          112,
          113,
          114,
          115,
          116,
          117,
          118,
          119,
          120,
          121,
          122,
          123,
          124,
          125,
          126,
          127,
          128,
          129,
          130,
          131,
          132,
          133,
          134,
          135,
          136,
          137,
          138,
          139,
          140,
          141,
          142,
          143,
          144,
          145,
          146,
          147,
          148,
          149,
          150,
          151,
          152,
          153,
          154,
          155,
          156,
          157,
          158,
          159,
          160,
          161,
          162,
          163,
          164,
          165,
          166,
          167,
          168,
          169,
          170,
          171,
          172,
          173,
          174,
          175,
          176,
          177,
          178,
          179,
          180,
          181,
          182,
          183,
          184,
          185,
          186,
          187,
          188,
          189,
          190,
          191,
          192,
          193,
          194,
          195,
          196,
          197,
          198,
          199
         ],
         "y": [
          5190502461.131141,
          5169031527.659563,
          5169031527.659563,
          5044323472.132696,
          5044323472.132696,
          5044323472.132696,
          5044323472.132696,
          4993450756.191715,
          4993450756.191715,
          4993450756.191715,
          4993450756.191715,
          4993450756.191715,
          4993450756.191715,
          4993450756.191715,
          4993450756.191715,
          4993450756.191715,
          4993450756.191715,
          4993450756.191715,
          4993450756.191715,
          4993450756.191715,
          4993450756.191715,
          4993450756.191715,
          4993450756.191715,
          4993450756.191715,
          4993450756.191715,
          4993450756.191715,
          4993450756.191715,
          4993450756.191715,
          4993450756.191715,
          4993450756.191715,
          4993450756.191715,
          4993450756.191715,
          4993450756.191715,
          4993450756.191715,
          4993450756.191715,
          4993450756.191715,
          4993450756.191715,
          4980036208.717368,
          4980036208.717368,
          4980036208.717368,
          4980036208.717368,
          4980036208.717368,
          4980036208.717368,
          4980036208.717368,
          4980036208.717368,
          4980036208.717368,
          4980036208.717368,
          4980036208.717368,
          4980036208.717368,
          4980036208.717368,
          4980036208.717368,
          4980036208.717368,
          4980036208.717368,
          4979483946.215235,
          4979483946.215235,
          4979483946.215235,
          4979483946.215235,
          4979483946.215235,
          4979483946.215235,
          4974841457.356689,
          4974841457.356689,
          4974841457.356689,
          4974841457.356689,
          4974841457.356689,
          4974841457.356689,
          4974841457.356689,
          4974841457.356689,
          4974841457.356689,
          4974841457.356689,
          4974841457.356689,
          4974841457.356689,
          4974841457.356689,
          4974841457.356689,
          4974841457.356689,
          4974841457.356689,
          4974841457.356689,
          4974841457.356689,
          4974841457.356689,
          4974841457.356689,
          4974841457.356689,
          4974841457.356689,
          4974841457.356689,
          4974841457.356689,
          4974841457.356689,
          4974841457.356689,
          4974841457.356689,
          4974841457.356689,
          4974841457.356689,
          4974841457.356689,
          4974841457.356689,
          4974841457.356689,
          4974841457.356689,
          4974841457.356689,
          4974841457.356689,
          4974841457.356689,
          4974841457.356689,
          4974841457.356689,
          4974841457.356689,
          4974841457.356689,
          4974841457.356689,
          4974841457.356689,
          4974841457.356689,
          4974841457.356689,
          4974841457.356689,
          4974841457.356689,
          4974841457.356689,
          4974841457.356689,
          4974841457.356689,
          4974841457.356689,
          4974841457.356689,
          4974841457.356689,
          4974841457.356689,
          4974841457.356689,
          4974841457.356689,
          4974841457.356689,
          4974841457.356689,
          4974841457.356689,
          4974841457.356689,
          4974841457.356689,
          4974841457.356689,
          4974841457.356689,
          4974841457.356689,
          4974841457.356689,
          4974841457.356689,
          4974841457.356689,
          4974841457.356689,
          4974841457.356689,
          4974841457.356689,
          4974841457.356689,
          4974841457.356689,
          4974841457.356689,
          4974841457.356689,
          4974841457.356689,
          4974841457.356689,
          4974841457.356689,
          4974841457.356689,
          4974841457.356689,
          4974841457.356689,
          4974841457.356689,
          4974841457.356689,
          4974841457.356689,
          4974841457.356689,
          4974841457.356689,
          4974841457.356689,
          4974841457.356689,
          4974841457.356689,
          4974841457.356689,
          4974841457.356689,
          4974841457.356689,
          4974841457.356689,
          4974841457.356689,
          4974841457.356689,
          4974841457.356689,
          4974841457.356689,
          4974841457.356689,
          4974841457.356689,
          4974841457.356689,
          4974841457.356689,
          4974841457.356689,
          4974841457.356689,
          4974841457.356689,
          4974841457.356689,
          4974841457.356689,
          4974841457.356689,
          4974841457.356689,
          4974841457.356689,
          4974841457.356689,
          4974841457.356689,
          4974841457.356689,
          4974841457.356689,
          4974841457.356689,
          4974841457.356689,
          4974841457.356689,
          4974841457.356689,
          4974841457.356689,
          4974841457.356689,
          4974841457.356689,
          4974841457.356689,
          4974841457.356689,
          4974841457.356689,
          4974841457.356689,
          4974841457.356689,
          4974841457.356689,
          4974841457.356689,
          4974841457.356689,
          4974841457.356689,
          4974841457.356689,
          4974841457.356689,
          4974841457.356689,
          4974841457.356689,
          4974841457.356689,
          4974841457.356689,
          4974841457.356689,
          4974841457.356689,
          4974841457.356689,
          4974841457.356689,
          4974841457.356689,
          4974841457.356689,
          4974841457.356689,
          4974841457.356689
         ]
        },
        {
         "marker": {
          "color": "#cccccc"
         },
         "mode": "markers",
         "name": "Infeasible Trial",
         "showlegend": false,
         "type": "scatter",
         "x": [],
         "y": []
        }
       ],
       "layout": {
        "template": {
         "data": {
          "bar": [
           {
            "error_x": {
             "color": "#2a3f5f"
            },
            "error_y": {
             "color": "#2a3f5f"
            },
            "marker": {
             "line": {
              "color": "#E5ECF6",
              "width": 0.5
             },
             "pattern": {
              "fillmode": "overlay",
              "size": 10,
              "solidity": 0.2
             }
            },
            "type": "bar"
           }
          ],
          "barpolar": [
           {
            "marker": {
             "line": {
              "color": "#E5ECF6",
              "width": 0.5
             },
             "pattern": {
              "fillmode": "overlay",
              "size": 10,
              "solidity": 0.2
             }
            },
            "type": "barpolar"
           }
          ],
          "carpet": [
           {
            "aaxis": {
             "endlinecolor": "#2a3f5f",
             "gridcolor": "white",
             "linecolor": "white",
             "minorgridcolor": "white",
             "startlinecolor": "#2a3f5f"
            },
            "baxis": {
             "endlinecolor": "#2a3f5f",
             "gridcolor": "white",
             "linecolor": "white",
             "minorgridcolor": "white",
             "startlinecolor": "#2a3f5f"
            },
            "type": "carpet"
           }
          ],
          "choropleth": [
           {
            "colorbar": {
             "outlinewidth": 0,
             "ticks": ""
            },
            "type": "choropleth"
           }
          ],
          "contour": [
           {
            "colorbar": {
             "outlinewidth": 0,
             "ticks": ""
            },
            "colorscale": [
             [
              0,
              "#0d0887"
             ],
             [
              0.1111111111111111,
              "#46039f"
             ],
             [
              0.2222222222222222,
              "#7201a8"
             ],
             [
              0.3333333333333333,
              "#9c179e"
             ],
             [
              0.4444444444444444,
              "#bd3786"
             ],
             [
              0.5555555555555556,
              "#d8576b"
             ],
             [
              0.6666666666666666,
              "#ed7953"
             ],
             [
              0.7777777777777778,
              "#fb9f3a"
             ],
             [
              0.8888888888888888,
              "#fdca26"
             ],
             [
              1,
              "#f0f921"
             ]
            ],
            "type": "contour"
           }
          ],
          "contourcarpet": [
           {
            "colorbar": {
             "outlinewidth": 0,
             "ticks": ""
            },
            "type": "contourcarpet"
           }
          ],
          "heatmap": [
           {
            "colorbar": {
             "outlinewidth": 0,
             "ticks": ""
            },
            "colorscale": [
             [
              0,
              "#0d0887"
             ],
             [
              0.1111111111111111,
              "#46039f"
             ],
             [
              0.2222222222222222,
              "#7201a8"
             ],
             [
              0.3333333333333333,
              "#9c179e"
             ],
             [
              0.4444444444444444,
              "#bd3786"
             ],
             [
              0.5555555555555556,
              "#d8576b"
             ],
             [
              0.6666666666666666,
              "#ed7953"
             ],
             [
              0.7777777777777778,
              "#fb9f3a"
             ],
             [
              0.8888888888888888,
              "#fdca26"
             ],
             [
              1,
              "#f0f921"
             ]
            ],
            "type": "heatmap"
           }
          ],
          "heatmapgl": [
           {
            "colorbar": {
             "outlinewidth": 0,
             "ticks": ""
            },
            "colorscale": [
             [
              0,
              "#0d0887"
             ],
             [
              0.1111111111111111,
              "#46039f"
             ],
             [
              0.2222222222222222,
              "#7201a8"
             ],
             [
              0.3333333333333333,
              "#9c179e"
             ],
             [
              0.4444444444444444,
              "#bd3786"
             ],
             [
              0.5555555555555556,
              "#d8576b"
             ],
             [
              0.6666666666666666,
              "#ed7953"
             ],
             [
              0.7777777777777778,
              "#fb9f3a"
             ],
             [
              0.8888888888888888,
              "#fdca26"
             ],
             [
              1,
              "#f0f921"
             ]
            ],
            "type": "heatmapgl"
           }
          ],
          "histogram": [
           {
            "marker": {
             "pattern": {
              "fillmode": "overlay",
              "size": 10,
              "solidity": 0.2
             }
            },
            "type": "histogram"
           }
          ],
          "histogram2d": [
           {
            "colorbar": {
             "outlinewidth": 0,
             "ticks": ""
            },
            "colorscale": [
             [
              0,
              "#0d0887"
             ],
             [
              0.1111111111111111,
              "#46039f"
             ],
             [
              0.2222222222222222,
              "#7201a8"
             ],
             [
              0.3333333333333333,
              "#9c179e"
             ],
             [
              0.4444444444444444,
              "#bd3786"
             ],
             [
              0.5555555555555556,
              "#d8576b"
             ],
             [
              0.6666666666666666,
              "#ed7953"
             ],
             [
              0.7777777777777778,
              "#fb9f3a"
             ],
             [
              0.8888888888888888,
              "#fdca26"
             ],
             [
              1,
              "#f0f921"
             ]
            ],
            "type": "histogram2d"
           }
          ],
          "histogram2dcontour": [
           {
            "colorbar": {
             "outlinewidth": 0,
             "ticks": ""
            },
            "colorscale": [
             [
              0,
              "#0d0887"
             ],
             [
              0.1111111111111111,
              "#46039f"
             ],
             [
              0.2222222222222222,
              "#7201a8"
             ],
             [
              0.3333333333333333,
              "#9c179e"
             ],
             [
              0.4444444444444444,
              "#bd3786"
             ],
             [
              0.5555555555555556,
              "#d8576b"
             ],
             [
              0.6666666666666666,
              "#ed7953"
             ],
             [
              0.7777777777777778,
              "#fb9f3a"
             ],
             [
              0.8888888888888888,
              "#fdca26"
             ],
             [
              1,
              "#f0f921"
             ]
            ],
            "type": "histogram2dcontour"
           }
          ],
          "mesh3d": [
           {
            "colorbar": {
             "outlinewidth": 0,
             "ticks": ""
            },
            "type": "mesh3d"
           }
          ],
          "parcoords": [
           {
            "line": {
             "colorbar": {
              "outlinewidth": 0,
              "ticks": ""
             }
            },
            "type": "parcoords"
           }
          ],
          "pie": [
           {
            "automargin": true,
            "type": "pie"
           }
          ],
          "scatter": [
           {
            "fillpattern": {
             "fillmode": "overlay",
             "size": 10,
             "solidity": 0.2
            },
            "type": "scatter"
           }
          ],
          "scatter3d": [
           {
            "line": {
             "colorbar": {
              "outlinewidth": 0,
              "ticks": ""
             }
            },
            "marker": {
             "colorbar": {
              "outlinewidth": 0,
              "ticks": ""
             }
            },
            "type": "scatter3d"
           }
          ],
          "scattercarpet": [
           {
            "marker": {
             "colorbar": {
              "outlinewidth": 0,
              "ticks": ""
             }
            },
            "type": "scattercarpet"
           }
          ],
          "scattergeo": [
           {
            "marker": {
             "colorbar": {
              "outlinewidth": 0,
              "ticks": ""
             }
            },
            "type": "scattergeo"
           }
          ],
          "scattergl": [
           {
            "marker": {
             "colorbar": {
              "outlinewidth": 0,
              "ticks": ""
             }
            },
            "type": "scattergl"
           }
          ],
          "scattermapbox": [
           {
            "marker": {
             "colorbar": {
              "outlinewidth": 0,
              "ticks": ""
             }
            },
            "type": "scattermapbox"
           }
          ],
          "scatterpolar": [
           {
            "marker": {
             "colorbar": {
              "outlinewidth": 0,
              "ticks": ""
             }
            },
            "type": "scatterpolar"
           }
          ],
          "scatterpolargl": [
           {
            "marker": {
             "colorbar": {
              "outlinewidth": 0,
              "ticks": ""
             }
            },
            "type": "scatterpolargl"
           }
          ],
          "scatterternary": [
           {
            "marker": {
             "colorbar": {
              "outlinewidth": 0,
              "ticks": ""
             }
            },
            "type": "scatterternary"
           }
          ],
          "surface": [
           {
            "colorbar": {
             "outlinewidth": 0,
             "ticks": ""
            },
            "colorscale": [
             [
              0,
              "#0d0887"
             ],
             [
              0.1111111111111111,
              "#46039f"
             ],
             [
              0.2222222222222222,
              "#7201a8"
             ],
             [
              0.3333333333333333,
              "#9c179e"
             ],
             [
              0.4444444444444444,
              "#bd3786"
             ],
             [
              0.5555555555555556,
              "#d8576b"
             ],
             [
              0.6666666666666666,
              "#ed7953"
             ],
             [
              0.7777777777777778,
              "#fb9f3a"
             ],
             [
              0.8888888888888888,
              "#fdca26"
             ],
             [
              1,
              "#f0f921"
             ]
            ],
            "type": "surface"
           }
          ],
          "table": [
           {
            "cells": {
             "fill": {
              "color": "#EBF0F8"
             },
             "line": {
              "color": "white"
             }
            },
            "header": {
             "fill": {
              "color": "#C8D4E3"
             },
             "line": {
              "color": "white"
             }
            },
            "type": "table"
           }
          ]
         },
         "layout": {
          "annotationdefaults": {
           "arrowcolor": "#2a3f5f",
           "arrowhead": 0,
           "arrowwidth": 1
          },
          "autotypenumbers": "strict",
          "coloraxis": {
           "colorbar": {
            "outlinewidth": 0,
            "ticks": ""
           }
          },
          "colorscale": {
           "diverging": [
            [
             0,
             "#8e0152"
            ],
            [
             0.1,
             "#c51b7d"
            ],
            [
             0.2,
             "#de77ae"
            ],
            [
             0.3,
             "#f1b6da"
            ],
            [
             0.4,
             "#fde0ef"
            ],
            [
             0.5,
             "#f7f7f7"
            ],
            [
             0.6,
             "#e6f5d0"
            ],
            [
             0.7,
             "#b8e186"
            ],
            [
             0.8,
             "#7fbc41"
            ],
            [
             0.9,
             "#4d9221"
            ],
            [
             1,
             "#276419"
            ]
           ],
           "sequential": [
            [
             0,
             "#0d0887"
            ],
            [
             0.1111111111111111,
             "#46039f"
            ],
            [
             0.2222222222222222,
             "#7201a8"
            ],
            [
             0.3333333333333333,
             "#9c179e"
            ],
            [
             0.4444444444444444,
             "#bd3786"
            ],
            [
             0.5555555555555556,
             "#d8576b"
            ],
            [
             0.6666666666666666,
             "#ed7953"
            ],
            [
             0.7777777777777778,
             "#fb9f3a"
            ],
            [
             0.8888888888888888,
             "#fdca26"
            ],
            [
             1,
             "#f0f921"
            ]
           ],
           "sequentialminus": [
            [
             0,
             "#0d0887"
            ],
            [
             0.1111111111111111,
             "#46039f"
            ],
            [
             0.2222222222222222,
             "#7201a8"
            ],
            [
             0.3333333333333333,
             "#9c179e"
            ],
            [
             0.4444444444444444,
             "#bd3786"
            ],
            [
             0.5555555555555556,
             "#d8576b"
            ],
            [
             0.6666666666666666,
             "#ed7953"
            ],
            [
             0.7777777777777778,
             "#fb9f3a"
            ],
            [
             0.8888888888888888,
             "#fdca26"
            ],
            [
             1,
             "#f0f921"
            ]
           ]
          },
          "colorway": [
           "#636efa",
           "#EF553B",
           "#00cc96",
           "#ab63fa",
           "#FFA15A",
           "#19d3f3",
           "#FF6692",
           "#B6E880",
           "#FF97FF",
           "#FECB52"
          ],
          "font": {
           "color": "#2a3f5f"
          },
          "geo": {
           "bgcolor": "white",
           "lakecolor": "white",
           "landcolor": "#E5ECF6",
           "showlakes": true,
           "showland": true,
           "subunitcolor": "white"
          },
          "hoverlabel": {
           "align": "left"
          },
          "hovermode": "closest",
          "mapbox": {
           "style": "light"
          },
          "paper_bgcolor": "white",
          "plot_bgcolor": "#E5ECF6",
          "polar": {
           "angularaxis": {
            "gridcolor": "white",
            "linecolor": "white",
            "ticks": ""
           },
           "bgcolor": "#E5ECF6",
           "radialaxis": {
            "gridcolor": "white",
            "linecolor": "white",
            "ticks": ""
           }
          },
          "scene": {
           "xaxis": {
            "backgroundcolor": "#E5ECF6",
            "gridcolor": "white",
            "gridwidth": 2,
            "linecolor": "white",
            "showbackground": true,
            "ticks": "",
            "zerolinecolor": "white"
           },
           "yaxis": {
            "backgroundcolor": "#E5ECF6",
            "gridcolor": "white",
            "gridwidth": 2,
            "linecolor": "white",
            "showbackground": true,
            "ticks": "",
            "zerolinecolor": "white"
           },
           "zaxis": {
            "backgroundcolor": "#E5ECF6",
            "gridcolor": "white",
            "gridwidth": 2,
            "linecolor": "white",
            "showbackground": true,
            "ticks": "",
            "zerolinecolor": "white"
           }
          },
          "shapedefaults": {
           "line": {
            "color": "#2a3f5f"
           }
          },
          "ternary": {
           "aaxis": {
            "gridcolor": "white",
            "linecolor": "white",
            "ticks": ""
           },
           "baxis": {
            "gridcolor": "white",
            "linecolor": "white",
            "ticks": ""
           },
           "bgcolor": "#E5ECF6",
           "caxis": {
            "gridcolor": "white",
            "linecolor": "white",
            "ticks": ""
           }
          },
          "title": {
           "x": 0.05
          },
          "xaxis": {
           "automargin": true,
           "gridcolor": "white",
           "linecolor": "white",
           "ticks": "",
           "title": {
            "standoff": 15
           },
           "zerolinecolor": "white",
           "zerolinewidth": 2
          },
          "yaxis": {
           "automargin": true,
           "gridcolor": "white",
           "linecolor": "white",
           "ticks": "",
           "title": {
            "standoff": 15
           },
           "zerolinecolor": "white",
           "zerolinewidth": 2
          }
         }
        },
        "title": {
         "text": "Optimization History Plot"
        },
        "xaxis": {
         "title": {
          "text": "Trial"
         }
        },
        "yaxis": {
         "title": {
          "text": "Objective Value"
         }
        }
       }
      }
     },
     "metadata": {},
     "output_type": "display_data"
    }
   ],
   "source": [
    "optuna.visualization.plot_optimization_history(study)"
   ]
  },
  {
   "cell_type": "code",
   "execution_count": 85,
   "id": "224bd946",
   "metadata": {},
   "outputs": [
    {
     "data": {
      "application/vnd.plotly.v1+json": {
       "config": {
        "plotlyServerURL": "https://plot.ly"
       },
       "data": [
        {
         "cliponaxis": false,
         "hovertemplate": [
          "n_estimators (IntDistribution): 0.015594509880697329<extra></extra>",
          "depth (IntDistribution): 0.13988680613506974<extra></extra>",
          "l2_leaf_reg (FloatDistribution): 0.3891567648641651<extra></extra>",
          "learning_rate (FloatDistribution): 0.4553619191200678<extra></extra>"
         ],
         "name": "Objective Value",
         "orientation": "h",
         "text": [
          "0.02",
          "0.14",
          "0.39",
          "0.46"
         ],
         "textposition": "outside",
         "type": "bar",
         "x": [
          0.015594509880697329,
          0.13988680613506974,
          0.3891567648641651,
          0.4553619191200678
         ],
         "y": [
          "n_estimators",
          "depth",
          "l2_leaf_reg",
          "learning_rate"
         ]
        }
       ],
       "layout": {
        "template": {
         "data": {
          "bar": [
           {
            "error_x": {
             "color": "#2a3f5f"
            },
            "error_y": {
             "color": "#2a3f5f"
            },
            "marker": {
             "line": {
              "color": "#E5ECF6",
              "width": 0.5
             },
             "pattern": {
              "fillmode": "overlay",
              "size": 10,
              "solidity": 0.2
             }
            },
            "type": "bar"
           }
          ],
          "barpolar": [
           {
            "marker": {
             "line": {
              "color": "#E5ECF6",
              "width": 0.5
             },
             "pattern": {
              "fillmode": "overlay",
              "size": 10,
              "solidity": 0.2
             }
            },
            "type": "barpolar"
           }
          ],
          "carpet": [
           {
            "aaxis": {
             "endlinecolor": "#2a3f5f",
             "gridcolor": "white",
             "linecolor": "white",
             "minorgridcolor": "white",
             "startlinecolor": "#2a3f5f"
            },
            "baxis": {
             "endlinecolor": "#2a3f5f",
             "gridcolor": "white",
             "linecolor": "white",
             "minorgridcolor": "white",
             "startlinecolor": "#2a3f5f"
            },
            "type": "carpet"
           }
          ],
          "choropleth": [
           {
            "colorbar": {
             "outlinewidth": 0,
             "ticks": ""
            },
            "type": "choropleth"
           }
          ],
          "contour": [
           {
            "colorbar": {
             "outlinewidth": 0,
             "ticks": ""
            },
            "colorscale": [
             [
              0,
              "#0d0887"
             ],
             [
              0.1111111111111111,
              "#46039f"
             ],
             [
              0.2222222222222222,
              "#7201a8"
             ],
             [
              0.3333333333333333,
              "#9c179e"
             ],
             [
              0.4444444444444444,
              "#bd3786"
             ],
             [
              0.5555555555555556,
              "#d8576b"
             ],
             [
              0.6666666666666666,
              "#ed7953"
             ],
             [
              0.7777777777777778,
              "#fb9f3a"
             ],
             [
              0.8888888888888888,
              "#fdca26"
             ],
             [
              1,
              "#f0f921"
             ]
            ],
            "type": "contour"
           }
          ],
          "contourcarpet": [
           {
            "colorbar": {
             "outlinewidth": 0,
             "ticks": ""
            },
            "type": "contourcarpet"
           }
          ],
          "heatmap": [
           {
            "colorbar": {
             "outlinewidth": 0,
             "ticks": ""
            },
            "colorscale": [
             [
              0,
              "#0d0887"
             ],
             [
              0.1111111111111111,
              "#46039f"
             ],
             [
              0.2222222222222222,
              "#7201a8"
             ],
             [
              0.3333333333333333,
              "#9c179e"
             ],
             [
              0.4444444444444444,
              "#bd3786"
             ],
             [
              0.5555555555555556,
              "#d8576b"
             ],
             [
              0.6666666666666666,
              "#ed7953"
             ],
             [
              0.7777777777777778,
              "#fb9f3a"
             ],
             [
              0.8888888888888888,
              "#fdca26"
             ],
             [
              1,
              "#f0f921"
             ]
            ],
            "type": "heatmap"
           }
          ],
          "heatmapgl": [
           {
            "colorbar": {
             "outlinewidth": 0,
             "ticks": ""
            },
            "colorscale": [
             [
              0,
              "#0d0887"
             ],
             [
              0.1111111111111111,
              "#46039f"
             ],
             [
              0.2222222222222222,
              "#7201a8"
             ],
             [
              0.3333333333333333,
              "#9c179e"
             ],
             [
              0.4444444444444444,
              "#bd3786"
             ],
             [
              0.5555555555555556,
              "#d8576b"
             ],
             [
              0.6666666666666666,
              "#ed7953"
             ],
             [
              0.7777777777777778,
              "#fb9f3a"
             ],
             [
              0.8888888888888888,
              "#fdca26"
             ],
             [
              1,
              "#f0f921"
             ]
            ],
            "type": "heatmapgl"
           }
          ],
          "histogram": [
           {
            "marker": {
             "pattern": {
              "fillmode": "overlay",
              "size": 10,
              "solidity": 0.2
             }
            },
            "type": "histogram"
           }
          ],
          "histogram2d": [
           {
            "colorbar": {
             "outlinewidth": 0,
             "ticks": ""
            },
            "colorscale": [
             [
              0,
              "#0d0887"
             ],
             [
              0.1111111111111111,
              "#46039f"
             ],
             [
              0.2222222222222222,
              "#7201a8"
             ],
             [
              0.3333333333333333,
              "#9c179e"
             ],
             [
              0.4444444444444444,
              "#bd3786"
             ],
             [
              0.5555555555555556,
              "#d8576b"
             ],
             [
              0.6666666666666666,
              "#ed7953"
             ],
             [
              0.7777777777777778,
              "#fb9f3a"
             ],
             [
              0.8888888888888888,
              "#fdca26"
             ],
             [
              1,
              "#f0f921"
             ]
            ],
            "type": "histogram2d"
           }
          ],
          "histogram2dcontour": [
           {
            "colorbar": {
             "outlinewidth": 0,
             "ticks": ""
            },
            "colorscale": [
             [
              0,
              "#0d0887"
             ],
             [
              0.1111111111111111,
              "#46039f"
             ],
             [
              0.2222222222222222,
              "#7201a8"
             ],
             [
              0.3333333333333333,
              "#9c179e"
             ],
             [
              0.4444444444444444,
              "#bd3786"
             ],
             [
              0.5555555555555556,
              "#d8576b"
             ],
             [
              0.6666666666666666,
              "#ed7953"
             ],
             [
              0.7777777777777778,
              "#fb9f3a"
             ],
             [
              0.8888888888888888,
              "#fdca26"
             ],
             [
              1,
              "#f0f921"
             ]
            ],
            "type": "histogram2dcontour"
           }
          ],
          "mesh3d": [
           {
            "colorbar": {
             "outlinewidth": 0,
             "ticks": ""
            },
            "type": "mesh3d"
           }
          ],
          "parcoords": [
           {
            "line": {
             "colorbar": {
              "outlinewidth": 0,
              "ticks": ""
             }
            },
            "type": "parcoords"
           }
          ],
          "pie": [
           {
            "automargin": true,
            "type": "pie"
           }
          ],
          "scatter": [
           {
            "fillpattern": {
             "fillmode": "overlay",
             "size": 10,
             "solidity": 0.2
            },
            "type": "scatter"
           }
          ],
          "scatter3d": [
           {
            "line": {
             "colorbar": {
              "outlinewidth": 0,
              "ticks": ""
             }
            },
            "marker": {
             "colorbar": {
              "outlinewidth": 0,
              "ticks": ""
             }
            },
            "type": "scatter3d"
           }
          ],
          "scattercarpet": [
           {
            "marker": {
             "colorbar": {
              "outlinewidth": 0,
              "ticks": ""
             }
            },
            "type": "scattercarpet"
           }
          ],
          "scattergeo": [
           {
            "marker": {
             "colorbar": {
              "outlinewidth": 0,
              "ticks": ""
             }
            },
            "type": "scattergeo"
           }
          ],
          "scattergl": [
           {
            "marker": {
             "colorbar": {
              "outlinewidth": 0,
              "ticks": ""
             }
            },
            "type": "scattergl"
           }
          ],
          "scattermapbox": [
           {
            "marker": {
             "colorbar": {
              "outlinewidth": 0,
              "ticks": ""
             }
            },
            "type": "scattermapbox"
           }
          ],
          "scatterpolar": [
           {
            "marker": {
             "colorbar": {
              "outlinewidth": 0,
              "ticks": ""
             }
            },
            "type": "scatterpolar"
           }
          ],
          "scatterpolargl": [
           {
            "marker": {
             "colorbar": {
              "outlinewidth": 0,
              "ticks": ""
             }
            },
            "type": "scatterpolargl"
           }
          ],
          "scatterternary": [
           {
            "marker": {
             "colorbar": {
              "outlinewidth": 0,
              "ticks": ""
             }
            },
            "type": "scatterternary"
           }
          ],
          "surface": [
           {
            "colorbar": {
             "outlinewidth": 0,
             "ticks": ""
            },
            "colorscale": [
             [
              0,
              "#0d0887"
             ],
             [
              0.1111111111111111,
              "#46039f"
             ],
             [
              0.2222222222222222,
              "#7201a8"
             ],
             [
              0.3333333333333333,
              "#9c179e"
             ],
             [
              0.4444444444444444,
              "#bd3786"
             ],
             [
              0.5555555555555556,
              "#d8576b"
             ],
             [
              0.6666666666666666,
              "#ed7953"
             ],
             [
              0.7777777777777778,
              "#fb9f3a"
             ],
             [
              0.8888888888888888,
              "#fdca26"
             ],
             [
              1,
              "#f0f921"
             ]
            ],
            "type": "surface"
           }
          ],
          "table": [
           {
            "cells": {
             "fill": {
              "color": "#EBF0F8"
             },
             "line": {
              "color": "white"
             }
            },
            "header": {
             "fill": {
              "color": "#C8D4E3"
             },
             "line": {
              "color": "white"
             }
            },
            "type": "table"
           }
          ]
         },
         "layout": {
          "annotationdefaults": {
           "arrowcolor": "#2a3f5f",
           "arrowhead": 0,
           "arrowwidth": 1
          },
          "autotypenumbers": "strict",
          "coloraxis": {
           "colorbar": {
            "outlinewidth": 0,
            "ticks": ""
           }
          },
          "colorscale": {
           "diverging": [
            [
             0,
             "#8e0152"
            ],
            [
             0.1,
             "#c51b7d"
            ],
            [
             0.2,
             "#de77ae"
            ],
            [
             0.3,
             "#f1b6da"
            ],
            [
             0.4,
             "#fde0ef"
            ],
            [
             0.5,
             "#f7f7f7"
            ],
            [
             0.6,
             "#e6f5d0"
            ],
            [
             0.7,
             "#b8e186"
            ],
            [
             0.8,
             "#7fbc41"
            ],
            [
             0.9,
             "#4d9221"
            ],
            [
             1,
             "#276419"
            ]
           ],
           "sequential": [
            [
             0,
             "#0d0887"
            ],
            [
             0.1111111111111111,
             "#46039f"
            ],
            [
             0.2222222222222222,
             "#7201a8"
            ],
            [
             0.3333333333333333,
             "#9c179e"
            ],
            [
             0.4444444444444444,
             "#bd3786"
            ],
            [
             0.5555555555555556,
             "#d8576b"
            ],
            [
             0.6666666666666666,
             "#ed7953"
            ],
            [
             0.7777777777777778,
             "#fb9f3a"
            ],
            [
             0.8888888888888888,
             "#fdca26"
            ],
            [
             1,
             "#f0f921"
            ]
           ],
           "sequentialminus": [
            [
             0,
             "#0d0887"
            ],
            [
             0.1111111111111111,
             "#46039f"
            ],
            [
             0.2222222222222222,
             "#7201a8"
            ],
            [
             0.3333333333333333,
             "#9c179e"
            ],
            [
             0.4444444444444444,
             "#bd3786"
            ],
            [
             0.5555555555555556,
             "#d8576b"
            ],
            [
             0.6666666666666666,
             "#ed7953"
            ],
            [
             0.7777777777777778,
             "#fb9f3a"
            ],
            [
             0.8888888888888888,
             "#fdca26"
            ],
            [
             1,
             "#f0f921"
            ]
           ]
          },
          "colorway": [
           "#636efa",
           "#EF553B",
           "#00cc96",
           "#ab63fa",
           "#FFA15A",
           "#19d3f3",
           "#FF6692",
           "#B6E880",
           "#FF97FF",
           "#FECB52"
          ],
          "font": {
           "color": "#2a3f5f"
          },
          "geo": {
           "bgcolor": "white",
           "lakecolor": "white",
           "landcolor": "#E5ECF6",
           "showlakes": true,
           "showland": true,
           "subunitcolor": "white"
          },
          "hoverlabel": {
           "align": "left"
          },
          "hovermode": "closest",
          "mapbox": {
           "style": "light"
          },
          "paper_bgcolor": "white",
          "plot_bgcolor": "#E5ECF6",
          "polar": {
           "angularaxis": {
            "gridcolor": "white",
            "linecolor": "white",
            "ticks": ""
           },
           "bgcolor": "#E5ECF6",
           "radialaxis": {
            "gridcolor": "white",
            "linecolor": "white",
            "ticks": ""
           }
          },
          "scene": {
           "xaxis": {
            "backgroundcolor": "#E5ECF6",
            "gridcolor": "white",
            "gridwidth": 2,
            "linecolor": "white",
            "showbackground": true,
            "ticks": "",
            "zerolinecolor": "white"
           },
           "yaxis": {
            "backgroundcolor": "#E5ECF6",
            "gridcolor": "white",
            "gridwidth": 2,
            "linecolor": "white",
            "showbackground": true,
            "ticks": "",
            "zerolinecolor": "white"
           },
           "zaxis": {
            "backgroundcolor": "#E5ECF6",
            "gridcolor": "white",
            "gridwidth": 2,
            "linecolor": "white",
            "showbackground": true,
            "ticks": "",
            "zerolinecolor": "white"
           }
          },
          "shapedefaults": {
           "line": {
            "color": "#2a3f5f"
           }
          },
          "ternary": {
           "aaxis": {
            "gridcolor": "white",
            "linecolor": "white",
            "ticks": ""
           },
           "baxis": {
            "gridcolor": "white",
            "linecolor": "white",
            "ticks": ""
           },
           "bgcolor": "#E5ECF6",
           "caxis": {
            "gridcolor": "white",
            "linecolor": "white",
            "ticks": ""
           }
          },
          "title": {
           "x": 0.05
          },
          "xaxis": {
           "automargin": true,
           "gridcolor": "white",
           "linecolor": "white",
           "ticks": "",
           "title": {
            "standoff": 15
           },
           "zerolinecolor": "white",
           "zerolinewidth": 2
          },
          "yaxis": {
           "automargin": true,
           "gridcolor": "white",
           "linecolor": "white",
           "ticks": "",
           "title": {
            "standoff": 15
           },
           "zerolinecolor": "white",
           "zerolinewidth": 2
          }
         }
        },
        "title": {
         "text": "Hyperparameter Importances"
        },
        "xaxis": {
         "title": {
          "text": "Hyperparameter Importance"
         }
        },
        "yaxis": {
         "title": {
          "text": "Hyperparameter"
         }
        }
       }
      }
     },
     "metadata": {},
     "output_type": "display_data"
    }
   ],
   "source": [
    "optuna.visualization.plot_param_importances(study)"
   ]
  },
  {
   "cell_type": "code",
   "execution_count": 86,
   "id": "bb0e7e57",
   "metadata": {},
   "outputs": [
    {
     "data": {
      "application/vnd.plotly.v1+json": {
       "config": {
        "plotlyServerURL": "https://plot.ly"
       },
       "data": [
        {
         "dimensions": [
          {
           "label": "Objective Value",
           "range": [
            4974841457.356689,
            5416455234.196204
           ],
           "values": [
            5190502461.131141,
            5169031527.659563,
            5329734940.741661,
            5044323472.132696,
            5076830097.778909,
            5058714020.45299,
            5205832899.966038,
            4993450756.191715,
            5108698452.868717,
            5036537802.980981,
            5298901361.287548,
            5171011575.182801,
            5012677462.845175,
            5239333963.038484,
            5098018818.75742,
            5056123709.357752,
            5183240011.820087,
            5097882406.301724,
            5112400910.384344,
            5029060137.115413,
            5088270849.123248,
            5034622650.535189,
            5191175034.233426,
            5106178693.74006,
            5102712740.06005,
            5116130964.3553095,
            5106636458.978268,
            5012060889.461058,
            5207778757.628836,
            5055791997.225701,
            5112779394.083664,
            5031586994.1178255,
            5049072822.574772,
            4998248207.528591,
            5213077852.400195,
            5042717817.390156,
            5051076558.637082,
            4980036208.717368,
            5028242589.555121,
            5219637054.093142,
            5141449839.996699,
            5115842437.118473,
            5041608368.493521,
            5000921060.79044,
            5010245515.41063,
            5023281839.425891,
            5116219798.525827,
            5200421448.128732,
            5138746795.669018,
            5170352017.408148,
            5149187553.922049,
            5111324827.690023,
            5028324846.292194,
            4979483946.215235,
            5100774024.574243,
            5161074221.211291,
            4995510029.0476055,
            5125783519.920343,
            5147017522.063709,
            4974841457.356689,
            5129368882.53047,
            5201139225.789272,
            5179604120.635075,
            5153508599.938144,
            5074973420.769464,
            5277177782.070222,
            5194799790.250722,
            5025081253.318294,
            5228855526.583219,
            5131098817.901018,
            5053551044.898275,
            5039642720.249273,
            5114551515.573527,
            5179848012.701824,
            5045033961.333494,
            5081134884.0137005,
            5154822091.277802,
            5044134751.319234,
            5114997659.769074,
            5069427160.437455,
            5056732509.291642,
            5185231894.760446,
            5106166201.956149,
            5043963335.2299185,
            5098304642.725663,
            5135408758.275848,
            5057339604.86697,
            5139322737.15737,
            5119963068.462477,
            5056093304.508837,
            5100613935.73905,
            5085561553.0576105,
            5035849978.256704,
            5148856624.619575,
            5011717905.355186,
            5142774279.014043,
            5108396056.61458,
            5111889322.592773,
            5275664765.3656,
            5091305497.839287,
            5181645265.882977,
            5089733759.382265,
            5128640928.732718,
            5106890057.76137,
            5082900927.43224,
            5244309656.947861,
            5137959575.496333,
            5131633691.655727,
            5149139319.429035,
            5062372263.64511,
            5182335677.271381,
            5137391192.91483,
            4986749338.792765,
            5284639974.946919,
            5082475984.577137,
            5073122650.768469,
            5162832019.25346,
            5416455234.196204,
            5165587957.560136,
            5065662397.571377,
            5166442510.65282,
            5299693017.677003,
            5240324973.006624,
            5008059334.434724,
            5024683264.845938,
            5170345860.006612,
            5023971457.642058,
            5078131922.869972,
            5161664627.976206,
            5049688709.402706,
            5073777849.474034,
            5123030259.958995,
            5150457794.9100685,
            5141165332.899942,
            5012101992.1602745,
            5167856904.223443,
            5180005753.847417,
            5122623559.102716,
            5070045670.219825,
            4989960791.528481,
            5054881705.324656,
            5123541163.796296,
            5097372011.287966,
            5098736841.114615,
            5149839464.920155,
            5152665409.891762,
            5075105103.978807,
            5062875041.191257,
            5025918046.160961,
            5050161037.014538,
            5041181256.534682,
            5084764291.637581,
            5306499982.438719,
            5012583924.276039,
            5044091088.867846,
            5082604303.869837,
            5079385211.58547,
            5042922671.732297,
            5169865588.388388,
            5098319473.331889,
            5062928908.499817,
            5154243476.90674,
            5223965056.35941,
            5069752887.478573,
            5062965639.9728985,
            5087238996.746593,
            4988456551.028011,
            5202645348.656928,
            5165988614.043475,
            5047823255.130717,
            5137519716.497459,
            5053933700.160649,
            5081216045.105461,
            5125156610.963558,
            5131251019.292358,
            5001007430.976919,
            5198651154.85292,
            5055979242.595496,
            5154422059.306925,
            5314642381.919304,
            5195511453.444321,
            5257837856.066213,
            5131960818.414254,
            5221232038.481989,
            5121043021.107114,
            5048549841.927292,
            5187114313.45099,
            5330012835.656689,
            5204828837.844406,
            5054827073.377106,
            5131562806.893348,
            5107471038.132549,
            5306111856.590455,
            4995903790.425053,
            5086515769.685639,
            5123340583.971665,
            5172972168.513897,
            5274862779.297176,
            5286666200.989281,
            5144457016.077637
           ]
          },
          {
           "label": "depth",
           "range": [
            3,
            10
           ],
           "values": [
            7,
            9,
            10,
            4,
            5,
            5,
            7,
            4,
            9,
            6,
            10,
            7,
            9,
            10,
            5,
            5,
            9,
            4,
            8,
            3,
            3,
            8,
            8,
            6,
            3,
            7,
            9,
            4,
            9,
            7,
            3,
            9,
            4,
            5,
            10,
            5,
            7,
            4,
            4,
            8,
            7,
            4,
            3,
            4,
            4,
            10,
            7,
            10,
            5,
            9,
            10,
            8,
            8,
            4,
            9,
            5,
            6,
            7,
            8,
            4,
            5,
            10,
            6,
            7,
            3,
            7,
            8,
            9,
            7,
            9,
            3,
            7,
            3,
            7,
            3,
            8,
            5,
            3,
            8,
            5,
            5,
            7,
            9,
            3,
            3,
            6,
            3,
            9,
            8,
            7,
            7,
            10,
            3,
            5,
            5,
            10,
            4,
            6,
            10,
            9,
            9,
            3,
            10,
            6,
            9,
            6,
            10,
            9,
            8,
            3,
            5,
            9,
            7,
            6,
            3,
            7,
            9,
            10,
            10,
            7,
            8,
            5,
            7,
            5,
            10,
            9,
            9,
            6,
            3,
            4,
            9,
            5,
            10,
            10,
            4,
            8,
            8,
            9,
            6,
            7,
            3,
            6,
            9,
            10,
            5,
            5,
            4,
            8,
            6,
            3,
            3,
            5,
            9,
            10,
            8,
            6,
            8,
            10,
            6,
            6,
            5,
            8,
            7,
            4,
            7,
            4,
            4,
            10,
            10,
            9,
            8,
            5,
            6,
            7,
            6,
            4,
            9,
            7,
            10,
            8,
            8,
            9,
            9,
            10,
            6,
            7,
            7,
            10,
            9,
            9,
            8,
            10,
            9,
            4,
            8,
            5,
            6,
            7,
            9,
            10
           ]
          },
          {
           "label": "l2_leaf_reg",
           "range": [
            3.0850813228287146,
            9.933535994004714
           ],
           "values": [
            8.123957592679837,
            3.406585285177396,
            3.144091460070617,
            4.272774770449704,
            6.023615130494811,
            5.045012539746527,
            4.397716475108519,
            7.252813963310069,
            9.759424231521916,
            7.789631185585098,
            3.2407196478065288,
            5.181977532625877,
            9.787092394351909,
            7.185299851677596,
            3.3165910223737667,
            8.801162564063505,
            3.9864695748233387,
            8.405713385076602,
            7.94800140693332,
            5.509260099809908,
            5.316286173968544,
            8.107243248366448,
            3.8371597215681117,
            8.396770259681926,
            3.1779338872086664,
            5.200491867534287,
            5.872680461249408,
            5.028260170396376,
            7.433826295572964,
            9.247912989429844,
            5.226024324803047,
            8.72610336145745,
            5.921877022041453,
            9.600367927387634,
            5.545407216655057,
            6.480739541246698,
            7.266950337859278,
            9.357861201766575,
            9.899553178774205,
            4.6634628079467975,
            7.434707975326263,
            5.245460454802151,
            7.742950532895977,
            7.516209532866149,
            9.557109921157142,
            9.47285532794994,
            8.720555401408511,
            3.6517193746412944,
            5.373208537340904,
            9.209604969855821,
            4.131400998662296,
            3.7103008000622246,
            6.841136525566103,
            7.985254549432751,
            7.547430293330502,
            3.655723374796647,
            9.81107388326712,
            8.56367912479154,
            4.366700914586311,
            7.518306071350175,
            9.40405073154314,
            5.997289038221201,
            5.061142244487099,
            4.186449226802647,
            6.990428190625555,
            3.9805881066556683,
            7.879110186966876,
            8.665528088349596,
            6.579396792026564,
            7.913768140803923,
            5.629080668479608,
            6.259186126927221,
            3.213501749573346,
            3.8894235885631936,
            7.360233330733002,
            6.784445851270746,
            6.614102438108367,
            6.072799944939453,
            8.851860843585442,
            4.095059298697603,
            7.621381637024119,
            6.880478367579805,
            5.491808750558831,
            3.3220184941522692,
            6.319216803611276,
            4.212413089370106,
            7.445655556073507,
            6.521953810060614,
            3.493981231803009,
            9.581611689974704,
            6.207770233440616,
            9.7283339467674,
            3.7054460096419866,
            3.498320539221603,
            8.70127937812255,
            7.402599927459188,
            4.974242007999146,
            9.933535994004714,
            5.385624781771125,
            8.256097474540482,
            6.536766607135,
            5.724411751139142,
            5.235195463132904,
            7.422860485188595,
            7.707629192539269,
            3.638442721340833,
            6.090713509613639,
            4.000941774369851,
            3.5887476428049823,
            7.943695590095474,
            5.619895570292842,
            9.902007446760097,
            8.440028411492058,
            3.7783823761430595,
            3.3941229297728617,
            8.222314154857962,
            4.999984603973025,
            3.0850813228287146,
            6.6939077636040984,
            9.785117749333693,
            6.181787453374413,
            3.318124662390205,
            6.18959726949999,
            6.245888834579875,
            9.820763653663166,
            5.166693314004294,
            9.376490291456896,
            7.293906371550529,
            3.316530690743326,
            9.91093290520461,
            9.789400784702222,
            5.903736516363656,
            8.690307063910543,
            8.382911906263573,
            6.1538089471706545,
            4.600499638524239,
            3.794903145397403,
            6.641144507783954,
            9.136575218608415,
            8.285960789715332,
            3.9546003291073886,
            5.745708315698126,
            6.5979264241186755,
            9.036545961227215,
            6.444814051556767,
            6.448326657950087,
            3.5310432967606475,
            3.9717902085458707,
            9.277518869342082,
            4.346023131660695,
            4.239073389937228,
            4.444336028840548,
            3.2751849788876926,
            9.11505036874744,
            8.64340895855143,
            5.593304719539674,
            6.237743012932035,
            7.993447101191867,
            3.7502040793784324,
            4.884702616645667,
            4.480136048975813,
            7.155147174878341,
            3.6084420166119657,
            6.021616823607756,
            7.521420689321209,
            7.24042373549821,
            4.721704098691557,
            4.213615167063284,
            5.87277778892763,
            9.786293032927581,
            4.196213111730461,
            7.001288826289299,
            5.265754654829706,
            3.8038577731744248,
            4.080539006919416,
            5.356229947357444,
            5.256476914823061,
            8.321595019227805,
            5.442077865800967,
            3.870080564398813,
            3.4654738715674425,
            3.9784066363840265,
            4.149860585516951,
            5.5118133888645175,
            6.073944359991529,
            8.233265661233759,
            5.68723854961248,
            3.8182862849585484,
            3.9749045086437107,
            9.257248081356703,
            4.73942397870126,
            8.337210800184835,
            3.7744221586864506,
            8.581067560456876,
            8.040255755822521,
            4.76259341234867,
            7.0837425633628435,
            4.073459821812561,
            3.1267712867458837,
            7.876555767138246
           ]
          },
          {
           "label": "learning_rate",
           "range": [
            -0.9972314115917245,
            -0.7019640937960057
           ],
           "ticktext": [
            "0.101",
            "0.199"
           ],
           "tickvals": [
            -0.9972314115917245,
            -0.7019640937960057
           ],
           "values": [
            -0.713806476463738,
            -0.953040970219588,
            -0.7868489149762724,
            -0.9360795584332248,
            -0.8420325736611011,
            -0.9580081637327638,
            -0.7636384837463988,
            -0.9860170324603089,
            -0.7143569908350146,
            -0.9705977639441662,
            -0.8509368968963006,
            -0.8005609196136299,
            -0.944353264054683,
            -0.730630126580753,
            -0.94100327977575,
            -0.9183158021416785,
            -0.8366322004400129,
            -0.7029174297543065,
            -0.7545216497280973,
            -0.9777103388095456,
            -0.8123685675837325,
            -0.9021100659802893,
            -0.8578491431260311,
            -0.831038727649363,
            -0.8712973290973517,
            -0.8084213766567516,
            -0.9249555613402499,
            -0.9768267380780247,
            -0.7567315256437487,
            -0.9438368159825078,
            -0.7302496398694995,
            -0.8714277442417853,
            -0.8462497417196853,
            -0.8983677064162716,
            -0.788370205852088,
            -0.9242059765794233,
            -0.9888959223978074,
            -0.9161190560790691,
            -0.8526600376959216,
            -0.770729650499993,
            -0.8096569785581047,
            -0.748548893374659,
            -0.8221234998741664,
            -0.9318179777742546,
            -0.8835810603800409,
            -0.9658410663929687,
            -0.8013250054840342,
            -0.9271952059189129,
            -0.8094174710621679,
            -0.7299429023363626,
            -0.9746713467023729,
            -0.9972314115917245,
            -0.951591952979057,
            -0.9324882107455235,
            -0.7752836955541219,
            -0.8289220636021197,
            -0.926551798711538,
            -0.8100083421526728,
            -0.8517374007652734,
            -0.9926801647305739,
            -0.7128388846011633,
            -0.7205482671294237,
            -0.7432185673193256,
            -0.9045969701619855,
            -0.7904741533249311,
            -0.7019640937960057,
            -0.7770064262094384,
            -0.9116200483940792,
            -0.7250872004237536,
            -0.8043413607362251,
            -0.8982533193985355,
            -0.989180297474813,
            -0.8221414661327747,
            -0.8915718127777608,
            -0.9350313970284292,
            -0.8400463175630041,
            -0.7062392527507062,
            -0.9184713685769115,
            -0.7102139519035657,
            -0.9478332115804807,
            -0.7848851924881015,
            -0.7778708943666077,
            -0.9254255413046327,
            -0.965058653531496,
            -0.7881778776419052,
            -0.8574707948949087,
            -0.8146106476536787,
            -0.8115973922862837,
            -0.9509518501221639,
            -0.8236639793091832,
            -0.8063509503916082,
            -0.8837715246169812,
            -0.9791201678983008,
            -0.7943944739600042,
            -0.9929944492863518,
            -0.7902612141314951,
            -0.7581281390101574,
            -0.757118541936826,
            -0.7662764097943778,
            -0.8708599297994243,
            -0.7283045024157364,
            -0.7304206464087943,
            -0.972519972082891,
            -0.8273779950246846,
            -0.9010621133323898,
            -0.7623012538983546,
            -0.8345753229368534,
            -0.9647593165524025,
            -0.9695590412452262,
            -0.7525954699154247,
            -0.702991891961879,
            -0.7148497648574246,
            -0.9748637796142603,
            -0.7271601433849013,
            -0.8589190889726295,
            -0.8045682255689893,
            -0.8871527110714251,
            -0.7100411231287438,
            -0.7317391923474829,
            -0.833273247168193,
            -0.79055877517174,
            -0.7287244080093356,
            -0.7320038969955178,
            -0.943369888104053,
            -0.9765995425714893,
            -0.8386189131639533,
            -0.9510474234541173,
            -0.7815366595365854,
            -0.7392887910989614,
            -0.7559991343493192,
            -0.8853404270799133,
            -0.8589093001391823,
            -0.7396926268253937,
            -0.8327983960708033,
            -0.9255408020047512,
            -0.8175232524196362,
            -0.8921822785435743,
            -0.7675089978846075,
            -0.8311408448609402,
            -0.9913355510741977,
            -0.935891399384389,
            -0.8224170812840439,
            -0.8951646582720181,
            -0.8127332433277829,
            -0.7210693312153367,
            -0.7049807981112525,
            -0.9277089654204764,
            -0.9542727328306468,
            -0.8959437791998371,
            -0.9481265499193555,
            -0.9161359514491824,
            -0.861291769457054,
            -0.7921704477312671,
            -0.9753880789669397,
            -0.9166515227787939,
            -0.9369795741036926,
            -0.8889459286799278,
            -0.9240089077386907,
            -0.8398178798378361,
            -0.9270091053421939,
            -0.903044510181037,
            -0.7319245765402124,
            -0.8499539470176406,
            -0.7756003583185306,
            -0.8907013378894504,
            -0.7030293189333979,
            -0.9539848139941405,
            -0.9141778026042692,
            -0.8421063386719574,
            -0.8802335307443696,
            -0.9223635130929332,
            -0.8323976687301511,
            -0.9436942211827539,
            -0.9270273993021815,
            -0.8250298607254107,
            -0.9843995609350525,
            -0.7019922755361409,
            -0.7948472384839391,
            -0.8760235313999976,
            -0.7094979532664345,
            -0.9454434108779812,
            -0.7465842869826428,
            -0.9507346522287521,
            -0.8425416174497735,
            -0.7541790742766615,
            -0.9092762198471483,
            -0.7292010701077288,
            -0.8120856387967187,
            -0.8991833642719342,
            -0.8394122097954652,
            -0.9061623072831388,
            -0.8284461106342399,
            -0.752776917135571,
            -0.8804046086452577,
            -0.7825803124683358,
            -0.8366236631723365,
            -0.7265291314607965,
            -0.7148393003840935,
            -0.815933934158385,
            -0.8298779601945685
           ]
          },
          {
           "label": "n_estimators",
           "range": [
            400,
            500
           ],
           "values": [
            437,
            415,
            460,
            484,
            430,
            461,
            446,
            459,
            406,
            430,
            412,
            426,
            455,
            494,
            408,
            439,
            428,
            407,
            400,
            477,
            487,
            431,
            489,
            476,
            452,
            403,
            491,
            423,
            493,
            481,
            481,
            423,
            400,
            412,
            452,
            497,
            428,
            405,
            414,
            467,
            437,
            409,
            404,
            451,
            469,
            434,
            426,
            453,
            490,
            473,
            464,
            461,
            400,
            465,
            432,
            466,
            426,
            490,
            458,
            428,
            494,
            401,
            497,
            485,
            494,
            462,
            488,
            436,
            487,
            480,
            489,
            458,
            428,
            483,
            477,
            405,
            473,
            480,
            402,
            441,
            455,
            496,
            442,
            401,
            486,
            449,
            440,
            437,
            466,
            402,
            439,
            495,
            419,
            409,
            485,
            411,
            474,
            475,
            437,
            486,
            410,
            432,
            491,
            496,
            429,
            479,
            405,
            435,
            462,
            407,
            408,
            482,
            438,
            442,
            401,
            411,
            497,
            422,
            404,
            407,
            463,
            459,
            495,
            428,
            458,
            470,
            469,
            495,
            494,
            438,
            460,
            484,
            405,
            500,
            485,
            496,
            462,
            452,
            455,
            413,
            471,
            435,
            491,
            440,
            414,
            446,
            463,
            412,
            418,
            467,
            417,
            412,
            450,
            463,
            406,
            418,
            462,
            403,
            451,
            453,
            402,
            412,
            479,
            459,
            428,
            435,
            410,
            418,
            408,
            411,
            482,
            493,
            477,
            451,
            429,
            453,
            406,
            425,
            447,
            483,
            494,
            458,
            420,
            467,
            439,
            446,
            423,
            491,
            463,
            462,
            415,
            403,
            434,
            412,
            423,
            470,
            418,
            446,
            451,
            494
           ]
          }
         ],
         "labelangle": 30,
         "labelside": "bottom",
         "line": {
          "color": [
           5190502461.131141,
           5169031527.659563,
           5329734940.741661,
           5044323472.132696,
           5076830097.778909,
           5058714020.45299,
           5205832899.966038,
           4993450756.191715,
           5108698452.868717,
           5036537802.980981,
           5298901361.287548,
           5171011575.182801,
           5012677462.845175,
           5239333963.038484,
           5098018818.75742,
           5056123709.357752,
           5183240011.820087,
           5097882406.301724,
           5112400910.384344,
           5029060137.115413,
           5088270849.123248,
           5034622650.535189,
           5191175034.233426,
           5106178693.74006,
           5102712740.06005,
           5116130964.3553095,
           5106636458.978268,
           5012060889.461058,
           5207778757.628836,
           5055791997.225701,
           5112779394.083664,
           5031586994.1178255,
           5049072822.574772,
           4998248207.528591,
           5213077852.400195,
           5042717817.390156,
           5051076558.637082,
           4980036208.717368,
           5028242589.555121,
           5219637054.093142,
           5141449839.996699,
           5115842437.118473,
           5041608368.493521,
           5000921060.79044,
           5010245515.41063,
           5023281839.425891,
           5116219798.525827,
           5200421448.128732,
           5138746795.669018,
           5170352017.408148,
           5149187553.922049,
           5111324827.690023,
           5028324846.292194,
           4979483946.215235,
           5100774024.574243,
           5161074221.211291,
           4995510029.0476055,
           5125783519.920343,
           5147017522.063709,
           4974841457.356689,
           5129368882.53047,
           5201139225.789272,
           5179604120.635075,
           5153508599.938144,
           5074973420.769464,
           5277177782.070222,
           5194799790.250722,
           5025081253.318294,
           5228855526.583219,
           5131098817.901018,
           5053551044.898275,
           5039642720.249273,
           5114551515.573527,
           5179848012.701824,
           5045033961.333494,
           5081134884.0137005,
           5154822091.277802,
           5044134751.319234,
           5114997659.769074,
           5069427160.437455,
           5056732509.291642,
           5185231894.760446,
           5106166201.956149,
           5043963335.2299185,
           5098304642.725663,
           5135408758.275848,
           5057339604.86697,
           5139322737.15737,
           5119963068.462477,
           5056093304.508837,
           5100613935.73905,
           5085561553.0576105,
           5035849978.256704,
           5148856624.619575,
           5011717905.355186,
           5142774279.014043,
           5108396056.61458,
           5111889322.592773,
           5275664765.3656,
           5091305497.839287,
           5181645265.882977,
           5089733759.382265,
           5128640928.732718,
           5106890057.76137,
           5082900927.43224,
           5244309656.947861,
           5137959575.496333,
           5131633691.655727,
           5149139319.429035,
           5062372263.64511,
           5182335677.271381,
           5137391192.91483,
           4986749338.792765,
           5284639974.946919,
           5082475984.577137,
           5073122650.768469,
           5162832019.25346,
           5416455234.196204,
           5165587957.560136,
           5065662397.571377,
           5166442510.65282,
           5299693017.677003,
           5240324973.006624,
           5008059334.434724,
           5024683264.845938,
           5170345860.006612,
           5023971457.642058,
           5078131922.869972,
           5161664627.976206,
           5049688709.402706,
           5073777849.474034,
           5123030259.958995,
           5150457794.9100685,
           5141165332.899942,
           5012101992.1602745,
           5167856904.223443,
           5180005753.847417,
           5122623559.102716,
           5070045670.219825,
           4989960791.528481,
           5054881705.324656,
           5123541163.796296,
           5097372011.287966,
           5098736841.114615,
           5149839464.920155,
           5152665409.891762,
           5075105103.978807,
           5062875041.191257,
           5025918046.160961,
           5050161037.014538,
           5041181256.534682,
           5084764291.637581,
           5306499982.438719,
           5012583924.276039,
           5044091088.867846,
           5082604303.869837,
           5079385211.58547,
           5042922671.732297,
           5169865588.388388,
           5098319473.331889,
           5062928908.499817,
           5154243476.90674,
           5223965056.35941,
           5069752887.478573,
           5062965639.9728985,
           5087238996.746593,
           4988456551.028011,
           5202645348.656928,
           5165988614.043475,
           5047823255.130717,
           5137519716.497459,
           5053933700.160649,
           5081216045.105461,
           5125156610.963558,
           5131251019.292358,
           5001007430.976919,
           5198651154.85292,
           5055979242.595496,
           5154422059.306925,
           5314642381.919304,
           5195511453.444321,
           5257837856.066213,
           5131960818.414254,
           5221232038.481989,
           5121043021.107114,
           5048549841.927292,
           5187114313.45099,
           5330012835.656689,
           5204828837.844406,
           5054827073.377106,
           5131562806.893348,
           5107471038.132549,
           5306111856.590455,
           4995903790.425053,
           5086515769.685639,
           5123340583.971665,
           5172972168.513897,
           5274862779.297176,
           5286666200.989281,
           5144457016.077637
          ],
          "colorbar": {
           "title": {
            "text": "Objective Value"
           }
          },
          "colorscale": [
           [
            0,
            "rgb(247,251,255)"
           ],
           [
            0.125,
            "rgb(222,235,247)"
           ],
           [
            0.25,
            "rgb(198,219,239)"
           ],
           [
            0.375,
            "rgb(158,202,225)"
           ],
           [
            0.5,
            "rgb(107,174,214)"
           ],
           [
            0.625,
            "rgb(66,146,198)"
           ],
           [
            0.75,
            "rgb(33,113,181)"
           ],
           [
            0.875,
            "rgb(8,81,156)"
           ],
           [
            1,
            "rgb(8,48,107)"
           ]
          ],
          "reversescale": true,
          "showscale": true
         },
         "type": "parcoords"
        }
       ],
       "layout": {
        "template": {
         "data": {
          "bar": [
           {
            "error_x": {
             "color": "#2a3f5f"
            },
            "error_y": {
             "color": "#2a3f5f"
            },
            "marker": {
             "line": {
              "color": "#E5ECF6",
              "width": 0.5
             },
             "pattern": {
              "fillmode": "overlay",
              "size": 10,
              "solidity": 0.2
             }
            },
            "type": "bar"
           }
          ],
          "barpolar": [
           {
            "marker": {
             "line": {
              "color": "#E5ECF6",
              "width": 0.5
             },
             "pattern": {
              "fillmode": "overlay",
              "size": 10,
              "solidity": 0.2
             }
            },
            "type": "barpolar"
           }
          ],
          "carpet": [
           {
            "aaxis": {
             "endlinecolor": "#2a3f5f",
             "gridcolor": "white",
             "linecolor": "white",
             "minorgridcolor": "white",
             "startlinecolor": "#2a3f5f"
            },
            "baxis": {
             "endlinecolor": "#2a3f5f",
             "gridcolor": "white",
             "linecolor": "white",
             "minorgridcolor": "white",
             "startlinecolor": "#2a3f5f"
            },
            "type": "carpet"
           }
          ],
          "choropleth": [
           {
            "colorbar": {
             "outlinewidth": 0,
             "ticks": ""
            },
            "type": "choropleth"
           }
          ],
          "contour": [
           {
            "colorbar": {
             "outlinewidth": 0,
             "ticks": ""
            },
            "colorscale": [
             [
              0,
              "#0d0887"
             ],
             [
              0.1111111111111111,
              "#46039f"
             ],
             [
              0.2222222222222222,
              "#7201a8"
             ],
             [
              0.3333333333333333,
              "#9c179e"
             ],
             [
              0.4444444444444444,
              "#bd3786"
             ],
             [
              0.5555555555555556,
              "#d8576b"
             ],
             [
              0.6666666666666666,
              "#ed7953"
             ],
             [
              0.7777777777777778,
              "#fb9f3a"
             ],
             [
              0.8888888888888888,
              "#fdca26"
             ],
             [
              1,
              "#f0f921"
             ]
            ],
            "type": "contour"
           }
          ],
          "contourcarpet": [
           {
            "colorbar": {
             "outlinewidth": 0,
             "ticks": ""
            },
            "type": "contourcarpet"
           }
          ],
          "heatmap": [
           {
            "colorbar": {
             "outlinewidth": 0,
             "ticks": ""
            },
            "colorscale": [
             [
              0,
              "#0d0887"
             ],
             [
              0.1111111111111111,
              "#46039f"
             ],
             [
              0.2222222222222222,
              "#7201a8"
             ],
             [
              0.3333333333333333,
              "#9c179e"
             ],
             [
              0.4444444444444444,
              "#bd3786"
             ],
             [
              0.5555555555555556,
              "#d8576b"
             ],
             [
              0.6666666666666666,
              "#ed7953"
             ],
             [
              0.7777777777777778,
              "#fb9f3a"
             ],
             [
              0.8888888888888888,
              "#fdca26"
             ],
             [
              1,
              "#f0f921"
             ]
            ],
            "type": "heatmap"
           }
          ],
          "heatmapgl": [
           {
            "colorbar": {
             "outlinewidth": 0,
             "ticks": ""
            },
            "colorscale": [
             [
              0,
              "#0d0887"
             ],
             [
              0.1111111111111111,
              "#46039f"
             ],
             [
              0.2222222222222222,
              "#7201a8"
             ],
             [
              0.3333333333333333,
              "#9c179e"
             ],
             [
              0.4444444444444444,
              "#bd3786"
             ],
             [
              0.5555555555555556,
              "#d8576b"
             ],
             [
              0.6666666666666666,
              "#ed7953"
             ],
             [
              0.7777777777777778,
              "#fb9f3a"
             ],
             [
              0.8888888888888888,
              "#fdca26"
             ],
             [
              1,
              "#f0f921"
             ]
            ],
            "type": "heatmapgl"
           }
          ],
          "histogram": [
           {
            "marker": {
             "pattern": {
              "fillmode": "overlay",
              "size": 10,
              "solidity": 0.2
             }
            },
            "type": "histogram"
           }
          ],
          "histogram2d": [
           {
            "colorbar": {
             "outlinewidth": 0,
             "ticks": ""
            },
            "colorscale": [
             [
              0,
              "#0d0887"
             ],
             [
              0.1111111111111111,
              "#46039f"
             ],
             [
              0.2222222222222222,
              "#7201a8"
             ],
             [
              0.3333333333333333,
              "#9c179e"
             ],
             [
              0.4444444444444444,
              "#bd3786"
             ],
             [
              0.5555555555555556,
              "#d8576b"
             ],
             [
              0.6666666666666666,
              "#ed7953"
             ],
             [
              0.7777777777777778,
              "#fb9f3a"
             ],
             [
              0.8888888888888888,
              "#fdca26"
             ],
             [
              1,
              "#f0f921"
             ]
            ],
            "type": "histogram2d"
           }
          ],
          "histogram2dcontour": [
           {
            "colorbar": {
             "outlinewidth": 0,
             "ticks": ""
            },
            "colorscale": [
             [
              0,
              "#0d0887"
             ],
             [
              0.1111111111111111,
              "#46039f"
             ],
             [
              0.2222222222222222,
              "#7201a8"
             ],
             [
              0.3333333333333333,
              "#9c179e"
             ],
             [
              0.4444444444444444,
              "#bd3786"
             ],
             [
              0.5555555555555556,
              "#d8576b"
             ],
             [
              0.6666666666666666,
              "#ed7953"
             ],
             [
              0.7777777777777778,
              "#fb9f3a"
             ],
             [
              0.8888888888888888,
              "#fdca26"
             ],
             [
              1,
              "#f0f921"
             ]
            ],
            "type": "histogram2dcontour"
           }
          ],
          "mesh3d": [
           {
            "colorbar": {
             "outlinewidth": 0,
             "ticks": ""
            },
            "type": "mesh3d"
           }
          ],
          "parcoords": [
           {
            "line": {
             "colorbar": {
              "outlinewidth": 0,
              "ticks": ""
             }
            },
            "type": "parcoords"
           }
          ],
          "pie": [
           {
            "automargin": true,
            "type": "pie"
           }
          ],
          "scatter": [
           {
            "fillpattern": {
             "fillmode": "overlay",
             "size": 10,
             "solidity": 0.2
            },
            "type": "scatter"
           }
          ],
          "scatter3d": [
           {
            "line": {
             "colorbar": {
              "outlinewidth": 0,
              "ticks": ""
             }
            },
            "marker": {
             "colorbar": {
              "outlinewidth": 0,
              "ticks": ""
             }
            },
            "type": "scatter3d"
           }
          ],
          "scattercarpet": [
           {
            "marker": {
             "colorbar": {
              "outlinewidth": 0,
              "ticks": ""
             }
            },
            "type": "scattercarpet"
           }
          ],
          "scattergeo": [
           {
            "marker": {
             "colorbar": {
              "outlinewidth": 0,
              "ticks": ""
             }
            },
            "type": "scattergeo"
           }
          ],
          "scattergl": [
           {
            "marker": {
             "colorbar": {
              "outlinewidth": 0,
              "ticks": ""
             }
            },
            "type": "scattergl"
           }
          ],
          "scattermapbox": [
           {
            "marker": {
             "colorbar": {
              "outlinewidth": 0,
              "ticks": ""
             }
            },
            "type": "scattermapbox"
           }
          ],
          "scatterpolar": [
           {
            "marker": {
             "colorbar": {
              "outlinewidth": 0,
              "ticks": ""
             }
            },
            "type": "scatterpolar"
           }
          ],
          "scatterpolargl": [
           {
            "marker": {
             "colorbar": {
              "outlinewidth": 0,
              "ticks": ""
             }
            },
            "type": "scatterpolargl"
           }
          ],
          "scatterternary": [
           {
            "marker": {
             "colorbar": {
              "outlinewidth": 0,
              "ticks": ""
             }
            },
            "type": "scatterternary"
           }
          ],
          "surface": [
           {
            "colorbar": {
             "outlinewidth": 0,
             "ticks": ""
            },
            "colorscale": [
             [
              0,
              "#0d0887"
             ],
             [
              0.1111111111111111,
              "#46039f"
             ],
             [
              0.2222222222222222,
              "#7201a8"
             ],
             [
              0.3333333333333333,
              "#9c179e"
             ],
             [
              0.4444444444444444,
              "#bd3786"
             ],
             [
              0.5555555555555556,
              "#d8576b"
             ],
             [
              0.6666666666666666,
              "#ed7953"
             ],
             [
              0.7777777777777778,
              "#fb9f3a"
             ],
             [
              0.8888888888888888,
              "#fdca26"
             ],
             [
              1,
              "#f0f921"
             ]
            ],
            "type": "surface"
           }
          ],
          "table": [
           {
            "cells": {
             "fill": {
              "color": "#EBF0F8"
             },
             "line": {
              "color": "white"
             }
            },
            "header": {
             "fill": {
              "color": "#C8D4E3"
             },
             "line": {
              "color": "white"
             }
            },
            "type": "table"
           }
          ]
         },
         "layout": {
          "annotationdefaults": {
           "arrowcolor": "#2a3f5f",
           "arrowhead": 0,
           "arrowwidth": 1
          },
          "autotypenumbers": "strict",
          "coloraxis": {
           "colorbar": {
            "outlinewidth": 0,
            "ticks": ""
           }
          },
          "colorscale": {
           "diverging": [
            [
             0,
             "#8e0152"
            ],
            [
             0.1,
             "#c51b7d"
            ],
            [
             0.2,
             "#de77ae"
            ],
            [
             0.3,
             "#f1b6da"
            ],
            [
             0.4,
             "#fde0ef"
            ],
            [
             0.5,
             "#f7f7f7"
            ],
            [
             0.6,
             "#e6f5d0"
            ],
            [
             0.7,
             "#b8e186"
            ],
            [
             0.8,
             "#7fbc41"
            ],
            [
             0.9,
             "#4d9221"
            ],
            [
             1,
             "#276419"
            ]
           ],
           "sequential": [
            [
             0,
             "#0d0887"
            ],
            [
             0.1111111111111111,
             "#46039f"
            ],
            [
             0.2222222222222222,
             "#7201a8"
            ],
            [
             0.3333333333333333,
             "#9c179e"
            ],
            [
             0.4444444444444444,
             "#bd3786"
            ],
            [
             0.5555555555555556,
             "#d8576b"
            ],
            [
             0.6666666666666666,
             "#ed7953"
            ],
            [
             0.7777777777777778,
             "#fb9f3a"
            ],
            [
             0.8888888888888888,
             "#fdca26"
            ],
            [
             1,
             "#f0f921"
            ]
           ],
           "sequentialminus": [
            [
             0,
             "#0d0887"
            ],
            [
             0.1111111111111111,
             "#46039f"
            ],
            [
             0.2222222222222222,
             "#7201a8"
            ],
            [
             0.3333333333333333,
             "#9c179e"
            ],
            [
             0.4444444444444444,
             "#bd3786"
            ],
            [
             0.5555555555555556,
             "#d8576b"
            ],
            [
             0.6666666666666666,
             "#ed7953"
            ],
            [
             0.7777777777777778,
             "#fb9f3a"
            ],
            [
             0.8888888888888888,
             "#fdca26"
            ],
            [
             1,
             "#f0f921"
            ]
           ]
          },
          "colorway": [
           "#636efa",
           "#EF553B",
           "#00cc96",
           "#ab63fa",
           "#FFA15A",
           "#19d3f3",
           "#FF6692",
           "#B6E880",
           "#FF97FF",
           "#FECB52"
          ],
          "font": {
           "color": "#2a3f5f"
          },
          "geo": {
           "bgcolor": "white",
           "lakecolor": "white",
           "landcolor": "#E5ECF6",
           "showlakes": true,
           "showland": true,
           "subunitcolor": "white"
          },
          "hoverlabel": {
           "align": "left"
          },
          "hovermode": "closest",
          "mapbox": {
           "style": "light"
          },
          "paper_bgcolor": "white",
          "plot_bgcolor": "#E5ECF6",
          "polar": {
           "angularaxis": {
            "gridcolor": "white",
            "linecolor": "white",
            "ticks": ""
           },
           "bgcolor": "#E5ECF6",
           "radialaxis": {
            "gridcolor": "white",
            "linecolor": "white",
            "ticks": ""
           }
          },
          "scene": {
           "xaxis": {
            "backgroundcolor": "#E5ECF6",
            "gridcolor": "white",
            "gridwidth": 2,
            "linecolor": "white",
            "showbackground": true,
            "ticks": "",
            "zerolinecolor": "white"
           },
           "yaxis": {
            "backgroundcolor": "#E5ECF6",
            "gridcolor": "white",
            "gridwidth": 2,
            "linecolor": "white",
            "showbackground": true,
            "ticks": "",
            "zerolinecolor": "white"
           },
           "zaxis": {
            "backgroundcolor": "#E5ECF6",
            "gridcolor": "white",
            "gridwidth": 2,
            "linecolor": "white",
            "showbackground": true,
            "ticks": "",
            "zerolinecolor": "white"
           }
          },
          "shapedefaults": {
           "line": {
            "color": "#2a3f5f"
           }
          },
          "ternary": {
           "aaxis": {
            "gridcolor": "white",
            "linecolor": "white",
            "ticks": ""
           },
           "baxis": {
            "gridcolor": "white",
            "linecolor": "white",
            "ticks": ""
           },
           "bgcolor": "#E5ECF6",
           "caxis": {
            "gridcolor": "white",
            "linecolor": "white",
            "ticks": ""
           }
          },
          "title": {
           "x": 0.05
          },
          "xaxis": {
           "automargin": true,
           "gridcolor": "white",
           "linecolor": "white",
           "ticks": "",
           "title": {
            "standoff": 15
           },
           "zerolinecolor": "white",
           "zerolinewidth": 2
          },
          "yaxis": {
           "automargin": true,
           "gridcolor": "white",
           "linecolor": "white",
           "ticks": "",
           "title": {
            "standoff": 15
           },
           "zerolinecolor": "white",
           "zerolinewidth": 2
          }
         }
        },
        "title": {
         "text": "Parallel Coordinate Plot"
        }
       }
      }
     },
     "metadata": {},
     "output_type": "display_data"
    }
   ],
   "source": [
    "optuna.visualization.plot_parallel_coordinate(study)"
   ]
  },
  {
   "cell_type": "code",
   "execution_count": 58,
   "id": "b39b32aa",
   "metadata": {},
   "outputs": [],
   "source": [
    "params = study.best_params"
   ]
  },
  {
   "cell_type": "code",
   "execution_count": 59,
   "id": "b0d198b3",
   "metadata": {},
   "outputs": [
    {
     "name": "stdout",
     "output_type": "stream",
     "text": [
      "{'n_estimators': 428, 'learning_rate': 0.10169973827621356, 'l2_leaf_reg': 7.518306071350175, 'depth': 4}\n"
     ]
    }
   ],
   "source": [
    "print(params)"
   ]
  },
  {
   "cell_type": "code",
   "execution_count": 63,
   "id": "ea8a40fa",
   "metadata": {},
   "outputs": [
    {
     "name": "stdout",
     "output_type": "stream",
     "text": [
      "0:\tlearn: 75372.6621782\ttotal: 153ms\tremaining: 1m 5s\n",
      "1:\tlearn: 74531.9522681\ttotal: 162ms\tremaining: 34.4s\n",
      "2:\tlearn: 73802.0422065\ttotal: 168ms\tremaining: 23.8s\n",
      "3:\tlearn: 73184.1537191\ttotal: 176ms\tremaining: 18.7s\n",
      "4:\tlearn: 72664.1112752\ttotal: 183ms\tremaining: 15.5s\n",
      "5:\tlearn: 72241.4079565\ttotal: 190ms\tremaining: 13.4s\n",
      "6:\tlearn: 71858.5842954\ttotal: 197ms\tremaining: 11.8s\n",
      "7:\tlearn: 71540.5087781\ttotal: 205ms\tremaining: 10.8s\n",
      "8:\tlearn: 71283.1557988\ttotal: 212ms\tremaining: 9.85s\n",
      "9:\tlearn: 71051.1880590\ttotal: 219ms\tremaining: 9.17s\n",
      "10:\tlearn: 70860.0568498\ttotal: 226ms\tremaining: 8.57s\n",
      "11:\tlearn: 70693.8306597\ttotal: 233ms\tremaining: 8.06s\n",
      "12:\tlearn: 70562.1482142\ttotal: 241ms\tremaining: 7.68s\n",
      "13:\tlearn: 70441.8148637\ttotal: 247ms\tremaining: 7.29s\n",
      "14:\tlearn: 70337.7140258\ttotal: 254ms\tremaining: 7s\n",
      "15:\tlearn: 70252.7040733\ttotal: 260ms\tremaining: 6.71s\n",
      "16:\tlearn: 70175.8581456\ttotal: 268ms\tremaining: 6.48s\n",
      "17:\tlearn: 70108.8732839\ttotal: 274ms\tremaining: 6.24s\n",
      "18:\tlearn: 70050.3474313\ttotal: 281ms\tremaining: 6.05s\n",
      "19:\tlearn: 69990.6931645\ttotal: 287ms\tremaining: 5.85s\n",
      "20:\tlearn: 69926.3669503\ttotal: 293ms\tremaining: 5.67s\n",
      "21:\tlearn: 69879.7649600\ttotal: 300ms\tremaining: 5.54s\n",
      "22:\tlearn: 69842.5338444\ttotal: 306ms\tremaining: 5.39s\n",
      "23:\tlearn: 69806.5182245\ttotal: 314ms\tremaining: 5.29s\n",
      "24:\tlearn: 69770.4726902\ttotal: 321ms\tremaining: 5.17s\n",
      "25:\tlearn: 69733.3457975\ttotal: 327ms\tremaining: 5.05s\n",
      "26:\tlearn: 69708.1808367\ttotal: 334ms\tremaining: 4.96s\n",
      "27:\tlearn: 69674.2460955\ttotal: 340ms\tremaining: 4.86s\n",
      "28:\tlearn: 69646.0639694\ttotal: 347ms\tremaining: 4.78s\n",
      "29:\tlearn: 69627.5146780\ttotal: 356ms\tremaining: 4.72s\n",
      "30:\tlearn: 69588.1964632\ttotal: 366ms\tremaining: 4.68s\n",
      "31:\tlearn: 69565.1733244\ttotal: 387ms\tremaining: 4.79s\n",
      "32:\tlearn: 69549.0016762\ttotal: 401ms\tremaining: 4.8s\n",
      "33:\tlearn: 69530.0712862\ttotal: 409ms\tremaining: 4.74s\n",
      "34:\tlearn: 69509.5075724\ttotal: 419ms\tremaining: 4.7s\n",
      "35:\tlearn: 69491.2241725\ttotal: 428ms\tremaining: 4.66s\n",
      "36:\tlearn: 69474.7776932\ttotal: 434ms\tremaining: 4.58s\n",
      "37:\tlearn: 69456.8499124\ttotal: 442ms\tremaining: 4.53s\n",
      "38:\tlearn: 69422.3983406\ttotal: 449ms\tremaining: 4.48s\n",
      "39:\tlearn: 69412.1336581\ttotal: 458ms\tremaining: 4.44s\n",
      "40:\tlearn: 69404.3118991\ttotal: 466ms\tremaining: 4.39s\n",
      "41:\tlearn: 69391.0028777\ttotal: 475ms\tremaining: 4.36s\n",
      "42:\tlearn: 69371.0120212\ttotal: 483ms\tremaining: 4.33s\n",
      "43:\tlearn: 69359.6227666\ttotal: 492ms\tremaining: 4.29s\n",
      "44:\tlearn: 69344.3309547\ttotal: 499ms\tremaining: 4.25s\n",
      "45:\tlearn: 69332.0352317\ttotal: 507ms\tremaining: 4.21s\n",
      "46:\tlearn: 69319.6832465\ttotal: 513ms\tremaining: 4.16s\n",
      "47:\tlearn: 69306.5854455\ttotal: 521ms\tremaining: 4.13s\n",
      "48:\tlearn: 69298.1274513\ttotal: 528ms\tremaining: 4.08s\n",
      "49:\tlearn: 69279.9687928\ttotal: 536ms\tremaining: 4.05s\n",
      "50:\tlearn: 69264.9128982\ttotal: 543ms\tremaining: 4.02s\n",
      "51:\tlearn: 69254.6856903\ttotal: 550ms\tremaining: 3.98s\n",
      "52:\tlearn: 69241.0062130\ttotal: 557ms\tremaining: 3.94s\n",
      "53:\tlearn: 69225.8620450\ttotal: 565ms\tremaining: 3.92s\n",
      "54:\tlearn: 69220.3102993\ttotal: 574ms\tremaining: 3.89s\n",
      "55:\tlearn: 69210.0320001\ttotal: 583ms\tremaining: 3.87s\n",
      "56:\tlearn: 69194.4332412\ttotal: 590ms\tremaining: 3.84s\n",
      "57:\tlearn: 69180.1633683\ttotal: 598ms\tremaining: 3.82s\n",
      "58:\tlearn: 69170.1486623\ttotal: 608ms\tremaining: 3.8s\n",
      "59:\tlearn: 69158.5124654\ttotal: 617ms\tremaining: 3.79s\n",
      "60:\tlearn: 69152.1867081\ttotal: 624ms\tremaining: 3.75s\n",
      "61:\tlearn: 69142.6277754\ttotal: 632ms\tremaining: 3.73s\n",
      "62:\tlearn: 69131.7736977\ttotal: 638ms\tremaining: 3.7s\n",
      "63:\tlearn: 69117.1984926\ttotal: 648ms\tremaining: 3.68s\n",
      "64:\tlearn: 69107.1367566\ttotal: 654ms\tremaining: 3.65s\n",
      "65:\tlearn: 69083.0023054\ttotal: 664ms\tremaining: 3.64s\n",
      "66:\tlearn: 69080.3964239\ttotal: 670ms\tremaining: 3.61s\n",
      "67:\tlearn: 69071.6405790\ttotal: 678ms\tremaining: 3.59s\n",
      "68:\tlearn: 69053.3992666\ttotal: 685ms\tremaining: 3.56s\n",
      "69:\tlearn: 69044.4821455\ttotal: 695ms\tremaining: 3.55s\n",
      "70:\tlearn: 69029.1450406\ttotal: 702ms\tremaining: 3.53s\n",
      "71:\tlearn: 69014.5115855\ttotal: 712ms\tremaining: 3.52s\n",
      "72:\tlearn: 68997.5417811\ttotal: 718ms\tremaining: 3.49s\n",
      "73:\tlearn: 68988.0417031\ttotal: 727ms\tremaining: 3.48s\n",
      "74:\tlearn: 68979.9110392\ttotal: 734ms\tremaining: 3.46s\n",
      "75:\tlearn: 68969.8356277\ttotal: 742ms\tremaining: 3.44s\n",
      "76:\tlearn: 68961.3643115\ttotal: 749ms\tremaining: 3.41s\n",
      "77:\tlearn: 68947.4232553\ttotal: 757ms\tremaining: 3.4s\n",
      "78:\tlearn: 68933.5156162\ttotal: 764ms\tremaining: 3.38s\n",
      "79:\tlearn: 68919.5052659\ttotal: 772ms\tremaining: 3.36s\n",
      "80:\tlearn: 68911.8579309\ttotal: 779ms\tremaining: 3.34s\n",
      "81:\tlearn: 68908.8877017\ttotal: 788ms\tremaining: 3.33s\n",
      "82:\tlearn: 68896.2229018\ttotal: 795ms\tremaining: 3.3s\n",
      "83:\tlearn: 68885.3672576\ttotal: 803ms\tremaining: 3.29s\n",
      "84:\tlearn: 68854.3376284\ttotal: 810ms\tremaining: 3.27s\n",
      "85:\tlearn: 68841.2656334\ttotal: 818ms\tremaining: 3.25s\n",
      "86:\tlearn: 68829.1093490\ttotal: 824ms\tremaining: 3.23s\n",
      "87:\tlearn: 68819.3553215\ttotal: 831ms\tremaining: 3.21s\n",
      "88:\tlearn: 68799.1190405\ttotal: 839ms\tremaining: 3.2s\n",
      "89:\tlearn: 68790.9692780\ttotal: 849ms\tremaining: 3.19s\n",
      "90:\tlearn: 68780.8466059\ttotal: 856ms\tremaining: 3.17s\n",
      "91:\tlearn: 68773.9890194\ttotal: 862ms\tremaining: 3.15s\n",
      "92:\tlearn: 68765.7111058\ttotal: 871ms\tremaining: 3.13s\n",
      "93:\tlearn: 68754.9570852\ttotal: 877ms\tremaining: 3.11s\n",
      "94:\tlearn: 68743.7669469\ttotal: 884ms\tremaining: 3.1s\n",
      "95:\tlearn: 68732.1413009\ttotal: 892ms\tremaining: 3.08s\n",
      "96:\tlearn: 68724.5276168\ttotal: 900ms\tremaining: 3.07s\n",
      "97:\tlearn: 68721.8142424\ttotal: 906ms\tremaining: 3.05s\n",
      "98:\tlearn: 68713.0063324\ttotal: 914ms\tremaining: 3.04s\n",
      "99:\tlearn: 68702.4903953\ttotal: 920ms\tremaining: 3.02s\n",
      "100:\tlearn: 68694.8084172\ttotal: 928ms\tremaining: 3s\n",
      "101:\tlearn: 68688.4562078\ttotal: 934ms\tremaining: 2.99s\n",
      "102:\tlearn: 68683.3980446\ttotal: 941ms\tremaining: 2.97s\n",
      "103:\tlearn: 68677.3094832\ttotal: 949ms\tremaining: 2.96s\n",
      "104:\tlearn: 68668.7403469\ttotal: 955ms\tremaining: 2.94s\n",
      "105:\tlearn: 68662.0076611\ttotal: 963ms\tremaining: 2.92s\n",
      "106:\tlearn: 68657.4553464\ttotal: 969ms\tremaining: 2.91s\n",
      "107:\tlearn: 68650.1127118\ttotal: 978ms\tremaining: 2.9s\n",
      "108:\tlearn: 68647.8144131\ttotal: 985ms\tremaining: 2.88s\n",
      "109:\tlearn: 68645.7982054\ttotal: 993ms\tremaining: 2.87s\n",
      "110:\tlearn: 68643.7230344\ttotal: 1s\tremaining: 2.86s\n",
      "111:\tlearn: 68632.0119421\ttotal: 1.01s\tremaining: 2.84s\n",
      "112:\tlearn: 68629.8340965\ttotal: 1.01s\tremaining: 2.83s\n",
      "113:\tlearn: 68624.0080716\ttotal: 1.02s\tremaining: 2.82s\n",
      "114:\tlearn: 68621.9892341\ttotal: 1.03s\tremaining: 2.81s\n",
      "115:\tlearn: 68615.1756295\ttotal: 1.04s\tremaining: 2.8s\n",
      "116:\tlearn: 68590.9782554\ttotal: 1.05s\tremaining: 2.78s\n",
      "117:\tlearn: 68584.0875281\ttotal: 1.05s\tremaining: 2.77s\n",
      "118:\tlearn: 68578.1903598\ttotal: 1.06s\tremaining: 2.76s\n",
      "119:\tlearn: 68571.4569864\ttotal: 1.07s\tremaining: 2.75s\n",
      "120:\tlearn: 68565.0889905\ttotal: 1.08s\tremaining: 2.74s\n",
      "121:\tlearn: 68558.5625206\ttotal: 1.09s\tremaining: 2.73s\n",
      "122:\tlearn: 68556.6578736\ttotal: 1.09s\tremaining: 2.71s\n",
      "123:\tlearn: 68550.3479509\ttotal: 1.1s\tremaining: 2.71s\n",
      "124:\tlearn: 68544.1946963\ttotal: 1.11s\tremaining: 2.69s\n",
      "125:\tlearn: 68538.3745351\ttotal: 1.12s\tremaining: 2.68s\n",
      "126:\tlearn: 68532.3345732\ttotal: 1.13s\tremaining: 2.67s\n",
      "127:\tlearn: 68530.4816663\ttotal: 1.13s\tremaining: 2.66s\n",
      "128:\tlearn: 68524.9303993\ttotal: 1.14s\tremaining: 2.64s\n",
      "129:\tlearn: 68519.6959209\ttotal: 1.15s\tremaining: 2.63s\n",
      "130:\tlearn: 68514.8071150\ttotal: 1.15s\tremaining: 2.62s\n",
      "131:\tlearn: 68507.0519953\ttotal: 1.16s\tremaining: 2.6s\n",
      "132:\tlearn: 68502.3763973\ttotal: 1.17s\tremaining: 2.59s\n",
      "133:\tlearn: 68498.3282143\ttotal: 1.17s\tremaining: 2.58s\n",
      "134:\tlearn: 68494.0504760\ttotal: 1.19s\tremaining: 2.57s\n",
      "135:\tlearn: 68483.8984381\ttotal: 1.19s\tremaining: 2.56s\n",
      "136:\tlearn: 68482.0954005\ttotal: 1.2s\tremaining: 2.55s\n",
      "137:\tlearn: 68474.3720754\ttotal: 1.21s\tremaining: 2.54s\n",
      "138:\tlearn: 68466.0111465\ttotal: 1.21s\tremaining: 2.53s\n",
      "139:\tlearn: 68460.7315708\ttotal: 1.22s\tremaining: 2.51s\n",
      "140:\tlearn: 68450.7967378\ttotal: 1.23s\tremaining: 2.5s\n",
      "141:\tlearn: 68449.0422077\ttotal: 1.24s\tremaining: 2.49s\n",
      "142:\tlearn: 68440.2174196\ttotal: 1.24s\tremaining: 2.48s\n",
      "143:\tlearn: 68438.5117366\ttotal: 1.25s\tremaining: 2.46s\n",
      "144:\tlearn: 68429.7773304\ttotal: 1.25s\tremaining: 2.45s\n",
      "145:\tlearn: 68428.1154190\ttotal: 1.26s\tremaining: 2.44s\n",
      "146:\tlearn: 68422.1981053\ttotal: 1.27s\tremaining: 2.42s\n",
      "147:\tlearn: 68417.1361388\ttotal: 1.27s\tremaining: 2.41s\n",
      "148:\tlearn: 68412.9879251\ttotal: 1.28s\tremaining: 2.4s\n",
      "149:\tlearn: 68409.2306571\ttotal: 1.29s\tremaining: 2.38s\n",
      "150:\tlearn: 68397.7790717\ttotal: 1.29s\tremaining: 2.37s\n",
      "151:\tlearn: 68390.0745256\ttotal: 1.3s\tremaining: 2.36s\n",
      "152:\tlearn: 68384.4353345\ttotal: 1.3s\tremaining: 2.35s\n",
      "153:\tlearn: 68382.8506647\ttotal: 1.31s\tremaining: 2.33s\n",
      "154:\tlearn: 68381.3064603\ttotal: 1.32s\tremaining: 2.32s\n",
      "155:\tlearn: 68359.1542092\ttotal: 1.32s\tremaining: 2.31s\n",
      "156:\tlearn: 68354.7807379\ttotal: 1.33s\tremaining: 2.29s\n",
      "157:\tlearn: 68353.1664838\ttotal: 1.34s\tremaining: 2.28s\n",
      "158:\tlearn: 68345.9268975\ttotal: 1.34s\tremaining: 2.27s\n",
      "159:\tlearn: 68339.3726432\ttotal: 1.35s\tremaining: 2.26s\n",
      "160:\tlearn: 68326.5600524\ttotal: 1.35s\tremaining: 2.25s\n",
      "161:\tlearn: 68314.7872295\ttotal: 1.36s\tremaining: 2.23s\n",
      "162:\tlearn: 68309.8380436\ttotal: 1.37s\tremaining: 2.23s\n",
      "163:\tlearn: 68305.0186394\ttotal: 1.37s\tremaining: 2.21s\n",
      "164:\tlearn: 68300.3252027\ttotal: 1.38s\tremaining: 2.2s\n",
      "165:\tlearn: 68295.7537886\ttotal: 1.39s\tremaining: 2.19s\n",
      "166:\tlearn: 68291.2989656\ttotal: 1.39s\tremaining: 2.18s\n",
      "167:\tlearn: 68286.9113897\ttotal: 1.4s\tremaining: 2.17s\n",
      "168:\tlearn: 68282.6782266\ttotal: 1.41s\tremaining: 2.16s\n",
      "169:\tlearn: 68278.5504135\ttotal: 1.42s\tremaining: 2.15s\n",
      "170:\tlearn: 68274.5246254\ttotal: 1.42s\tremaining: 2.14s\n",
      "171:\tlearn: 68270.5974859\ttotal: 1.43s\tremaining: 2.13s\n",
      "172:\tlearn: 68266.7670893\ttotal: 1.44s\tremaining: 2.12s\n",
      "173:\tlearn: 68263.0302133\ttotal: 1.44s\tremaining: 2.11s\n",
      "174:\tlearn: 68259.3843087\ttotal: 1.45s\tremaining: 2.1s\n",
      "175:\tlearn: 68255.8268608\ttotal: 1.46s\tremaining: 2.09s\n",
      "176:\tlearn: 68252.3555069\ttotal: 1.47s\tremaining: 2.08s\n",
      "177:\tlearn: 68248.9679196\ttotal: 1.47s\tremaining: 2.07s\n",
      "178:\tlearn: 68245.6620325\ttotal: 1.48s\tremaining: 2.06s\n",
      "179:\tlearn: 68242.4356925\ttotal: 1.49s\tremaining: 2.05s\n",
      "180:\tlearn: 68239.2868720\ttotal: 1.5s\tremaining: 2.04s\n",
      "181:\tlearn: 68236.2135495\ttotal: 1.5s\tremaining: 2.03s\n",
      "182:\tlearn: 68233.2139475\ttotal: 1.51s\tremaining: 2.02s\n",
      "183:\tlearn: 68221.8342347\ttotal: 1.52s\tremaining: 2.02s\n",
      "184:\tlearn: 68210.8505060\ttotal: 1.53s\tremaining: 2.01s\n",
      "185:\tlearn: 68207.9192897\ttotal: 1.54s\tremaining: 2s\n",
      "186:\tlearn: 68205.0584843\ttotal: 1.54s\tremaining: 1.99s\n",
      "187:\tlearn: 68202.2662948\ttotal: 1.55s\tremaining: 1.98s\n",
      "188:\tlearn: 68190.6157695\ttotal: 1.56s\tremaining: 1.97s\n",
      "189:\tlearn: 68187.8905395\ttotal: 1.56s\tremaining: 1.96s\n",
      "190:\tlearn: 68185.2304279\ttotal: 1.57s\tremaining: 1.96s\n",
      "191:\tlearn: 68182.6338307\ttotal: 1.58s\tremaining: 1.95s\n",
      "192:\tlearn: 68180.0991916\ttotal: 1.59s\tremaining: 1.94s\n",
      "193:\tlearn: 68177.6249984\ttotal: 1.6s\tremaining: 1.93s\n",
      "194:\tlearn: 68175.2097816\ttotal: 1.61s\tremaining: 1.92s\n",
      "195:\tlearn: 68164.6928543\ttotal: 1.61s\tremaining: 1.91s\n",
      "196:\tlearn: 68162.3347963\ttotal: 1.62s\tremaining: 1.9s\n",
      "197:\tlearn: 68157.7360661\ttotal: 1.63s\tremaining: 1.89s\n",
      "198:\tlearn: 68155.4338656\ttotal: 1.64s\tremaining: 1.89s\n",
      "199:\tlearn: 68153.1865102\ttotal: 1.65s\tremaining: 1.88s\n",
      "200:\tlearn: 68147.3656259\ttotal: 1.65s\tremaining: 1.87s\n",
      "201:\tlearn: 68145.1680059\ttotal: 1.66s\tremaining: 1.86s\n",
      "202:\tlearn: 68143.0227598\ttotal: 1.67s\tremaining: 1.85s\n",
      "203:\tlearn: 68140.9286121\ttotal: 1.68s\tremaining: 1.84s\n",
      "204:\tlearn: 68127.9149527\ttotal: 1.69s\tremaining: 1.83s\n",
      "205:\tlearn: 68125.8700704\ttotal: 1.69s\tremaining: 1.82s\n",
      "206:\tlearn: 68122.3991659\ttotal: 1.7s\tremaining: 1.81s\n",
      "207:\tlearn: 68120.4026642\ttotal: 1.71s\tremaining: 1.8s\n",
      "208:\tlearn: 68116.8048742\ttotal: 1.72s\tremaining: 1.8s\n",
      "209:\tlearn: 68113.4108952\ttotal: 1.72s\tremaining: 1.79s\n",
      "210:\tlearn: 68108.5924178\ttotal: 1.73s\tremaining: 1.78s\n",
      "211:\tlearn: 68103.1347532\ttotal: 1.74s\tremaining: 1.77s\n",
      "212:\tlearn: 68095.4762373\ttotal: 1.75s\tremaining: 1.76s\n",
      "213:\tlearn: 68084.6839342\ttotal: 1.75s\tremaining: 1.75s\n",
      "214:\tlearn: 68081.5957517\ttotal: 1.76s\tremaining: 1.74s\n",
      "215:\tlearn: 68079.6471877\ttotal: 1.77s\tremaining: 1.73s\n",
      "216:\tlearn: 68076.4931410\ttotal: 1.77s\tremaining: 1.73s\n",
      "217:\tlearn: 68072.1274496\ttotal: 1.78s\tremaining: 1.72s\n",
      "218:\tlearn: 68067.7208739\ttotal: 1.79s\tremaining: 1.71s\n",
      "219:\tlearn: 68064.7544803\ttotal: 1.8s\tremaining: 1.7s\n",
      "220:\tlearn: 68054.2552079\ttotal: 1.81s\tremaining: 1.69s\n",
      "221:\tlearn: 68050.2013140\ttotal: 1.82s\tremaining: 1.69s\n",
      "222:\tlearn: 68047.4356647\ttotal: 1.82s\tremaining: 1.68s\n",
      "223:\tlearn: 68044.8174717\ttotal: 1.83s\tremaining: 1.67s\n",
      "224:\tlearn: 68039.7843127\ttotal: 1.84s\tremaining: 1.66s\n",
      "225:\tlearn: 68032.3699025\ttotal: 1.85s\tremaining: 1.65s\n",
      "226:\tlearn: 68028.6837726\ttotal: 1.85s\tremaining: 1.64s\n",
      "227:\tlearn: 68024.3816346\ttotal: 1.86s\tremaining: 1.63s\n",
      "228:\tlearn: 68014.2536279\ttotal: 1.87s\tremaining: 1.63s\n",
      "229:\tlearn: 68002.9397659\ttotal: 1.88s\tremaining: 1.62s\n",
      "230:\tlearn: 67993.2121130\ttotal: 1.89s\tremaining: 1.61s\n",
      "231:\tlearn: 67989.3547725\ttotal: 1.89s\tremaining: 1.6s\n",
      "232:\tlearn: 67987.4768378\ttotal: 1.9s\tremaining: 1.59s\n",
      "233:\tlearn: 67974.5613665\ttotal: 1.91s\tremaining: 1.58s\n",
      "234:\tlearn: 67964.0341149\ttotal: 1.92s\tremaining: 1.57s\n",
      "235:\tlearn: 67957.3351959\ttotal: 1.92s\tremaining: 1.56s\n",
      "236:\tlearn: 67953.8913374\ttotal: 1.93s\tremaining: 1.56s\n",
      "237:\tlearn: 67948.1227898\ttotal: 1.94s\tremaining: 1.55s\n",
      "238:\tlearn: 67944.8976787\ttotal: 1.95s\tremaining: 1.54s\n",
      "239:\tlearn: 67942.8079101\ttotal: 1.96s\tremaining: 1.53s\n",
      "240:\tlearn: 67940.3474078\ttotal: 1.96s\tremaining: 1.52s\n",
      "241:\tlearn: 67936.8058002\ttotal: 1.97s\tremaining: 1.51s\n",
      "242:\tlearn: 67904.7166361\ttotal: 1.98s\tremaining: 1.51s\n",
      "243:\tlearn: 67902.7678300\ttotal: 1.99s\tremaining: 1.5s\n",
      "244:\tlearn: 67897.4738412\ttotal: 2s\tremaining: 1.49s\n",
      "245:\tlearn: 67892.8148339\ttotal: 2s\tremaining: 1.48s\n",
      "246:\tlearn: 67890.5823816\ttotal: 2.01s\tremaining: 1.47s\n",
      "247:\tlearn: 67875.0169195\ttotal: 2.02s\tremaining: 1.47s\n",
      "248:\tlearn: 67862.8605904\ttotal: 2.03s\tremaining: 1.46s\n",
      "249:\tlearn: 67859.6349484\ttotal: 2.04s\tremaining: 1.45s\n",
      "250:\tlearn: 67832.9822244\ttotal: 2.04s\tremaining: 1.44s\n",
      "251:\tlearn: 67826.9953104\ttotal: 2.05s\tremaining: 1.43s\n",
      "252:\tlearn: 67821.5014425\ttotal: 2.06s\tremaining: 1.43s\n",
      "253:\tlearn: 67815.3610192\ttotal: 2.07s\tremaining: 1.42s\n",
      "254:\tlearn: 67812.3535545\ttotal: 2.08s\tremaining: 1.41s\n",
      "255:\tlearn: 67803.0898595\ttotal: 2.08s\tremaining: 1.4s\n",
      "256:\tlearn: 67794.2898452\ttotal: 2.09s\tremaining: 1.39s\n",
      "257:\tlearn: 67789.4927288\ttotal: 2.1s\tremaining: 1.38s\n",
      "258:\tlearn: 67786.3601656\ttotal: 2.11s\tremaining: 1.37s\n",
      "259:\tlearn: 67778.4953755\ttotal: 2.11s\tremaining: 1.36s\n",
      "260:\tlearn: 67769.2982908\ttotal: 2.12s\tremaining: 1.36s\n",
      "261:\tlearn: 67765.6531085\ttotal: 2.13s\tremaining: 1.35s\n",
      "262:\tlearn: 67763.4375471\ttotal: 2.13s\tremaining: 1.34s\n",
      "263:\tlearn: 67761.6385878\ttotal: 2.14s\tremaining: 1.33s\n",
      "264:\tlearn: 67759.9034225\ttotal: 2.15s\tremaining: 1.32s\n",
      "265:\tlearn: 67757.4627725\ttotal: 2.15s\tremaining: 1.31s\n",
      "266:\tlearn: 67735.3549996\ttotal: 2.16s\tremaining: 1.3s\n",
      "267:\tlearn: 67724.6779304\ttotal: 2.17s\tremaining: 1.29s\n",
      "268:\tlearn: 67722.9866760\ttotal: 2.17s\tremaining: 1.29s\n",
      "269:\tlearn: 67721.3375930\ttotal: 2.18s\tremaining: 1.28s\n",
      "270:\tlearn: 67719.7293073\ttotal: 2.19s\tremaining: 1.27s\n",
      "271:\tlearn: 67718.1605535\ttotal: 2.2s\tremaining: 1.26s\n",
      "272:\tlearn: 67707.6263396\ttotal: 2.21s\tremaining: 1.25s\n",
      "273:\tlearn: 67705.3450463\ttotal: 2.21s\tremaining: 1.24s\n",
      "274:\tlearn: 67703.8146137\ttotal: 2.22s\tremaining: 1.24s\n",
      "275:\tlearn: 67698.9228044\ttotal: 2.23s\tremaining: 1.23s\n",
      "276:\tlearn: 67696.9454494\ttotal: 2.23s\tremaining: 1.22s\n",
      "277:\tlearn: 67686.9816612\ttotal: 2.24s\tremaining: 1.21s\n",
      "278:\tlearn: 67677.9063439\ttotal: 2.25s\tremaining: 1.2s\n",
      "279:\tlearn: 67668.9803316\ttotal: 2.25s\tremaining: 1.19s\n",
      "280:\tlearn: 67651.0053402\ttotal: 2.26s\tremaining: 1.18s\n",
      "281:\tlearn: 67647.4833625\ttotal: 2.27s\tremaining: 1.18s\n",
      "282:\tlearn: 67645.9870017\ttotal: 2.28s\tremaining: 1.17s\n",
      "283:\tlearn: 67614.4026075\ttotal: 2.29s\tremaining: 1.16s\n",
      "284:\tlearn: 67584.1965248\ttotal: 2.29s\tremaining: 1.15s\n",
      "285:\tlearn: 67582.7341459\ttotal: 2.3s\tremaining: 1.14s\n",
      "286:\tlearn: 67553.8391653\ttotal: 2.31s\tremaining: 1.13s\n",
      "287:\tlearn: 67526.2763620\ttotal: 2.31s\tremaining: 1.12s\n",
      "288:\tlearn: 67499.8993478\ttotal: 2.32s\tremaining: 1.12s\n",
      "289:\tlearn: 67498.4689463\ttotal: 2.33s\tremaining: 1.11s\n",
      "290:\tlearn: 67473.2222051\ttotal: 2.33s\tremaining: 1.1s\n",
      "291:\tlearn: 67471.0567612\ttotal: 2.34s\tremaining: 1.09s\n",
      "292:\tlearn: 67469.6607945\ttotal: 2.35s\tremaining: 1.08s\n",
      "293:\tlearn: 67465.3689463\ttotal: 2.36s\tremaining: 1.07s\n",
      "294:\tlearn: 67464.0074628\ttotal: 2.36s\tremaining: 1.06s\n",
      "295:\tlearn: 67439.8347391\ttotal: 2.37s\tremaining: 1.06s\n",
      "296:\tlearn: 67416.6945571\ttotal: 2.38s\tremaining: 1.05s\n",
      "297:\tlearn: 67394.5408210\ttotal: 2.39s\tremaining: 1.04s\n",
      "298:\tlearn: 67373.3298457\ttotal: 2.39s\tremaining: 1.03s\n",
      "299:\tlearn: 67371.9977363\ttotal: 2.4s\tremaining: 1.02s\n",
      "300:\tlearn: 67369.9088529\ttotal: 2.41s\tremaining: 1.02s\n",
      "301:\tlearn: 67368.6088709\ttotal: 2.42s\tremaining: 1.01s\n",
      "302:\tlearn: 67367.3404941\ttotal: 2.42s\tremaining: 1s\n",
      "303:\tlearn: 67366.1028432\ttotal: 2.43s\tremaining: 992ms\n",
      "304:\tlearn: 67355.6738940\ttotal: 2.44s\tremaining: 983ms\n",
      "305:\tlearn: 67335.3559400\ttotal: 2.44s\tremaining: 975ms\n",
      "306:\tlearn: 67315.9008080\ttotal: 2.45s\tremaining: 967ms\n",
      "307:\tlearn: 67297.2708797\ttotal: 2.46s\tremaining: 958ms\n",
      "308:\tlearn: 67279.4303571\ttotal: 2.47s\tremaining: 950ms\n",
      "309:\tlearn: 67277.3798754\ttotal: 2.47s\tremaining: 942ms\n",
      "310:\tlearn: 67276.1696473\ttotal: 2.48s\tremaining: 934ms\n",
      "311:\tlearn: 67259.0823035\ttotal: 2.49s\tremaining: 925ms\n",
      "312:\tlearn: 67257.1456308\ttotal: 2.5s\tremaining: 917ms\n",
      "313:\tlearn: 67255.3108628\ttotal: 2.5s\tremaining: 908ms\n",
      "314:\tlearn: 67251.6854446\ttotal: 2.51s\tremaining: 900ms\n",
      "315:\tlearn: 67243.6952212\ttotal: 2.52s\tremaining: 892ms\n",
      "316:\tlearn: 67242.5105320\ttotal: 2.52s\tremaining: 883ms\n",
      "317:\tlearn: 67226.2630638\ttotal: 2.53s\tremaining: 875ms\n",
      "318:\tlearn: 67225.1068024\ttotal: 2.54s\tremaining: 867ms\n",
      "319:\tlearn: 67219.9788963\ttotal: 2.54s\tremaining: 859ms\n",
      "320:\tlearn: 67204.4220224\ttotal: 2.55s\tremaining: 850ms\n",
      "321:\tlearn: 67189.5250547\ttotal: 2.56s\tremaining: 842ms\n",
      "322:\tlearn: 67188.3989617\ttotal: 2.56s\tremaining: 834ms\n",
      "323:\tlearn: 67174.1329662\ttotal: 2.57s\tremaining: 825ms\n",
      "324:\tlearn: 67168.3990766\ttotal: 2.58s\tremaining: 817ms\n",
      "325:\tlearn: 67166.5522316\ttotal: 2.58s\tremaining: 809ms\n",
      "326:\tlearn: 67162.6237412\ttotal: 2.59s\tremaining: 801ms\n",
      "327:\tlearn: 67155.8260999\ttotal: 2.6s\tremaining: 793ms\n",
      "328:\tlearn: 67142.1601006\ttotal: 2.61s\tremaining: 785ms\n",
      "329:\tlearn: 67129.0721636\ttotal: 2.62s\tremaining: 777ms\n",
      "330:\tlearn: 67116.5375747\ttotal: 2.63s\tremaining: 770ms\n",
      "331:\tlearn: 67114.7519985\ttotal: 2.63s\tremaining: 762ms\n",
      "332:\tlearn: 67113.0209087\ttotal: 2.64s\tremaining: 754ms\n",
      "333:\tlearn: 67104.1726129\ttotal: 2.65s\tremaining: 745ms\n",
      "334:\tlearn: 67103.0935568\ttotal: 2.65s\tremaining: 737ms\n",
      "335:\tlearn: 67093.5529663\ttotal: 2.66s\tremaining: 729ms\n",
      "336:\tlearn: 67081.9239979\ttotal: 2.67s\tremaining: 721ms\n",
      "337:\tlearn: 67071.7712643\ttotal: 2.68s\tremaining: 713ms\n",
      "338:\tlearn: 67070.1495520\ttotal: 2.69s\tremaining: 705ms\n",
      "339:\tlearn: 67069.0962671\ttotal: 2.69s\tremaining: 697ms\n",
      "340:\tlearn: 67059.9363855\ttotal: 2.7s\tremaining: 689ms\n",
      "341:\tlearn: 67049.3608057\ttotal: 2.71s\tremaining: 681ms\n",
      "342:\tlearn: 67040.2585366\ttotal: 2.71s\tremaining: 673ms\n",
      "343:\tlearn: 67028.2365719\ttotal: 2.72s\tremaining: 665ms\n",
      "344:\tlearn: 67027.2060121\ttotal: 2.73s\tremaining: 656ms\n",
      "345:\tlearn: 67015.6919715\ttotal: 2.74s\tremaining: 649ms\n",
      "346:\tlearn: 67007.0140168\ttotal: 2.74s\tremaining: 640ms\n",
      "347:\tlearn: 66995.9848413\ttotal: 2.75s\tremaining: 633ms\n",
      "348:\tlearn: 66987.6432332\ttotal: 2.76s\tremaining: 625ms\n",
      "349:\tlearn: 66982.3447239\ttotal: 2.77s\tremaining: 617ms\n",
      "350:\tlearn: 66980.6278105\ttotal: 2.77s\tremaining: 609ms\n",
      "351:\tlearn: 66971.3160802\ttotal: 2.78s\tremaining: 601ms\n",
      "352:\tlearn: 66962.3697643\ttotal: 2.79s\tremaining: 593ms\n",
      "353:\tlearn: 66953.4866720\ttotal: 2.8s\tremaining: 585ms\n",
      "354:\tlearn: 66945.5639219\ttotal: 2.81s\tremaining: 577ms\n",
      "355:\tlearn: 66936.9739757\ttotal: 2.81s\tremaining: 569ms\n",
      "356:\tlearn: 66935.9898213\ttotal: 2.82s\tremaining: 561ms\n",
      "357:\tlearn: 66928.4598658\ttotal: 2.83s\tremaining: 553ms\n",
      "358:\tlearn: 66927.2036439\ttotal: 2.84s\tremaining: 545ms\n",
      "359:\tlearn: 66920.0454376\ttotal: 2.84s\tremaining: 537ms\n",
      "360:\tlearn: 66913.2205731\ttotal: 2.85s\tremaining: 529ms\n",
      "361:\tlearn: 66904.5795826\ttotal: 2.86s\tremaining: 522ms\n",
      "362:\tlearn: 66903.3569623\ttotal: 2.87s\tremaining: 514ms\n",
      "363:\tlearn: 66878.3586205\ttotal: 2.88s\tremaining: 506ms\n",
      "364:\tlearn: 66876.7252255\ttotal: 2.89s\tremaining: 498ms\n",
      "365:\tlearn: 66875.1741622\ttotal: 2.89s\tremaining: 490ms\n",
      "366:\tlearn: 66870.7181818\ttotal: 2.9s\tremaining: 482ms\n",
      "367:\tlearn: 66860.1504651\ttotal: 2.91s\tremaining: 475ms\n",
      "368:\tlearn: 66856.2583969\ttotal: 2.92s\tremaining: 467ms\n",
      "369:\tlearn: 66846.1376366\ttotal: 2.93s\tremaining: 459ms\n",
      "370:\tlearn: 66842.1631702\ttotal: 2.94s\tremaining: 451ms\n",
      "371:\tlearn: 66832.4701367\ttotal: 2.95s\tremaining: 444ms\n",
      "372:\tlearn: 66823.1724638\ttotal: 2.96s\tremaining: 436ms\n",
      "373:\tlearn: 66815.2542938\ttotal: 2.97s\tremaining: 428ms\n",
      "374:\tlearn: 66806.3179426\ttotal: 2.98s\tremaining: 421ms\n",
      "375:\tlearn: 66793.7911147\ttotal: 2.98s\tremaining: 413ms\n",
      "376:\tlearn: 66785.2577134\ttotal: 2.99s\tremaining: 405ms\n",
      "377:\tlearn: 66784.3143781\ttotal: 3s\tremaining: 397ms\n",
      "378:\tlearn: 66779.8479666\ttotal: 3.01s\tremaining: 389ms\n",
      "379:\tlearn: 66775.3672345\ttotal: 3.02s\tremaining: 381ms\n",
      "380:\tlearn: 66767.0214116\ttotal: 3.03s\tremaining: 374ms\n",
      "381:\tlearn: 66761.4998812\ttotal: 3.04s\tremaining: 365ms\n",
      "382:\tlearn: 66754.9087049\ttotal: 3.04s\tremaining: 357ms\n",
      "383:\tlearn: 66726.5304952\ttotal: 3.05s\tremaining: 350ms\n",
      "384:\tlearn: 66718.0854785\ttotal: 3.06s\tremaining: 342ms\n",
      "385:\tlearn: 66703.9300830\ttotal: 3.07s\tremaining: 334ms\n",
      "386:\tlearn: 66702.3472888\ttotal: 3.08s\tremaining: 326ms\n",
      "387:\tlearn: 66694.9202635\ttotal: 3.08s\tremaining: 318ms\n",
      "388:\tlearn: 66688.6884970\ttotal: 3.09s\tremaining: 310ms\n",
      "389:\tlearn: 66687.7802879\ttotal: 3.1s\tremaining: 302ms\n",
      "390:\tlearn: 66680.5535871\ttotal: 3.1s\tremaining: 294ms\n",
      "391:\tlearn: 66668.7192259\ttotal: 3.11s\tremaining: 286ms\n",
      "392:\tlearn: 66663.0812998\ttotal: 3.12s\tremaining: 278ms\n",
      "393:\tlearn: 66649.8968979\ttotal: 3.13s\tremaining: 270ms\n",
      "394:\tlearn: 66641.1757606\ttotal: 3.14s\tremaining: 262ms\n",
      "395:\tlearn: 66633.2409712\ttotal: 3.15s\tremaining: 254ms\n",
      "396:\tlearn: 66632.3521451\ttotal: 3.16s\tremaining: 247ms\n",
      "397:\tlearn: 66624.1890654\ttotal: 3.17s\tremaining: 239ms\n",
      "398:\tlearn: 66618.1683349\ttotal: 3.17s\tremaining: 231ms\n",
      "399:\tlearn: 66610.4391102\ttotal: 3.18s\tremaining: 223ms\n",
      "400:\tlearn: 66604.6374978\ttotal: 3.21s\tremaining: 216ms\n",
      "401:\tlearn: 66592.6454122\ttotal: 3.21s\tremaining: 208ms\n",
      "402:\tlearn: 66591.7791459\ttotal: 3.22s\tremaining: 200ms\n",
      "403:\tlearn: 66585.0140108\ttotal: 3.23s\tremaining: 192ms\n",
      "404:\tlearn: 66577.2149520\ttotal: 3.24s\tremaining: 184ms\n",
      "405:\tlearn: 66569.7452940\ttotal: 3.25s\tremaining: 176ms\n",
      "406:\tlearn: 66562.5860943\ttotal: 3.25s\tremaining: 168ms\n",
      "407:\tlearn: 66555.3706298\ttotal: 3.26s\tremaining: 160ms\n",
      "408:\tlearn: 66549.6498193\ttotal: 3.27s\tremaining: 152ms\n",
      "409:\tlearn: 66544.2191802\ttotal: 3.28s\tremaining: 144ms\n",
      "410:\tlearn: 66535.9996066\ttotal: 3.29s\tremaining: 136ms\n",
      "411:\tlearn: 66530.8392480\ttotal: 3.29s\tremaining: 128ms\n",
      "412:\tlearn: 66525.9266596\ttotal: 3.3s\tremaining: 120ms\n",
      "413:\tlearn: 66521.2520655\ttotal: 3.31s\tremaining: 112ms\n",
      "414:\tlearn: 66516.7567173\ttotal: 3.31s\tremaining: 104ms\n",
      "415:\tlearn: 66515.9095499\ttotal: 3.32s\tremaining: 95.8ms\n",
      "416:\tlearn: 66506.2592217\ttotal: 3.33s\tremaining: 87.8ms\n",
      "417:\tlearn: 66494.5800945\ttotal: 3.34s\tremaining: 79.9ms\n",
      "418:\tlearn: 66490.3262700\ttotal: 3.35s\tremaining: 71.9ms\n",
      "419:\tlearn: 66486.2688896\ttotal: 3.35s\tremaining: 63.9ms\n",
      "420:\tlearn: 66476.3308926\ttotal: 3.36s\tremaining: 55.9ms\n",
      "421:\tlearn: 66472.4843408\ttotal: 3.37s\tremaining: 47.9ms\n",
      "422:\tlearn: 66465.2645504\ttotal: 3.38s\tremaining: 39.9ms\n",
      "423:\tlearn: 66453.4848457\ttotal: 3.38s\tremaining: 31.9ms\n",
      "424:\tlearn: 66449.8245049\ttotal: 3.39s\tremaining: 23.9ms\n",
      "425:\tlearn: 66439.8326472\ttotal: 3.4s\tremaining: 16ms\n",
      "426:\tlearn: 66431.5117206\ttotal: 3.41s\tremaining: 7.98ms\n",
      "427:\tlearn: 66423.5048865\ttotal: 3.42s\tremaining: 0us\n"
     ]
    },
    {
     "data": {
      "text/plain": [
       "<catboost.core.CatBoostRegressor at 0x2c2afa81bd0>"
      ]
     },
     "execution_count": 63,
     "metadata": {},
     "output_type": "execute_result"
    }
   ],
   "source": [
    "model_cat = CatBoostRegressor(**params)\n",
    "model_cat.fit(X_train,y_train)"
   ]
  },
  {
   "cell_type": "code",
   "execution_count": 65,
   "id": "02a930c9",
   "metadata": {},
   "outputs": [],
   "source": [
    "y_preds = model_cat.predict(X_test)\n",
    "\n"
   ]
  },
  {
   "cell_type": "code",
   "execution_count": 66,
   "id": "45d2364f",
   "metadata": {},
   "outputs": [],
   "source": [
    "from sklearn.metrics import root_mean_squared_error"
   ]
  },
  {
   "cell_type": "code",
   "execution_count": 74,
   "id": "b9bf9d24",
   "metadata": {},
   "outputs": [],
   "source": [
    "def rmse(y_test,y_preds):\n",
    "    rmse = root_mean_squared_error(y_test,y_preds)\n",
    "    return rmse"
   ]
  },
  {
   "cell_type": "code",
   "execution_count": 76,
   "id": "da23d2dc",
   "metadata": {},
   "outputs": [
    {
     "data": {
      "text/plain": [
       "79196.37637258886"
      ]
     },
     "execution_count": 76,
     "metadata": {},
     "output_type": "execute_result"
    }
   ],
   "source": [
    "rmse(y_test,y_preds)"
   ]
  },
  {
   "cell_type": "markdown",
   "id": "bddc94ab",
   "metadata": {},
   "source": [
    "def preprocessor(df):\n",
    "    X = df.drop(columns='price')\n",
    "    y = df['price']\n",
    "    X['age'] = 2025 - df['model_year']\n",
    "    X = pd.get_dummies(X,columns=['fuel_type','accident'])\n",
    "    X = X.drop(columns=['id','clean_title'])\n",
    "\n",
    "    return X,y\n"
   ]
  },
  {
   "cell_type": "code",
   "execution_count": 78,
   "id": "ae1d7289",
   "metadata": {},
   "outputs": [],
   "source": [
    "df_test['age'] = 2025 - df['model_year']\n",
    "df_test = pd.get_dummies(df_test,columns=['fuel_type','accident'])\n",
    "df_test = df_test.drop(columns=['id','clean_title'])\n",
    "df_test[cols_for_encoding] = encoder.transform(df_test[cols_for_encoding])\n",
    "\n",
    "y_final_preds = model_cat.predict(df_test)\n"
   ]
  },
  {
   "cell_type": "code",
   "execution_count": 79,
   "id": "cce0a9c9",
   "metadata": {},
   "outputs": [],
   "source": [
    "df_final['price'] = y_final_preds"
   ]
  },
  {
   "cell_type": "code",
   "execution_count": 81,
   "id": "4c9d6a22",
   "metadata": {},
   "outputs": [],
   "source": [
    "df_final.to_csv('submission.csv',index=False)"
   ]
  }
 ],
 "metadata": {
  "kernelspec": {
   "display_name": "base",
   "language": "python",
   "name": "python3"
  },
  "language_info": {
   "codemirror_mode": {
    "name": "ipython",
    "version": 3
   },
   "file_extension": ".py",
   "mimetype": "text/x-python",
   "name": "python",
   "nbconvert_exporter": "python",
   "pygments_lexer": "ipython3",
   "version": "3.11.5"
  }
 },
 "nbformat": 4,
 "nbformat_minor": 5
}
