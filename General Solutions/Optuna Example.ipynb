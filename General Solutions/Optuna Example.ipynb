{
 "cells": [
  {
   "cell_type": "code",
   "execution_count": 38,
   "metadata": {},
   "outputs": [],
   "source": [
    "import seaborn as sns\n",
    "import pandas as pd"
   ]
  },
  {
   "cell_type": "code",
   "execution_count": 39,
   "metadata": {},
   "outputs": [],
   "source": [
    "healthexp = sns.load_dataset('healthexp')"
   ]
  },
  {
   "cell_type": "code",
   "execution_count": 40,
   "metadata": {},
   "outputs": [
    {
     "data": {
      "text/html": [
       "<div>\n",
       "<style scoped>\n",
       "    .dataframe tbody tr th:only-of-type {\n",
       "        vertical-align: middle;\n",
       "    }\n",
       "\n",
       "    .dataframe tbody tr th {\n",
       "        vertical-align: top;\n",
       "    }\n",
       "\n",
       "    .dataframe thead th {\n",
       "        text-align: right;\n",
       "    }\n",
       "</style>\n",
       "<table border=\"1\" class=\"dataframe\">\n",
       "  <thead>\n",
       "    <tr style=\"text-align: right;\">\n",
       "      <th></th>\n",
       "      <th>Year</th>\n",
       "      <th>Country</th>\n",
       "      <th>Spending_USD</th>\n",
       "      <th>Life_Expectancy</th>\n",
       "    </tr>\n",
       "  </thead>\n",
       "  <tbody>\n",
       "    <tr>\n",
       "      <th>0</th>\n",
       "      <td>1970</td>\n",
       "      <td>Germany</td>\n",
       "      <td>252.311</td>\n",
       "      <td>70.6</td>\n",
       "    </tr>\n",
       "    <tr>\n",
       "      <th>1</th>\n",
       "      <td>1970</td>\n",
       "      <td>France</td>\n",
       "      <td>192.143</td>\n",
       "      <td>72.2</td>\n",
       "    </tr>\n",
       "    <tr>\n",
       "      <th>2</th>\n",
       "      <td>1970</td>\n",
       "      <td>Great Britain</td>\n",
       "      <td>123.993</td>\n",
       "      <td>71.9</td>\n",
       "    </tr>\n",
       "  </tbody>\n",
       "</table>\n",
       "</div>"
      ],
      "text/plain": [
       "   Year        Country  Spending_USD  Life_Expectancy\n",
       "0  1970        Germany       252.311             70.6\n",
       "1  1970         France       192.143             72.2\n",
       "2  1970  Great Britain       123.993             71.9"
      ]
     },
     "execution_count": 40,
     "metadata": {},
     "output_type": "execute_result"
    }
   ],
   "source": [
    "healthexp.head(3)"
   ]
  },
  {
   "cell_type": "code",
   "execution_count": 41,
   "metadata": {},
   "outputs": [],
   "source": [
    "healthexp = pd.get_dummies(healthexp)"
   ]
  },
  {
   "cell_type": "code",
   "execution_count": 42,
   "metadata": {},
   "outputs": [
    {
     "data": {
      "text/html": [
       "<div>\n",
       "<style scoped>\n",
       "    .dataframe tbody tr th:only-of-type {\n",
       "        vertical-align: middle;\n",
       "    }\n",
       "\n",
       "    .dataframe tbody tr th {\n",
       "        vertical-align: top;\n",
       "    }\n",
       "\n",
       "    .dataframe thead th {\n",
       "        text-align: right;\n",
       "    }\n",
       "</style>\n",
       "<table border=\"1\" class=\"dataframe\">\n",
       "  <thead>\n",
       "    <tr style=\"text-align: right;\">\n",
       "      <th></th>\n",
       "      <th>Year</th>\n",
       "      <th>Spending_USD</th>\n",
       "      <th>Life_Expectancy</th>\n",
       "      <th>Country_Canada</th>\n",
       "      <th>Country_France</th>\n",
       "      <th>Country_Germany</th>\n",
       "      <th>Country_Great Britain</th>\n",
       "      <th>Country_Japan</th>\n",
       "      <th>Country_USA</th>\n",
       "    </tr>\n",
       "  </thead>\n",
       "  <tbody>\n",
       "    <tr>\n",
       "      <th>0</th>\n",
       "      <td>1970</td>\n",
       "      <td>252.311</td>\n",
       "      <td>70.6</td>\n",
       "      <td>False</td>\n",
       "      <td>False</td>\n",
       "      <td>True</td>\n",
       "      <td>False</td>\n",
       "      <td>False</td>\n",
       "      <td>False</td>\n",
       "    </tr>\n",
       "    <tr>\n",
       "      <th>1</th>\n",
       "      <td>1970</td>\n",
       "      <td>192.143</td>\n",
       "      <td>72.2</td>\n",
       "      <td>False</td>\n",
       "      <td>True</td>\n",
       "      <td>False</td>\n",
       "      <td>False</td>\n",
       "      <td>False</td>\n",
       "      <td>False</td>\n",
       "    </tr>\n",
       "    <tr>\n",
       "      <th>2</th>\n",
       "      <td>1970</td>\n",
       "      <td>123.993</td>\n",
       "      <td>71.9</td>\n",
       "      <td>False</td>\n",
       "      <td>False</td>\n",
       "      <td>False</td>\n",
       "      <td>True</td>\n",
       "      <td>False</td>\n",
       "      <td>False</td>\n",
       "    </tr>\n",
       "    <tr>\n",
       "      <th>3</th>\n",
       "      <td>1970</td>\n",
       "      <td>150.437</td>\n",
       "      <td>72.0</td>\n",
       "      <td>False</td>\n",
       "      <td>False</td>\n",
       "      <td>False</td>\n",
       "      <td>False</td>\n",
       "      <td>True</td>\n",
       "      <td>False</td>\n",
       "    </tr>\n",
       "    <tr>\n",
       "      <th>4</th>\n",
       "      <td>1970</td>\n",
       "      <td>326.961</td>\n",
       "      <td>70.9</td>\n",
       "      <td>False</td>\n",
       "      <td>False</td>\n",
       "      <td>False</td>\n",
       "      <td>False</td>\n",
       "      <td>False</td>\n",
       "      <td>True</td>\n",
       "    </tr>\n",
       "  </tbody>\n",
       "</table>\n",
       "</div>"
      ],
      "text/plain": [
       "   Year  Spending_USD  Life_Expectancy  Country_Canada  Country_France  \\\n",
       "0  1970       252.311             70.6           False           False   \n",
       "1  1970       192.143             72.2           False            True   \n",
       "2  1970       123.993             71.9           False           False   \n",
       "3  1970       150.437             72.0           False           False   \n",
       "4  1970       326.961             70.9           False           False   \n",
       "\n",
       "   Country_Germany  Country_Great Britain  Country_Japan  Country_USA  \n",
       "0             True                  False          False        False  \n",
       "1            False                  False          False        False  \n",
       "2            False                   True          False        False  \n",
       "3            False                  False           True        False  \n",
       "4            False                  False          False         True  "
      ]
     },
     "execution_count": 42,
     "metadata": {},
     "output_type": "execute_result"
    }
   ],
   "source": [
    "healthexp.head()"
   ]
  },
  {
   "cell_type": "code",
   "execution_count": 43,
   "metadata": {},
   "outputs": [],
   "source": [
    "X = healthexp.drop(columns=['Life_Expectancy'])\n",
    "y = healthexp['Life_Expectancy']"
   ]
  },
  {
   "cell_type": "code",
   "execution_count": 44,
   "metadata": {},
   "outputs": [],
   "source": [
    "from sklearn.model_selection import train_test_split \n"
   ]
  },
  {
   "cell_type": "code",
   "execution_count": 45,
   "metadata": {},
   "outputs": [],
   "source": [
    "X_train, X_test, y_train, y_test = train_test_split(X,y, test_size = 0.2, random_state=54)\n"
   ]
  },
  {
   "cell_type": "code",
   "execution_count": 46,
   "metadata": {},
   "outputs": [],
   "source": [
    "from sklearn.ensemble import RandomForestRegressor"
   ]
  },
  {
   "cell_type": "code",
   "execution_count": 47,
   "metadata": {},
   "outputs": [],
   "source": [
    "rfr = RandomForestRegressor(random_state = 52)"
   ]
  },
  {
   "cell_type": "code",
   "execution_count": 48,
   "metadata": {},
   "outputs": [
    {
     "data": {
      "text/html": [
       "<style>#sk-container-id-3 {\n",
       "  /* Definition of color scheme common for light and dark mode */\n",
       "  --sklearn-color-text: #000;\n",
       "  --sklearn-color-text-muted: #666;\n",
       "  --sklearn-color-line: gray;\n",
       "  /* Definition of color scheme for unfitted estimators */\n",
       "  --sklearn-color-unfitted-level-0: #fff5e6;\n",
       "  --sklearn-color-unfitted-level-1: #f6e4d2;\n",
       "  --sklearn-color-unfitted-level-2: #ffe0b3;\n",
       "  --sklearn-color-unfitted-level-3: chocolate;\n",
       "  /* Definition of color scheme for fitted estimators */\n",
       "  --sklearn-color-fitted-level-0: #f0f8ff;\n",
       "  --sklearn-color-fitted-level-1: #d4ebff;\n",
       "  --sklearn-color-fitted-level-2: #b3dbfd;\n",
       "  --sklearn-color-fitted-level-3: cornflowerblue;\n",
       "\n",
       "  /* Specific color for light theme */\n",
       "  --sklearn-color-text-on-default-background: var(--sg-text-color, var(--theme-code-foreground, var(--jp-content-font-color1, black)));\n",
       "  --sklearn-color-background: var(--sg-background-color, var(--theme-background, var(--jp-layout-color0, white)));\n",
       "  --sklearn-color-border-box: var(--sg-text-color, var(--theme-code-foreground, var(--jp-content-font-color1, black)));\n",
       "  --sklearn-color-icon: #696969;\n",
       "\n",
       "  @media (prefers-color-scheme: dark) {\n",
       "    /* Redefinition of color scheme for dark theme */\n",
       "    --sklearn-color-text-on-default-background: var(--sg-text-color, var(--theme-code-foreground, var(--jp-content-font-color1, white)));\n",
       "    --sklearn-color-background: var(--sg-background-color, var(--theme-background, var(--jp-layout-color0, #111)));\n",
       "    --sklearn-color-border-box: var(--sg-text-color, var(--theme-code-foreground, var(--jp-content-font-color1, white)));\n",
       "    --sklearn-color-icon: #878787;\n",
       "  }\n",
       "}\n",
       "\n",
       "#sk-container-id-3 {\n",
       "  color: var(--sklearn-color-text);\n",
       "}\n",
       "\n",
       "#sk-container-id-3 pre {\n",
       "  padding: 0;\n",
       "}\n",
       "\n",
       "#sk-container-id-3 input.sk-hidden--visually {\n",
       "  border: 0;\n",
       "  clip: rect(1px 1px 1px 1px);\n",
       "  clip: rect(1px, 1px, 1px, 1px);\n",
       "  height: 1px;\n",
       "  margin: -1px;\n",
       "  overflow: hidden;\n",
       "  padding: 0;\n",
       "  position: absolute;\n",
       "  width: 1px;\n",
       "}\n",
       "\n",
       "#sk-container-id-3 div.sk-dashed-wrapped {\n",
       "  border: 1px dashed var(--sklearn-color-line);\n",
       "  margin: 0 0.4em 0.5em 0.4em;\n",
       "  box-sizing: border-box;\n",
       "  padding-bottom: 0.4em;\n",
       "  background-color: var(--sklearn-color-background);\n",
       "}\n",
       "\n",
       "#sk-container-id-3 div.sk-container {\n",
       "  /* jupyter's `normalize.less` sets `[hidden] { display: none; }`\n",
       "     but bootstrap.min.css set `[hidden] { display: none !important; }`\n",
       "     so we also need the `!important` here to be able to override the\n",
       "     default hidden behavior on the sphinx rendered scikit-learn.org.\n",
       "     See: https://github.com/scikit-learn/scikit-learn/issues/21755 */\n",
       "  display: inline-block !important;\n",
       "  position: relative;\n",
       "}\n",
       "\n",
       "#sk-container-id-3 div.sk-text-repr-fallback {\n",
       "  display: none;\n",
       "}\n",
       "\n",
       "div.sk-parallel-item,\n",
       "div.sk-serial,\n",
       "div.sk-item {\n",
       "  /* draw centered vertical line to link estimators */\n",
       "  background-image: linear-gradient(var(--sklearn-color-text-on-default-background), var(--sklearn-color-text-on-default-background));\n",
       "  background-size: 2px 100%;\n",
       "  background-repeat: no-repeat;\n",
       "  background-position: center center;\n",
       "}\n",
       "\n",
       "/* Parallel-specific style estimator block */\n",
       "\n",
       "#sk-container-id-3 div.sk-parallel-item::after {\n",
       "  content: \"\";\n",
       "  width: 100%;\n",
       "  border-bottom: 2px solid var(--sklearn-color-text-on-default-background);\n",
       "  flex-grow: 1;\n",
       "}\n",
       "\n",
       "#sk-container-id-3 div.sk-parallel {\n",
       "  display: flex;\n",
       "  align-items: stretch;\n",
       "  justify-content: center;\n",
       "  background-color: var(--sklearn-color-background);\n",
       "  position: relative;\n",
       "}\n",
       "\n",
       "#sk-container-id-3 div.sk-parallel-item {\n",
       "  display: flex;\n",
       "  flex-direction: column;\n",
       "}\n",
       "\n",
       "#sk-container-id-3 div.sk-parallel-item:first-child::after {\n",
       "  align-self: flex-end;\n",
       "  width: 50%;\n",
       "}\n",
       "\n",
       "#sk-container-id-3 div.sk-parallel-item:last-child::after {\n",
       "  align-self: flex-start;\n",
       "  width: 50%;\n",
       "}\n",
       "\n",
       "#sk-container-id-3 div.sk-parallel-item:only-child::after {\n",
       "  width: 0;\n",
       "}\n",
       "\n",
       "/* Serial-specific style estimator block */\n",
       "\n",
       "#sk-container-id-3 div.sk-serial {\n",
       "  display: flex;\n",
       "  flex-direction: column;\n",
       "  align-items: center;\n",
       "  background-color: var(--sklearn-color-background);\n",
       "  padding-right: 1em;\n",
       "  padding-left: 1em;\n",
       "}\n",
       "\n",
       "\n",
       "/* Toggleable style: style used for estimator/Pipeline/ColumnTransformer box that is\n",
       "clickable and can be expanded/collapsed.\n",
       "- Pipeline and ColumnTransformer use this feature and define the default style\n",
       "- Estimators will overwrite some part of the style using the `sk-estimator` class\n",
       "*/\n",
       "\n",
       "/* Pipeline and ColumnTransformer style (default) */\n",
       "\n",
       "#sk-container-id-3 div.sk-toggleable {\n",
       "  /* Default theme specific background. It is overwritten whether we have a\n",
       "  specific estimator or a Pipeline/ColumnTransformer */\n",
       "  background-color: var(--sklearn-color-background);\n",
       "}\n",
       "\n",
       "/* Toggleable label */\n",
       "#sk-container-id-3 label.sk-toggleable__label {\n",
       "  cursor: pointer;\n",
       "  display: flex;\n",
       "  width: 100%;\n",
       "  margin-bottom: 0;\n",
       "  padding: 0.5em;\n",
       "  box-sizing: border-box;\n",
       "  text-align: center;\n",
       "  align-items: start;\n",
       "  justify-content: space-between;\n",
       "  gap: 0.5em;\n",
       "}\n",
       "\n",
       "#sk-container-id-3 label.sk-toggleable__label .caption {\n",
       "  font-size: 0.6rem;\n",
       "  font-weight: lighter;\n",
       "  color: var(--sklearn-color-text-muted);\n",
       "}\n",
       "\n",
       "#sk-container-id-3 label.sk-toggleable__label-arrow:before {\n",
       "  /* Arrow on the left of the label */\n",
       "  content: \"▸\";\n",
       "  float: left;\n",
       "  margin-right: 0.25em;\n",
       "  color: var(--sklearn-color-icon);\n",
       "}\n",
       "\n",
       "#sk-container-id-3 label.sk-toggleable__label-arrow:hover:before {\n",
       "  color: var(--sklearn-color-text);\n",
       "}\n",
       "\n",
       "/* Toggleable content - dropdown */\n",
       "\n",
       "#sk-container-id-3 div.sk-toggleable__content {\n",
       "  max-height: 0;\n",
       "  max-width: 0;\n",
       "  overflow: hidden;\n",
       "  text-align: left;\n",
       "  /* unfitted */\n",
       "  background-color: var(--sklearn-color-unfitted-level-0);\n",
       "}\n",
       "\n",
       "#sk-container-id-3 div.sk-toggleable__content.fitted {\n",
       "  /* fitted */\n",
       "  background-color: var(--sklearn-color-fitted-level-0);\n",
       "}\n",
       "\n",
       "#sk-container-id-3 div.sk-toggleable__content pre {\n",
       "  margin: 0.2em;\n",
       "  border-radius: 0.25em;\n",
       "  color: var(--sklearn-color-text);\n",
       "  /* unfitted */\n",
       "  background-color: var(--sklearn-color-unfitted-level-0);\n",
       "}\n",
       "\n",
       "#sk-container-id-3 div.sk-toggleable__content.fitted pre {\n",
       "  /* unfitted */\n",
       "  background-color: var(--sklearn-color-fitted-level-0);\n",
       "}\n",
       "\n",
       "#sk-container-id-3 input.sk-toggleable__control:checked~div.sk-toggleable__content {\n",
       "  /* Expand drop-down */\n",
       "  max-height: 200px;\n",
       "  max-width: 100%;\n",
       "  overflow: auto;\n",
       "}\n",
       "\n",
       "#sk-container-id-3 input.sk-toggleable__control:checked~label.sk-toggleable__label-arrow:before {\n",
       "  content: \"▾\";\n",
       "}\n",
       "\n",
       "/* Pipeline/ColumnTransformer-specific style */\n",
       "\n",
       "#sk-container-id-3 div.sk-label input.sk-toggleable__control:checked~label.sk-toggleable__label {\n",
       "  color: var(--sklearn-color-text);\n",
       "  background-color: var(--sklearn-color-unfitted-level-2);\n",
       "}\n",
       "\n",
       "#sk-container-id-3 div.sk-label.fitted input.sk-toggleable__control:checked~label.sk-toggleable__label {\n",
       "  background-color: var(--sklearn-color-fitted-level-2);\n",
       "}\n",
       "\n",
       "/* Estimator-specific style */\n",
       "\n",
       "/* Colorize estimator box */\n",
       "#sk-container-id-3 div.sk-estimator input.sk-toggleable__control:checked~label.sk-toggleable__label {\n",
       "  /* unfitted */\n",
       "  background-color: var(--sklearn-color-unfitted-level-2);\n",
       "}\n",
       "\n",
       "#sk-container-id-3 div.sk-estimator.fitted input.sk-toggleable__control:checked~label.sk-toggleable__label {\n",
       "  /* fitted */\n",
       "  background-color: var(--sklearn-color-fitted-level-2);\n",
       "}\n",
       "\n",
       "#sk-container-id-3 div.sk-label label.sk-toggleable__label,\n",
       "#sk-container-id-3 div.sk-label label {\n",
       "  /* The background is the default theme color */\n",
       "  color: var(--sklearn-color-text-on-default-background);\n",
       "}\n",
       "\n",
       "/* On hover, darken the color of the background */\n",
       "#sk-container-id-3 div.sk-label:hover label.sk-toggleable__label {\n",
       "  color: var(--sklearn-color-text);\n",
       "  background-color: var(--sklearn-color-unfitted-level-2);\n",
       "}\n",
       "\n",
       "/* Label box, darken color on hover, fitted */\n",
       "#sk-container-id-3 div.sk-label.fitted:hover label.sk-toggleable__label.fitted {\n",
       "  color: var(--sklearn-color-text);\n",
       "  background-color: var(--sklearn-color-fitted-level-2);\n",
       "}\n",
       "\n",
       "/* Estimator label */\n",
       "\n",
       "#sk-container-id-3 div.sk-label label {\n",
       "  font-family: monospace;\n",
       "  font-weight: bold;\n",
       "  display: inline-block;\n",
       "  line-height: 1.2em;\n",
       "}\n",
       "\n",
       "#sk-container-id-3 div.sk-label-container {\n",
       "  text-align: center;\n",
       "}\n",
       "\n",
       "/* Estimator-specific */\n",
       "#sk-container-id-3 div.sk-estimator {\n",
       "  font-family: monospace;\n",
       "  border: 1px dotted var(--sklearn-color-border-box);\n",
       "  border-radius: 0.25em;\n",
       "  box-sizing: border-box;\n",
       "  margin-bottom: 0.5em;\n",
       "  /* unfitted */\n",
       "  background-color: var(--sklearn-color-unfitted-level-0);\n",
       "}\n",
       "\n",
       "#sk-container-id-3 div.sk-estimator.fitted {\n",
       "  /* fitted */\n",
       "  background-color: var(--sklearn-color-fitted-level-0);\n",
       "}\n",
       "\n",
       "/* on hover */\n",
       "#sk-container-id-3 div.sk-estimator:hover {\n",
       "  /* unfitted */\n",
       "  background-color: var(--sklearn-color-unfitted-level-2);\n",
       "}\n",
       "\n",
       "#sk-container-id-3 div.sk-estimator.fitted:hover {\n",
       "  /* fitted */\n",
       "  background-color: var(--sklearn-color-fitted-level-2);\n",
       "}\n",
       "\n",
       "/* Specification for estimator info (e.g. \"i\" and \"?\") */\n",
       "\n",
       "/* Common style for \"i\" and \"?\" */\n",
       "\n",
       ".sk-estimator-doc-link,\n",
       "a:link.sk-estimator-doc-link,\n",
       "a:visited.sk-estimator-doc-link {\n",
       "  float: right;\n",
       "  font-size: smaller;\n",
       "  line-height: 1em;\n",
       "  font-family: monospace;\n",
       "  background-color: var(--sklearn-color-background);\n",
       "  border-radius: 1em;\n",
       "  height: 1em;\n",
       "  width: 1em;\n",
       "  text-decoration: none !important;\n",
       "  margin-left: 0.5em;\n",
       "  text-align: center;\n",
       "  /* unfitted */\n",
       "  border: var(--sklearn-color-unfitted-level-1) 1pt solid;\n",
       "  color: var(--sklearn-color-unfitted-level-1);\n",
       "}\n",
       "\n",
       ".sk-estimator-doc-link.fitted,\n",
       "a:link.sk-estimator-doc-link.fitted,\n",
       "a:visited.sk-estimator-doc-link.fitted {\n",
       "  /* fitted */\n",
       "  border: var(--sklearn-color-fitted-level-1) 1pt solid;\n",
       "  color: var(--sklearn-color-fitted-level-1);\n",
       "}\n",
       "\n",
       "/* On hover */\n",
       "div.sk-estimator:hover .sk-estimator-doc-link:hover,\n",
       ".sk-estimator-doc-link:hover,\n",
       "div.sk-label-container:hover .sk-estimator-doc-link:hover,\n",
       ".sk-estimator-doc-link:hover {\n",
       "  /* unfitted */\n",
       "  background-color: var(--sklearn-color-unfitted-level-3);\n",
       "  color: var(--sklearn-color-background);\n",
       "  text-decoration: none;\n",
       "}\n",
       "\n",
       "div.sk-estimator.fitted:hover .sk-estimator-doc-link.fitted:hover,\n",
       ".sk-estimator-doc-link.fitted:hover,\n",
       "div.sk-label-container:hover .sk-estimator-doc-link.fitted:hover,\n",
       ".sk-estimator-doc-link.fitted:hover {\n",
       "  /* fitted */\n",
       "  background-color: var(--sklearn-color-fitted-level-3);\n",
       "  color: var(--sklearn-color-background);\n",
       "  text-decoration: none;\n",
       "}\n",
       "\n",
       "/* Span, style for the box shown on hovering the info icon */\n",
       ".sk-estimator-doc-link span {\n",
       "  display: none;\n",
       "  z-index: 9999;\n",
       "  position: relative;\n",
       "  font-weight: normal;\n",
       "  right: .2ex;\n",
       "  padding: .5ex;\n",
       "  margin: .5ex;\n",
       "  width: min-content;\n",
       "  min-width: 20ex;\n",
       "  max-width: 50ex;\n",
       "  color: var(--sklearn-color-text);\n",
       "  box-shadow: 2pt 2pt 4pt #999;\n",
       "  /* unfitted */\n",
       "  background: var(--sklearn-color-unfitted-level-0);\n",
       "  border: .5pt solid var(--sklearn-color-unfitted-level-3);\n",
       "}\n",
       "\n",
       ".sk-estimator-doc-link.fitted span {\n",
       "  /* fitted */\n",
       "  background: var(--sklearn-color-fitted-level-0);\n",
       "  border: var(--sklearn-color-fitted-level-3);\n",
       "}\n",
       "\n",
       ".sk-estimator-doc-link:hover span {\n",
       "  display: block;\n",
       "}\n",
       "\n",
       "/* \"?\"-specific style due to the `<a>` HTML tag */\n",
       "\n",
       "#sk-container-id-3 a.estimator_doc_link {\n",
       "  float: right;\n",
       "  font-size: 1rem;\n",
       "  line-height: 1em;\n",
       "  font-family: monospace;\n",
       "  background-color: var(--sklearn-color-background);\n",
       "  border-radius: 1rem;\n",
       "  height: 1rem;\n",
       "  width: 1rem;\n",
       "  text-decoration: none;\n",
       "  /* unfitted */\n",
       "  color: var(--sklearn-color-unfitted-level-1);\n",
       "  border: var(--sklearn-color-unfitted-level-1) 1pt solid;\n",
       "}\n",
       "\n",
       "#sk-container-id-3 a.estimator_doc_link.fitted {\n",
       "  /* fitted */\n",
       "  border: var(--sklearn-color-fitted-level-1) 1pt solid;\n",
       "  color: var(--sklearn-color-fitted-level-1);\n",
       "}\n",
       "\n",
       "/* On hover */\n",
       "#sk-container-id-3 a.estimator_doc_link:hover {\n",
       "  /* unfitted */\n",
       "  background-color: var(--sklearn-color-unfitted-level-3);\n",
       "  color: var(--sklearn-color-background);\n",
       "  text-decoration: none;\n",
       "}\n",
       "\n",
       "#sk-container-id-3 a.estimator_doc_link.fitted:hover {\n",
       "  /* fitted */\n",
       "  background-color: var(--sklearn-color-fitted-level-3);\n",
       "}\n",
       "</style><div id=\"sk-container-id-3\" class=\"sk-top-container\"><div class=\"sk-text-repr-fallback\"><pre>RandomForestRegressor(random_state=52)</pre><b>In a Jupyter environment, please rerun this cell to show the HTML representation or trust the notebook. <br />On GitHub, the HTML representation is unable to render, please try loading this page with nbviewer.org.</b></div><div class=\"sk-container\" hidden><div class=\"sk-item\"><div class=\"sk-estimator fitted sk-toggleable\"><input class=\"sk-toggleable__control sk-hidden--visually\" id=\"sk-estimator-id-3\" type=\"checkbox\" checked><label for=\"sk-estimator-id-3\" class=\"sk-toggleable__label fitted sk-toggleable__label-arrow\"><div><div>RandomForestRegressor</div></div><div><a class=\"sk-estimator-doc-link fitted\" rel=\"noreferrer\" target=\"_blank\" href=\"https://scikit-learn.org/1.6/modules/generated/sklearn.ensemble.RandomForestRegressor.html\">?<span>Documentation for RandomForestRegressor</span></a><span class=\"sk-estimator-doc-link fitted\">i<span>Fitted</span></span></div></label><div class=\"sk-toggleable__content fitted\"><pre>RandomForestRegressor(random_state=52)</pre></div> </div></div></div></div>"
      ],
      "text/plain": [
       "RandomForestRegressor(random_state=52)"
      ]
     },
     "execution_count": 48,
     "metadata": {},
     "output_type": "execute_result"
    }
   ],
   "source": [
    "rfr.fit(X_train,y_train)"
   ]
  },
  {
   "cell_type": "code",
   "execution_count": 49,
   "metadata": {},
   "outputs": [],
   "source": [
    "y_pred = rfr.predict(X_test)"
   ]
  },
  {
   "cell_type": "code",
   "execution_count": 50,
   "metadata": {},
   "outputs": [],
   "source": [
    "from sklearn.metrics import mean_absolute_error, root_mean_squared_error, r2_score"
   ]
  },
  {
   "cell_type": "code",
   "execution_count": 51,
   "metadata": {},
   "outputs": [
    {
     "data": {
      "text/plain": [
       "0.31665454545453275"
      ]
     },
     "execution_count": 51,
     "metadata": {},
     "output_type": "execute_result"
    }
   ],
   "source": [
    "mean_absolute_error(y_test, y_pred)"
   ]
  },
  {
   "cell_type": "code",
   "execution_count": 52,
   "metadata": {},
   "outputs": [
    {
     "data": {
      "text/plain": [
       "0.4000090908057808"
      ]
     },
     "execution_count": 52,
     "metadata": {},
     "output_type": "execute_result"
    }
   ],
   "source": [
    "root_mean_squared_error(y_test, y_pred)"
   ]
  },
  {
   "cell_type": "code",
   "execution_count": 53,
   "metadata": {},
   "outputs": [
    {
     "data": {
      "text/plain": [
       "0.9831296317338122"
      ]
     },
     "execution_count": 53,
     "metadata": {},
     "output_type": "execute_result"
    }
   ],
   "source": [
    "r2_score(y_test,y_pred)"
   ]
  },
  {
   "cell_type": "code",
   "execution_count": 54,
   "metadata": {},
   "outputs": [],
   "source": [
    "import optuna "
   ]
  },
  {
   "cell_type": "code",
   "execution_count": 55,
   "metadata": {},
   "outputs": [],
   "source": [
    "from sklearn.model_selection import cross_val_score"
   ]
  },
  {
   "cell_type": "code",
   "execution_count": 67,
   "metadata": {},
   "outputs": [],
   "source": [
    "def objective(trial):\n",
    "    n_estimators = trial.suggest_int('n_estimators',100,1000)\n",
    "    max_depth = trial.suggest_int('max_depth',10,50)\n",
    "    min_samples_split = trial.suggest_int('min_samples_split',2,32)\n",
    "    min_samples_leaf = trial.suggest_int('min_samples_leaf',1,32)\n",
    "    \n",
    "    model = RandomForestRegressor(n_estimators = n_estimators, max_depth = max_depth, min_samples_split = min_samples_split, min_samples_leaf = min_samples_leaf)\n",
    "\n",
    "    score = cross_val_score(model, X, y, n_jobs=-1, cv=5, scoring='neg_mean_squared_error').mean()\n",
    "\n",
    "    return score"
   ]
  },
  {
   "cell_type": "code",
   "execution_count": 68,
   "metadata": {},
   "outputs": [
    {
     "name": "stderr",
     "output_type": "stream",
     "text": [
      "[I 2025-03-30 13:22:39,198] A new study created in memory with name: no-name-019dc8ce-a2b5-40f9-86a3-e7c90a430475\n"
     ]
    }
   ],
   "source": [
    "study = optuna.create_study(direction='maximize', sampler = optuna.samplers.RandomSampler(seed=42))"
   ]
  },
  {
   "cell_type": "code",
   "execution_count": 69,
   "metadata": {},
   "outputs": [
    {
     "name": "stderr",
     "output_type": "stream",
     "text": [
      "[I 2025-03-30 13:22:42,867] Trial 0 finished with value: -4.482089322232224 and parameters: {'n_estimators': 437, 'max_depth': 48, 'min_samples_split': 24, 'min_samples_leaf': 20}. Best is trial 0 with value: -4.482089322232224.\n",
      "[I 2025-03-30 13:22:44,158] Trial 1 finished with value: -5.153424416411042 and parameters: {'n_estimators': 240, 'max_depth': 16, 'min_samples_split': 3, 'min_samples_leaf': 28}. Best is trial 0 with value: -4.482089322232224.\n",
      "[I 2025-03-30 13:22:44,822] Trial 2 finished with value: -5.552603343848067 and parameters: {'n_estimators': 641, 'max_depth': 39, 'min_samples_split': 2, 'min_samples_leaf': 32}. Best is trial 0 with value: -4.482089322232224.\n",
      "[I 2025-03-30 13:22:45,783] Trial 3 finished with value: -2.9918169184720242 and parameters: {'n_estimators': 850, 'max_depth': 18, 'min_samples_split': 7, 'min_samples_leaf': 6}. Best is trial 3 with value: -2.9918169184720242.\n",
      "[I 2025-03-30 13:22:46,194] Trial 4 finished with value: -3.7935390283773507 and parameters: {'n_estimators': 374, 'max_depth': 31, 'min_samples_split': 15, 'min_samples_leaf': 10}. Best is trial 3 with value: -2.9918169184720242.\n",
      "[I 2025-03-30 13:22:46,880] Trial 5 finished with value: -3.8654531104774312 and parameters: {'n_estimators': 651, 'max_depth': 15, 'min_samples_split': 11, 'min_samples_leaf': 12}. Best is trial 3 with value: -2.9918169184720242.\n",
      "[I 2025-03-30 13:22:47,424] Trial 6 finished with value: -4.070611774759453 and parameters: {'n_estimators': 510, 'max_depth': 42, 'min_samples_split': 8, 'min_samples_leaf': 17}. Best is trial 3 with value: -2.9918169184720242.\n",
      "[I 2025-03-30 13:22:48,184] Trial 7 finished with value: -3.2015094875213093 and parameters: {'n_estimators': 633, 'max_depth': 11, 'min_samples_split': 20, 'min_samples_leaf': 6}. Best is trial 3 with value: -2.9918169184720242.\n",
      "[I 2025-03-30 13:22:48,355] Trial 8 finished with value: -5.108238517204994 and parameters: {'n_estimators': 158, 'max_depth': 48, 'min_samples_split': 31, 'min_samples_leaf': 26}. Best is trial 3 with value: -2.9918169184720242.\n",
      "[I 2025-03-30 13:22:48,788] Trial 9 finished with value: -3.9152792945049923 and parameters: {'n_estimators': 374, 'max_depth': 14, 'min_samples_split': 23, 'min_samples_leaf': 15}. Best is trial 3 with value: -2.9918169184720242.\n",
      "[I 2025-03-30 13:22:49,077] Trial 10 finished with value: -5.3761473916522835 and parameters: {'n_estimators': 209, 'max_depth': 30, 'min_samples_split': 3, 'min_samples_leaf': 30}. Best is trial 3 with value: -2.9918169184720242.\n",
      "[I 2025-03-30 13:22:49,455] Trial 11 finished with value: -4.093472587082816 and parameters: {'n_estimators': 333, 'max_depth': 37, 'min_samples_split': 11, 'min_samples_leaf': 17}. Best is trial 3 with value: -2.9918169184720242.\n",
      "[I 2025-03-30 13:22:50,086] Trial 12 finished with value: -5.018273819688508 and parameters: {'n_estimators': 592, 'max_depth': 17, 'min_samples_split': 32, 'min_samples_leaf': 25}. Best is trial 3 with value: -2.9918169184720242.\n",
      "[I 2025-03-30 13:22:51,038] Trial 13 finished with value: -5.327985343880739 and parameters: {'n_estimators': 946, 'max_depth': 46, 'min_samples_split': 20, 'min_samples_leaf': 30}. Best is trial 3 with value: -2.9918169184720242.\n",
      "[I 2025-03-30 13:22:51,239] Trial 14 finished with value: -3.8993791710977677 and parameters: {'n_estimators': 179, 'max_depth': 18, 'min_samples_split': 3, 'min_samples_leaf': 11}. Best is trial 3 with value: -2.9918169184720242.\n",
      "[I 2025-03-30 13:22:51,897] Trial 15 finished with value: -3.8712231080074853 and parameters: {'n_estimators': 450, 'max_depth': 21, 'min_samples_split': 27, 'min_samples_leaf': 12}. Best is trial 3 with value: -2.9918169184720242.\n",
      "[I 2025-03-30 13:22:52,332] Trial 16 finished with value: -5.042506030299687 and parameters: {'n_estimators': 353, 'max_depth': 32, 'min_samples_split': 6, 'min_samples_leaf': 26}. Best is trial 3 with value: -2.9918169184720242.\n",
      "[I 2025-03-30 13:22:52,605] Trial 17 finished with value: -3.5300241954135267 and parameters: {'n_estimators': 167, 'max_depth': 50, 'min_samples_split': 25, 'min_samples_leaf': 7}. Best is trial 3 with value: -2.9918169184720242.\n",
      "[I 2025-03-30 13:22:52,733] Trial 18 finished with value: -4.891934196477677 and parameters: {'n_estimators': 104, 'max_depth': 43, 'min_samples_split': 23, 'min_samples_leaf': 24}. Best is trial 3 with value: -2.9918169184720242.\n",
      "[I 2025-03-30 13:22:53,639] Trial 19 finished with value: -2.697140332760633 and parameters: {'n_estimators': 794, 'max_depth': 13, 'min_samples_split': 13, 'min_samples_leaf': 4}. Best is trial 19 with value: -2.697140332760633.\n",
      "[I 2025-03-30 13:22:54,620] Trial 20 finished with value: -2.53796302732815 and parameters: {'n_estimators': 877, 'max_depth': 35, 'min_samples_split': 12, 'min_samples_leaf': 3}. Best is trial 20 with value: -2.53796302732815.\n",
      "[I 2025-03-30 13:22:55,010] Trial 21 finished with value: -4.663746821303116 and parameters: {'n_estimators': 380, 'max_depth': 23, 'min_samples_split': 24, 'min_samples_leaf': 21}. Best is trial 20 with value: -2.53796302732815.\n",
      "[I 2025-03-30 13:22:55,921] Trial 22 finished with value: -4.854986316400918 and parameters: {'n_estimators': 899, 'max_depth': 29, 'min_samples_split': 5, 'min_samples_leaf': 23}. Best is trial 20 with value: -2.53796302732815.\n",
      "[I 2025-03-30 13:22:56,728] Trial 23 finished with value: -3.9790140286973648 and parameters: {'n_estimators': 785, 'max_depth': 33, 'min_samples_split': 25, 'min_samples_leaf': 16}. Best is trial 20 with value: -2.53796302732815.\n",
      "[I 2025-03-30 13:22:57,359] Trial 24 finished with value: -2.4207604214247747 and parameters: {'n_estimators': 570, 'max_depth': 27, 'min_samples_split': 2, 'min_samples_leaf': 4}. Best is trial 24 with value: -2.4207604214247747.\n",
      "[I 2025-03-30 13:22:57,496] Trial 25 finished with value: -4.05399006678695 and parameters: {'n_estimators': 128, 'max_depth': 36, 'min_samples_split': 11, 'min_samples_leaf': 17}. Best is trial 24 with value: -2.4207604214247747.\n",
      "[I 2025-03-30 13:22:58,402] Trial 26 finished with value: -5.021063540017575 and parameters: {'n_estimators': 917, 'max_depth': 20, 'min_samples_split': 14, 'min_samples_leaf': 25}. Best is trial 24 with value: -2.4207604214247747.\n",
      "[I 2025-03-30 13:22:58,769] Trial 27 finished with value: -2.9932181862415037 and parameters: {'n_estimators': 306, 'max_depth': 13, 'min_samples_split': 10, 'min_samples_leaf': 6}. Best is trial 24 with value: -2.4207604214247747.\n",
      "[I 2025-03-30 13:22:59,724] Trial 28 finished with value: -5.180617590538734 and parameters: {'n_estimators': 937, 'max_depth': 43, 'min_samples_split': 21, 'min_samples_leaf': 28}. Best is trial 24 with value: -2.4207604214247747.\n",
      "[I 2025-03-30 13:23:00,553] Trial 29 finished with value: -4.198345851121255 and parameters: {'n_estimators': 824, 'max_depth': 17, 'min_samples_split': 29, 'min_samples_leaf': 18}. Best is trial 24 with value: -2.4207604214247747.\n",
      "[I 2025-03-30 13:23:01,473] Trial 30 finished with value: -2.5421789002876376 and parameters: {'n_estimators': 827, 'max_depth': 46, 'min_samples_split': 11, 'min_samples_leaf': 4}. Best is trial 24 with value: -2.4207604214247747.\n",
      "[I 2025-03-30 13:23:01,785] Trial 31 finished with value: -5.120249748926371 and parameters: {'n_estimators': 305, 'max_depth': 27, 'min_samples_split': 27, 'min_samples_leaf': 28}. Best is trial 24 with value: -2.4207604214247747.\n",
      "[I 2025-03-30 13:23:01,919] Trial 32 finished with value: -3.5767893492288136 and parameters: {'n_estimators': 106, 'max_depth': 30, 'min_samples_split': 14, 'min_samples_leaf': 8}. Best is trial 24 with value: -2.4207604214247747.\n",
      "[I 2025-03-30 13:23:02,160] Trial 33 finished with value: -3.7847628304984204 and parameters: {'n_estimators': 207, 'max_depth': 23, 'min_samples_split': 31, 'min_samples_leaf': 11}. Best is trial 24 with value: -2.4207604214247747.\n",
      "[I 2025-03-30 13:23:02,803] Trial 34 finished with value: -5.547475996406275 and parameters: {'n_estimators': 567, 'max_depth': 38, 'min_samples_split': 13, 'min_samples_leaf': 32}. Best is trial 24 with value: -2.4207604214247747.\n",
      "[I 2025-03-30 13:23:04,106] Trial 35 finished with value: -3.7985940572565005 and parameters: {'n_estimators': 967, 'max_depth': 20, 'min_samples_split': 17, 'min_samples_leaf': 10}. Best is trial 24 with value: -2.4207604214247747.\n",
      "[I 2025-03-30 13:23:04,496] Trial 36 finished with value: -4.092391080942095 and parameters: {'n_estimators': 356, 'max_depth': 11, 'min_samples_split': 20, 'min_samples_leaf': 17}. Best is trial 24 with value: -2.4207604214247747.\n",
      "[I 2025-03-30 13:23:04,667] Trial 37 finished with value: -3.6931826872523628 and parameters: {'n_estimators': 146, 'max_depth': 21, 'min_samples_split': 30, 'min_samples_leaf': 8}. Best is trial 24 with value: -2.4207604214247747.\n",
      "[I 2025-03-30 13:23:04,944] Trial 38 finished with value: -3.740758360661931 and parameters: {'n_estimators': 230, 'max_depth': 30, 'min_samples_split': 32, 'min_samples_leaf': 8}. Best is trial 24 with value: -2.4207604214247747.\n",
      "[I 2025-03-30 13:23:05,690] Trial 39 finished with value: -4.994824763476936 and parameters: {'n_estimators': 705, 'max_depth': 41, 'min_samples_split': 9, 'min_samples_leaf': 24}. Best is trial 24 with value: -2.4207604214247747.\n",
      "[I 2025-03-30 13:23:06,156] Trial 40 finished with value: -4.2076894977077 and parameters: {'n_estimators': 431, 'max_depth': 35, 'min_samples_split': 21, 'min_samples_leaf': 18}. Best is trial 24 with value: -2.4207604214247747.\n",
      "[I 2025-03-30 13:23:06,359] Trial 41 finished with value: -3.0226733570327355 and parameters: {'n_estimators': 181, 'max_depth': 44, 'min_samples_split': 11, 'min_samples_leaf': 6}. Best is trial 24 with value: -2.4207604214247747.\n",
      "[I 2025-03-30 13:23:06,530] Trial 42 finished with value: -3.2238218026346495 and parameters: {'n_estimators': 136, 'max_depth': 34, 'min_samples_split': 23, 'min_samples_leaf': 1}. Best is trial 24 with value: -2.4207604214247747.\n",
      "[I 2025-03-30 13:23:07,134] Trial 43 finished with value: -3.3158768120445465 and parameters: {'n_estimators': 561, 'max_depth': 19, 'min_samples_split': 22, 'min_samples_leaf': 6}. Best is trial 24 with value: -2.4207604214247747.\n",
      "[I 2025-03-30 13:23:08,015] Trial 44 finished with value: -3.506507255306771 and parameters: {'n_estimators': 722, 'max_depth': 25, 'min_samples_split': 31, 'min_samples_leaf': 5}. Best is trial 24 with value: -2.4207604214247747.\n",
      "[I 2025-03-30 13:23:08,446] Trial 45 finished with value: -5.2872417610782865 and parameters: {'n_estimators': 407, 'max_depth': 14, 'min_samples_split': 30, 'min_samples_leaf': 29}. Best is trial 24 with value: -2.4207604214247747.\n",
      "[I 2025-03-30 13:23:08,873] Trial 46 finished with value: -4.186667092951736 and parameters: {'n_estimators': 332, 'max_depth': 37, 'min_samples_split': 27, 'min_samples_leaf': 18}. Best is trial 24 with value: -2.4207604214247747.\n",
      "[I 2025-03-30 13:23:09,505] Trial 47 finished with value: -5.227451669424462 and parameters: {'n_estimators': 577, 'max_depth': 19, 'min_samples_split': 4, 'min_samples_leaf': 29}. Best is trial 24 with value: -2.4207604214247747.\n",
      "[I 2025-03-30 13:23:10,444] Trial 48 finished with value: -3.834691741790965 and parameters: {'n_estimators': 911, 'max_depth': 35, 'min_samples_split': 12, 'min_samples_leaf': 12}. Best is trial 24 with value: -2.4207604214247747.\n",
      "[I 2025-03-30 13:23:11,207] Trial 49 finished with value: -5.0079689380207455 and parameters: {'n_estimators': 754, 'max_depth': 46, 'min_samples_split': 29, 'min_samples_leaf': 25}. Best is trial 24 with value: -2.4207604214247747.\n",
      "[I 2025-03-30 13:23:11,872] Trial 50 finished with value: -5.27946850218868 and parameters: {'n_estimators': 678, 'max_depth': 13, 'min_samples_split': 7, 'min_samples_leaf': 29}. Best is trial 24 with value: -2.4207604214247747.\n",
      "[I 2025-03-30 13:23:12,514] Trial 51 finished with value: -4.700769676137453 and parameters: {'n_estimators': 646, 'max_depth': 10, 'min_samples_split': 5, 'min_samples_leaf': 22}. Best is trial 24 with value: -2.4207604214247747.\n",
      "[I 2025-03-30 13:23:12,643] Trial 52 finished with value: -4.899538816812818 and parameters: {'n_estimators': 104, 'max_depth': 16, 'min_samples_split': 19, 'min_samples_leaf': 23}. Best is trial 24 with value: -2.4207604214247747.\n",
      "[I 2025-03-30 13:23:13,404] Trial 53 finished with value: -3.6595139374856034 and parameters: {'n_estimators': 687, 'max_depth': 19, 'min_samples_split': 24, 'min_samples_leaf': 8}. Best is trial 24 with value: -2.4207604214247747.\n",
      "[I 2025-03-30 13:23:13,816] Trial 54 finished with value: -5.17112263895642 and parameters: {'n_estimators': 393, 'max_depth': 40, 'min_samples_split': 22, 'min_samples_leaf': 28}. Best is trial 24 with value: -2.4207604214247747.\n",
      "[I 2025-03-30 13:23:14,598] Trial 55 finished with value: -3.8449196770566396 and parameters: {'n_estimators': 692, 'max_depth': 33, 'min_samples_split': 4, 'min_samples_leaf': 12}. Best is trial 24 with value: -2.4207604214247747.\n",
      "[I 2025-03-30 13:23:14,979] Trial 56 finished with value: -3.903468963648078 and parameters: {'n_estimators': 338, 'max_depth': 20, 'min_samples_split': 32, 'min_samples_leaf': 13}. Best is trial 24 with value: -2.4207604214247747.\n",
      "[I 2025-03-30 13:23:15,902] Trial 57 finished with value: -4.064703199252705 and parameters: {'n_estimators': 903, 'max_depth': 35, 'min_samples_split': 26, 'min_samples_leaf': 17}. Best is trial 24 with value: -2.4207604214247747.\n",
      "[I 2025-03-30 13:23:16,542] Trial 58 finished with value: -4.932937741303585 and parameters: {'n_estimators': 619, 'max_depth': 30, 'min_samples_split': 8, 'min_samples_leaf': 24}. Best is trial 24 with value: -2.4207604214247747.\n",
      "[I 2025-03-30 13:23:16,923] Trial 59 finished with value: -3.350824768513631 and parameters: {'n_estimators': 352, 'max_depth': 10, 'min_samples_split': 22, 'min_samples_leaf': 6}. Best is trial 24 with value: -2.4207604214247747.\n",
      "[I 2025-03-30 13:23:17,938] Trial 60 finished with value: -3.8916269872552696 and parameters: {'n_estimators': 947, 'max_depth': 49, 'min_samples_split': 30, 'min_samples_leaf': 12}. Best is trial 24 with value: -2.4207604214247747.\n",
      "[I 2025-03-30 13:23:18,151] Trial 61 finished with value: -5.561038091570764 and parameters: {'n_estimators': 113, 'max_depth': 48, 'min_samples_split': 15, 'min_samples_leaf': 31}. Best is trial 24 with value: -2.4207604214247747.\n",
      "[I 2025-03-30 13:23:19,316] Trial 62 finished with value: -3.835149377522273 and parameters: {'n_estimators': 968, 'max_depth': 44, 'min_samples_split': 11, 'min_samples_leaf': 13}. Best is trial 24 with value: -2.4207604214247747.\n",
      "[I 2025-03-30 13:23:20,245] Trial 63 finished with value: -4.180262703347594 and parameters: {'n_estimators': 866, 'max_depth': 22, 'min_samples_split': 7, 'min_samples_leaf': 18}. Best is trial 24 with value: -2.4207604214247747.\n",
      "[I 2025-03-30 13:23:21,294] Trial 64 finished with value: -2.971985418794468 and parameters: {'n_estimators': 943, 'max_depth': 38, 'min_samples_split': 19, 'min_samples_leaf': 4}. Best is trial 24 with value: -2.4207604214247747.\n",
      "[I 2025-03-30 13:23:21,970] Trial 65 finished with value: -4.102356976791227 and parameters: {'n_estimators': 654, 'max_depth': 50, 'min_samples_split': 6, 'min_samples_leaf': 17}. Best is trial 24 with value: -2.4207604214247747.\n",
      "[I 2025-03-30 13:23:22,879] Trial 66 finished with value: -4.8395038764514435 and parameters: {'n_estimators': 890, 'max_depth': 40, 'min_samples_split': 23, 'min_samples_leaf': 23}. Best is trial 24 with value: -2.4207604214247747.\n",
      "[I 2025-03-30 13:23:23,314] Trial 67 finished with value: -5.08580259578864 and parameters: {'n_estimators': 423, 'max_depth': 22, 'min_samples_split': 27, 'min_samples_leaf': 26}. Best is trial 24 with value: -2.4207604214247747.\n",
      "[I 2025-03-30 13:23:24,289] Trial 68 finished with value: -4.075737072635814 and parameters: {'n_estimators': 881, 'max_depth': 47, 'min_samples_split': 17, 'min_samples_leaf': 17}. Best is trial 24 with value: -2.4207604214247747.\n",
      "[I 2025-03-30 13:23:25,207] Trial 69 finished with value: -5.06207653364706 and parameters: {'n_estimators': 819, 'max_depth': 36, 'min_samples_split': 23, 'min_samples_leaf': 26}. Best is trial 24 with value: -2.4207604214247747.\n",
      "[I 2025-03-30 13:23:26,480] Trial 70 finished with value: -2.657264384216417 and parameters: {'n_estimators': 901, 'max_depth': 23, 'min_samples_split': 13, 'min_samples_leaf': 4}. Best is trial 24 with value: -2.4207604214247747.\n",
      "[I 2025-03-30 13:23:27,478] Trial 71 finished with value: -4.197442269522041 and parameters: {'n_estimators': 621, 'max_depth': 11, 'min_samples_split': 16, 'min_samples_leaf': 18}. Best is trial 24 with value: -2.4207604214247747.\n",
      "[I 2025-03-30 13:23:27,976] Trial 72 finished with value: -1.903521109531847 and parameters: {'n_estimators': 358, 'max_depth': 34, 'min_samples_split': 2, 'min_samples_leaf': 2}. Best is trial 72 with value: -1.903521109531847.\n",
      "[I 2025-03-30 13:23:28,944] Trial 73 finished with value: -4.047813157928457 and parameters: {'n_estimators': 841, 'max_depth': 24, 'min_samples_split': 5, 'min_samples_leaf': 17}. Best is trial 72 with value: -1.903521109531847.\n",
      "[I 2025-03-30 13:23:29,873] Trial 74 finished with value: -3.029400816691387 and parameters: {'n_estimators': 793, 'max_depth': 18, 'min_samples_split': 21, 'min_samples_leaf': 3}. Best is trial 72 with value: -1.903521109531847.\n",
      "[I 2025-03-30 13:23:30,056] Trial 75 finished with value: -4.609976083289534 and parameters: {'n_estimators': 146, 'max_depth': 31, 'min_samples_split': 18, 'min_samples_leaf': 21}. Best is trial 72 with value: -1.903521109531847.\n",
      "[I 2025-03-30 13:23:30,926] Trial 76 finished with value: -3.8394767306256883 and parameters: {'n_estimators': 754, 'max_depth': 50, 'min_samples_split': 18, 'min_samples_leaf': 11}. Best is trial 72 with value: -1.903521109531847.\n",
      "[I 2025-03-30 13:23:31,843] Trial 77 finished with value: -2.753651288796683 and parameters: {'n_estimators': 816, 'max_depth': 21, 'min_samples_split': 15, 'min_samples_leaf': 3}. Best is trial 72 with value: -1.903521109531847.\n",
      "[I 2025-03-30 13:23:31,990] Trial 78 finished with value: -4.862239120824793 and parameters: {'n_estimators': 122, 'max_depth': 49, 'min_samples_split': 27, 'min_samples_leaf': 23}. Best is trial 72 with value: -1.903521109531847.\n",
      "[I 2025-03-30 13:23:32,541] Trial 79 finished with value: -3.675283696512463 and parameters: {'n_estimators': 468, 'max_depth': 17, 'min_samples_split': 6, 'min_samples_leaf': 9}. Best is trial 72 with value: -1.903521109531847.\n",
      "[I 2025-03-30 13:23:33,417] Trial 80 finished with value: -3.7046827472019244 and parameters: {'n_estimators': 594, 'max_depth': 39, 'min_samples_split': 22, 'min_samples_leaf': 9}. Best is trial 72 with value: -1.903521109531847.\n",
      "[I 2025-03-30 13:23:34,529] Trial 81 finished with value: -4.547551021632903 and parameters: {'n_estimators': 960, 'max_depth': 40, 'min_samples_split': 19, 'min_samples_leaf': 20}. Best is trial 72 with value: -1.903521109531847.\n",
      "[I 2025-03-30 13:23:35,042] Trial 82 finished with value: -4.970796867021582 and parameters: {'n_estimators': 478, 'max_depth': 20, 'min_samples_split': 13, 'min_samples_leaf': 25}. Best is trial 72 with value: -1.903521109531847.\n",
      "[I 2025-03-30 13:23:35,208] Trial 83 finished with value: -1.8454157534503526 and parameters: {'n_estimators': 112, 'max_depth': 14, 'min_samples_split': 3, 'min_samples_leaf': 2}. Best is trial 83 with value: -1.8454157534503526.\n",
      "[I 2025-03-30 13:23:36,278] Trial 84 finished with value: -2.8522464076557945 and parameters: {'n_estimators': 870, 'max_depth': 38, 'min_samples_split': 16, 'min_samples_leaf': 4}. Best is trial 83 with value: -1.8454157534503526.\n",
      "[I 2025-03-30 13:23:36,931] Trial 85 finished with value: -3.892413106154966 and parameters: {'n_estimators': 542, 'max_depth': 29, 'min_samples_split': 7, 'min_samples_leaf': 14}. Best is trial 83 with value: -1.8454157534503526.\n",
      "[I 2025-03-30 13:23:37,485] Trial 86 finished with value: -3.121950282970902 and parameters: {'n_estimators': 459, 'max_depth': 35, 'min_samples_split': 21, 'min_samples_leaf': 2}. Best is trial 83 with value: -1.8454157534503526.\n",
      "[I 2025-03-30 13:23:38,034] Trial 87 finished with value: -5.239137193749644 and parameters: {'n_estimators': 437, 'max_depth': 35, 'min_samples_split': 17, 'min_samples_leaf': 28}. Best is trial 83 with value: -1.8454157534503526.\n",
      "[I 2025-03-30 13:23:38,861] Trial 88 finished with value: -4.6176533670928865 and parameters: {'n_estimators': 693, 'max_depth': 16, 'min_samples_split': 4, 'min_samples_leaf': 21}. Best is trial 83 with value: -1.8454157534503526.\n",
      "[I 2025-03-30 13:23:39,030] Trial 89 finished with value: -4.377715120538128 and parameters: {'n_estimators': 123, 'max_depth': 34, 'min_samples_split': 31, 'min_samples_leaf': 19}. Best is trial 83 with value: -1.8454157534503526.\n",
      "[I 2025-03-30 13:23:39,662] Trial 90 finished with value: -4.192936861433445 and parameters: {'n_estimators': 449, 'max_depth': 36, 'min_samples_split': 16, 'min_samples_leaf': 18}. Best is trial 83 with value: -1.8454157534503526.\n",
      "[I 2025-03-30 13:23:40,868] Trial 91 finished with value: -5.262391619098017 and parameters: {'n_estimators': 948, 'max_depth': 25, 'min_samples_split': 31, 'min_samples_leaf': 29}. Best is trial 83 with value: -1.8454157534503526.\n",
      "[I 2025-03-30 13:23:41,260] Trial 92 finished with value: -1.968959492216118 and parameters: {'n_estimators': 276, 'max_depth': 12, 'min_samples_split': 5, 'min_samples_leaf': 1}. Best is trial 83 with value: -1.8454157534503526.\n",
      "[I 2025-03-30 13:23:41,484] Trial 93 finished with value: -3.878304259826991 and parameters: {'n_estimators': 185, 'max_depth': 38, 'min_samples_split': 4, 'min_samples_leaf': 11}. Best is trial 83 with value: -1.8454157534503526.\n",
      "[I 2025-03-30 13:23:42,460] Trial 94 finished with value: -3.7949809767008666 and parameters: {'n_estimators': 861, 'max_depth': 10, 'min_samples_split': 27, 'min_samples_leaf': 10}. Best is trial 83 with value: -1.8454157534503526.\n",
      "[I 2025-03-30 13:23:42,726] Trial 95 finished with value: -5.2381666213037885 and parameters: {'n_estimators': 206, 'max_depth': 38, 'min_samples_split': 21, 'min_samples_leaf': 29}. Best is trial 83 with value: -1.8454157534503526.\n",
      "[I 2025-03-30 13:23:43,693] Trial 96 finished with value: -3.0267092521078682 and parameters: {'n_estimators': 762, 'max_depth': 42, 'min_samples_split': 10, 'min_samples_leaf': 6}. Best is trial 83 with value: -1.8454157534503526.\n",
      "[I 2025-03-30 13:23:44,844] Trial 97 finished with value: -3.916297756698809 and parameters: {'n_estimators': 776, 'max_depth': 43, 'min_samples_split': 32, 'min_samples_leaf': 14}. Best is trial 83 with value: -1.8454157534503526.\n",
      "[I 2025-03-30 13:23:45,451] Trial 98 finished with value: -5.35349145625912 and parameters: {'n_estimators': 435, 'max_depth': 41, 'min_samples_split': 12, 'min_samples_leaf': 30}. Best is trial 83 with value: -1.8454157534503526.\n",
      "[I 2025-03-30 13:23:46,400] Trial 99 finished with value: -5.022087408427012 and parameters: {'n_estimators': 873, 'max_depth': 27, 'min_samples_split': 25, 'min_samples_leaf': 25}. Best is trial 83 with value: -1.8454157534503526.\n"
     ]
    }
   ],
   "source": [
    "study.optimize(objective, n_trials = 100)"
   ]
  },
  {
   "cell_type": "code",
   "execution_count": 70,
   "metadata": {},
   "outputs": [
    {
     "data": {
      "text/plain": [
       "{'n_estimators': 112,\n",
       " 'max_depth': 14,\n",
       " 'min_samples_split': 3,\n",
       " 'min_samples_leaf': 2}"
      ]
     },
     "execution_count": 70,
     "metadata": {},
     "output_type": "execute_result"
    }
   ],
   "source": [
    "study.best_params"
   ]
  },
  {
   "cell_type": "code",
   "execution_count": 71,
   "metadata": {},
   "outputs": [],
   "source": [
    "best_params = study.best_params"
   ]
  },
  {
   "cell_type": "code",
   "execution_count": 72,
   "metadata": {},
   "outputs": [],
   "source": [
    "import matplotlib.pyplot as plt"
   ]
  },
  {
   "cell_type": "code",
   "execution_count": 73,
   "metadata": {},
   "outputs": [
    {
     "data": {
      "application/vnd.plotly.v1+json": {
       "config": {
        "plotlyServerURL": "https://plot.ly"
       },
       "data": [
        {
         "mode": "markers",
         "name": "Objective Value",
         "type": "scatter",
         "x": [
          0,
          1,
          2,
          3,
          4,
          5,
          6,
          7,
          8,
          9,
          10,
          11,
          12,
          13,
          14,
          15,
          16,
          17,
          18,
          19,
          20,
          21,
          22,
          23,
          24,
          25,
          26,
          27,
          28,
          29,
          30,
          31,
          32,
          33,
          34,
          35,
          36,
          37,
          38,
          39,
          40,
          41,
          42,
          43,
          44,
          45,
          46,
          47,
          48,
          49,
          50,
          51,
          52,
          53,
          54,
          55,
          56,
          57,
          58,
          59,
          60,
          61,
          62,
          63,
          64,
          65,
          66,
          67,
          68,
          69,
          70,
          71,
          72,
          73,
          74,
          75,
          76,
          77,
          78,
          79,
          80,
          81,
          82,
          83,
          84,
          85,
          86,
          87,
          88,
          89,
          90,
          91,
          92,
          93,
          94,
          95,
          96,
          97,
          98,
          99
         ],
         "y": [
          -4.482089322232224,
          -5.153424416411042,
          -5.552603343848067,
          -2.9918169184720242,
          -3.7935390283773507,
          -3.8654531104774312,
          -4.070611774759453,
          -3.2015094875213093,
          -5.108238517204994,
          -3.9152792945049923,
          -5.3761473916522835,
          -4.093472587082816,
          -5.018273819688508,
          -5.327985343880739,
          -3.8993791710977677,
          -3.8712231080074853,
          -5.042506030299687,
          -3.5300241954135267,
          -4.891934196477677,
          -2.697140332760633,
          -2.53796302732815,
          -4.663746821303116,
          -4.854986316400918,
          -3.9790140286973648,
          -2.4207604214247747,
          -4.05399006678695,
          -5.021063540017575,
          -2.9932181862415037,
          -5.180617590538734,
          -4.198345851121255,
          -2.5421789002876376,
          -5.120249748926371,
          -3.5767893492288136,
          -3.7847628304984204,
          -5.547475996406275,
          -3.7985940572565005,
          -4.092391080942095,
          -3.6931826872523628,
          -3.740758360661931,
          -4.994824763476936,
          -4.2076894977077,
          -3.0226733570327355,
          -3.2238218026346495,
          -3.3158768120445465,
          -3.506507255306771,
          -5.2872417610782865,
          -4.186667092951736,
          -5.227451669424462,
          -3.834691741790965,
          -5.0079689380207455,
          -5.27946850218868,
          -4.700769676137453,
          -4.899538816812818,
          -3.6595139374856034,
          -5.17112263895642,
          -3.8449196770566396,
          -3.903468963648078,
          -4.064703199252705,
          -4.932937741303585,
          -3.350824768513631,
          -3.8916269872552696,
          -5.561038091570764,
          -3.835149377522273,
          -4.180262703347594,
          -2.971985418794468,
          -4.102356976791227,
          -4.8395038764514435,
          -5.08580259578864,
          -4.075737072635814,
          -5.06207653364706,
          -2.657264384216417,
          -4.197442269522041,
          -1.903521109531847,
          -4.047813157928457,
          -3.029400816691387,
          -4.609976083289534,
          -3.8394767306256883,
          -2.753651288796683,
          -4.862239120824793,
          -3.675283696512463,
          -3.7046827472019244,
          -4.547551021632903,
          -4.970796867021582,
          -1.8454157534503526,
          -2.8522464076557945,
          -3.892413106154966,
          -3.121950282970902,
          -5.239137193749644,
          -4.6176533670928865,
          -4.377715120538128,
          -4.192936861433445,
          -5.262391619098017,
          -1.968959492216118,
          -3.878304259826991,
          -3.7949809767008666,
          -5.2381666213037885,
          -3.0267092521078682,
          -3.916297756698809,
          -5.35349145625912,
          -5.022087408427012
         ]
        },
        {
         "mode": "lines",
         "name": "Best Value",
         "type": "scatter",
         "x": [
          0,
          1,
          2,
          3,
          4,
          5,
          6,
          7,
          8,
          9,
          10,
          11,
          12,
          13,
          14,
          15,
          16,
          17,
          18,
          19,
          20,
          21,
          22,
          23,
          24,
          25,
          26,
          27,
          28,
          29,
          30,
          31,
          32,
          33,
          34,
          35,
          36,
          37,
          38,
          39,
          40,
          41,
          42,
          43,
          44,
          45,
          46,
          47,
          48,
          49,
          50,
          51,
          52,
          53,
          54,
          55,
          56,
          57,
          58,
          59,
          60,
          61,
          62,
          63,
          64,
          65,
          66,
          67,
          68,
          69,
          70,
          71,
          72,
          73,
          74,
          75,
          76,
          77,
          78,
          79,
          80,
          81,
          82,
          83,
          84,
          85,
          86,
          87,
          88,
          89,
          90,
          91,
          92,
          93,
          94,
          95,
          96,
          97,
          98,
          99
         ],
         "y": [
          -4.482089322232224,
          -4.482089322232224,
          -4.482089322232224,
          -2.9918169184720242,
          -2.9918169184720242,
          -2.9918169184720242,
          -2.9918169184720242,
          -2.9918169184720242,
          -2.9918169184720242,
          -2.9918169184720242,
          -2.9918169184720242,
          -2.9918169184720242,
          -2.9918169184720242,
          -2.9918169184720242,
          -2.9918169184720242,
          -2.9918169184720242,
          -2.9918169184720242,
          -2.9918169184720242,
          -2.9918169184720242,
          -2.697140332760633,
          -2.53796302732815,
          -2.53796302732815,
          -2.53796302732815,
          -2.53796302732815,
          -2.4207604214247747,
          -2.4207604214247747,
          -2.4207604214247747,
          -2.4207604214247747,
          -2.4207604214247747,
          -2.4207604214247747,
          -2.4207604214247747,
          -2.4207604214247747,
          -2.4207604214247747,
          -2.4207604214247747,
          -2.4207604214247747,
          -2.4207604214247747,
          -2.4207604214247747,
          -2.4207604214247747,
          -2.4207604214247747,
          -2.4207604214247747,
          -2.4207604214247747,
          -2.4207604214247747,
          -2.4207604214247747,
          -2.4207604214247747,
          -2.4207604214247747,
          -2.4207604214247747,
          -2.4207604214247747,
          -2.4207604214247747,
          -2.4207604214247747,
          -2.4207604214247747,
          -2.4207604214247747,
          -2.4207604214247747,
          -2.4207604214247747,
          -2.4207604214247747,
          -2.4207604214247747,
          -2.4207604214247747,
          -2.4207604214247747,
          -2.4207604214247747,
          -2.4207604214247747,
          -2.4207604214247747,
          -2.4207604214247747,
          -2.4207604214247747,
          -2.4207604214247747,
          -2.4207604214247747,
          -2.4207604214247747,
          -2.4207604214247747,
          -2.4207604214247747,
          -2.4207604214247747,
          -2.4207604214247747,
          -2.4207604214247747,
          -2.4207604214247747,
          -2.4207604214247747,
          -1.903521109531847,
          -1.903521109531847,
          -1.903521109531847,
          -1.903521109531847,
          -1.903521109531847,
          -1.903521109531847,
          -1.903521109531847,
          -1.903521109531847,
          -1.903521109531847,
          -1.903521109531847,
          -1.903521109531847,
          -1.8454157534503526,
          -1.8454157534503526,
          -1.8454157534503526,
          -1.8454157534503526,
          -1.8454157534503526,
          -1.8454157534503526,
          -1.8454157534503526,
          -1.8454157534503526,
          -1.8454157534503526,
          -1.8454157534503526,
          -1.8454157534503526,
          -1.8454157534503526,
          -1.8454157534503526,
          -1.8454157534503526,
          -1.8454157534503526,
          -1.8454157534503526,
          -1.8454157534503526
         ]
        },
        {
         "marker": {
          "color": "#cccccc"
         },
         "mode": "markers",
         "name": "Infeasible Trial",
         "showlegend": false,
         "type": "scatter",
         "x": [],
         "y": []
        }
       ],
       "layout": {
        "template": {
         "data": {
          "bar": [
           {
            "error_x": {
             "color": "#2a3f5f"
            },
            "error_y": {
             "color": "#2a3f5f"
            },
            "marker": {
             "line": {
              "color": "#E5ECF6",
              "width": 0.5
             },
             "pattern": {
              "fillmode": "overlay",
              "size": 10,
              "solidity": 0.2
             }
            },
            "type": "bar"
           }
          ],
          "barpolar": [
           {
            "marker": {
             "line": {
              "color": "#E5ECF6",
              "width": 0.5
             },
             "pattern": {
              "fillmode": "overlay",
              "size": 10,
              "solidity": 0.2
             }
            },
            "type": "barpolar"
           }
          ],
          "carpet": [
           {
            "aaxis": {
             "endlinecolor": "#2a3f5f",
             "gridcolor": "white",
             "linecolor": "white",
             "minorgridcolor": "white",
             "startlinecolor": "#2a3f5f"
            },
            "baxis": {
             "endlinecolor": "#2a3f5f",
             "gridcolor": "white",
             "linecolor": "white",
             "minorgridcolor": "white",
             "startlinecolor": "#2a3f5f"
            },
            "type": "carpet"
           }
          ],
          "choropleth": [
           {
            "colorbar": {
             "outlinewidth": 0,
             "ticks": ""
            },
            "type": "choropleth"
           }
          ],
          "contour": [
           {
            "colorbar": {
             "outlinewidth": 0,
             "ticks": ""
            },
            "colorscale": [
             [
              0,
              "#0d0887"
             ],
             [
              0.1111111111111111,
              "#46039f"
             ],
             [
              0.2222222222222222,
              "#7201a8"
             ],
             [
              0.3333333333333333,
              "#9c179e"
             ],
             [
              0.4444444444444444,
              "#bd3786"
             ],
             [
              0.5555555555555556,
              "#d8576b"
             ],
             [
              0.6666666666666666,
              "#ed7953"
             ],
             [
              0.7777777777777778,
              "#fb9f3a"
             ],
             [
              0.8888888888888888,
              "#fdca26"
             ],
             [
              1,
              "#f0f921"
             ]
            ],
            "type": "contour"
           }
          ],
          "contourcarpet": [
           {
            "colorbar": {
             "outlinewidth": 0,
             "ticks": ""
            },
            "type": "contourcarpet"
           }
          ],
          "heatmap": [
           {
            "colorbar": {
             "outlinewidth": 0,
             "ticks": ""
            },
            "colorscale": [
             [
              0,
              "#0d0887"
             ],
             [
              0.1111111111111111,
              "#46039f"
             ],
             [
              0.2222222222222222,
              "#7201a8"
             ],
             [
              0.3333333333333333,
              "#9c179e"
             ],
             [
              0.4444444444444444,
              "#bd3786"
             ],
             [
              0.5555555555555556,
              "#d8576b"
             ],
             [
              0.6666666666666666,
              "#ed7953"
             ],
             [
              0.7777777777777778,
              "#fb9f3a"
             ],
             [
              0.8888888888888888,
              "#fdca26"
             ],
             [
              1,
              "#f0f921"
             ]
            ],
            "type": "heatmap"
           }
          ],
          "histogram": [
           {
            "marker": {
             "pattern": {
              "fillmode": "overlay",
              "size": 10,
              "solidity": 0.2
             }
            },
            "type": "histogram"
           }
          ],
          "histogram2d": [
           {
            "colorbar": {
             "outlinewidth": 0,
             "ticks": ""
            },
            "colorscale": [
             [
              0,
              "#0d0887"
             ],
             [
              0.1111111111111111,
              "#46039f"
             ],
             [
              0.2222222222222222,
              "#7201a8"
             ],
             [
              0.3333333333333333,
              "#9c179e"
             ],
             [
              0.4444444444444444,
              "#bd3786"
             ],
             [
              0.5555555555555556,
              "#d8576b"
             ],
             [
              0.6666666666666666,
              "#ed7953"
             ],
             [
              0.7777777777777778,
              "#fb9f3a"
             ],
             [
              0.8888888888888888,
              "#fdca26"
             ],
             [
              1,
              "#f0f921"
             ]
            ],
            "type": "histogram2d"
           }
          ],
          "histogram2dcontour": [
           {
            "colorbar": {
             "outlinewidth": 0,
             "ticks": ""
            },
            "colorscale": [
             [
              0,
              "#0d0887"
             ],
             [
              0.1111111111111111,
              "#46039f"
             ],
             [
              0.2222222222222222,
              "#7201a8"
             ],
             [
              0.3333333333333333,
              "#9c179e"
             ],
             [
              0.4444444444444444,
              "#bd3786"
             ],
             [
              0.5555555555555556,
              "#d8576b"
             ],
             [
              0.6666666666666666,
              "#ed7953"
             ],
             [
              0.7777777777777778,
              "#fb9f3a"
             ],
             [
              0.8888888888888888,
              "#fdca26"
             ],
             [
              1,
              "#f0f921"
             ]
            ],
            "type": "histogram2dcontour"
           }
          ],
          "mesh3d": [
           {
            "colorbar": {
             "outlinewidth": 0,
             "ticks": ""
            },
            "type": "mesh3d"
           }
          ],
          "parcoords": [
           {
            "line": {
             "colorbar": {
              "outlinewidth": 0,
              "ticks": ""
             }
            },
            "type": "parcoords"
           }
          ],
          "pie": [
           {
            "automargin": true,
            "type": "pie"
           }
          ],
          "scatter": [
           {
            "fillpattern": {
             "fillmode": "overlay",
             "size": 10,
             "solidity": 0.2
            },
            "type": "scatter"
           }
          ],
          "scatter3d": [
           {
            "line": {
             "colorbar": {
              "outlinewidth": 0,
              "ticks": ""
             }
            },
            "marker": {
             "colorbar": {
              "outlinewidth": 0,
              "ticks": ""
             }
            },
            "type": "scatter3d"
           }
          ],
          "scattercarpet": [
           {
            "marker": {
             "colorbar": {
              "outlinewidth": 0,
              "ticks": ""
             }
            },
            "type": "scattercarpet"
           }
          ],
          "scattergeo": [
           {
            "marker": {
             "colorbar": {
              "outlinewidth": 0,
              "ticks": ""
             }
            },
            "type": "scattergeo"
           }
          ],
          "scattergl": [
           {
            "marker": {
             "colorbar": {
              "outlinewidth": 0,
              "ticks": ""
             }
            },
            "type": "scattergl"
           }
          ],
          "scattermap": [
           {
            "marker": {
             "colorbar": {
              "outlinewidth": 0,
              "ticks": ""
             }
            },
            "type": "scattermap"
           }
          ],
          "scattermapbox": [
           {
            "marker": {
             "colorbar": {
              "outlinewidth": 0,
              "ticks": ""
             }
            },
            "type": "scattermapbox"
           }
          ],
          "scatterpolar": [
           {
            "marker": {
             "colorbar": {
              "outlinewidth": 0,
              "ticks": ""
             }
            },
            "type": "scatterpolar"
           }
          ],
          "scatterpolargl": [
           {
            "marker": {
             "colorbar": {
              "outlinewidth": 0,
              "ticks": ""
             }
            },
            "type": "scatterpolargl"
           }
          ],
          "scatterternary": [
           {
            "marker": {
             "colorbar": {
              "outlinewidth": 0,
              "ticks": ""
             }
            },
            "type": "scatterternary"
           }
          ],
          "surface": [
           {
            "colorbar": {
             "outlinewidth": 0,
             "ticks": ""
            },
            "colorscale": [
             [
              0,
              "#0d0887"
             ],
             [
              0.1111111111111111,
              "#46039f"
             ],
             [
              0.2222222222222222,
              "#7201a8"
             ],
             [
              0.3333333333333333,
              "#9c179e"
             ],
             [
              0.4444444444444444,
              "#bd3786"
             ],
             [
              0.5555555555555556,
              "#d8576b"
             ],
             [
              0.6666666666666666,
              "#ed7953"
             ],
             [
              0.7777777777777778,
              "#fb9f3a"
             ],
             [
              0.8888888888888888,
              "#fdca26"
             ],
             [
              1,
              "#f0f921"
             ]
            ],
            "type": "surface"
           }
          ],
          "table": [
           {
            "cells": {
             "fill": {
              "color": "#EBF0F8"
             },
             "line": {
              "color": "white"
             }
            },
            "header": {
             "fill": {
              "color": "#C8D4E3"
             },
             "line": {
              "color": "white"
             }
            },
            "type": "table"
           }
          ]
         },
         "layout": {
          "annotationdefaults": {
           "arrowcolor": "#2a3f5f",
           "arrowhead": 0,
           "arrowwidth": 1
          },
          "autotypenumbers": "strict",
          "coloraxis": {
           "colorbar": {
            "outlinewidth": 0,
            "ticks": ""
           }
          },
          "colorscale": {
           "diverging": [
            [
             0,
             "#8e0152"
            ],
            [
             0.1,
             "#c51b7d"
            ],
            [
             0.2,
             "#de77ae"
            ],
            [
             0.3,
             "#f1b6da"
            ],
            [
             0.4,
             "#fde0ef"
            ],
            [
             0.5,
             "#f7f7f7"
            ],
            [
             0.6,
             "#e6f5d0"
            ],
            [
             0.7,
             "#b8e186"
            ],
            [
             0.8,
             "#7fbc41"
            ],
            [
             0.9,
             "#4d9221"
            ],
            [
             1,
             "#276419"
            ]
           ],
           "sequential": [
            [
             0,
             "#0d0887"
            ],
            [
             0.1111111111111111,
             "#46039f"
            ],
            [
             0.2222222222222222,
             "#7201a8"
            ],
            [
             0.3333333333333333,
             "#9c179e"
            ],
            [
             0.4444444444444444,
             "#bd3786"
            ],
            [
             0.5555555555555556,
             "#d8576b"
            ],
            [
             0.6666666666666666,
             "#ed7953"
            ],
            [
             0.7777777777777778,
             "#fb9f3a"
            ],
            [
             0.8888888888888888,
             "#fdca26"
            ],
            [
             1,
             "#f0f921"
            ]
           ],
           "sequentialminus": [
            [
             0,
             "#0d0887"
            ],
            [
             0.1111111111111111,
             "#46039f"
            ],
            [
             0.2222222222222222,
             "#7201a8"
            ],
            [
             0.3333333333333333,
             "#9c179e"
            ],
            [
             0.4444444444444444,
             "#bd3786"
            ],
            [
             0.5555555555555556,
             "#d8576b"
            ],
            [
             0.6666666666666666,
             "#ed7953"
            ],
            [
             0.7777777777777778,
             "#fb9f3a"
            ],
            [
             0.8888888888888888,
             "#fdca26"
            ],
            [
             1,
             "#f0f921"
            ]
           ]
          },
          "colorway": [
           "#636efa",
           "#EF553B",
           "#00cc96",
           "#ab63fa",
           "#FFA15A",
           "#19d3f3",
           "#FF6692",
           "#B6E880",
           "#FF97FF",
           "#FECB52"
          ],
          "font": {
           "color": "#2a3f5f"
          },
          "geo": {
           "bgcolor": "white",
           "lakecolor": "white",
           "landcolor": "#E5ECF6",
           "showlakes": true,
           "showland": true,
           "subunitcolor": "white"
          },
          "hoverlabel": {
           "align": "left"
          },
          "hovermode": "closest",
          "mapbox": {
           "style": "light"
          },
          "paper_bgcolor": "white",
          "plot_bgcolor": "#E5ECF6",
          "polar": {
           "angularaxis": {
            "gridcolor": "white",
            "linecolor": "white",
            "ticks": ""
           },
           "bgcolor": "#E5ECF6",
           "radialaxis": {
            "gridcolor": "white",
            "linecolor": "white",
            "ticks": ""
           }
          },
          "scene": {
           "xaxis": {
            "backgroundcolor": "#E5ECF6",
            "gridcolor": "white",
            "gridwidth": 2,
            "linecolor": "white",
            "showbackground": true,
            "ticks": "",
            "zerolinecolor": "white"
           },
           "yaxis": {
            "backgroundcolor": "#E5ECF6",
            "gridcolor": "white",
            "gridwidth": 2,
            "linecolor": "white",
            "showbackground": true,
            "ticks": "",
            "zerolinecolor": "white"
           },
           "zaxis": {
            "backgroundcolor": "#E5ECF6",
            "gridcolor": "white",
            "gridwidth": 2,
            "linecolor": "white",
            "showbackground": true,
            "ticks": "",
            "zerolinecolor": "white"
           }
          },
          "shapedefaults": {
           "line": {
            "color": "#2a3f5f"
           }
          },
          "ternary": {
           "aaxis": {
            "gridcolor": "white",
            "linecolor": "white",
            "ticks": ""
           },
           "baxis": {
            "gridcolor": "white",
            "linecolor": "white",
            "ticks": ""
           },
           "bgcolor": "#E5ECF6",
           "caxis": {
            "gridcolor": "white",
            "linecolor": "white",
            "ticks": ""
           }
          },
          "title": {
           "x": 0.05
          },
          "xaxis": {
           "automargin": true,
           "gridcolor": "white",
           "linecolor": "white",
           "ticks": "",
           "title": {
            "standoff": 15
           },
           "zerolinecolor": "white",
           "zerolinewidth": 2
          },
          "yaxis": {
           "automargin": true,
           "gridcolor": "white",
           "linecolor": "white",
           "ticks": "",
           "title": {
            "standoff": 15
           },
           "zerolinecolor": "white",
           "zerolinewidth": 2
          }
         }
        },
        "title": {
         "text": "Optimization History Plot"
        },
        "xaxis": {
         "title": {
          "text": "Trial"
         }
        },
        "yaxis": {
         "title": {
          "text": "Objective Value"
         }
        }
       }
      }
     },
     "metadata": {},
     "output_type": "display_data"
    }
   ],
   "source": [
    "optuna.visualization.plot_optimization_history(study)"
   ]
  },
  {
   "cell_type": "code",
   "execution_count": 75,
   "metadata": {},
   "outputs": [
    {
     "data": {
      "application/vnd.plotly.v1+json": {
       "config": {
        "plotlyServerURL": "https://plot.ly"
       },
       "data": [
        {
         "dimensions": [
          {
           "label": "Objective Value",
           "range": [
            -5.561038091570764,
            -1.8454157534503526
           ],
           "values": [
            -4.482089322232224,
            -5.153424416411042,
            -5.552603343848067,
            -2.9918169184720242,
            -3.7935390283773507,
            -3.8654531104774312,
            -4.070611774759453,
            -3.2015094875213093,
            -5.108238517204994,
            -3.9152792945049923,
            -5.3761473916522835,
            -4.093472587082816,
            -5.018273819688508,
            -5.327985343880739,
            -3.8993791710977677,
            -3.8712231080074853,
            -5.042506030299687,
            -3.5300241954135267,
            -4.891934196477677,
            -2.697140332760633,
            -2.53796302732815,
            -4.663746821303116,
            -4.854986316400918,
            -3.9790140286973648,
            -2.4207604214247747,
            -4.05399006678695,
            -5.021063540017575,
            -2.9932181862415037,
            -5.180617590538734,
            -4.198345851121255,
            -2.5421789002876376,
            -5.120249748926371,
            -3.5767893492288136,
            -3.7847628304984204,
            -5.547475996406275,
            -3.7985940572565005,
            -4.092391080942095,
            -3.6931826872523628,
            -3.740758360661931,
            -4.994824763476936,
            -4.2076894977077,
            -3.0226733570327355,
            -3.2238218026346495,
            -3.3158768120445465,
            -3.506507255306771,
            -5.2872417610782865,
            -4.186667092951736,
            -5.227451669424462,
            -3.834691741790965,
            -5.0079689380207455,
            -5.27946850218868,
            -4.700769676137453,
            -4.899538816812818,
            -3.6595139374856034,
            -5.17112263895642,
            -3.8449196770566396,
            -3.903468963648078,
            -4.064703199252705,
            -4.932937741303585,
            -3.350824768513631,
            -3.8916269872552696,
            -5.561038091570764,
            -3.835149377522273,
            -4.180262703347594,
            -2.971985418794468,
            -4.102356976791227,
            -4.8395038764514435,
            -5.08580259578864,
            -4.075737072635814,
            -5.06207653364706,
            -2.657264384216417,
            -4.197442269522041,
            -1.903521109531847,
            -4.047813157928457,
            -3.029400816691387,
            -4.609976083289534,
            -3.8394767306256883,
            -2.753651288796683,
            -4.862239120824793,
            -3.675283696512463,
            -3.7046827472019244,
            -4.547551021632903,
            -4.970796867021582,
            -1.8454157534503526,
            -2.8522464076557945,
            -3.892413106154966,
            -3.121950282970902,
            -5.239137193749644,
            -4.6176533670928865,
            -4.377715120538128,
            -4.192936861433445,
            -5.262391619098017,
            -1.968959492216118,
            -3.878304259826991,
            -3.7949809767008666,
            -5.2381666213037885,
            -3.0267092521078682,
            -3.916297756698809,
            -5.35349145625912,
            -5.022087408427012
           ]
          },
          {
           "label": "max_depth",
           "range": [
            10,
            50
           ],
           "values": [
            48,
            16,
            39,
            18,
            31,
            15,
            42,
            11,
            48,
            14,
            30,
            37,
            17,
            46,
            18,
            21,
            32,
            50,
            43,
            13,
            35,
            23,
            29,
            33,
            27,
            36,
            20,
            13,
            43,
            17,
            46,
            27,
            30,
            23,
            38,
            20,
            11,
            21,
            30,
            41,
            35,
            44,
            34,
            19,
            25,
            14,
            37,
            19,
            35,
            46,
            13,
            10,
            16,
            19,
            40,
            33,
            20,
            35,
            30,
            10,
            49,
            48,
            44,
            22,
            38,
            50,
            40,
            22,
            47,
            36,
            23,
            11,
            34,
            24,
            18,
            31,
            50,
            21,
            49,
            17,
            39,
            40,
            20,
            14,
            38,
            29,
            35,
            35,
            16,
            34,
            36,
            25,
            12,
            38,
            10,
            38,
            42,
            43,
            41,
            27
           ]
          },
          {
           "label": "min_samples_leaf",
           "range": [
            1,
            32
           ],
           "values": [
            20,
            28,
            32,
            6,
            10,
            12,
            17,
            6,
            26,
            15,
            30,
            17,
            25,
            30,
            11,
            12,
            26,
            7,
            24,
            4,
            3,
            21,
            23,
            16,
            4,
            17,
            25,
            6,
            28,
            18,
            4,
            28,
            8,
            11,
            32,
            10,
            17,
            8,
            8,
            24,
            18,
            6,
            1,
            6,
            5,
            29,
            18,
            29,
            12,
            25,
            29,
            22,
            23,
            8,
            28,
            12,
            13,
            17,
            24,
            6,
            12,
            31,
            13,
            18,
            4,
            17,
            23,
            26,
            17,
            26,
            4,
            18,
            2,
            17,
            3,
            21,
            11,
            3,
            23,
            9,
            9,
            20,
            25,
            2,
            4,
            14,
            2,
            28,
            21,
            19,
            18,
            29,
            1,
            11,
            10,
            29,
            6,
            14,
            30,
            25
           ]
          },
          {
           "label": "min_samples_split",
           "range": [
            2,
            32
           ],
           "values": [
            24,
            3,
            2,
            7,
            15,
            11,
            8,
            20,
            31,
            23,
            3,
            11,
            32,
            20,
            3,
            27,
            6,
            25,
            23,
            13,
            12,
            24,
            5,
            25,
            2,
            11,
            14,
            10,
            21,
            29,
            11,
            27,
            14,
            31,
            13,
            17,
            20,
            30,
            32,
            9,
            21,
            11,
            23,
            22,
            31,
            30,
            27,
            4,
            12,
            29,
            7,
            5,
            19,
            24,
            22,
            4,
            32,
            26,
            8,
            22,
            30,
            15,
            11,
            7,
            19,
            6,
            23,
            27,
            17,
            23,
            13,
            16,
            2,
            5,
            21,
            18,
            18,
            15,
            27,
            6,
            22,
            19,
            13,
            3,
            16,
            7,
            21,
            17,
            4,
            31,
            16,
            31,
            5,
            4,
            27,
            21,
            10,
            32,
            12,
            25
           ]
          },
          {
           "label": "n_estimators",
           "range": [
            104,
            968
           ],
           "values": [
            437,
            240,
            641,
            850,
            374,
            651,
            510,
            633,
            158,
            374,
            209,
            333,
            592,
            946,
            179,
            450,
            353,
            167,
            104,
            794,
            877,
            380,
            899,
            785,
            570,
            128,
            917,
            306,
            937,
            824,
            827,
            305,
            106,
            207,
            567,
            967,
            356,
            146,
            230,
            705,
            431,
            181,
            136,
            561,
            722,
            407,
            332,
            577,
            911,
            754,
            678,
            646,
            104,
            687,
            393,
            692,
            338,
            903,
            619,
            352,
            947,
            113,
            968,
            866,
            943,
            654,
            890,
            423,
            881,
            819,
            901,
            621,
            358,
            841,
            793,
            146,
            754,
            816,
            122,
            468,
            594,
            960,
            478,
            112,
            870,
            542,
            459,
            437,
            693,
            123,
            449,
            948,
            276,
            185,
            861,
            206,
            762,
            776,
            435,
            873
           ]
          }
         ],
         "labelangle": 30,
         "labelside": "bottom",
         "line": {
          "color": [
           -4.482089322232224,
           -5.153424416411042,
           -5.552603343848067,
           -2.9918169184720242,
           -3.7935390283773507,
           -3.8654531104774312,
           -4.070611774759453,
           -3.2015094875213093,
           -5.108238517204994,
           -3.9152792945049923,
           -5.3761473916522835,
           -4.093472587082816,
           -5.018273819688508,
           -5.327985343880739,
           -3.8993791710977677,
           -3.8712231080074853,
           -5.042506030299687,
           -3.5300241954135267,
           -4.891934196477677,
           -2.697140332760633,
           -2.53796302732815,
           -4.663746821303116,
           -4.854986316400918,
           -3.9790140286973648,
           -2.4207604214247747,
           -4.05399006678695,
           -5.021063540017575,
           -2.9932181862415037,
           -5.180617590538734,
           -4.198345851121255,
           -2.5421789002876376,
           -5.120249748926371,
           -3.5767893492288136,
           -3.7847628304984204,
           -5.547475996406275,
           -3.7985940572565005,
           -4.092391080942095,
           -3.6931826872523628,
           -3.740758360661931,
           -4.994824763476936,
           -4.2076894977077,
           -3.0226733570327355,
           -3.2238218026346495,
           -3.3158768120445465,
           -3.506507255306771,
           -5.2872417610782865,
           -4.186667092951736,
           -5.227451669424462,
           -3.834691741790965,
           -5.0079689380207455,
           -5.27946850218868,
           -4.700769676137453,
           -4.899538816812818,
           -3.6595139374856034,
           -5.17112263895642,
           -3.8449196770566396,
           -3.903468963648078,
           -4.064703199252705,
           -4.932937741303585,
           -3.350824768513631,
           -3.8916269872552696,
           -5.561038091570764,
           -3.835149377522273,
           -4.180262703347594,
           -2.971985418794468,
           -4.102356976791227,
           -4.8395038764514435,
           -5.08580259578864,
           -4.075737072635814,
           -5.06207653364706,
           -2.657264384216417,
           -4.197442269522041,
           -1.903521109531847,
           -4.047813157928457,
           -3.029400816691387,
           -4.609976083289534,
           -3.8394767306256883,
           -2.753651288796683,
           -4.862239120824793,
           -3.675283696512463,
           -3.7046827472019244,
           -4.547551021632903,
           -4.970796867021582,
           -1.8454157534503526,
           -2.8522464076557945,
           -3.892413106154966,
           -3.121950282970902,
           -5.239137193749644,
           -4.6176533670928865,
           -4.377715120538128,
           -4.192936861433445,
           -5.262391619098017,
           -1.968959492216118,
           -3.878304259826991,
           -3.7949809767008666,
           -5.2381666213037885,
           -3.0267092521078682,
           -3.916297756698809,
           -5.35349145625912,
           -5.022087408427012
          ],
          "colorbar": {
           "title": {
            "text": "Objective Value"
           }
          },
          "colorscale": [
           [
            0,
            "rgb(247,251,255)"
           ],
           [
            0.125,
            "rgb(222,235,247)"
           ],
           [
            0.25,
            "rgb(198,219,239)"
           ],
           [
            0.375,
            "rgb(158,202,225)"
           ],
           [
            0.5,
            "rgb(107,174,214)"
           ],
           [
            0.625,
            "rgb(66,146,198)"
           ],
           [
            0.75,
            "rgb(33,113,181)"
           ],
           [
            0.875,
            "rgb(8,81,156)"
           ],
           [
            1,
            "rgb(8,48,107)"
           ]
          ],
          "reversescale": false,
          "showscale": true
         },
         "type": "parcoords"
        }
       ],
       "layout": {
        "template": {
         "data": {
          "bar": [
           {
            "error_x": {
             "color": "#2a3f5f"
            },
            "error_y": {
             "color": "#2a3f5f"
            },
            "marker": {
             "line": {
              "color": "#E5ECF6",
              "width": 0.5
             },
             "pattern": {
              "fillmode": "overlay",
              "size": 10,
              "solidity": 0.2
             }
            },
            "type": "bar"
           }
          ],
          "barpolar": [
           {
            "marker": {
             "line": {
              "color": "#E5ECF6",
              "width": 0.5
             },
             "pattern": {
              "fillmode": "overlay",
              "size": 10,
              "solidity": 0.2
             }
            },
            "type": "barpolar"
           }
          ],
          "carpet": [
           {
            "aaxis": {
             "endlinecolor": "#2a3f5f",
             "gridcolor": "white",
             "linecolor": "white",
             "minorgridcolor": "white",
             "startlinecolor": "#2a3f5f"
            },
            "baxis": {
             "endlinecolor": "#2a3f5f",
             "gridcolor": "white",
             "linecolor": "white",
             "minorgridcolor": "white",
             "startlinecolor": "#2a3f5f"
            },
            "type": "carpet"
           }
          ],
          "choropleth": [
           {
            "colorbar": {
             "outlinewidth": 0,
             "ticks": ""
            },
            "type": "choropleth"
           }
          ],
          "contour": [
           {
            "colorbar": {
             "outlinewidth": 0,
             "ticks": ""
            },
            "colorscale": [
             [
              0,
              "#0d0887"
             ],
             [
              0.1111111111111111,
              "#46039f"
             ],
             [
              0.2222222222222222,
              "#7201a8"
             ],
             [
              0.3333333333333333,
              "#9c179e"
             ],
             [
              0.4444444444444444,
              "#bd3786"
             ],
             [
              0.5555555555555556,
              "#d8576b"
             ],
             [
              0.6666666666666666,
              "#ed7953"
             ],
             [
              0.7777777777777778,
              "#fb9f3a"
             ],
             [
              0.8888888888888888,
              "#fdca26"
             ],
             [
              1,
              "#f0f921"
             ]
            ],
            "type": "contour"
           }
          ],
          "contourcarpet": [
           {
            "colorbar": {
             "outlinewidth": 0,
             "ticks": ""
            },
            "type": "contourcarpet"
           }
          ],
          "heatmap": [
           {
            "colorbar": {
             "outlinewidth": 0,
             "ticks": ""
            },
            "colorscale": [
             [
              0,
              "#0d0887"
             ],
             [
              0.1111111111111111,
              "#46039f"
             ],
             [
              0.2222222222222222,
              "#7201a8"
             ],
             [
              0.3333333333333333,
              "#9c179e"
             ],
             [
              0.4444444444444444,
              "#bd3786"
             ],
             [
              0.5555555555555556,
              "#d8576b"
             ],
             [
              0.6666666666666666,
              "#ed7953"
             ],
             [
              0.7777777777777778,
              "#fb9f3a"
             ],
             [
              0.8888888888888888,
              "#fdca26"
             ],
             [
              1,
              "#f0f921"
             ]
            ],
            "type": "heatmap"
           }
          ],
          "histogram": [
           {
            "marker": {
             "pattern": {
              "fillmode": "overlay",
              "size": 10,
              "solidity": 0.2
             }
            },
            "type": "histogram"
           }
          ],
          "histogram2d": [
           {
            "colorbar": {
             "outlinewidth": 0,
             "ticks": ""
            },
            "colorscale": [
             [
              0,
              "#0d0887"
             ],
             [
              0.1111111111111111,
              "#46039f"
             ],
             [
              0.2222222222222222,
              "#7201a8"
             ],
             [
              0.3333333333333333,
              "#9c179e"
             ],
             [
              0.4444444444444444,
              "#bd3786"
             ],
             [
              0.5555555555555556,
              "#d8576b"
             ],
             [
              0.6666666666666666,
              "#ed7953"
             ],
             [
              0.7777777777777778,
              "#fb9f3a"
             ],
             [
              0.8888888888888888,
              "#fdca26"
             ],
             [
              1,
              "#f0f921"
             ]
            ],
            "type": "histogram2d"
           }
          ],
          "histogram2dcontour": [
           {
            "colorbar": {
             "outlinewidth": 0,
             "ticks": ""
            },
            "colorscale": [
             [
              0,
              "#0d0887"
             ],
             [
              0.1111111111111111,
              "#46039f"
             ],
             [
              0.2222222222222222,
              "#7201a8"
             ],
             [
              0.3333333333333333,
              "#9c179e"
             ],
             [
              0.4444444444444444,
              "#bd3786"
             ],
             [
              0.5555555555555556,
              "#d8576b"
             ],
             [
              0.6666666666666666,
              "#ed7953"
             ],
             [
              0.7777777777777778,
              "#fb9f3a"
             ],
             [
              0.8888888888888888,
              "#fdca26"
             ],
             [
              1,
              "#f0f921"
             ]
            ],
            "type": "histogram2dcontour"
           }
          ],
          "mesh3d": [
           {
            "colorbar": {
             "outlinewidth": 0,
             "ticks": ""
            },
            "type": "mesh3d"
           }
          ],
          "parcoords": [
           {
            "line": {
             "colorbar": {
              "outlinewidth": 0,
              "ticks": ""
             }
            },
            "type": "parcoords"
           }
          ],
          "pie": [
           {
            "automargin": true,
            "type": "pie"
           }
          ],
          "scatter": [
           {
            "fillpattern": {
             "fillmode": "overlay",
             "size": 10,
             "solidity": 0.2
            },
            "type": "scatter"
           }
          ],
          "scatter3d": [
           {
            "line": {
             "colorbar": {
              "outlinewidth": 0,
              "ticks": ""
             }
            },
            "marker": {
             "colorbar": {
              "outlinewidth": 0,
              "ticks": ""
             }
            },
            "type": "scatter3d"
           }
          ],
          "scattercarpet": [
           {
            "marker": {
             "colorbar": {
              "outlinewidth": 0,
              "ticks": ""
             }
            },
            "type": "scattercarpet"
           }
          ],
          "scattergeo": [
           {
            "marker": {
             "colorbar": {
              "outlinewidth": 0,
              "ticks": ""
             }
            },
            "type": "scattergeo"
           }
          ],
          "scattergl": [
           {
            "marker": {
             "colorbar": {
              "outlinewidth": 0,
              "ticks": ""
             }
            },
            "type": "scattergl"
           }
          ],
          "scattermap": [
           {
            "marker": {
             "colorbar": {
              "outlinewidth": 0,
              "ticks": ""
             }
            },
            "type": "scattermap"
           }
          ],
          "scattermapbox": [
           {
            "marker": {
             "colorbar": {
              "outlinewidth": 0,
              "ticks": ""
             }
            },
            "type": "scattermapbox"
           }
          ],
          "scatterpolar": [
           {
            "marker": {
             "colorbar": {
              "outlinewidth": 0,
              "ticks": ""
             }
            },
            "type": "scatterpolar"
           }
          ],
          "scatterpolargl": [
           {
            "marker": {
             "colorbar": {
              "outlinewidth": 0,
              "ticks": ""
             }
            },
            "type": "scatterpolargl"
           }
          ],
          "scatterternary": [
           {
            "marker": {
             "colorbar": {
              "outlinewidth": 0,
              "ticks": ""
             }
            },
            "type": "scatterternary"
           }
          ],
          "surface": [
           {
            "colorbar": {
             "outlinewidth": 0,
             "ticks": ""
            },
            "colorscale": [
             [
              0,
              "#0d0887"
             ],
             [
              0.1111111111111111,
              "#46039f"
             ],
             [
              0.2222222222222222,
              "#7201a8"
             ],
             [
              0.3333333333333333,
              "#9c179e"
             ],
             [
              0.4444444444444444,
              "#bd3786"
             ],
             [
              0.5555555555555556,
              "#d8576b"
             ],
             [
              0.6666666666666666,
              "#ed7953"
             ],
             [
              0.7777777777777778,
              "#fb9f3a"
             ],
             [
              0.8888888888888888,
              "#fdca26"
             ],
             [
              1,
              "#f0f921"
             ]
            ],
            "type": "surface"
           }
          ],
          "table": [
           {
            "cells": {
             "fill": {
              "color": "#EBF0F8"
             },
             "line": {
              "color": "white"
             }
            },
            "header": {
             "fill": {
              "color": "#C8D4E3"
             },
             "line": {
              "color": "white"
             }
            },
            "type": "table"
           }
          ]
         },
         "layout": {
          "annotationdefaults": {
           "arrowcolor": "#2a3f5f",
           "arrowhead": 0,
           "arrowwidth": 1
          },
          "autotypenumbers": "strict",
          "coloraxis": {
           "colorbar": {
            "outlinewidth": 0,
            "ticks": ""
           }
          },
          "colorscale": {
           "diverging": [
            [
             0,
             "#8e0152"
            ],
            [
             0.1,
             "#c51b7d"
            ],
            [
             0.2,
             "#de77ae"
            ],
            [
             0.3,
             "#f1b6da"
            ],
            [
             0.4,
             "#fde0ef"
            ],
            [
             0.5,
             "#f7f7f7"
            ],
            [
             0.6,
             "#e6f5d0"
            ],
            [
             0.7,
             "#b8e186"
            ],
            [
             0.8,
             "#7fbc41"
            ],
            [
             0.9,
             "#4d9221"
            ],
            [
             1,
             "#276419"
            ]
           ],
           "sequential": [
            [
             0,
             "#0d0887"
            ],
            [
             0.1111111111111111,
             "#46039f"
            ],
            [
             0.2222222222222222,
             "#7201a8"
            ],
            [
             0.3333333333333333,
             "#9c179e"
            ],
            [
             0.4444444444444444,
             "#bd3786"
            ],
            [
             0.5555555555555556,
             "#d8576b"
            ],
            [
             0.6666666666666666,
             "#ed7953"
            ],
            [
             0.7777777777777778,
             "#fb9f3a"
            ],
            [
             0.8888888888888888,
             "#fdca26"
            ],
            [
             1,
             "#f0f921"
            ]
           ],
           "sequentialminus": [
            [
             0,
             "#0d0887"
            ],
            [
             0.1111111111111111,
             "#46039f"
            ],
            [
             0.2222222222222222,
             "#7201a8"
            ],
            [
             0.3333333333333333,
             "#9c179e"
            ],
            [
             0.4444444444444444,
             "#bd3786"
            ],
            [
             0.5555555555555556,
             "#d8576b"
            ],
            [
             0.6666666666666666,
             "#ed7953"
            ],
            [
             0.7777777777777778,
             "#fb9f3a"
            ],
            [
             0.8888888888888888,
             "#fdca26"
            ],
            [
             1,
             "#f0f921"
            ]
           ]
          },
          "colorway": [
           "#636efa",
           "#EF553B",
           "#00cc96",
           "#ab63fa",
           "#FFA15A",
           "#19d3f3",
           "#FF6692",
           "#B6E880",
           "#FF97FF",
           "#FECB52"
          ],
          "font": {
           "color": "#2a3f5f"
          },
          "geo": {
           "bgcolor": "white",
           "lakecolor": "white",
           "landcolor": "#E5ECF6",
           "showlakes": true,
           "showland": true,
           "subunitcolor": "white"
          },
          "hoverlabel": {
           "align": "left"
          },
          "hovermode": "closest",
          "mapbox": {
           "style": "light"
          },
          "paper_bgcolor": "white",
          "plot_bgcolor": "#E5ECF6",
          "polar": {
           "angularaxis": {
            "gridcolor": "white",
            "linecolor": "white",
            "ticks": ""
           },
           "bgcolor": "#E5ECF6",
           "radialaxis": {
            "gridcolor": "white",
            "linecolor": "white",
            "ticks": ""
           }
          },
          "scene": {
           "xaxis": {
            "backgroundcolor": "#E5ECF6",
            "gridcolor": "white",
            "gridwidth": 2,
            "linecolor": "white",
            "showbackground": true,
            "ticks": "",
            "zerolinecolor": "white"
           },
           "yaxis": {
            "backgroundcolor": "#E5ECF6",
            "gridcolor": "white",
            "gridwidth": 2,
            "linecolor": "white",
            "showbackground": true,
            "ticks": "",
            "zerolinecolor": "white"
           },
           "zaxis": {
            "backgroundcolor": "#E5ECF6",
            "gridcolor": "white",
            "gridwidth": 2,
            "linecolor": "white",
            "showbackground": true,
            "ticks": "",
            "zerolinecolor": "white"
           }
          },
          "shapedefaults": {
           "line": {
            "color": "#2a3f5f"
           }
          },
          "ternary": {
           "aaxis": {
            "gridcolor": "white",
            "linecolor": "white",
            "ticks": ""
           },
           "baxis": {
            "gridcolor": "white",
            "linecolor": "white",
            "ticks": ""
           },
           "bgcolor": "#E5ECF6",
           "caxis": {
            "gridcolor": "white",
            "linecolor": "white",
            "ticks": ""
           }
          },
          "title": {
           "x": 0.05
          },
          "xaxis": {
           "automargin": true,
           "gridcolor": "white",
           "linecolor": "white",
           "ticks": "",
           "title": {
            "standoff": 15
           },
           "zerolinecolor": "white",
           "zerolinewidth": 2
          },
          "yaxis": {
           "automargin": true,
           "gridcolor": "white",
           "linecolor": "white",
           "ticks": "",
           "title": {
            "standoff": 15
           },
           "zerolinecolor": "white",
           "zerolinewidth": 2
          }
         }
        },
        "title": {
         "text": "Parallel Coordinate Plot"
        }
       }
      }
     },
     "metadata": {},
     "output_type": "display_data"
    }
   ],
   "source": [
    "optuna.visualization.plot_parallel_coordinate(study)"
   ]
  },
  {
   "cell_type": "code",
   "execution_count": 76,
   "metadata": {},
   "outputs": [
    {
     "data": {
      "application/vnd.plotly.v1+json": {
       "config": {
        "plotlyServerURL": "https://plot.ly"
       },
       "data": [
        {
         "marker": {
          "color": [
           0,
           1,
           2,
           3,
           4,
           5,
           6,
           7,
           8,
           9,
           10,
           11,
           12,
           13,
           14,
           15,
           16,
           17,
           18,
           19,
           20,
           21,
           22,
           23,
           24,
           25,
           26,
           27,
           28,
           29,
           30,
           31,
           32,
           33,
           34,
           35,
           36,
           37,
           38,
           39,
           40,
           41,
           42,
           43,
           44,
           45,
           46,
           47,
           48,
           49,
           50,
           51,
           52,
           53,
           54,
           55,
           56,
           57,
           58,
           59,
           60,
           61,
           62,
           63,
           64,
           65,
           66,
           67,
           68,
           69,
           70,
           71,
           72,
           73,
           74,
           75,
           76,
           77,
           78,
           79,
           80,
           81,
           82,
           83,
           84,
           85,
           86,
           87,
           88,
           89,
           90,
           91,
           92,
           93,
           94,
           95,
           96,
           97,
           98,
           99
          ],
          "colorbar": {
           "title": {
            "text": "Trial"
           },
           "x": 1,
           "xpad": 40
          },
          "colorscale": [
           [
            0,
            "rgb(247,251,255)"
           ],
           [
            0.125,
            "rgb(222,235,247)"
           ],
           [
            0.25,
            "rgb(198,219,239)"
           ],
           [
            0.375,
            "rgb(158,202,225)"
           ],
           [
            0.5,
            "rgb(107,174,214)"
           ],
           [
            0.625,
            "rgb(66,146,198)"
           ],
           [
            0.75,
            "rgb(33,113,181)"
           ],
           [
            0.875,
            "rgb(8,81,156)"
           ],
           [
            1,
            "rgb(8,48,107)"
           ]
          ],
          "line": {
           "color": "Grey",
           "width": 0.5
          },
          "showscale": true
         },
         "mode": "markers",
         "name": "Feasible Trial",
         "showlegend": false,
         "type": "scatter",
         "x": [
          48,
          16,
          39,
          18,
          31,
          15,
          42,
          11,
          48,
          14,
          30,
          37,
          17,
          46,
          18,
          21,
          32,
          50,
          43,
          13,
          35,
          23,
          29,
          33,
          27,
          36,
          20,
          13,
          43,
          17,
          46,
          27,
          30,
          23,
          38,
          20,
          11,
          21,
          30,
          41,
          35,
          44,
          34,
          19,
          25,
          14,
          37,
          19,
          35,
          46,
          13,
          10,
          16,
          19,
          40,
          33,
          20,
          35,
          30,
          10,
          49,
          48,
          44,
          22,
          38,
          50,
          40,
          22,
          47,
          36,
          23,
          11,
          34,
          24,
          18,
          31,
          50,
          21,
          49,
          17,
          39,
          40,
          20,
          14,
          38,
          29,
          35,
          35,
          16,
          34,
          36,
          25,
          12,
          38,
          10,
          38,
          42,
          43,
          41,
          27
         ],
         "xaxis": "x",
         "y": [
          -4.482089322232224,
          -5.153424416411042,
          -5.552603343848067,
          -2.9918169184720242,
          -3.7935390283773507,
          -3.8654531104774312,
          -4.070611774759453,
          -3.2015094875213093,
          -5.108238517204994,
          -3.9152792945049923,
          -5.3761473916522835,
          -4.093472587082816,
          -5.018273819688508,
          -5.327985343880739,
          -3.8993791710977677,
          -3.8712231080074853,
          -5.042506030299687,
          -3.5300241954135267,
          -4.891934196477677,
          -2.697140332760633,
          -2.53796302732815,
          -4.663746821303116,
          -4.854986316400918,
          -3.9790140286973648,
          -2.4207604214247747,
          -4.05399006678695,
          -5.021063540017575,
          -2.9932181862415037,
          -5.180617590538734,
          -4.198345851121255,
          -2.5421789002876376,
          -5.120249748926371,
          -3.5767893492288136,
          -3.7847628304984204,
          -5.547475996406275,
          -3.7985940572565005,
          -4.092391080942095,
          -3.6931826872523628,
          -3.740758360661931,
          -4.994824763476936,
          -4.2076894977077,
          -3.0226733570327355,
          -3.2238218026346495,
          -3.3158768120445465,
          -3.506507255306771,
          -5.2872417610782865,
          -4.186667092951736,
          -5.227451669424462,
          -3.834691741790965,
          -5.0079689380207455,
          -5.27946850218868,
          -4.700769676137453,
          -4.899538816812818,
          -3.6595139374856034,
          -5.17112263895642,
          -3.8449196770566396,
          -3.903468963648078,
          -4.064703199252705,
          -4.932937741303585,
          -3.350824768513631,
          -3.8916269872552696,
          -5.561038091570764,
          -3.835149377522273,
          -4.180262703347594,
          -2.971985418794468,
          -4.102356976791227,
          -4.8395038764514435,
          -5.08580259578864,
          -4.075737072635814,
          -5.06207653364706,
          -2.657264384216417,
          -4.197442269522041,
          -1.903521109531847,
          -4.047813157928457,
          -3.029400816691387,
          -4.609976083289534,
          -3.8394767306256883,
          -2.753651288796683,
          -4.862239120824793,
          -3.675283696512463,
          -3.7046827472019244,
          -4.547551021632903,
          -4.970796867021582,
          -1.8454157534503526,
          -2.8522464076557945,
          -3.892413106154966,
          -3.121950282970902,
          -5.239137193749644,
          -4.6176533670928865,
          -4.377715120538128,
          -4.192936861433445,
          -5.262391619098017,
          -1.968959492216118,
          -3.878304259826991,
          -3.7949809767008666,
          -5.2381666213037885,
          -3.0267092521078682,
          -3.916297756698809,
          -5.35349145625912,
          -5.022087408427012
         ],
         "yaxis": "y"
        },
        {
         "marker": {
          "color": [
           0,
           1,
           2,
           3,
           4,
           5,
           6,
           7,
           8,
           9,
           10,
           11,
           12,
           13,
           14,
           15,
           16,
           17,
           18,
           19,
           20,
           21,
           22,
           23,
           24,
           25,
           26,
           27,
           28,
           29,
           30,
           31,
           32,
           33,
           34,
           35,
           36,
           37,
           38,
           39,
           40,
           41,
           42,
           43,
           44,
           45,
           46,
           47,
           48,
           49,
           50,
           51,
           52,
           53,
           54,
           55,
           56,
           57,
           58,
           59,
           60,
           61,
           62,
           63,
           64,
           65,
           66,
           67,
           68,
           69,
           70,
           71,
           72,
           73,
           74,
           75,
           76,
           77,
           78,
           79,
           80,
           81,
           82,
           83,
           84,
           85,
           86,
           87,
           88,
           89,
           90,
           91,
           92,
           93,
           94,
           95,
           96,
           97,
           98,
           99
          ],
          "colorbar": {
           "title": {
            "text": "Trial"
           },
           "x": 1,
           "xpad": 40
          },
          "colorscale": [
           [
            0,
            "rgb(247,251,255)"
           ],
           [
            0.125,
            "rgb(222,235,247)"
           ],
           [
            0.25,
            "rgb(198,219,239)"
           ],
           [
            0.375,
            "rgb(158,202,225)"
           ],
           [
            0.5,
            "rgb(107,174,214)"
           ],
           [
            0.625,
            "rgb(66,146,198)"
           ],
           [
            0.75,
            "rgb(33,113,181)"
           ],
           [
            0.875,
            "rgb(8,81,156)"
           ],
           [
            1,
            "rgb(8,48,107)"
           ]
          ],
          "line": {
           "color": "Grey",
           "width": 0.5
          },
          "showscale": false
         },
         "mode": "markers",
         "name": "Feasible Trial",
         "showlegend": false,
         "type": "scatter",
         "x": [
          20,
          28,
          32,
          6,
          10,
          12,
          17,
          6,
          26,
          15,
          30,
          17,
          25,
          30,
          11,
          12,
          26,
          7,
          24,
          4,
          3,
          21,
          23,
          16,
          4,
          17,
          25,
          6,
          28,
          18,
          4,
          28,
          8,
          11,
          32,
          10,
          17,
          8,
          8,
          24,
          18,
          6,
          1,
          6,
          5,
          29,
          18,
          29,
          12,
          25,
          29,
          22,
          23,
          8,
          28,
          12,
          13,
          17,
          24,
          6,
          12,
          31,
          13,
          18,
          4,
          17,
          23,
          26,
          17,
          26,
          4,
          18,
          2,
          17,
          3,
          21,
          11,
          3,
          23,
          9,
          9,
          20,
          25,
          2,
          4,
          14,
          2,
          28,
          21,
          19,
          18,
          29,
          1,
          11,
          10,
          29,
          6,
          14,
          30,
          25
         ],
         "xaxis": "x2",
         "y": [
          -4.482089322232224,
          -5.153424416411042,
          -5.552603343848067,
          -2.9918169184720242,
          -3.7935390283773507,
          -3.8654531104774312,
          -4.070611774759453,
          -3.2015094875213093,
          -5.108238517204994,
          -3.9152792945049923,
          -5.3761473916522835,
          -4.093472587082816,
          -5.018273819688508,
          -5.327985343880739,
          -3.8993791710977677,
          -3.8712231080074853,
          -5.042506030299687,
          -3.5300241954135267,
          -4.891934196477677,
          -2.697140332760633,
          -2.53796302732815,
          -4.663746821303116,
          -4.854986316400918,
          -3.9790140286973648,
          -2.4207604214247747,
          -4.05399006678695,
          -5.021063540017575,
          -2.9932181862415037,
          -5.180617590538734,
          -4.198345851121255,
          -2.5421789002876376,
          -5.120249748926371,
          -3.5767893492288136,
          -3.7847628304984204,
          -5.547475996406275,
          -3.7985940572565005,
          -4.092391080942095,
          -3.6931826872523628,
          -3.740758360661931,
          -4.994824763476936,
          -4.2076894977077,
          -3.0226733570327355,
          -3.2238218026346495,
          -3.3158768120445465,
          -3.506507255306771,
          -5.2872417610782865,
          -4.186667092951736,
          -5.227451669424462,
          -3.834691741790965,
          -5.0079689380207455,
          -5.27946850218868,
          -4.700769676137453,
          -4.899538816812818,
          -3.6595139374856034,
          -5.17112263895642,
          -3.8449196770566396,
          -3.903468963648078,
          -4.064703199252705,
          -4.932937741303585,
          -3.350824768513631,
          -3.8916269872552696,
          -5.561038091570764,
          -3.835149377522273,
          -4.180262703347594,
          -2.971985418794468,
          -4.102356976791227,
          -4.8395038764514435,
          -5.08580259578864,
          -4.075737072635814,
          -5.06207653364706,
          -2.657264384216417,
          -4.197442269522041,
          -1.903521109531847,
          -4.047813157928457,
          -3.029400816691387,
          -4.609976083289534,
          -3.8394767306256883,
          -2.753651288796683,
          -4.862239120824793,
          -3.675283696512463,
          -3.7046827472019244,
          -4.547551021632903,
          -4.970796867021582,
          -1.8454157534503526,
          -2.8522464076557945,
          -3.892413106154966,
          -3.121950282970902,
          -5.239137193749644,
          -4.6176533670928865,
          -4.377715120538128,
          -4.192936861433445,
          -5.262391619098017,
          -1.968959492216118,
          -3.878304259826991,
          -3.7949809767008666,
          -5.2381666213037885,
          -3.0267092521078682,
          -3.916297756698809,
          -5.35349145625912,
          -5.022087408427012
         ],
         "yaxis": "y2"
        },
        {
         "marker": {
          "color": [
           0,
           1,
           2,
           3,
           4,
           5,
           6,
           7,
           8,
           9,
           10,
           11,
           12,
           13,
           14,
           15,
           16,
           17,
           18,
           19,
           20,
           21,
           22,
           23,
           24,
           25,
           26,
           27,
           28,
           29,
           30,
           31,
           32,
           33,
           34,
           35,
           36,
           37,
           38,
           39,
           40,
           41,
           42,
           43,
           44,
           45,
           46,
           47,
           48,
           49,
           50,
           51,
           52,
           53,
           54,
           55,
           56,
           57,
           58,
           59,
           60,
           61,
           62,
           63,
           64,
           65,
           66,
           67,
           68,
           69,
           70,
           71,
           72,
           73,
           74,
           75,
           76,
           77,
           78,
           79,
           80,
           81,
           82,
           83,
           84,
           85,
           86,
           87,
           88,
           89,
           90,
           91,
           92,
           93,
           94,
           95,
           96,
           97,
           98,
           99
          ],
          "colorbar": {
           "title": {
            "text": "Trial"
           },
           "x": 1,
           "xpad": 40
          },
          "colorscale": [
           [
            0,
            "rgb(247,251,255)"
           ],
           [
            0.125,
            "rgb(222,235,247)"
           ],
           [
            0.25,
            "rgb(198,219,239)"
           ],
           [
            0.375,
            "rgb(158,202,225)"
           ],
           [
            0.5,
            "rgb(107,174,214)"
           ],
           [
            0.625,
            "rgb(66,146,198)"
           ],
           [
            0.75,
            "rgb(33,113,181)"
           ],
           [
            0.875,
            "rgb(8,81,156)"
           ],
           [
            1,
            "rgb(8,48,107)"
           ]
          ],
          "line": {
           "color": "Grey",
           "width": 0.5
          },
          "showscale": false
         },
         "mode": "markers",
         "name": "Feasible Trial",
         "showlegend": false,
         "type": "scatter",
         "x": [
          24,
          3,
          2,
          7,
          15,
          11,
          8,
          20,
          31,
          23,
          3,
          11,
          32,
          20,
          3,
          27,
          6,
          25,
          23,
          13,
          12,
          24,
          5,
          25,
          2,
          11,
          14,
          10,
          21,
          29,
          11,
          27,
          14,
          31,
          13,
          17,
          20,
          30,
          32,
          9,
          21,
          11,
          23,
          22,
          31,
          30,
          27,
          4,
          12,
          29,
          7,
          5,
          19,
          24,
          22,
          4,
          32,
          26,
          8,
          22,
          30,
          15,
          11,
          7,
          19,
          6,
          23,
          27,
          17,
          23,
          13,
          16,
          2,
          5,
          21,
          18,
          18,
          15,
          27,
          6,
          22,
          19,
          13,
          3,
          16,
          7,
          21,
          17,
          4,
          31,
          16,
          31,
          5,
          4,
          27,
          21,
          10,
          32,
          12,
          25
         ],
         "xaxis": "x3",
         "y": [
          -4.482089322232224,
          -5.153424416411042,
          -5.552603343848067,
          -2.9918169184720242,
          -3.7935390283773507,
          -3.8654531104774312,
          -4.070611774759453,
          -3.2015094875213093,
          -5.108238517204994,
          -3.9152792945049923,
          -5.3761473916522835,
          -4.093472587082816,
          -5.018273819688508,
          -5.327985343880739,
          -3.8993791710977677,
          -3.8712231080074853,
          -5.042506030299687,
          -3.5300241954135267,
          -4.891934196477677,
          -2.697140332760633,
          -2.53796302732815,
          -4.663746821303116,
          -4.854986316400918,
          -3.9790140286973648,
          -2.4207604214247747,
          -4.05399006678695,
          -5.021063540017575,
          -2.9932181862415037,
          -5.180617590538734,
          -4.198345851121255,
          -2.5421789002876376,
          -5.120249748926371,
          -3.5767893492288136,
          -3.7847628304984204,
          -5.547475996406275,
          -3.7985940572565005,
          -4.092391080942095,
          -3.6931826872523628,
          -3.740758360661931,
          -4.994824763476936,
          -4.2076894977077,
          -3.0226733570327355,
          -3.2238218026346495,
          -3.3158768120445465,
          -3.506507255306771,
          -5.2872417610782865,
          -4.186667092951736,
          -5.227451669424462,
          -3.834691741790965,
          -5.0079689380207455,
          -5.27946850218868,
          -4.700769676137453,
          -4.899538816812818,
          -3.6595139374856034,
          -5.17112263895642,
          -3.8449196770566396,
          -3.903468963648078,
          -4.064703199252705,
          -4.932937741303585,
          -3.350824768513631,
          -3.8916269872552696,
          -5.561038091570764,
          -3.835149377522273,
          -4.180262703347594,
          -2.971985418794468,
          -4.102356976791227,
          -4.8395038764514435,
          -5.08580259578864,
          -4.075737072635814,
          -5.06207653364706,
          -2.657264384216417,
          -4.197442269522041,
          -1.903521109531847,
          -4.047813157928457,
          -3.029400816691387,
          -4.609976083289534,
          -3.8394767306256883,
          -2.753651288796683,
          -4.862239120824793,
          -3.675283696512463,
          -3.7046827472019244,
          -4.547551021632903,
          -4.970796867021582,
          -1.8454157534503526,
          -2.8522464076557945,
          -3.892413106154966,
          -3.121950282970902,
          -5.239137193749644,
          -4.6176533670928865,
          -4.377715120538128,
          -4.192936861433445,
          -5.262391619098017,
          -1.968959492216118,
          -3.878304259826991,
          -3.7949809767008666,
          -5.2381666213037885,
          -3.0267092521078682,
          -3.916297756698809,
          -5.35349145625912,
          -5.022087408427012
         ],
         "yaxis": "y3"
        },
        {
         "marker": {
          "color": [
           0,
           1,
           2,
           3,
           4,
           5,
           6,
           7,
           8,
           9,
           10,
           11,
           12,
           13,
           14,
           15,
           16,
           17,
           18,
           19,
           20,
           21,
           22,
           23,
           24,
           25,
           26,
           27,
           28,
           29,
           30,
           31,
           32,
           33,
           34,
           35,
           36,
           37,
           38,
           39,
           40,
           41,
           42,
           43,
           44,
           45,
           46,
           47,
           48,
           49,
           50,
           51,
           52,
           53,
           54,
           55,
           56,
           57,
           58,
           59,
           60,
           61,
           62,
           63,
           64,
           65,
           66,
           67,
           68,
           69,
           70,
           71,
           72,
           73,
           74,
           75,
           76,
           77,
           78,
           79,
           80,
           81,
           82,
           83,
           84,
           85,
           86,
           87,
           88,
           89,
           90,
           91,
           92,
           93,
           94,
           95,
           96,
           97,
           98,
           99
          ],
          "colorbar": {
           "title": {
            "text": "Trial"
           },
           "x": 1,
           "xpad": 40
          },
          "colorscale": [
           [
            0,
            "rgb(247,251,255)"
           ],
           [
            0.125,
            "rgb(222,235,247)"
           ],
           [
            0.25,
            "rgb(198,219,239)"
           ],
           [
            0.375,
            "rgb(158,202,225)"
           ],
           [
            0.5,
            "rgb(107,174,214)"
           ],
           [
            0.625,
            "rgb(66,146,198)"
           ],
           [
            0.75,
            "rgb(33,113,181)"
           ],
           [
            0.875,
            "rgb(8,81,156)"
           ],
           [
            1,
            "rgb(8,48,107)"
           ]
          ],
          "line": {
           "color": "Grey",
           "width": 0.5
          },
          "showscale": false
         },
         "mode": "markers",
         "name": "Feasible Trial",
         "showlegend": false,
         "type": "scatter",
         "x": [
          437,
          240,
          641,
          850,
          374,
          651,
          510,
          633,
          158,
          374,
          209,
          333,
          592,
          946,
          179,
          450,
          353,
          167,
          104,
          794,
          877,
          380,
          899,
          785,
          570,
          128,
          917,
          306,
          937,
          824,
          827,
          305,
          106,
          207,
          567,
          967,
          356,
          146,
          230,
          705,
          431,
          181,
          136,
          561,
          722,
          407,
          332,
          577,
          911,
          754,
          678,
          646,
          104,
          687,
          393,
          692,
          338,
          903,
          619,
          352,
          947,
          113,
          968,
          866,
          943,
          654,
          890,
          423,
          881,
          819,
          901,
          621,
          358,
          841,
          793,
          146,
          754,
          816,
          122,
          468,
          594,
          960,
          478,
          112,
          870,
          542,
          459,
          437,
          693,
          123,
          449,
          948,
          276,
          185,
          861,
          206,
          762,
          776,
          435,
          873
         ],
         "xaxis": "x4",
         "y": [
          -4.482089322232224,
          -5.153424416411042,
          -5.552603343848067,
          -2.9918169184720242,
          -3.7935390283773507,
          -3.8654531104774312,
          -4.070611774759453,
          -3.2015094875213093,
          -5.108238517204994,
          -3.9152792945049923,
          -5.3761473916522835,
          -4.093472587082816,
          -5.018273819688508,
          -5.327985343880739,
          -3.8993791710977677,
          -3.8712231080074853,
          -5.042506030299687,
          -3.5300241954135267,
          -4.891934196477677,
          -2.697140332760633,
          -2.53796302732815,
          -4.663746821303116,
          -4.854986316400918,
          -3.9790140286973648,
          -2.4207604214247747,
          -4.05399006678695,
          -5.021063540017575,
          -2.9932181862415037,
          -5.180617590538734,
          -4.198345851121255,
          -2.5421789002876376,
          -5.120249748926371,
          -3.5767893492288136,
          -3.7847628304984204,
          -5.547475996406275,
          -3.7985940572565005,
          -4.092391080942095,
          -3.6931826872523628,
          -3.740758360661931,
          -4.994824763476936,
          -4.2076894977077,
          -3.0226733570327355,
          -3.2238218026346495,
          -3.3158768120445465,
          -3.506507255306771,
          -5.2872417610782865,
          -4.186667092951736,
          -5.227451669424462,
          -3.834691741790965,
          -5.0079689380207455,
          -5.27946850218868,
          -4.700769676137453,
          -4.899538816812818,
          -3.6595139374856034,
          -5.17112263895642,
          -3.8449196770566396,
          -3.903468963648078,
          -4.064703199252705,
          -4.932937741303585,
          -3.350824768513631,
          -3.8916269872552696,
          -5.561038091570764,
          -3.835149377522273,
          -4.180262703347594,
          -2.971985418794468,
          -4.102356976791227,
          -4.8395038764514435,
          -5.08580259578864,
          -4.075737072635814,
          -5.06207653364706,
          -2.657264384216417,
          -4.197442269522041,
          -1.903521109531847,
          -4.047813157928457,
          -3.029400816691387,
          -4.609976083289534,
          -3.8394767306256883,
          -2.753651288796683,
          -4.862239120824793,
          -3.675283696512463,
          -3.7046827472019244,
          -4.547551021632903,
          -4.970796867021582,
          -1.8454157534503526,
          -2.8522464076557945,
          -3.892413106154966,
          -3.121950282970902,
          -5.239137193749644,
          -4.6176533670928865,
          -4.377715120538128,
          -4.192936861433445,
          -5.262391619098017,
          -1.968959492216118,
          -3.878304259826991,
          -3.7949809767008666,
          -5.2381666213037885,
          -3.0267092521078682,
          -3.916297756698809,
          -5.35349145625912,
          -5.022087408427012
         ],
         "yaxis": "y4"
        }
       ],
       "layout": {
        "template": {
         "data": {
          "bar": [
           {
            "error_x": {
             "color": "#2a3f5f"
            },
            "error_y": {
             "color": "#2a3f5f"
            },
            "marker": {
             "line": {
              "color": "#E5ECF6",
              "width": 0.5
             },
             "pattern": {
              "fillmode": "overlay",
              "size": 10,
              "solidity": 0.2
             }
            },
            "type": "bar"
           }
          ],
          "barpolar": [
           {
            "marker": {
             "line": {
              "color": "#E5ECF6",
              "width": 0.5
             },
             "pattern": {
              "fillmode": "overlay",
              "size": 10,
              "solidity": 0.2
             }
            },
            "type": "barpolar"
           }
          ],
          "carpet": [
           {
            "aaxis": {
             "endlinecolor": "#2a3f5f",
             "gridcolor": "white",
             "linecolor": "white",
             "minorgridcolor": "white",
             "startlinecolor": "#2a3f5f"
            },
            "baxis": {
             "endlinecolor": "#2a3f5f",
             "gridcolor": "white",
             "linecolor": "white",
             "minorgridcolor": "white",
             "startlinecolor": "#2a3f5f"
            },
            "type": "carpet"
           }
          ],
          "choropleth": [
           {
            "colorbar": {
             "outlinewidth": 0,
             "ticks": ""
            },
            "type": "choropleth"
           }
          ],
          "contour": [
           {
            "colorbar": {
             "outlinewidth": 0,
             "ticks": ""
            },
            "colorscale": [
             [
              0,
              "#0d0887"
             ],
             [
              0.1111111111111111,
              "#46039f"
             ],
             [
              0.2222222222222222,
              "#7201a8"
             ],
             [
              0.3333333333333333,
              "#9c179e"
             ],
             [
              0.4444444444444444,
              "#bd3786"
             ],
             [
              0.5555555555555556,
              "#d8576b"
             ],
             [
              0.6666666666666666,
              "#ed7953"
             ],
             [
              0.7777777777777778,
              "#fb9f3a"
             ],
             [
              0.8888888888888888,
              "#fdca26"
             ],
             [
              1,
              "#f0f921"
             ]
            ],
            "type": "contour"
           }
          ],
          "contourcarpet": [
           {
            "colorbar": {
             "outlinewidth": 0,
             "ticks": ""
            },
            "type": "contourcarpet"
           }
          ],
          "heatmap": [
           {
            "colorbar": {
             "outlinewidth": 0,
             "ticks": ""
            },
            "colorscale": [
             [
              0,
              "#0d0887"
             ],
             [
              0.1111111111111111,
              "#46039f"
             ],
             [
              0.2222222222222222,
              "#7201a8"
             ],
             [
              0.3333333333333333,
              "#9c179e"
             ],
             [
              0.4444444444444444,
              "#bd3786"
             ],
             [
              0.5555555555555556,
              "#d8576b"
             ],
             [
              0.6666666666666666,
              "#ed7953"
             ],
             [
              0.7777777777777778,
              "#fb9f3a"
             ],
             [
              0.8888888888888888,
              "#fdca26"
             ],
             [
              1,
              "#f0f921"
             ]
            ],
            "type": "heatmap"
           }
          ],
          "histogram": [
           {
            "marker": {
             "pattern": {
              "fillmode": "overlay",
              "size": 10,
              "solidity": 0.2
             }
            },
            "type": "histogram"
           }
          ],
          "histogram2d": [
           {
            "colorbar": {
             "outlinewidth": 0,
             "ticks": ""
            },
            "colorscale": [
             [
              0,
              "#0d0887"
             ],
             [
              0.1111111111111111,
              "#46039f"
             ],
             [
              0.2222222222222222,
              "#7201a8"
             ],
             [
              0.3333333333333333,
              "#9c179e"
             ],
             [
              0.4444444444444444,
              "#bd3786"
             ],
             [
              0.5555555555555556,
              "#d8576b"
             ],
             [
              0.6666666666666666,
              "#ed7953"
             ],
             [
              0.7777777777777778,
              "#fb9f3a"
             ],
             [
              0.8888888888888888,
              "#fdca26"
             ],
             [
              1,
              "#f0f921"
             ]
            ],
            "type": "histogram2d"
           }
          ],
          "histogram2dcontour": [
           {
            "colorbar": {
             "outlinewidth": 0,
             "ticks": ""
            },
            "colorscale": [
             [
              0,
              "#0d0887"
             ],
             [
              0.1111111111111111,
              "#46039f"
             ],
             [
              0.2222222222222222,
              "#7201a8"
             ],
             [
              0.3333333333333333,
              "#9c179e"
             ],
             [
              0.4444444444444444,
              "#bd3786"
             ],
             [
              0.5555555555555556,
              "#d8576b"
             ],
             [
              0.6666666666666666,
              "#ed7953"
             ],
             [
              0.7777777777777778,
              "#fb9f3a"
             ],
             [
              0.8888888888888888,
              "#fdca26"
             ],
             [
              1,
              "#f0f921"
             ]
            ],
            "type": "histogram2dcontour"
           }
          ],
          "mesh3d": [
           {
            "colorbar": {
             "outlinewidth": 0,
             "ticks": ""
            },
            "type": "mesh3d"
           }
          ],
          "parcoords": [
           {
            "line": {
             "colorbar": {
              "outlinewidth": 0,
              "ticks": ""
             }
            },
            "type": "parcoords"
           }
          ],
          "pie": [
           {
            "automargin": true,
            "type": "pie"
           }
          ],
          "scatter": [
           {
            "fillpattern": {
             "fillmode": "overlay",
             "size": 10,
             "solidity": 0.2
            },
            "type": "scatter"
           }
          ],
          "scatter3d": [
           {
            "line": {
             "colorbar": {
              "outlinewidth": 0,
              "ticks": ""
             }
            },
            "marker": {
             "colorbar": {
              "outlinewidth": 0,
              "ticks": ""
             }
            },
            "type": "scatter3d"
           }
          ],
          "scattercarpet": [
           {
            "marker": {
             "colorbar": {
              "outlinewidth": 0,
              "ticks": ""
             }
            },
            "type": "scattercarpet"
           }
          ],
          "scattergeo": [
           {
            "marker": {
             "colorbar": {
              "outlinewidth": 0,
              "ticks": ""
             }
            },
            "type": "scattergeo"
           }
          ],
          "scattergl": [
           {
            "marker": {
             "colorbar": {
              "outlinewidth": 0,
              "ticks": ""
             }
            },
            "type": "scattergl"
           }
          ],
          "scattermap": [
           {
            "marker": {
             "colorbar": {
              "outlinewidth": 0,
              "ticks": ""
             }
            },
            "type": "scattermap"
           }
          ],
          "scattermapbox": [
           {
            "marker": {
             "colorbar": {
              "outlinewidth": 0,
              "ticks": ""
             }
            },
            "type": "scattermapbox"
           }
          ],
          "scatterpolar": [
           {
            "marker": {
             "colorbar": {
              "outlinewidth": 0,
              "ticks": ""
             }
            },
            "type": "scatterpolar"
           }
          ],
          "scatterpolargl": [
           {
            "marker": {
             "colorbar": {
              "outlinewidth": 0,
              "ticks": ""
             }
            },
            "type": "scatterpolargl"
           }
          ],
          "scatterternary": [
           {
            "marker": {
             "colorbar": {
              "outlinewidth": 0,
              "ticks": ""
             }
            },
            "type": "scatterternary"
           }
          ],
          "surface": [
           {
            "colorbar": {
             "outlinewidth": 0,
             "ticks": ""
            },
            "colorscale": [
             [
              0,
              "#0d0887"
             ],
             [
              0.1111111111111111,
              "#46039f"
             ],
             [
              0.2222222222222222,
              "#7201a8"
             ],
             [
              0.3333333333333333,
              "#9c179e"
             ],
             [
              0.4444444444444444,
              "#bd3786"
             ],
             [
              0.5555555555555556,
              "#d8576b"
             ],
             [
              0.6666666666666666,
              "#ed7953"
             ],
             [
              0.7777777777777778,
              "#fb9f3a"
             ],
             [
              0.8888888888888888,
              "#fdca26"
             ],
             [
              1,
              "#f0f921"
             ]
            ],
            "type": "surface"
           }
          ],
          "table": [
           {
            "cells": {
             "fill": {
              "color": "#EBF0F8"
             },
             "line": {
              "color": "white"
             }
            },
            "header": {
             "fill": {
              "color": "#C8D4E3"
             },
             "line": {
              "color": "white"
             }
            },
            "type": "table"
           }
          ]
         },
         "layout": {
          "annotationdefaults": {
           "arrowcolor": "#2a3f5f",
           "arrowhead": 0,
           "arrowwidth": 1
          },
          "autotypenumbers": "strict",
          "coloraxis": {
           "colorbar": {
            "outlinewidth": 0,
            "ticks": ""
           }
          },
          "colorscale": {
           "diverging": [
            [
             0,
             "#8e0152"
            ],
            [
             0.1,
             "#c51b7d"
            ],
            [
             0.2,
             "#de77ae"
            ],
            [
             0.3,
             "#f1b6da"
            ],
            [
             0.4,
             "#fde0ef"
            ],
            [
             0.5,
             "#f7f7f7"
            ],
            [
             0.6,
             "#e6f5d0"
            ],
            [
             0.7,
             "#b8e186"
            ],
            [
             0.8,
             "#7fbc41"
            ],
            [
             0.9,
             "#4d9221"
            ],
            [
             1,
             "#276419"
            ]
           ],
           "sequential": [
            [
             0,
             "#0d0887"
            ],
            [
             0.1111111111111111,
             "#46039f"
            ],
            [
             0.2222222222222222,
             "#7201a8"
            ],
            [
             0.3333333333333333,
             "#9c179e"
            ],
            [
             0.4444444444444444,
             "#bd3786"
            ],
            [
             0.5555555555555556,
             "#d8576b"
            ],
            [
             0.6666666666666666,
             "#ed7953"
            ],
            [
             0.7777777777777778,
             "#fb9f3a"
            ],
            [
             0.8888888888888888,
             "#fdca26"
            ],
            [
             1,
             "#f0f921"
            ]
           ],
           "sequentialminus": [
            [
             0,
             "#0d0887"
            ],
            [
             0.1111111111111111,
             "#46039f"
            ],
            [
             0.2222222222222222,
             "#7201a8"
            ],
            [
             0.3333333333333333,
             "#9c179e"
            ],
            [
             0.4444444444444444,
             "#bd3786"
            ],
            [
             0.5555555555555556,
             "#d8576b"
            ],
            [
             0.6666666666666666,
             "#ed7953"
            ],
            [
             0.7777777777777778,
             "#fb9f3a"
            ],
            [
             0.8888888888888888,
             "#fdca26"
            ],
            [
             1,
             "#f0f921"
            ]
           ]
          },
          "colorway": [
           "#636efa",
           "#EF553B",
           "#00cc96",
           "#ab63fa",
           "#FFA15A",
           "#19d3f3",
           "#FF6692",
           "#B6E880",
           "#FF97FF",
           "#FECB52"
          ],
          "font": {
           "color": "#2a3f5f"
          },
          "geo": {
           "bgcolor": "white",
           "lakecolor": "white",
           "landcolor": "#E5ECF6",
           "showlakes": true,
           "showland": true,
           "subunitcolor": "white"
          },
          "hoverlabel": {
           "align": "left"
          },
          "hovermode": "closest",
          "mapbox": {
           "style": "light"
          },
          "paper_bgcolor": "white",
          "plot_bgcolor": "#E5ECF6",
          "polar": {
           "angularaxis": {
            "gridcolor": "white",
            "linecolor": "white",
            "ticks": ""
           },
           "bgcolor": "#E5ECF6",
           "radialaxis": {
            "gridcolor": "white",
            "linecolor": "white",
            "ticks": ""
           }
          },
          "scene": {
           "xaxis": {
            "backgroundcolor": "#E5ECF6",
            "gridcolor": "white",
            "gridwidth": 2,
            "linecolor": "white",
            "showbackground": true,
            "ticks": "",
            "zerolinecolor": "white"
           },
           "yaxis": {
            "backgroundcolor": "#E5ECF6",
            "gridcolor": "white",
            "gridwidth": 2,
            "linecolor": "white",
            "showbackground": true,
            "ticks": "",
            "zerolinecolor": "white"
           },
           "zaxis": {
            "backgroundcolor": "#E5ECF6",
            "gridcolor": "white",
            "gridwidth": 2,
            "linecolor": "white",
            "showbackground": true,
            "ticks": "",
            "zerolinecolor": "white"
           }
          },
          "shapedefaults": {
           "line": {
            "color": "#2a3f5f"
           }
          },
          "ternary": {
           "aaxis": {
            "gridcolor": "white",
            "linecolor": "white",
            "ticks": ""
           },
           "baxis": {
            "gridcolor": "white",
            "linecolor": "white",
            "ticks": ""
           },
           "bgcolor": "#E5ECF6",
           "caxis": {
            "gridcolor": "white",
            "linecolor": "white",
            "ticks": ""
           }
          },
          "title": {
           "x": 0.05
          },
          "xaxis": {
           "automargin": true,
           "gridcolor": "white",
           "linecolor": "white",
           "ticks": "",
           "title": {
            "standoff": 15
           },
           "zerolinecolor": "white",
           "zerolinewidth": 2
          },
          "yaxis": {
           "automargin": true,
           "gridcolor": "white",
           "linecolor": "white",
           "ticks": "",
           "title": {
            "standoff": 15
           },
           "zerolinecolor": "white",
           "zerolinewidth": 2
          }
         }
        },
        "title": {
         "text": "Slice Plot"
        },
        "width": 1200,
        "xaxis": {
         "anchor": "y",
         "domain": [
          0,
          0.2125
         ],
         "title": {
          "text": "max_depth"
         }
        },
        "xaxis2": {
         "anchor": "y2",
         "domain": [
          0.2625,
          0.475
         ],
         "title": {
          "text": "min_samples_leaf"
         }
        },
        "xaxis3": {
         "anchor": "y3",
         "domain": [
          0.525,
          0.7375
         ],
         "title": {
          "text": "min_samples_split"
         }
        },
        "xaxis4": {
         "anchor": "y4",
         "domain": [
          0.7875,
          1
         ],
         "title": {
          "text": "n_estimators"
         }
        },
        "yaxis": {
         "anchor": "x",
         "domain": [
          0,
          1
         ],
         "title": {
          "text": "Objective Value"
         }
        },
        "yaxis2": {
         "anchor": "x2",
         "domain": [
          0,
          1
         ],
         "matches": "y",
         "showticklabels": false
        },
        "yaxis3": {
         "anchor": "x3",
         "domain": [
          0,
          1
         ],
         "matches": "y",
         "showticklabels": false
        },
        "yaxis4": {
         "anchor": "x4",
         "domain": [
          0,
          1
         ],
         "matches": "y",
         "showticklabels": false
        }
       }
      }
     },
     "metadata": {},
     "output_type": "display_data"
    }
   ],
   "source": [
    "optuna.visualization.plot_slice(study,params=['n_estimators','max_depth','min_samples_split','min_samples_leaf'])"
   ]
  },
  {
   "cell_type": "code",
   "execution_count": 77,
   "metadata": {},
   "outputs": [],
   "source": [
    "rfr_new = RandomForestRegressor(**best_params)"
   ]
  },
  {
   "cell_type": "code",
   "execution_count": 78,
   "metadata": {},
   "outputs": [],
   "source": [
    "rfr_new.fit(X_train,y_train)\n",
    "y_new_preds = rfr_new.predict(X_test)"
   ]
  },
  {
   "cell_type": "code",
   "execution_count": 79,
   "metadata": {},
   "outputs": [
    {
     "data": {
      "text/plain": [
       "0.9775438170812873"
      ]
     },
     "execution_count": 79,
     "metadata": {},
     "output_type": "execute_result"
    }
   ],
   "source": [
    "r2_score(y_test,y_new_preds)"
   ]
  },
  {
   "cell_type": "code",
   "execution_count": 80,
   "metadata": {},
   "outputs": [
    {
     "data": {
      "text/plain": [
       "0.38100259611419796"
      ]
     },
     "execution_count": 80,
     "metadata": {},
     "output_type": "execute_result"
    }
   ],
   "source": [
    "mean_absolute_error(y_test,y_new_preds)"
   ]
  },
  {
   "cell_type": "code",
   "execution_count": null,
   "metadata": {},
   "outputs": [],
   "source": []
  }
 ],
 "metadata": {
  "kernelspec": {
   "display_name": "Python 3",
   "language": "python",
   "name": "python3"
  },
  "language_info": {
   "codemirror_mode": {
    "name": "ipython",
    "version": 3
   },
   "file_extension": ".py",
   "mimetype": "text/x-python",
   "name": "python",
   "nbconvert_exporter": "python",
   "pygments_lexer": "ipython3",
   "version": "3.11.4"
  }
 },
 "nbformat": 4,
 "nbformat_minor": 2
}
